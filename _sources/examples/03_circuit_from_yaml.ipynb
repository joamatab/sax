{
  "cells": [
    {
      "cell_type": "markdown",
      "id": "competitive-seating",
      "metadata": {
        "papermill": {
          "duration": 0.009679,
          "end_time": "2022-08-04T16:14:21.535944",
          "exception": false,
          "start_time": "2022-08-04T16:14:21.526265",
          "status": "completed"
        },
        "tags": []
      },
      "source": [
        "# Circuit from YAML\n",
        "> Sometimes it's useful to be able to define circuits from YAML definitions. To not re-invent the wheel, SAX uses [GDSFactory](https://gdsfactory.readthedocs.io/en/latest/yaml.html)'s YAML netlist spec to define its circuits. This makes it very easy to convert a GDSFactory layout to a SAX circuit model!"
      ]
    },
    {
      "cell_type": "code",
      "execution_count": 1,
      "id": "personalized-recipe",
      "metadata": {
        "execution": {
          "iopub.execute_input": "2022-08-04T16:14:21.559283Z",
          "iopub.status.busy": "2022-08-04T16:14:21.558716Z",
          "iopub.status.idle": "2022-08-04T16:14:23.091155Z",
          "shell.execute_reply": "2022-08-04T16:14:23.090460Z"
        },
        "papermill": {
          "duration": 1.548298,
          "end_time": "2022-08-04T16:14:23.091334",
          "exception": false,
          "start_time": "2022-08-04T16:14:21.543036",
          "status": "completed"
        },
        "tags": []
      },
      "outputs": [],
      "source": [
        "import jax.numpy as jnp\n",
        "import matplotlib.pyplot as plt\n",
        "import sax"
      ]
    },
    {
      "cell_type": "markdown",
      "id": "featured-liberal",
      "metadata": {
        "papermill": {
          "duration": 0.007343,
          "end_time": "2022-08-04T16:14:23.106444",
          "exception": false,
          "start_time": "2022-08-04T16:14:23.099101",
          "status": "completed"
        },
        "tags": []
      },
      "source": [
        "## MZI"
      ]
    },
    {
      "cell_type": "markdown",
      "id": "collectible-feedback",
      "metadata": {
        "papermill": {
          "duration": 0.006873,
          "end_time": "2022-08-04T16:14:23.120045",
          "exception": false,
          "start_time": "2022-08-04T16:14:23.113172",
          "status": "completed"
        },
        "tags": []
      },
      "source": [
        "Let's first see how we can define a SAX circuit from YAML:"
      ]
    },
    {
      "cell_type": "code",
      "execution_count": 2,
      "id": "fixed-hurricane",
      "metadata": {
        "execution": {
          "iopub.execute_input": "2022-08-04T16:14:23.139323Z",
          "iopub.status.busy": "2022-08-04T16:14:23.138764Z",
          "iopub.status.idle": "2022-08-04T16:14:23.141049Z",
          "shell.execute_reply": "2022-08-04T16:14:23.140647Z"
        },
        "papermill": {
          "duration": 0.014135,
          "end_time": "2022-08-04T16:14:23.141165",
          "exception": false,
          "start_time": "2022-08-04T16:14:23.127030",
          "status": "completed"
        },
        "tags": []
      },
      "outputs": [],
      "source": [
        "netlist = \"\"\"\n",
        "instances:\n",
        "    lft:\n",
        "      component: coupler\n",
        "      settings:\n",
        "          coupling: 0.5\n",
        "    rgt:\n",
        "        component: coupler\n",
        "        settings:\n",
        "            coupling: 0.5\n",
        "    top:\n",
        "        component: straight\n",
        "        settings:\n",
        "            length: 25.0\n",
        "    btm:\n",
        "        component: straight\n",
        "        settings:\n",
        "            length: 15.0\n",
        "\n",
        "connections:\n",
        "    lft,out0: btm,in0\n",
        "    btm,out0: rgt,in0\n",
        "    lft,out1: top,in0\n",
        "    top,out0: rgt,in1\n",
        "    \n",
        "ports:\n",
        "    in0:  lft,in0\n",
        "    in1:  lft,in1\n",
        "    out0: rgt,out0\n",
        "    out1: rgt,out1\n",
        "    \n",
        "\"\"\""
      ]
    },
    {
      "cell_type": "code",
      "execution_count": 3,
      "id": "imposed-treaty",
      "metadata": {
        "execution": {
          "iopub.execute_input": "2022-08-04T16:14:23.158391Z",
          "iopub.status.busy": "2022-08-04T16:14:23.157933Z",
          "iopub.status.idle": "2022-08-04T16:14:23.181557Z",
          "shell.execute_reply": "2022-08-04T16:14:23.181139Z"
        },
        "papermill": {
          "duration": 0.033703,
          "end_time": "2022-08-04T16:14:23.181679",
          "exception": false,
          "start_time": "2022-08-04T16:14:23.147976",
          "status": "completed"
        },
        "tags": []
      },
      "outputs": [
        {
          "name": "stderr",
          "output_type": "stream",
          "text": [
            "WARNING:absl:No GPU/TPU found, falling back to CPU. (Set TF_CPP_MIN_LOG_LEVEL=0 and rerun for more info.)\n"
          ]
        }
      ],
      "source": [
        "mzi = sax.circuit_from_yaml(netlist)"
      ]
    },
    {
      "cell_type": "code",
      "execution_count": 4,
      "id": "dynamic-commonwealth",
      "metadata": {
        "execution": {
          "iopub.execute_input": "2022-08-04T16:14:23.210806Z",
          "iopub.status.busy": "2022-08-04T16:14:23.210268Z",
          "iopub.status.idle": "2022-08-04T16:14:27.156220Z",
          "shell.execute_reply": "2022-08-04T16:14:27.156598Z"
        },
        "papermill": {
          "duration": 3.967098,
          "end_time": "2022-08-04T16:14:27.156756",
          "exception": false,
          "start_time": "2022-08-04T16:14:23.189658",
          "status": "completed"
        },
        "tags": []
      },
      "outputs": [
        {
          "name": "stderr",
          "output_type": "stream",
          "text": [
            "/opt/conda/lib/python3.9/site-packages/jax/_src/numpy/lax_numpy.py:3658: UserWarning: Explicitly requested dtype <class 'complex'> requested in asarray is not available, and will be truncated to dtype complex64. To enable more dtypes, set the jax_enable_x64 configuration option or the JAX_ENABLE_X64 shell environment variable. See https://github.com/google/jax#current-gotchas for more.\n",
            "  lax._check_user_dtype_supported(dtype, \"asarray\")\n"
          ]
        },
        {
          "data": {
            "image/png": "[encoded data removed]",
            "text/plain": [
              "<Figure size 432x288 with 1 Axes>"
            ]
          },
          "metadata": {
            "needs_background": "light"
          },
          "output_type": "display_data"
        }
      ],
      "source": [
        "wl = jnp.linspace(1.5, 1.6, 1000)\n",
        "transmission = jnp.abs(mzi(wl=wl)[\"in0\", \"out0\"]) ** 2\n",
        "\n",
        "plt.plot(wl * 1e3, transmission)\n",
        "plt.xlabel(\"\u03bb [nm]\")\n",
        "plt.ylabel(\"T\")\n",
        "plt.show()"
      ]
    },
    {
      "cell_type": "markdown",
      "id": "alpha-married",
      "metadata": {
        "papermill": {
          "duration": 0.00845,
          "end_time": "2022-08-04T16:14:27.174350",
          "exception": false,
          "start_time": "2022-08-04T16:14:27.165900",
          "status": "completed"
        },
        "tags": []
      },
      "source": [
        "That was easy! However, during the above YAML conversion, only models available in `sax.models` were used. What if we want to map the YAML component names to custom models? Let's say we want to use a dispersionless waveguide for the above model for example:"
      ]
    },
    {
      "cell_type": "code",
      "execution_count": 5,
      "id": "important-association",
      "metadata": {
        "execution": {
          "iopub.execute_input": "2022-08-04T16:14:27.196351Z",
          "iopub.status.busy": "2022-08-04T16:14:27.194317Z",
          "iopub.status.idle": "2022-08-04T16:14:27.198766Z",
          "shell.execute_reply": "2022-08-04T16:14:27.198356Z"
        },
        "papermill": {
          "duration": 0.015767,
          "end_time": "2022-08-04T16:14:27.198910",
          "exception": false,
          "start_time": "2022-08-04T16:14:27.183143",
          "status": "completed"
        },
        "tags": []
      },
      "outputs": [],
      "source": [
        "def waveguide_without_dispersion(wl=1.55, length=25.0, neff=2.34):\n",
        "    phase = 2 * jnp.pi * neff * length / wl\n",
        "    sdict = sax.reciprocal({(\"in0\", \"out0\"): jnp.exp(1j * phase)})\n",
        "    return sdict"
      ]
    },
    {
      "cell_type": "markdown",
      "id": "valuable-candidate",
      "metadata": {
        "papermill": {
          "duration": 0.008676,
          "end_time": "2022-08-04T16:14:27.216353",
          "exception": false,
          "start_time": "2022-08-04T16:14:27.207677",
          "status": "completed"
        },
        "tags": []
      },
      "source": [
        "We can regenerate the above circuit again, but this time we specify a models mapping:"
      ]
    },
    {
      "cell_type": "code",
      "execution_count": 6,
      "id": "former-retro",
      "metadata": {
        "execution": {
          "iopub.execute_input": "2022-08-04T16:14:27.248899Z",
          "iopub.status.busy": "2022-08-04T16:14:27.242569Z",
          "iopub.status.idle": "2022-08-04T16:14:27.251321Z",
          "shell.execute_reply": "2022-08-04T16:14:27.250895Z"
        },
        "papermill": {
          "duration": 0.02649,
          "end_time": "2022-08-04T16:14:27.251443",
          "exception": false,
          "start_time": "2022-08-04T16:14:27.224953",
          "status": "completed"
        },
        "tags": []
      },
      "outputs": [],
      "source": [
        "mzi = sax.circuit_from_yaml(netlist, models={\"straight\": waveguide_without_dispersion})"
      ]
    },
    {
      "cell_type": "markdown",
      "id": "focal-question",
      "metadata": {
        "papermill": {
          "duration": 0.008574,
          "end_time": "2022-08-04T16:14:27.269196",
          "exception": false,
          "start_time": "2022-08-04T16:14:27.260622",
          "status": "completed"
        },
        "tags": []
      },
      "source": [
        "> The `models=` keyword in `circuit_from_yaml` can be a dictionary **or** an imported python module (like for example `sax.models`). Or a list containing multiple of such dictionary mappings and imported modules."
      ]
    },
    {
      "cell_type": "code",
      "execution_count": 7,
      "id": "expired-panel",
      "metadata": {
        "execution": {
          "iopub.execute_input": "2022-08-04T16:14:27.289862Z",
          "iopub.status.busy": "2022-08-04T16:14:27.289358Z",
          "iopub.status.idle": "2022-08-04T16:14:27.441841Z",
          "shell.execute_reply": "2022-08-04T16:14:27.442327Z"
        },
        "papermill": {
          "duration": 0.164488,
          "end_time": "2022-08-04T16:14:27.442491",
          "exception": false,
          "start_time": "2022-08-04T16:14:27.278003",
          "status": "completed"
        },
        "tags": []
      },
      "outputs": [
        {
          "data": {
            "image/png": "[encoded data removed]",
            "text/plain": [
              "<Figure size 432x288 with 1 Axes>"
            ]
          },
          "metadata": {
            "needs_background": "light"
          },
          "output_type": "display_data"
        }
      ],
      "source": [
        "wl = jnp.linspace(1.5, 1.6, 1000)\n",
        "transmission = jnp.abs(mzi(wl=wl)[\"in0\", \"out0\"]) ** 2\n",
        "\n",
        "plt.plot(wl, transmission)\n",
        "plt.xlabel(\"Wavelength [nm]\")\n",
        "plt.ylabel(\"T\")\n",
        "plt.show()"
      ]
    }
  ],
  "metadata": {
    "kernelspec": {
      "display_name": "sax",
      "language": "python",
      "name": "sax"
    },
    "language_info": {
      "codemirror_mode": {
        "name": "ipython",
        "version": 3
      },
      "file_extension": ".py",
      "mimetype": "text/x-python",
      "name": "python",
      "nbconvert_exporter": "python",
      "pygments_lexer": "ipython3",
      "version": "3.9.0"
    },
    "papermill": {
      "default_parameters": {},
      "duration": 10.446458,
      "end_time": "2022-08-04T16:14:30.527192",
      "environment_variables": {},
      "exception": null,
      "input_path": "./examples/03_circuit_from_yaml.ipynb",
      "output_path": "./examples/03_circuit_from_yaml.ipynb",
      "parameters": {},
      "start_time": "2022-08-04T16:14:20.080734",
      "version": "2.3.4"
    }
  },
  "nbformat": 4,
  "nbformat_minor": 5
}