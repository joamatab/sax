{
  "cells": [
    {
      "cell_type": "markdown",
      "id": "ab894499",
      "metadata": {
        "papermill": {
          "duration": 0.029079,
          "end_time": "2022-08-04T16:14:32.534148",
          "exception": false,
          "start_time": "2022-08-04T16:14:32.505069",
          "status": "completed"
        },
        "tags": []
      },
      "source": [
        "# SAX Quick Start\n",
        "> Let's go over the core functionality of SAX."
      ]
    },
    {
      "cell_type": "markdown",
      "id": "3c91396d",
      "metadata": {
        "papermill": {
          "duration": 0.027249,
          "end_time": "2022-08-04T16:14:32.589171",
          "exception": false,
          "start_time": "2022-08-04T16:14:32.561922",
          "status": "completed"
        },
        "tags": []
      },
      "source": [
        "## Environment variables"
      ]
    },
    {
      "cell_type": "markdown",
      "id": "79240f32",
      "metadata": {
        "papermill": {
          "duration": 0.027368,
          "end_time": "2022-08-04T16:14:32.643900",
          "exception": false,
          "start_time": "2022-08-04T16:14:32.616532",
          "status": "completed"
        },
        "tags": []
      },
      "source": [
        "SAX is based on JAX... here are some useful environment variables for working with JAX:"
      ]
    },
    {
      "cell_type": "code",
      "execution_count": 1,
      "id": "14bb5b7866e7a268",
      "metadata": {
        "execution": {
          "iopub.execute_input": "2022-08-04T16:14:32.711220Z",
          "iopub.status.busy": "2022-08-04T16:14:32.710645Z",
          "iopub.status.idle": "2022-08-04T16:14:33.358687Z",
          "shell.execute_reply": "2022-08-04T16:14:33.357836Z"
        },
        "papermill": {
          "duration": 0.687232,
          "end_time": "2022-08-04T16:14:33.358857",
          "exception": false,
          "start_time": "2022-08-04T16:14:32.671625",
          "status": "completed"
        },
        "tags": []
      },
      "outputs": [
        {
          "name": "stdout",
          "output_type": "stream",
          "text": [
            "env: JAX_ENABLE_X64=0\n",
            "env: JAX_PLATFORM_NAME=cpu\n",
            "env: XLA_FLAGS=--xla_gpu_cuda_data_dir=/usr/lib/cuda\n"
          ]
        },
        {
          "name": "stdout",
          "output_type": "stream",
          "text": [
            "cpu\n"
          ]
        }
      ],
      "source": [
        "# select float32 or float64 as default dtype\n",
        "%env JAX_ENABLE_X64=0\n",
        "\n",
        "# select cpu or gpu\n",
        "%env JAX_PLATFORM_NAME=cpu\n",
        "\n",
        "# set custom CUDA location for gpu:\n",
        "%env XLA_FLAGS=--xla_gpu_cuda_data_dir=/usr/lib/cuda\n",
        "\n",
        "# Using GPU?\n",
        "from jax.lib import xla_bridge\n",
        "print(xla_bridge.get_backend().platform)"
      ]
    },
    {
      "cell_type": "markdown",
      "id": "4938b729-8b27-406f-b5fd-e118a9fb39f1",
      "metadata": {
        "papermill": {
          "duration": 0.028669,
          "end_time": "2022-08-04T16:14:33.417835",
          "exception": false,
          "start_time": "2022-08-04T16:14:33.389166",
          "status": "completed"
        },
        "tags": []
      },
      "source": [
        "## Imports"
      ]
    },
    {
      "cell_type": "code",
      "execution_count": 2,
      "id": "e0450fde",
      "metadata": {
        "execution": {
          "iopub.execute_input": "2022-08-04T16:14:33.480050Z",
          "iopub.status.busy": "2022-08-04T16:14:33.479523Z",
          "iopub.status.idle": "2022-08-04T16:14:34.402709Z",
          "shell.execute_reply": "2022-08-04T16:14:34.402215Z"
        },
        "papermill": {
          "duration": 0.957059,
          "end_time": "2022-08-04T16:14:34.402874",
          "exception": false,
          "start_time": "2022-08-04T16:14:33.445815",
          "status": "completed"
        },
        "tags": []
      },
      "outputs": [],
      "source": [
        "import jax\n",
        "import jax.example_libraries.optimizers as opt\n",
        "import jax.numpy as jnp\n",
        "import matplotlib.pyplot as plt  # plotting\n",
        "import sax\n",
        "import tqdm  # progress bars"
      ]
    },
    {
      "cell_type": "markdown",
      "id": "8c4d4c4e",
      "metadata": {
        "papermill": {
          "duration": 0.033604,
          "end_time": "2022-08-04T16:14:34.466917",
          "exception": false,
          "start_time": "2022-08-04T16:14:34.433313",
          "status": "completed"
        },
        "tags": []
      },
      "source": [
        "## Scatter *dictionaries*\n",
        "The core datastructure for specifying scatter parameters in SAX is a dictionary... more specifically a dictionary which maps a port combination (2-tuple) to a scatter parameter (or an array of scatter parameters when considering multiple wavelengths for example). Such a specific dictionary mapping is called ann `SDict` in SAX (`SDict \u2248 Dict[Tuple[str,str], float]`).\n",
        "\n",
        "Dictionaries are in fact much better suited for characterizing S-parameters than, say, (jax-)numpy arrays due to the inherent sparse nature of scatter parameters. Moreover, dictonaries allow for string indexing, which makes them much more pleasant to use in this context. Let\u2019s for example create an `SDict` for a 50/50 coupler:"
      ]
    },
    {
      "cell_type": "markdown",
      "id": "a7f90205",
      "metadata": {
        "papermill": {
          "duration": 0.029776,
          "end_time": "2022-08-04T16:14:34.527202",
          "exception": false,
          "start_time": "2022-08-04T16:14:34.497426",
          "status": "completed"
        },
        "tags": []
      },
      "source": [
        "```\n",
        "in1          out1\n",
        "   \\        /\n",
        "    ========\n",
        "   /        \\\n",
        "in0          out0\n",
        "```"
      ]
    },
    {
      "cell_type": "code",
      "execution_count": 3,
      "id": "89f215e8",
      "metadata": {
        "execution": {
          "iopub.execute_input": "2022-08-04T16:14:34.596710Z",
          "iopub.status.busy": "2022-08-04T16:14:34.595467Z",
          "iopub.status.idle": "2022-08-04T16:14:34.601900Z",
          "shell.execute_reply": "2022-08-04T16:14:34.601433Z"
        },
        "papermill": {
          "duration": 0.043511,
          "end_time": "2022-08-04T16:14:34.602022",
          "exception": false,
          "start_time": "2022-08-04T16:14:34.558511",
          "status": "completed"
        },
        "tags": []
      },
      "outputs": [
        {
          "data": {
            "text/plain": [
              "{('in0', 'out0'): 0.7071067811865476,\n",
              " ('out0', 'in0'): 0.7071067811865476,\n",
              " ('in0', 'out1'): 0.7071067811865476j,\n",
              " ('out1', 'in0'): 0.7071067811865476j,\n",
              " ('in1', 'out0'): 0.7071067811865476j,\n",
              " ('out0', 'in1'): 0.7071067811865476j,\n",
              " ('in1', 'out1'): 0.7071067811865476,\n",
              " ('out1', 'in1'): 0.7071067811865476}"
            ]
          },
          "execution_count": 3,
          "metadata": {},
          "output_type": "execute_result"
        }
      ],
      "source": [
        "coupling = 0.5\n",
        "kappa = coupling ** 0.5\n",
        "tau = (1 - coupling) ** 0.5\n",
        "coupler_dict = {\n",
        "    (\"in0\", \"out0\"): tau,\n",
        "    (\"out0\", \"in0\"): tau,\n",
        "    (\"in0\", \"out1\"): 1j * kappa,\n",
        "    (\"out1\", \"in0\"): 1j * kappa,\n",
        "    (\"in1\", \"out0\"): 1j * kappa,\n",
        "    (\"out0\", \"in1\"): 1j * kappa,\n",
        "    (\"in1\", \"out1\"): tau,\n",
        "    (\"out1\", \"in1\"): tau,\n",
        "}\n",
        "coupler_dict"
      ]
    },
    {
      "cell_type": "markdown",
      "id": "bb9cb2b6",
      "metadata": {
        "papermill": {
          "duration": 0.028715,
          "end_time": "2022-08-04T16:14:34.660153",
          "exception": false,
          "start_time": "2022-08-04T16:14:34.631438",
          "status": "completed"
        },
        "tags": []
      },
      "source": [
        "Only the non-zero port combinations need to be specified. Any non-existent port-combination (for example `(\"in0\", \"in1\")`) is considered to be zero by SAX.\n",
        "\n",
        "Obviously, it can still be tedious to specify every port in the circuit manually. SAX therefore offers the `reciprocal` function, which auto-fills the reverse connection if the forward connection exist. For example:"
      ]
    },
    {
      "cell_type": "code",
      "execution_count": 4,
      "id": "494f445d",
      "metadata": {
        "execution": {
          "iopub.execute_input": "2022-08-04T16:14:34.724540Z",
          "iopub.status.busy": "2022-08-04T16:14:34.724006Z",
          "iopub.status.idle": "2022-08-04T16:14:34.728399Z",
          "shell.execute_reply": "2022-08-04T16:14:34.727953Z"
        },
        "papermill": {
          "duration": 0.039707,
          "end_time": "2022-08-04T16:14:34.728516",
          "exception": false,
          "start_time": "2022-08-04T16:14:34.688809",
          "status": "completed"
        },
        "tags": []
      },
      "outputs": [
        {
          "data": {
            "text/plain": [
              "{('in0', 'out0'): 0.7071067811865476,\n",
              " ('in0', 'out1'): 0.7071067811865476j,\n",
              " ('in1', 'out0'): 0.7071067811865476j,\n",
              " ('in1', 'out1'): 0.7071067811865476,\n",
              " ('out0', 'in0'): 0.7071067811865476,\n",
              " ('out1', 'in0'): 0.7071067811865476j,\n",
              " ('out0', 'in1'): 0.7071067811865476j,\n",
              " ('out1', 'in1'): 0.7071067811865476}"
            ]
          },
          "execution_count": 4,
          "metadata": {},
          "output_type": "execute_result"
        }
      ],
      "source": [
        "coupler_dict = sax.reciprocal(\n",
        "    {\n",
        "        (\"in0\", \"out0\"): tau,\n",
        "        (\"in0\", \"out1\"): 1j * kappa,\n",
        "        (\"in1\", \"out0\"): 1j * kappa,\n",
        "        (\"in1\", \"out1\"): tau,\n",
        "    }\n",
        ")\n",
        "\n",
        "coupler_dict"
      ]
    },
    {
      "cell_type": "markdown",
      "id": "67e730f6",
      "metadata": {
        "papermill": {
          "duration": 0.028593,
          "end_time": "2022-08-04T16:14:34.785897",
          "exception": false,
          "start_time": "2022-08-04T16:14:34.757304",
          "status": "completed"
        },
        "tags": []
      },
      "source": [
        "## Parametrized Models"
      ]
    },
    {
      "cell_type": "markdown",
      "id": "ec1e1214",
      "metadata": {
        "papermill": {
          "duration": 0.029052,
          "end_time": "2022-08-04T16:14:34.843402",
          "exception": false,
          "start_time": "2022-08-04T16:14:34.814350",
          "status": "completed"
        },
        "tags": []
      },
      "source": [
        "Constructing such an `SDict` is easy, however, usually we're more interested in having parametrized models for our components. To parametrize the coupler `SDict`, just wrap it in a function to obtain a SAX `Model`, which is a keyword-only function mapping to an `SDict`:"
      ]
    },
    {
      "cell_type": "code",
      "execution_count": 5,
      "id": "33efb99f",
      "metadata": {
        "execution": {
          "iopub.execute_input": "2022-08-04T16:14:34.909338Z",
          "iopub.status.busy": "2022-08-04T16:14:34.908808Z",
          "iopub.status.idle": "2022-08-04T16:14:34.911837Z",
          "shell.execute_reply": "2022-08-04T16:14:34.911416Z"
        },
        "papermill": {
          "duration": 0.039945,
          "end_time": "2022-08-04T16:14:34.911959",
          "exception": false,
          "start_time": "2022-08-04T16:14:34.872014",
          "status": "completed"
        },
        "tags": []
      },
      "outputs": [
        {
          "data": {
            "text/plain": [
              "{('in0', 'out0'): 0.8366600265340756,\n",
              " ('in0', 'out1'): 0.5477225575051661j,\n",
              " ('in1', 'out0'): 0.5477225575051661j,\n",
              " ('in1', 'out1'): 0.8366600265340756,\n",
              " ('out0', 'in0'): 0.8366600265340756,\n",
              " ('out1', 'in0'): 0.5477225575051661j,\n",
              " ('out0', 'in1'): 0.5477225575051661j,\n",
              " ('out1', 'in1'): 0.8366600265340756}"
            ]
          },
          "execution_count": 5,
          "metadata": {},
          "output_type": "execute_result"
        }
      ],
      "source": [
        "def coupler(coupling=0.5) -> sax.SDict:\n",
        "    kappa = coupling ** 0.5\n",
        "    tau = (1 - coupling) ** 0.5\n",
        "    coupler_dict = sax.reciprocal(\n",
        "        {\n",
        "            (\"in0\", \"out0\"): tau,\n",
        "            (\"in0\", \"out1\"): 1j * kappa,\n",
        "            (\"in1\", \"out0\"): 1j * kappa,\n",
        "            (\"in1\", \"out1\"): tau,\n",
        "        }\n",
        "    )\n",
        "    return coupler_dict\n",
        "\n",
        "\n",
        "coupler(coupling=0.3)"
      ]
    },
    {
      "cell_type": "markdown",
      "id": "4ef93f65",
      "metadata": {
        "papermill": {
          "duration": 0.030515,
          "end_time": "2022-08-04T16:14:34.972246",
          "exception": false,
          "start_time": "2022-08-04T16:14:34.941731",
          "status": "completed"
        },
        "tags": []
      },
      "source": [
        "We can define a waveguide in the same way:"
      ]
    },
    {
      "cell_type": "code",
      "execution_count": 6,
      "id": "5eac9176",
      "metadata": {
        "execution": {
          "iopub.execute_input": "2022-08-04T16:14:35.038438Z",
          "iopub.status.busy": "2022-08-04T16:14:35.037946Z",
          "iopub.status.idle": "2022-08-04T16:14:35.040464Z",
          "shell.execute_reply": "2022-08-04T16:14:35.040041Z"
        },
        "papermill": {
          "duration": 0.038943,
          "end_time": "2022-08-04T16:14:35.040584",
          "exception": false,
          "start_time": "2022-08-04T16:14:35.001641",
          "status": "completed"
        },
        "tags": []
      },
      "outputs": [],
      "source": [
        "def waveguide(wl=1.55, wl0=1.55, neff=2.34, ng=3.4, length=10.0, loss=0.0) -> sax.SDict:\n",
        "    dwl = wl - wl0\n",
        "    dneff_dwl = (ng - neff) / wl0\n",
        "    neff = neff - dwl * dneff_dwl\n",
        "    phase = 2 * jnp.pi * neff * length / wl\n",
        "    transmission = 10 ** (-loss * length / 20) * jnp.exp(1j * phase)\n",
        "    sdict = sax.reciprocal(\n",
        "        {\n",
        "            (\"in0\", \"out0\"): transmission,\n",
        "        }\n",
        "    )\n",
        "    return sdict"
      ]
    },
    {
      "cell_type": "markdown",
      "id": "67713c18",
      "metadata": {
        "papermill": {
          "duration": 0.02991,
          "end_time": "2022-08-04T16:14:35.100249",
          "exception": false,
          "start_time": "2022-08-04T16:14:35.070339",
          "status": "completed"
        },
        "tags": []
      },
      "source": [
        "That's pretty straightforward. Let's now move on to parametrized circuits:"
      ]
    },
    {
      "cell_type": "markdown",
      "id": "579a9ce1",
      "metadata": {
        "papermill": {
          "duration": 0.029363,
          "end_time": "2022-08-04T16:14:35.159169",
          "exception": false,
          "start_time": "2022-08-04T16:14:35.129806",
          "status": "completed"
        },
        "tags": []
      },
      "source": [
        "## Circuit Models"
      ]
    },
    {
      "cell_type": "markdown",
      "id": "cc3c78a0",
      "metadata": {
        "papermill": {
          "duration": 0.029699,
          "end_time": "2022-08-04T16:14:35.217843",
          "exception": false,
          "start_time": "2022-08-04T16:14:35.188144",
          "status": "completed"
        },
        "tags": []
      },
      "source": [
        "Existing models can now be combined into a circuit using `sax.circuit`, which basically creates a new `Model` function:"
      ]
    },
    {
      "cell_type": "code",
      "execution_count": 7,
      "id": "d6885e1d",
      "metadata": {
        "execution": {
          "iopub.execute_input": "2022-08-04T16:14:35.291616Z",
          "iopub.status.busy": "2022-08-04T16:14:35.289902Z",
          "iopub.status.idle": "2022-08-04T16:14:35.293782Z",
          "shell.execute_reply": "2022-08-04T16:14:35.293338Z"
        },
        "papermill": {
          "duration": 0.04643,
          "end_time": "2022-08-04T16:14:35.293908",
          "exception": false,
          "start_time": "2022-08-04T16:14:35.247478",
          "status": "completed"
        },
        "tags": []
      },
      "outputs": [],
      "source": [
        "mzi = sax.circuit(\n",
        "    instances={\n",
        "        \"lft\": coupler,\n",
        "        \"top\": waveguide,\n",
        "        \"btm\": waveguide,\n",
        "        \"rgt\": coupler,\n",
        "    },\n",
        "    connections={\n",
        "        \"lft,out0\": \"btm,in0\",\n",
        "        \"btm,out0\": \"rgt,in0\",\n",
        "        \"lft,out1\": \"top,in0\",\n",
        "        \"top,out0\": \"rgt,in1\",\n",
        "    },\n",
        "    ports={\n",
        "        \"in0\": \"lft,in0\",\n",
        "        \"in1\": \"lft,in1\",\n",
        "        \"out0\": \"rgt,out0\",\n",
        "        \"out1\": \"rgt,out1\",\n",
        "    },\n",
        ")"
      ]
    },
    {
      "cell_type": "code",
      "execution_count": 8,
      "id": "e95325c6",
      "metadata": {
        "execution": {
          "iopub.execute_input": "2022-08-04T16:14:35.357407Z",
          "iopub.status.busy": "2022-08-04T16:14:35.356893Z",
          "iopub.status.idle": "2022-08-04T16:14:35.404533Z",
          "shell.execute_reply": "2022-08-04T16:14:35.405072Z"
        },
        "papermill": {
          "duration": 0.082285,
          "end_time": "2022-08-04T16:14:35.405255",
          "exception": false,
          "start_time": "2022-08-04T16:14:35.322970",
          "status": "completed"
        },
        "tags": []
      },
      "outputs": [],
      "source": [
        "mzi?"
      ]
    },
    {
      "cell_type": "markdown",
      "id": "d2c74cff",
      "metadata": {
        "papermill": {
          "duration": 0.029837,
          "end_time": "2022-08-04T16:14:35.465486",
          "exception": false,
          "start_time": "2022-08-04T16:14:35.435649",
          "status": "completed"
        },
        "tags": []
      },
      "source": [
        "The `circuit` function just creates a similar function as we created for the waveguide and the coupler, but in stead of taking parameters directly it takes parameter *dictionaries* for each of the instances in the circuit. The keys in these parameter dictionaries should correspond to the keyword arguments of each individual subcomponent. "
      ]
    },
    {
      "cell_type": "markdown",
      "id": "ba1202d1",
      "metadata": {
        "papermill": {
          "duration": 0.029867,
          "end_time": "2022-08-04T16:14:35.525367",
          "exception": false,
          "start_time": "2022-08-04T16:14:35.495500",
          "status": "completed"
        },
        "tags": []
      },
      "source": [
        "Let's now do a simulation for the MZI we just constructed:"
      ]
    },
    {
      "cell_type": "code",
      "execution_count": 9,
      "id": "f2108f6a",
      "metadata": {
        "execution": {
          "iopub.execute_input": "2022-08-04T16:14:35.594967Z",
          "iopub.status.busy": "2022-08-04T16:14:35.593103Z",
          "iopub.status.idle": "2022-08-04T16:14:38.387067Z",
          "shell.execute_reply": "2022-08-04T16:14:38.386543Z"
        },
        "papermill": {
          "duration": 2.832175,
          "end_time": "2022-08-04T16:14:38.387211",
          "exception": false,
          "start_time": "2022-08-04T16:14:35.555036",
          "status": "completed"
        },
        "tags": []
      },
      "outputs": [
        {
          "name": "stdout",
          "output_type": "stream",
          "text": [
            "CPU times: user 2.74 s, sys: 23.9 ms, total: 2.77 s\n",
            "Wall time: 2.76 s\n"
          ]
        },
        {
          "data": {
            "text/plain": [
              "{('in0', 'in0'): 0j,\n",
              " ('in0', 'in1'): 0j,\n",
              " ('in1', 'in0'): 0j,\n",
              " ('in1', 'in1'): 0j,\n",
              " ('out1', 'out1'): 0j,\n",
              " ('out1', 'out0'): 0j,\n",
              " ('out1', 'in0'): -0.57127+0.82076j,\n",
              " ('out1', 'in1'): 0j,\n",
              " ('out0', 'out1'): 0j,\n",
              " ('out0', 'out0'): 0j,\n",
              " ('out0', 'in0'): 0j,\n",
              " ('out0', 'in1'): -0.57127+0.82076j,\n",
              " ('in0', 'out1'): -0.57127+0.82076j,\n",
              " ('in0', 'out0'): 0j,\n",
              " ('in1', 'out1'): 0j,\n",
              " ('in1', 'out0'): -0.57127+0.82076j}"
            ]
          },
          "execution_count": 9,
          "metadata": {},
          "output_type": "execute_result"
        }
      ],
      "source": [
        "%time mzi()"
      ]
    },
    {
      "cell_type": "code",
      "execution_count": 10,
      "id": "cb43b835",
      "metadata": {
        "execution": {
          "iopub.execute_input": "2022-08-04T16:14:38.453277Z",
          "iopub.status.busy": "2022-08-04T16:14:38.452753Z",
          "iopub.status.idle": "2022-08-04T16:14:38.455074Z",
          "shell.execute_reply": "2022-08-04T16:14:38.454636Z"
        },
        "papermill": {
          "duration": 0.037028,
          "end_time": "2022-08-04T16:14:38.455196",
          "exception": false,
          "start_time": "2022-08-04T16:14:38.418168",
          "status": "completed"
        },
        "tags": []
      },
      "outputs": [],
      "source": [
        "mzi2 = jax.jit(mzi)"
      ]
    },
    {
      "cell_type": "code",
      "execution_count": 11,
      "id": "61f2bb6e",
      "metadata": {
        "execution": {
          "iopub.execute_input": "2022-08-04T16:14:38.539467Z",
          "iopub.status.busy": "2022-08-04T16:14:38.538915Z",
          "iopub.status.idle": "2022-08-04T16:14:43.518439Z",
          "shell.execute_reply": "2022-08-04T16:14:43.518918Z"
        },
        "papermill": {
          "duration": 5.033544,
          "end_time": "2022-08-04T16:14:43.519085",
          "exception": false,
          "start_time": "2022-08-04T16:14:38.485541",
          "status": "completed"
        },
        "tags": []
      },
      "outputs": [
        {
          "name": "stdout",
          "output_type": "stream",
          "text": [
            "CPU times: user 4.96 s, sys: 63.9 ms, total: 5.03 s\n",
            "Wall time: 4.99 s\n"
          ]
        },
        {
          "data": {
            "text/plain": [
              "{('in0', 'in0'): 0j,\n",
              " ('in0', 'in1'): 0j,\n",
              " ('in0', 'out0'): 0j,\n",
              " ('in0', 'out1'): -0.57127+0.82076j,\n",
              " ('in1', 'in0'): 0j,\n",
              " ('in1', 'in1'): 0j,\n",
              " ('in1', 'out0'): -0.57127+0.82076j,\n",
              " ('in1', 'out1'): 0j,\n",
              " ('out0', 'in0'): 0j,\n",
              " ('out0', 'in1'): -0.57127+0.82076j,\n",
              " ('out0', 'out0'): 0j,\n",
              " ('out0', 'out1'): 0j,\n",
              " ('out1', 'in0'): -0.57127+0.82076j,\n",
              " ('out1', 'in1'): 0j,\n",
              " ('out1', 'out0'): 0j,\n",
              " ('out1', 'out1'): 0j}"
            ]
          },
          "execution_count": 11,
          "metadata": {},
          "output_type": "execute_result"
        }
      ],
      "source": [
        "%time mzi2()"
      ]
    },
    {
      "cell_type": "markdown",
      "id": "1e0d41ea",
      "metadata": {
        "papermill": {
          "duration": 0.03186,
          "end_time": "2022-08-04T16:14:43.585565",
          "exception": false,
          "start_time": "2022-08-04T16:14:43.553705",
          "status": "completed"
        },
        "tags": []
      },
      "source": [
        "Or in the case we want an MZI with different arm lengths:"
      ]
    },
    {
      "cell_type": "code",
      "execution_count": 12,
      "id": "4f53bdc3",
      "metadata": {
        "execution": {
          "iopub.execute_input": "2022-08-04T16:14:43.652040Z",
          "iopub.status.busy": "2022-08-04T16:14:43.651513Z",
          "iopub.status.idle": "2022-08-04T16:14:43.663228Z",
          "shell.execute_reply": "2022-08-04T16:14:43.662761Z"
        },
        "papermill": {
          "duration": 0.047048,
          "end_time": "2022-08-04T16:14:43.663355",
          "exception": false,
          "start_time": "2022-08-04T16:14:43.616307",
          "status": "completed"
        },
        "tags": []
      },
      "outputs": [
        {
          "data": {
            "text/plain": [
              "{('in0', 'in0'): 0j,\n",
              " ('in0', 'in1'): 0j,\n",
              " ('in1', 'in0'): 0j,\n",
              " ('in1', 'in1'): 0j,\n",
              " ('out1', 'out1'): 0j,\n",
              " ('out1', 'out0'): 0j,\n",
              " ('out1', 'in0'): 0.89475-0.33137j,\n",
              " ('out1', 'in1'): 0.28073-0.10397j,\n",
              " ('out0', 'out1'): 0j,\n",
              " ('out0', 'out0'): 0j,\n",
              " ('out0', 'in0'): -0.28073+0.10397j,\n",
              " ('out0', 'in1'): 0.89475-0.33137j,\n",
              " ('in0', 'out1'): 0.89475-0.33137j,\n",
              " ('in0', 'out0'): -0.28073+0.10397j,\n",
              " ('in1', 'out1'): 0.28073-0.10397j,\n",
              " ('in1', 'out0'): 0.89475-0.33137j}"
            ]
          },
          "execution_count": 12,
          "metadata": {},
          "output_type": "execute_result"
        }
      ],
      "source": [
        "mzi(top={\"length\": 25.0}, btm={\"length\": 15.0})"
      ]
    },
    {
      "cell_type": "markdown",
      "id": "a331252a",
      "metadata": {
        "papermill": {
          "duration": 0.032476,
          "end_time": "2022-08-04T16:14:43.727232",
          "exception": false,
          "start_time": "2022-08-04T16:14:43.694756",
          "status": "completed"
        },
        "tags": []
      },
      "source": [
        "## Simulating the parametrized MZI"
      ]
    },
    {
      "cell_type": "markdown",
      "id": "4ba8626b",
      "metadata": {
        "papermill": {
          "duration": 0.031296,
          "end_time": "2022-08-04T16:14:43.790350",
          "exception": false,
          "start_time": "2022-08-04T16:14:43.759054",
          "status": "completed"
        },
        "tags": []
      },
      "source": [
        "We can simulate the above mzi for multiple wavelengths as well by specifying the wavelength at the top level of the circuit call. Each setting specified at the top level of the circuit call will be propagated to all subcomponents of the circuit which have that setting:"
      ]
    },
    {
      "cell_type": "code",
      "execution_count": 13,
      "id": "d6c8b5c9",
      "metadata": {
        "execution": {
          "iopub.execute_input": "2022-08-04T16:14:43.912106Z",
          "iopub.status.busy": "2022-08-04T16:14:43.911407Z",
          "iopub.status.idle": "2022-08-04T16:14:46.426164Z",
          "shell.execute_reply": "2022-08-04T16:14:46.425732Z"
        },
        "papermill": {
          "duration": 2.569508,
          "end_time": "2022-08-04T16:14:46.426293",
          "exception": false,
          "start_time": "2022-08-04T16:14:43.856785",
          "status": "completed"
        },
        "tags": []
      },
      "outputs": [
        {
          "name": "stdout",
          "output_type": "stream",
          "text": [
            "CPU times: user 2.49 s, sys: 0 ns, total: 2.49 s\n",
            "Wall time: 2.49 s\n"
          ]
        }
      ],
      "source": [
        "wl = jnp.linspace(1.51, 1.59, 1000)\n",
        "%time S = mzi(wl=wl, top={\"length\": 25.0}, btm={\"length\": 15.0})"
      ]
    },
    {
      "cell_type": "markdown",
      "id": "28d8cc75",
      "metadata": {
        "papermill": {
          "duration": 0.032518,
          "end_time": "2022-08-04T16:14:46.491029",
          "exception": false,
          "start_time": "2022-08-04T16:14:46.458511",
          "status": "completed"
        },
        "tags": []
      },
      "source": [
        "Let's see what this gives:"
      ]
    },
    {
      "cell_type": "code",
      "execution_count": 14,
      "id": "f7de73dc",
      "metadata": {
        "execution": {
          "iopub.execute_input": "2022-08-04T16:14:46.568279Z",
          "iopub.status.busy": "2022-08-04T16:14:46.562085Z",
          "iopub.status.idle": "2022-08-04T16:14:47.203460Z",
          "shell.execute_reply": "2022-08-04T16:14:47.204150Z"
        },
        "papermill": {
          "duration": 0.680056,
          "end_time": "2022-08-04T16:14:47.204315",
          "exception": false,
          "start_time": "2022-08-04T16:14:46.524259",
          "status": "completed"
        },
        "tags": []
      },
      "outputs": [
        {
          "data": {
            "image/png": "[encoded data removed]",
            "text/plain": [
              "<Figure size 432x288 with 1 Axes>"
            ]
          },
          "metadata": {
            "needs_background": "light"
          },
          "output_type": "display_data"
        }
      ],
      "source": [
        "plt.plot(wl * 1e3, abs(S[\"in0\", \"out0\"]) ** 2)\n",
        "plt.ylim(-0.05, 1.05)\n",
        "plt.xlabel(\"\u03bb [nm]\")\n",
        "plt.ylabel(\"T\")\n",
        "plt.ylim(-0.05, 1.05)\n",
        "plt.show()"
      ]
    },
    {
      "cell_type": "markdown",
      "id": "eb9f0074",
      "metadata": {
        "papermill": {
          "duration": 0.033128,
          "end_time": "2022-08-04T16:14:47.271096",
          "exception": false,
          "start_time": "2022-08-04T16:14:47.237968",
          "status": "completed"
        },
        "tags": []
      },
      "source": [
        "## Optimization"
      ]
    },
    {
      "cell_type": "markdown",
      "id": "431aee51",
      "metadata": {
        "papermill": {
          "duration": 0.032184,
          "end_time": "2022-08-04T16:14:47.336390",
          "exception": false,
          "start_time": "2022-08-04T16:14:47.304206",
          "status": "completed"
        },
        "tags": []
      },
      "source": [
        "We'd like to optimize an MZI such that one of the minima is at 1550nm. To do this, we need to define a loss function for the circuit at 1550nm. This function should take the parameters that you want to optimize as positional arguments:"
      ]
    },
    {
      "cell_type": "code",
      "execution_count": 15,
      "id": "7dabe735",
      "metadata": {
        "execution": {
          "iopub.execute_input": "2022-08-04T16:14:47.406974Z",
          "iopub.status.busy": "2022-08-04T16:14:47.404567Z",
          "iopub.status.idle": "2022-08-04T16:14:47.409106Z",
          "shell.execute_reply": "2022-08-04T16:14:47.408642Z"
        },
        "papermill": {
          "duration": 0.040325,
          "end_time": "2022-08-04T16:14:47.409219",
          "exception": false,
          "start_time": "2022-08-04T16:14:47.368894",
          "status": "completed"
        },
        "tags": []
      },
      "outputs": [],
      "source": [
        "@jax.jit\n",
        "def loss(delta_length):\n",
        "    S = mzi(wl=1.55, top={\"length\": 15.0 + delta_length}, btm={\"length\": 15.0})\n",
        "    return (abs(S[\"in0\", \"out0\"]) ** 2).mean()"
      ]
    },
    {
      "cell_type": "code",
      "execution_count": 16,
      "id": "a60a8eab",
      "metadata": {
        "execution": {
          "iopub.execute_input": "2022-08-04T16:14:47.496216Z",
          "iopub.status.busy": "2022-08-04T16:14:47.491134Z",
          "iopub.status.idle": "2022-08-04T16:14:52.618568Z",
          "shell.execute_reply": "2022-08-04T16:14:52.618103Z"
        },
        "papermill": {
          "duration": 5.175041,
          "end_time": "2022-08-04T16:14:52.618688",
          "exception": false,
          "start_time": "2022-08-04T16:14:47.443647",
          "status": "completed"
        },
        "tags": []
      },
      "outputs": [
        {
          "name": "stdout",
          "output_type": "stream",
          "text": [
            "CPU times: user 5.13 s, sys: 31.7 ms, total: 5.16 s\n",
            "Wall time: 5.13 s\n"
          ]
        },
        {
          "data": {
            "text/plain": [
              "0.08962"
            ]
          },
          "execution_count": 16,
          "metadata": {},
          "output_type": "execute_result"
        }
      ],
      "source": [
        "%time loss(10.0)"
      ]
    },
    {
      "cell_type": "markdown",
      "id": "af1eb06b",
      "metadata": {
        "papermill": {
          "duration": 0.034632,
          "end_time": "2022-08-04T16:14:52.688071",
          "exception": false,
          "start_time": "2022-08-04T16:14:52.653439",
          "status": "completed"
        },
        "tags": []
      },
      "source": [
        "We can use this loss function to define a grad function which works on the parameters of the loss function:"
      ]
    },
    {
      "cell_type": "code",
      "execution_count": 17,
      "id": "16369cba",
      "metadata": {
        "execution": {
          "iopub.execute_input": "2022-08-04T16:14:52.762412Z",
          "iopub.status.busy": "2022-08-04T16:14:52.761895Z",
          "iopub.status.idle": "2022-08-04T16:14:52.763558Z",
          "shell.execute_reply": "2022-08-04T16:14:52.763960Z"
        },
        "papermill": {
          "duration": 0.041549,
          "end_time": "2022-08-04T16:14:52.764105",
          "exception": false,
          "start_time": "2022-08-04T16:14:52.722556",
          "status": "completed"
        },
        "tags": []
      },
      "outputs": [],
      "source": [
        "grad = jax.jit(\n",
        "    jax.grad(\n",
        "        loss,\n",
        "        argnums=0,  # JAX gradient function for the first positional argument, jitted\n",
        "    )\n",
        ")"
      ]
    },
    {
      "cell_type": "markdown",
      "id": "2cd2f2cf",
      "metadata": {
        "papermill": {
          "duration": 0.03452,
          "end_time": "2022-08-04T16:14:52.833240",
          "exception": false,
          "start_time": "2022-08-04T16:14:52.798720",
          "status": "completed"
        },
        "tags": []
      },
      "source": [
        "Next, we need to define a JAX optimizer, which on its own is nothing more than three more functions:  an initialization function with which to initialize the optimizer state, an update function which will update the optimizer state (and with it the model parameters). The third function that's being returned will give the model parameters given the optimizer state."
      ]
    },
    {
      "cell_type": "code",
      "execution_count": 18,
      "id": "e553d69e",
      "metadata": {
        "execution": {
          "iopub.execute_input": "2022-08-04T16:14:52.912444Z",
          "iopub.status.busy": "2022-08-04T16:14:52.910547Z",
          "iopub.status.idle": "2022-08-04T16:14:52.926558Z",
          "shell.execute_reply": "2022-08-04T16:14:52.926094Z"
        },
        "papermill": {
          "duration": 0.059009,
          "end_time": "2022-08-04T16:14:52.926683",
          "exception": false,
          "start_time": "2022-08-04T16:14:52.867674",
          "status": "completed"
        },
        "tags": []
      },
      "outputs": [],
      "source": [
        "initial_delta_length = 10.0\n",
        "optim_init, optim_update, optim_params = opt.adam(step_size=0.1)\n",
        "optim_state = optim_init(initial_delta_length)"
      ]
    },
    {
      "cell_type": "markdown",
      "id": "e0a03fc2",
      "metadata": {
        "papermill": {
          "duration": 0.0342,
          "end_time": "2022-08-04T16:14:52.995484",
          "exception": false,
          "start_time": "2022-08-04T16:14:52.961284",
          "status": "completed"
        },
        "tags": []
      },
      "source": [
        "Given all this, a single training step can be defined:"
      ]
    },
    {
      "cell_type": "code",
      "execution_count": 19,
      "id": "eea4f7b8",
      "metadata": {
        "execution": {
          "iopub.execute_input": "2022-08-04T16:14:53.070630Z",
          "iopub.status.busy": "2022-08-04T16:14:53.070102Z",
          "iopub.status.idle": "2022-08-04T16:14:53.071808Z",
          "shell.execute_reply": "2022-08-04T16:14:53.072206Z"
        },
        "papermill": {
          "duration": 0.041907,
          "end_time": "2022-08-04T16:14:53.072351",
          "exception": false,
          "start_time": "2022-08-04T16:14:53.030444",
          "status": "completed"
        },
        "tags": []
      },
      "outputs": [],
      "source": [
        "def train_step(step, optim_state):\n",
        "    settings = optim_params(optim_state)\n",
        "    lossvalue = loss(settings)\n",
        "    gradvalue = grad(settings)\n",
        "    optim_state = optim_update(step, gradvalue, optim_state)\n",
        "    return lossvalue, optim_state"
      ]
    },
    {
      "cell_type": "markdown",
      "id": "ba1612df",
      "metadata": {
        "papermill": {
          "duration": 0.034395,
          "end_time": "2022-08-04T16:14:53.141353",
          "exception": false,
          "start_time": "2022-08-04T16:14:53.106958",
          "status": "completed"
        },
        "tags": []
      },
      "source": [
        "And we can use this step function to start the training of the MZI:"
      ]
    },
    {
      "cell_type": "code",
      "execution_count": 20,
      "id": "61ef4479",
      "metadata": {
        "execution": {
          "iopub.execute_input": "2022-08-04T16:14:53.216004Z",
          "iopub.status.busy": "2022-08-04T16:14:53.215484Z",
          "iopub.status.idle": "2022-08-04T16:15:19.013431Z",
          "shell.execute_reply": "2022-08-04T16:15:19.013818Z"
        },
        "papermill": {
          "duration": 25.838149,
          "end_time": "2022-08-04T16:15:19.013979",
          "exception": false,
          "start_time": "2022-08-04T16:14:53.175830",
          "status": "completed"
        },
        "tags": []
      },
      "outputs": [
        {
          "name": "stderr",
          "output_type": "stream",
          "text": [
            "\r",
            "  0%|          | 0/300 [00:00<?, ?it/s]"
          ]
        },
        {
          "name": "stderr",
          "output_type": "stream",
          "text": [
            "\r",
            "  0%|          | 0/300 [00:06<?, ?it/s, loss=0.089620]"
          ]
        },
        {
          "name": "stderr",
          "output_type": "stream",
          "text": [
            "\r",
            "  0%|          | 1/300 [00:06<33:55,  6.81s/it, loss=0.089620]"
          ]
        },
        {
          "name": "stderr",
          "output_type": "stream",
          "text": [
            "\r",
            "  0%|          | 1/300 [00:18<33:55,  6.81s/it, loss=0.028705]"
          ]
        },
        {
          "name": "stderr",
          "output_type": "stream",
          "text": [
            "\r",
            "  1%|          | 2/300 [00:18<49:09,  9.90s/it, loss=0.028705]"
          ]
        },
        {
          "name": "stderr",
          "output_type": "stream",
          "text": [
            "\r",
            "  1%|          | 2/300 [00:18<49:09,  9.90s/it, loss=0.069302]"
          ]
        },
        {
          "name": "stderr",
          "output_type": "stream",
          "text": [
            "\r",
            "  1%|          | 2/300 [00:18<49:09,  9.90s/it, loss=0.019680]"
          ]
        },
        {
          "name": "stderr",
          "output_type": "stream",
          "text": [
            "\r",
            "  1%|          | 2/300 [00:18<49:09,  9.90s/it, loss=0.001940]"
          ]
        },
        {
          "name": "stderr",
          "output_type": "stream",
          "text": [
            "\r",
            "  1%|          | 2/300 [00:18<49:09,  9.90s/it, loss=0.029862]"
          ]
        },
        {
          "name": "stderr",
          "output_type": "stream",
          "text": [
            "\r",
            "  1%|          | 2/300 [00:18<49:09,  9.90s/it, loss=0.035199]"
          ]
        },
        {
          "name": "stderr",
          "output_type": "stream",
          "text": [
            "\r",
            "  2%|\u258f         | 7/300 [00:18<09:22,  1.92s/it, loss=0.035199]"
          ]
        },
        {
          "name": "stderr",
          "output_type": "stream",
          "text": [
            "\r",
            "  2%|\u258f         | 7/300 [00:18<09:22,  1.92s/it, loss=0.012873]"
          ]
        },
        {
          "name": "stderr",
          "output_type": "stream",
          "text": [
            "\r",
            "  2%|\u258f         | 7/300 [00:19<09:22,  1.92s/it, loss=0.000004]"
          ]
        },
        {
          "name": "stderr",
          "output_type": "stream",
          "text": [
            "\r",
            "  2%|\u258f         | 7/300 [00:19<09:22,  1.92s/it, loss=0.010713]"
          ]
        },
        {
          "name": "stderr",
          "output_type": "stream",
          "text": [
            "\r",
            "  2%|\u258f         | 7/300 [00:19<09:22,  1.92s/it, loss=0.021764]"
          ]
        },
        {
          "name": "stderr",
          "output_type": "stream",
          "text": [
            "\r",
            "  2%|\u258f         | 7/300 [00:19<09:22,  1.92s/it, loss=0.015683]"
          ]
        },
        {
          "name": "stderr",
          "output_type": "stream",
          "text": [
            "\r",
            "  4%|\u258d         | 12/300 [00:19<04:19,  1.11it/s, loss=0.015683]"
          ]
        },
        {
          "name": "stderr",
          "output_type": "stream",
          "text": [
            "\r",
            "  4%|\u258d         | 12/300 [00:19<04:19,  1.11it/s, loss=0.003059]"
          ]
        },
        {
          "name": "stderr",
          "output_type": "stream",
          "text": [
            "\r",
            "  4%|\u258d         | 12/300 [00:19<04:19,  1.11it/s, loss=0.000902]"
          ]
        },
        {
          "name": "stderr",
          "output_type": "stream",
          "text": [
            "\r",
            "  4%|\u258d         | 12/300 [00:19<04:19,  1.11it/s, loss=0.008971]"
          ]
        },
        {
          "name": "stderr",
          "output_type": "stream",
          "text": [
            "\r",
            "  4%|\u258d         | 12/300 [00:19<04:19,  1.11it/s, loss=0.013113]"
          ]
        },
        {
          "name": "stderr",
          "output_type": "stream",
          "text": [
            "\r",
            "  4%|\u258d         | 12/300 [00:19<04:19,  1.11it/s, loss=0.007586]"
          ]
        },
        {
          "name": "stderr",
          "output_type": "stream",
          "text": [
            "\r",
            "  6%|\u258c         | 17/300 [00:19<02:27,  1.92it/s, loss=0.007586]"
          ]
        },
        {
          "name": "stderr",
          "output_type": "stream",
          "text": [
            "\r",
            "  6%|\u258c         | 17/300 [00:19<02:27,  1.92it/s, loss=0.000788]"
          ]
        },
        {
          "name": "stderr",
          "output_type": "stream",
          "text": [
            "\r",
            "  6%|\u258c         | 17/300 [00:19<02:27,  1.92it/s, loss=0.001352]"
          ]
        },
        {
          "name": "stderr",
          "output_type": "stream",
          "text": [
            "\r",
            "  6%|\u258c         | 17/300 [00:19<02:27,  1.92it/s, loss=0.006516]"
          ]
        },
        {
          "name": "stderr",
          "output_type": "stream",
          "text": [
            "\r",
            "  6%|\u258c         | 17/300 [00:19<02:27,  1.92it/s, loss=0.007730]"
          ]
        },
        {
          "name": "stderr",
          "output_type": "stream",
          "text": [
            "\r",
            "  6%|\u258c         | 17/300 [00:19<02:27,  1.92it/s, loss=0.003501]"
          ]
        },
        {
          "name": "stderr",
          "output_type": "stream",
          "text": [
            "\r",
            "  7%|\u258b         | 22/300 [00:19<01:31,  3.03it/s, loss=0.003501]"
          ]
        },
        {
          "name": "stderr",
          "output_type": "stream",
          "text": [
            "\r",
            "  7%|\u258b         | 22/300 [00:19<01:31,  3.03it/s, loss=0.000083]"
          ]
        },
        {
          "name": "stderr",
          "output_type": "stream",
          "text": [
            "\r",
            "  7%|\u258b         | 22/300 [00:19<01:31,  3.03it/s, loss=0.001618]"
          ]
        },
        {
          "name": "stderr",
          "output_type": "stream",
          "text": [
            "\r",
            "  7%|\u258b         | 22/300 [00:19<01:31,  3.03it/s, loss=0.004673]"
          ]
        },
        {
          "name": "stderr",
          "output_type": "stream",
          "text": [
            "\r",
            "  7%|\u258b         | 22/300 [00:19<01:31,  3.03it/s, loss=0.004280]"
          ]
        },
        {
          "name": "stderr",
          "output_type": "stream",
          "text": [
            "\r",
            "  7%|\u258b         | 22/300 [00:19<01:31,  3.03it/s, loss=0.001253]"
          ]
        },
        {
          "name": "stderr",
          "output_type": "stream",
          "text": [
            "\r",
            "  9%|\u2589         | 27/300 [00:19<01:00,  4.51it/s, loss=0.001253]"
          ]
        },
        {
          "name": "stderr",
          "output_type": "stream",
          "text": [
            "\r",
            "  9%|\u2589         | 27/300 [00:19<01:00,  4.51it/s, loss=0.000048]"
          ]
        },
        {
          "name": "stderr",
          "output_type": "stream",
          "text": [
            "\r",
            "  9%|\u2589         | 27/300 [00:19<01:00,  4.51it/s, loss=0.001810]"
          ]
        },
        {
          "name": "stderr",
          "output_type": "stream",
          "text": [
            "\r",
            "  9%|\u2589         | 27/300 [00:19<01:00,  4.51it/s, loss=0.003187]"
          ]
        },
        {
          "name": "stderr",
          "output_type": "stream",
          "text": [
            "\r",
            "  9%|\u2589         | 27/300 [00:19<01:00,  4.51it/s, loss=0.001977]"
          ]
        },
        {
          "name": "stderr",
          "output_type": "stream",
          "text": [
            "\r",
            "  9%|\u2589         | 27/300 [00:19<01:00,  4.51it/s, loss=0.000195]"
          ]
        },
        {
          "name": "stderr",
          "output_type": "stream",
          "text": [
            "\r",
            " 11%|\u2588         | 32/300 [00:19<00:41,  6.45it/s, loss=0.000195]"
          ]
        },
        {
          "name": "stderr",
          "output_type": "stream",
          "text": [
            "\r",
            " 11%|\u2588         | 32/300 [00:19<00:41,  6.45it/s, loss=0.000403]"
          ]
        },
        {
          "name": "stderr",
          "output_type": "stream",
          "text": [
            "\r",
            " 11%|\u2588         | 32/300 [00:19<00:41,  6.45it/s, loss=0.001763]"
          ]
        },
        {
          "name": "stderr",
          "output_type": "stream",
          "text": [
            "\r",
            " 11%|\u2588         | 32/300 [00:19<00:41,  6.45it/s, loss=0.001828]"
          ]
        },
        {
          "name": "stderr",
          "output_type": "stream",
          "text": [
            "\r",
            " 11%|\u2588         | 32/300 [00:19<00:41,  6.45it/s, loss=0.000566]"
          ]
        },
        {
          "name": "stderr",
          "output_type": "stream",
          "text": [
            "\r",
            " 11%|\u2588         | 32/300 [00:19<00:41,  6.45it/s, loss=0.000021]"
          ]
        },
        {
          "name": "stderr",
          "output_type": "stream",
          "text": [
            "\r",
            " 12%|\u2588\u258f        | 37/300 [00:19<00:29,  8.90it/s, loss=0.000021]"
          ]
        },
        {
          "name": "stderr",
          "output_type": "stream",
          "text": [
            "\r",
            " 12%|\u2588\u258f        | 37/300 [00:19<00:29,  8.90it/s, loss=0.000796]"
          ]
        },
        {
          "name": "stderr",
          "output_type": "stream",
          "text": [
            "\r",
            " 12%|\u2588\u258f        | 37/300 [00:19<00:29,  8.90it/s, loss=0.001318]"
          ]
        },
        {
          "name": "stderr",
          "output_type": "stream",
          "text": [
            "\r",
            " 12%|\u2588\u258f        | 37/300 [00:19<00:29,  8.90it/s, loss=0.000687]"
          ]
        },
        {
          "name": "stderr",
          "output_type": "stream",
          "text": [
            "\r",
            " 12%|\u2588\u258f        | 37/300 [00:19<00:29,  8.90it/s, loss=0.000019]"
          ]
        },
        {
          "name": "stderr",
          "output_type": "stream",
          "text": [
            "\r",
            " 12%|\u2588\u258f        | 37/300 [00:19<00:29,  8.90it/s, loss=0.000315]"
          ]
        },
        {
          "name": "stderr",
          "output_type": "stream",
          "text": [
            "\r",
            " 14%|\u2588\u258d        | 42/300 [00:19<00:21, 11.86it/s, loss=0.000315]"
          ]
        },
        {
          "name": "stderr",
          "output_type": "stream",
          "text": [
            "\r",
            " 14%|\u2588\u258d        | 42/300 [00:19<00:21, 11.86it/s, loss=0.000841]"
          ]
        },
        {
          "name": "stderr",
          "output_type": "stream",
          "text": [
            "\r",
            " 14%|\u2588\u258d        | 42/300 [00:19<00:21, 11.86it/s, loss=0.000610]"
          ]
        },
        {
          "name": "stderr",
          "output_type": "stream",
          "text": [
            "\r",
            " 14%|\u2588\u258d        | 42/300 [00:19<00:21, 11.86it/s, loss=0.000069]"
          ]
        },
        {
          "name": "stderr",
          "output_type": "stream",
          "text": [
            "\r",
            " 14%|\u2588\u258d        | 42/300 [00:19<00:21, 11.86it/s, loss=0.000119]"
          ]
        },
        {
          "name": "stderr",
          "output_type": "stream",
          "text": [
            "\r",
            " 14%|\u2588\u258d        | 42/300 [00:19<00:21, 11.86it/s, loss=0.000515]"
          ]
        },
        {
          "name": "stderr",
          "output_type": "stream",
          "text": [
            "\r",
            " 16%|\u2588\u258c        | 47/300 [00:19<00:16, 15.33it/s, loss=0.000515]"
          ]
        },
        {
          "name": "stderr",
          "output_type": "stream",
          "text": [
            "\r",
            " 16%|\u2588\u258c        | 47/300 [00:19<00:16, 15.33it/s, loss=0.000465]"
          ]
        },
        {
          "name": "stderr",
          "output_type": "stream",
          "text": [
            "\r",
            " 16%|\u2588\u258c        | 47/300 [00:19<00:16, 15.33it/s, loss=0.000085]"
          ]
        },
        {
          "name": "stderr",
          "output_type": "stream",
          "text": [
            "\r",
            " 16%|\u2588\u258c        | 47/300 [00:19<00:16, 15.33it/s, loss=0.000048]"
          ]
        },
        {
          "name": "stderr",
          "output_type": "stream",
          "text": [
            "\r",
            " 16%|\u2588\u258c        | 47/300 [00:19<00:16, 15.33it/s, loss=0.000320]"
          ]
        },
        {
          "name": "stderr",
          "output_type": "stream",
          "text": [
            "\r",
            " 16%|\u2588\u258c        | 47/300 [00:19<00:16, 15.33it/s, loss=0.000328]"
          ]
        },
        {
          "name": "stderr",
          "output_type": "stream",
          "text": [
            "\r",
            " 17%|\u2588\u258b        | 52/300 [00:19<00:12, 19.15it/s, loss=0.000328]"
          ]
        },
        {
          "name": "stderr",
          "output_type": "stream",
          "text": [
            "\r",
            " 17%|\u2588\u258b        | 52/300 [00:20<00:12, 19.15it/s, loss=0.000071]"
          ]
        },
        {
          "name": "stderr",
          "output_type": "stream",
          "text": [
            "\r",
            " 17%|\u2588\u258b        | 52/300 [00:20<00:12, 19.15it/s, loss=0.000025]"
          ]
        },
        {
          "name": "stderr",
          "output_type": "stream",
          "text": [
            "\r",
            " 17%|\u2588\u258b        | 52/300 [00:20<00:12, 19.15it/s, loss=0.000209]"
          ]
        },
        {
          "name": "stderr",
          "output_type": "stream",
          "text": [
            "\r",
            " 17%|\u2588\u258b        | 52/300 [00:20<00:12, 19.15it/s, loss=0.000221]"
          ]
        },
        {
          "name": "stderr",
          "output_type": "stream",
          "text": [
            "\r",
            " 17%|\u2588\u258b        | 52/300 [00:20<00:12, 19.15it/s, loss=0.000047]"
          ]
        },
        {
          "name": "stderr",
          "output_type": "stream",
          "text": [
            "\r",
            " 19%|\u2588\u2589        | 57/300 [00:20<00:10, 23.00it/s, loss=0.000047]"
          ]
        },
        {
          "name": "stderr",
          "output_type": "stream",
          "text": [
            "\r",
            " 19%|\u2588\u2589        | 57/300 [00:20<00:10, 23.00it/s, loss=0.000019]"
          ]
        },
        {
          "name": "stderr",
          "output_type": "stream",
          "text": [
            "\r",
            " 19%|\u2588\u2589        | 57/300 [00:20<00:10, 23.00it/s, loss=0.000145]"
          ]
        },
        {
          "name": "stderr",
          "output_type": "stream",
          "text": [
            "\r",
            " 19%|\u2588\u2589        | 57/300 [00:20<00:10, 23.00it/s, loss=0.000143]"
          ]
        },
        {
          "name": "stderr",
          "output_type": "stream",
          "text": [
            "\r",
            " 19%|\u2588\u2589        | 57/300 [00:20<00:10, 23.00it/s, loss=0.000024]"
          ]
        },
        {
          "name": "stderr",
          "output_type": "stream",
          "text": [
            "\r",
            " 19%|\u2588\u2589        | 57/300 [00:20<00:10, 23.00it/s, loss=0.000019]"
          ]
        },
        {
          "name": "stderr",
          "output_type": "stream",
          "text": [
            "\r",
            " 21%|\u2588\u2588        | 62/300 [00:20<00:08, 26.64it/s, loss=0.000019]"
          ]
        },
        {
          "name": "stderr",
          "output_type": "stream",
          "text": [
            "\r",
            " 21%|\u2588\u2588        | 62/300 [00:20<00:08, 26.64it/s, loss=0.000105]"
          ]
        },
        {
          "name": "stderr",
          "output_type": "stream",
          "text": [
            "\r",
            " 21%|\u2588\u2588        | 62/300 [00:20<00:08, 26.64it/s, loss=0.000088]"
          ]
        },
        {
          "name": "stderr",
          "output_type": "stream",
          "text": [
            "\r",
            " 21%|\u2588\u2588        | 62/300 [00:20<00:08, 26.64it/s, loss=0.000008]"
          ]
        },
        {
          "name": "stderr",
          "output_type": "stream",
          "text": [
            "\r",
            " 21%|\u2588\u2588        | 62/300 [00:20<00:08, 26.64it/s, loss=0.000022]"
          ]
        },
        {
          "name": "stderr",
          "output_type": "stream",
          "text": [
            "\r",
            " 21%|\u2588\u2588        | 62/300 [00:20<00:08, 26.64it/s, loss=0.000077]"
          ]
        },
        {
          "name": "stderr",
          "output_type": "stream",
          "text": [
            "\r",
            " 22%|\u2588\u2588\u258f       | 67/300 [00:20<00:07, 30.51it/s, loss=0.000077]"
          ]
        },
        {
          "name": "stderr",
          "output_type": "stream",
          "text": [
            "\r",
            " 22%|\u2588\u2588\u258f       | 67/300 [00:20<00:07, 30.51it/s, loss=0.000048]"
          ]
        },
        {
          "name": "stderr",
          "output_type": "stream",
          "text": [
            "\r",
            " 22%|\u2588\u2588\u258f       | 67/300 [00:20<00:07, 30.51it/s, loss=0.000001]"
          ]
        },
        {
          "name": "stderr",
          "output_type": "stream",
          "text": [
            "\r",
            " 22%|\u2588\u2588\u258f       | 67/300 [00:20<00:07, 30.51it/s, loss=0.000025]"
          ]
        },
        {
          "name": "stderr",
          "output_type": "stream",
          "text": [
            "\r",
            " 22%|\u2588\u2588\u258f       | 67/300 [00:20<00:07, 30.51it/s, loss=0.000054]"
          ]
        },
        {
          "name": "stderr",
          "output_type": "stream",
          "text": [
            "\r",
            " 22%|\u2588\u2588\u258f       | 67/300 [00:20<00:07, 30.51it/s, loss=0.000022]"
          ]
        },
        {
          "name": "stderr",
          "output_type": "stream",
          "text": [
            "\r",
            " 24%|\u2588\u2588\u258d       | 72/300 [00:20<00:06, 33.46it/s, loss=0.000022]"
          ]
        },
        {
          "name": "stderr",
          "output_type": "stream",
          "text": [
            "\r",
            " 24%|\u2588\u2588\u258d       | 72/300 [00:20<00:06, 33.46it/s, loss=0.000000]"
          ]
        },
        {
          "name": "stderr",
          "output_type": "stream",
          "text": [
            "\r",
            " 24%|\u2588\u2588\u258d       | 72/300 [00:20<00:06, 33.46it/s, loss=0.000026]"
          ]
        },
        {
          "name": "stderr",
          "output_type": "stream",
          "text": [
            "\r",
            " 24%|\u2588\u2588\u258d       | 72/300 [00:20<00:06, 33.46it/s, loss=0.000034]"
          ]
        },
        {
          "name": "stderr",
          "output_type": "stream",
          "text": [
            "\r",
            " 24%|\u2588\u2588\u258d       | 72/300 [00:20<00:06, 33.46it/s, loss=0.000007]"
          ]
        },
        {
          "name": "stderr",
          "output_type": "stream",
          "text": [
            "\r",
            " 24%|\u2588\u2588\u258d       | 72/300 [00:20<00:06, 33.46it/s, loss=0.000004]"
          ]
        },
        {
          "name": "stderr",
          "output_type": "stream",
          "text": [
            "\r",
            " 26%|\u2588\u2588\u258c       | 77/300 [00:20<00:06, 35.60it/s, loss=0.000004]"
          ]
        },
        {
          "name": "stderr",
          "output_type": "stream",
          "text": [
            "\r",
            " 26%|\u2588\u2588\u258c       | 77/300 [00:20<00:06, 35.60it/s, loss=0.000024]"
          ]
        },
        {
          "name": "stderr",
          "output_type": "stream",
          "text": [
            "\r",
            " 26%|\u2588\u2588\u258c       | 77/300 [00:20<00:06, 35.60it/s, loss=0.000017]"
          ]
        },
        {
          "name": "stderr",
          "output_type": "stream",
          "text": [
            "\r",
            " 26%|\u2588\u2588\u258c       | 77/300 [00:20<00:06, 35.60it/s, loss=0.000001]"
          ]
        },
        {
          "name": "stderr",
          "output_type": "stream",
          "text": [
            "\r",
            " 26%|\u2588\u2588\u258c       | 77/300 [00:20<00:06, 35.60it/s, loss=0.000008]"
          ]
        },
        {
          "name": "stderr",
          "output_type": "stream",
          "text": [
            "\r",
            " 26%|\u2588\u2588\u258c       | 77/300 [00:20<00:06, 35.60it/s, loss=0.000018]"
          ]
        },
        {
          "name": "stderr",
          "output_type": "stream",
          "text": [
            "\r",
            " 27%|\u2588\u2588\u258b       | 82/300 [00:20<00:05, 37.67it/s, loss=0.000018]"
          ]
        },
        {
          "name": "stderr",
          "output_type": "stream",
          "text": [
            "\r",
            " 27%|\u2588\u2588\u258b       | 82/300 [00:20<00:05, 37.67it/s, loss=0.000006]"
          ]
        },
        {
          "name": "stderr",
          "output_type": "stream",
          "text": [
            "\r",
            " 27%|\u2588\u2588\u258b       | 82/300 [00:20<00:05, 37.67it/s, loss=0.000001]"
          ]
        },
        {
          "name": "stderr",
          "output_type": "stream",
          "text": [
            "\r",
            " 27%|\u2588\u2588\u258b       | 82/300 [00:20<00:05, 37.67it/s, loss=0.000010]"
          ]
        },
        {
          "name": "stderr",
          "output_type": "stream",
          "text": [
            "\r",
            " 27%|\u2588\u2588\u258b       | 82/300 [00:20<00:05, 37.67it/s, loss=0.000010]"
          ]
        },
        {
          "name": "stderr",
          "output_type": "stream",
          "text": [
            "\r",
            " 27%|\u2588\u2588\u258b       | 82/300 [00:20<00:05, 37.67it/s, loss=0.000001]"
          ]
        },
        {
          "name": "stderr",
          "output_type": "stream",
          "text": [
            "\r",
            " 29%|\u2588\u2588\u2589       | 87/300 [00:20<00:05, 39.18it/s, loss=0.000001]"
          ]
        },
        {
          "name": "stderr",
          "output_type": "stream",
          "text": [
            "\r",
            " 29%|\u2588\u2588\u2589       | 87/300 [00:20<00:05, 39.18it/s, loss=0.000003]"
          ]
        },
        {
          "name": "stderr",
          "output_type": "stream",
          "text": [
            "\r",
            " 29%|\u2588\u2588\u2589       | 87/300 [00:20<00:05, 39.18it/s, loss=0.000009]"
          ]
        },
        {
          "name": "stderr",
          "output_type": "stream",
          "text": [
            "\r",
            " 29%|\u2588\u2588\u2589       | 87/300 [00:20<00:05, 39.18it/s, loss=0.000003]"
          ]
        },
        {
          "name": "stderr",
          "output_type": "stream",
          "text": [
            "\r",
            " 29%|\u2588\u2588\u2589       | 87/300 [00:20<00:05, 39.18it/s, loss=0.000000]"
          ]
        },
        {
          "name": "stderr",
          "output_type": "stream",
          "text": [
            "\r",
            " 29%|\u2588\u2588\u2589       | 87/300 [00:20<00:05, 39.18it/s, loss=0.000005]"
          ]
        },
        {
          "name": "stderr",
          "output_type": "stream",
          "text": [
            "\r",
            " 31%|\u2588\u2588\u2588       | 92/300 [00:20<00:05, 40.22it/s, loss=0.000005]"
          ]
        },
        {
          "name": "stderr",
          "output_type": "stream",
          "text": [
            "\r",
            " 31%|\u2588\u2588\u2588       | 92/300 [00:20<00:05, 40.22it/s, loss=0.000005]"
          ]
        },
        {
          "name": "stderr",
          "output_type": "stream",
          "text": [
            "\r",
            " 31%|\u2588\u2588\u2588       | 92/300 [00:20<00:05, 40.22it/s, loss=0.000000]"
          ]
        },
        {
          "name": "stderr",
          "output_type": "stream",
          "text": [
            "\r",
            " 31%|\u2588\u2588\u2588       | 92/300 [00:20<00:05, 40.22it/s, loss=0.000002]"
          ]
        },
        {
          "name": "stderr",
          "output_type": "stream",
          "text": [
            "\r",
            " 31%|\u2588\u2588\u2588       | 92/300 [00:21<00:05, 40.22it/s, loss=0.000004]"
          ]
        },
        {
          "name": "stderr",
          "output_type": "stream",
          "text": [
            "\r",
            " 31%|\u2588\u2588\u2588       | 92/300 [00:21<00:05, 40.22it/s, loss=0.000001]"
          ]
        },
        {
          "name": "stderr",
          "output_type": "stream",
          "text": [
            "\r",
            " 32%|\u2588\u2588\u2588\u258f      | 97/300 [00:21<00:04, 40.91it/s, loss=0.000001]"
          ]
        },
        {
          "name": "stderr",
          "output_type": "stream",
          "text": [
            "\r",
            " 32%|\u2588\u2588\u2588\u258f      | 97/300 [00:21<00:04, 40.91it/s, loss=0.000000]"
          ]
        },
        {
          "name": "stderr",
          "output_type": "stream",
          "text": [
            "\r",
            " 32%|\u2588\u2588\u2588\u258f      | 97/300 [00:21<00:04, 40.91it/s, loss=0.000003]"
          ]
        },
        {
          "name": "stderr",
          "output_type": "stream",
          "text": [
            "\r",
            " 32%|\u2588\u2588\u2588\u258f      | 97/300 [00:21<00:04, 40.91it/s, loss=0.000002]"
          ]
        },
        {
          "name": "stderr",
          "output_type": "stream",
          "text": [
            "\r",
            " 32%|\u2588\u2588\u2588\u258f      | 97/300 [00:21<00:04, 40.91it/s, loss=0.000000]"
          ]
        },
        {
          "name": "stderr",
          "output_type": "stream",
          "text": [
            "\r",
            " 32%|\u2588\u2588\u2588\u258f      | 97/300 [00:21<00:04, 40.91it/s, loss=0.000001]"
          ]
        },
        {
          "name": "stderr",
          "output_type": "stream",
          "text": [
            "\r",
            " 34%|\u2588\u2588\u2588\u258d      | 102/300 [00:21<00:04, 41.92it/s, loss=0.000001]"
          ]
        },
        {
          "name": "stderr",
          "output_type": "stream",
          "text": [
            "\r",
            " 34%|\u2588\u2588\u2588\u258d      | 102/300 [00:21<00:04, 41.92it/s, loss=0.000002]"
          ]
        },
        {
          "name": "stderr",
          "output_type": "stream",
          "text": [
            "\r",
            " 34%|\u2588\u2588\u2588\u258d      | 102/300 [00:21<00:04, 41.92it/s, loss=0.000000]"
          ]
        },
        {
          "name": "stderr",
          "output_type": "stream",
          "text": [
            "\r",
            " 34%|\u2588\u2588\u2588\u258d      | 102/300 [00:21<00:04, 41.92it/s, loss=0.000000]"
          ]
        },
        {
          "name": "stderr",
          "output_type": "stream",
          "text": [
            "\r",
            " 34%|\u2588\u2588\u2588\u258d      | 102/300 [00:21<00:04, 41.92it/s, loss=0.000002]"
          ]
        },
        {
          "name": "stderr",
          "output_type": "stream",
          "text": [
            "\r",
            " 34%|\u2588\u2588\u2588\u258d      | 102/300 [00:21<00:04, 41.92it/s, loss=0.000001]"
          ]
        },
        {
          "name": "stderr",
          "output_type": "stream",
          "text": [
            "\r",
            " 36%|\u2588\u2588\u2588\u258c      | 107/300 [00:21<00:04, 42.32it/s, loss=0.000001]"
          ]
        },
        {
          "name": "stderr",
          "output_type": "stream",
          "text": [
            "\r",
            " 36%|\u2588\u2588\u2588\u258c      | 107/300 [00:21<00:04, 42.32it/s, loss=0.000000]"
          ]
        },
        {
          "name": "stderr",
          "output_type": "stream",
          "text": [
            "\r",
            " 36%|\u2588\u2588\u2588\u258c      | 107/300 [00:21<00:04, 42.32it/s, loss=0.000001]"
          ]
        },
        {
          "name": "stderr",
          "output_type": "stream",
          "text": [
            "\r",
            " 36%|\u2588\u2588\u2588\u258c      | 107/300 [00:21<00:04, 42.32it/s, loss=0.000001]"
          ]
        },
        {
          "name": "stderr",
          "output_type": "stream",
          "text": [
            "\r",
            " 36%|\u2588\u2588\u2588\u258c      | 107/300 [00:21<00:04, 42.32it/s, loss=0.000000]"
          ]
        },
        {
          "name": "stderr",
          "output_type": "stream",
          "text": [
            "\r",
            " 36%|\u2588\u2588\u2588\u258c      | 107/300 [00:21<00:04, 42.32it/s, loss=0.000000]"
          ]
        },
        {
          "name": "stderr",
          "output_type": "stream",
          "text": [
            "\r",
            " 37%|\u2588\u2588\u2588\u258b      | 112/300 [00:21<00:04, 42.41it/s, loss=0.000000]"
          ]
        },
        {
          "name": "stderr",
          "output_type": "stream",
          "text": [
            "\r",
            " 37%|\u2588\u2588\u2588\u258b      | 112/300 [00:21<00:04, 42.41it/s, loss=0.000001]"
          ]
        },
        {
          "name": "stderr",
          "output_type": "stream",
          "text": [
            "\r",
            " 37%|\u2588\u2588\u2588\u258b      | 112/300 [00:21<00:04, 42.41it/s, loss=0.000000]"
          ]
        },
        {
          "name": "stderr",
          "output_type": "stream",
          "text": [
            "\r",
            " 37%|\u2588\u2588\u2588\u258b      | 112/300 [00:21<00:04, 42.41it/s, loss=0.000000]"
          ]
        },
        {
          "name": "stderr",
          "output_type": "stream",
          "text": [
            "\r",
            " 37%|\u2588\u2588\u2588\u258b      | 112/300 [00:21<00:04, 42.41it/s, loss=0.000001]"
          ]
        },
        {
          "name": "stderr",
          "output_type": "stream",
          "text": [
            "\r",
            " 37%|\u2588\u2588\u2588\u258b      | 112/300 [00:21<00:04, 42.41it/s, loss=0.000000]"
          ]
        },
        {
          "name": "stderr",
          "output_type": "stream",
          "text": [
            "\r",
            " 39%|\u2588\u2588\u2588\u2589      | 117/300 [00:21<00:04, 42.80it/s, loss=0.000000]"
          ]
        },
        {
          "name": "stderr",
          "output_type": "stream",
          "text": [
            "\r",
            " 39%|\u2588\u2588\u2588\u2589      | 117/300 [00:21<00:04, 42.80it/s, loss=0.000000]"
          ]
        },
        {
          "name": "stderr",
          "output_type": "stream",
          "text": [
            "\r",
            " 39%|\u2588\u2588\u2588\u2589      | 117/300 [00:21<00:04, 42.80it/s, loss=0.000000]"
          ]
        },
        {
          "name": "stderr",
          "output_type": "stream",
          "text": [
            "\r",
            " 39%|\u2588\u2588\u2588\u2589      | 117/300 [00:21<00:04, 42.80it/s, loss=0.000000]"
          ]
        },
        {
          "name": "stderr",
          "output_type": "stream",
          "text": [
            "\r",
            " 39%|\u2588\u2588\u2588\u2589      | 117/300 [00:21<00:04, 42.80it/s, loss=0.000000]"
          ]
        },
        {
          "name": "stderr",
          "output_type": "stream",
          "text": [
            "\r",
            " 39%|\u2588\u2588\u2588\u2589      | 117/300 [00:21<00:04, 42.80it/s, loss=0.000000]"
          ]
        },
        {
          "name": "stderr",
          "output_type": "stream",
          "text": [
            "\r",
            " 41%|\u2588\u2588\u2588\u2588      | 122/300 [00:21<00:04, 43.11it/s, loss=0.000000]"
          ]
        },
        {
          "name": "stderr",
          "output_type": "stream",
          "text": [
            "\r",
            " 41%|\u2588\u2588\u2588\u2588      | 122/300 [00:21<00:04, 43.11it/s, loss=0.000000]"
          ]
        },
        {
          "name": "stderr",
          "output_type": "stream",
          "text": [
            "\r",
            " 41%|\u2588\u2588\u2588\u2588      | 122/300 [00:21<00:04, 43.11it/s, loss=0.000000]"
          ]
        },
        {
          "name": "stderr",
          "output_type": "stream",
          "text": [
            "\r",
            " 41%|\u2588\u2588\u2588\u2588      | 122/300 [00:21<00:04, 43.11it/s, loss=0.000000]"
          ]
        },
        {
          "name": "stderr",
          "output_type": "stream",
          "text": [
            "\r",
            " 41%|\u2588\u2588\u2588\u2588      | 122/300 [00:21<00:04, 43.11it/s, loss=0.000000]"
          ]
        },
        {
          "name": "stderr",
          "output_type": "stream",
          "text": [
            "\r",
            " 41%|\u2588\u2588\u2588\u2588      | 122/300 [00:21<00:04, 43.11it/s, loss=0.000000]"
          ]
        },
        {
          "name": "stderr",
          "output_type": "stream",
          "text": [
            "\r",
            " 42%|\u2588\u2588\u2588\u2588\u258f     | 127/300 [00:21<00:04, 42.85it/s, loss=0.000000]"
          ]
        },
        {
          "name": "stderr",
          "output_type": "stream",
          "text": [
            "\r",
            " 42%|\u2588\u2588\u2588\u2588\u258f     | 127/300 [00:21<00:04, 42.85it/s, loss=0.000000]"
          ]
        },
        {
          "name": "stderr",
          "output_type": "stream",
          "text": [
            "\r",
            " 42%|\u2588\u2588\u2588\u2588\u258f     | 127/300 [00:21<00:04, 42.85it/s, loss=0.000000]"
          ]
        },
        {
          "name": "stderr",
          "output_type": "stream",
          "text": [
            "\r",
            " 42%|\u2588\u2588\u2588\u2588\u258f     | 127/300 [00:21<00:04, 42.85it/s, loss=0.000000]"
          ]
        },
        {
          "name": "stderr",
          "output_type": "stream",
          "text": [
            "\r",
            " 42%|\u2588\u2588\u2588\u2588\u258f     | 127/300 [00:21<00:04, 42.85it/s, loss=0.000000]"
          ]
        },
        {
          "name": "stderr",
          "output_type": "stream",
          "text": [
            "\r",
            " 42%|\u2588\u2588\u2588\u2588\u258f     | 127/300 [00:21<00:04, 42.85it/s, loss=0.000000]"
          ]
        },
        {
          "name": "stderr",
          "output_type": "stream",
          "text": [
            "\r",
            " 44%|\u2588\u2588\u2588\u2588\u258d     | 132/300 [00:21<00:03, 43.49it/s, loss=0.000000]"
          ]
        },
        {
          "name": "stderr",
          "output_type": "stream",
          "text": [
            "\r",
            " 44%|\u2588\u2588\u2588\u2588\u258d     | 132/300 [00:21<00:03, 43.49it/s, loss=0.000000]"
          ]
        },
        {
          "name": "stderr",
          "output_type": "stream",
          "text": [
            "\r",
            " 44%|\u2588\u2588\u2588\u2588\u258d     | 132/300 [00:21<00:03, 43.49it/s, loss=0.000000]"
          ]
        },
        {
          "name": "stderr",
          "output_type": "stream",
          "text": [
            "\r",
            " 44%|\u2588\u2588\u2588\u2588\u258d     | 132/300 [00:21<00:03, 43.49it/s, loss=0.000000]"
          ]
        },
        {
          "name": "stderr",
          "output_type": "stream",
          "text": [
            "\r",
            " 44%|\u2588\u2588\u2588\u2588\u258d     | 132/300 [00:21<00:03, 43.49it/s, loss=0.000000]"
          ]
        },
        {
          "name": "stderr",
          "output_type": "stream",
          "text": [
            "\r",
            " 44%|\u2588\u2588\u2588\u2588\u258d     | 132/300 [00:21<00:03, 43.49it/s, loss=0.000000]"
          ]
        },
        {
          "name": "stderr",
          "output_type": "stream",
          "text": [
            "\r",
            " 46%|\u2588\u2588\u2588\u2588\u258c     | 137/300 [00:21<00:03, 43.40it/s, loss=0.000000]"
          ]
        },
        {
          "name": "stderr",
          "output_type": "stream",
          "text": [
            "\r",
            " 46%|\u2588\u2588\u2588\u2588\u258c     | 137/300 [00:21<00:03, 43.40it/s, loss=0.000000]"
          ]
        },
        {
          "name": "stderr",
          "output_type": "stream",
          "text": [
            "\r",
            " 46%|\u2588\u2588\u2588\u2588\u258c     | 137/300 [00:22<00:03, 43.40it/s, loss=0.000000]"
          ]
        },
        {
          "name": "stderr",
          "output_type": "stream",
          "text": [
            "\r",
            " 46%|\u2588\u2588\u2588\u2588\u258c     | 137/300 [00:22<00:03, 43.40it/s, loss=0.000000]"
          ]
        },
        {
          "name": "stderr",
          "output_type": "stream",
          "text": [
            "\r",
            " 46%|\u2588\u2588\u2588\u2588\u258c     | 137/300 [00:22<00:03, 43.40it/s, loss=0.000000]"
          ]
        },
        {
          "name": "stderr",
          "output_type": "stream",
          "text": [
            "\r",
            " 46%|\u2588\u2588\u2588\u2588\u258c     | 137/300 [00:22<00:03, 43.40it/s, loss=0.000000]"
          ]
        },
        {
          "name": "stderr",
          "output_type": "stream",
          "text": [
            "\r",
            " 47%|\u2588\u2588\u2588\u2588\u258b     | 142/300 [00:22<00:03, 43.24it/s, loss=0.000000]"
          ]
        },
        {
          "name": "stderr",
          "output_type": "stream",
          "text": [
            "\r",
            " 47%|\u2588\u2588\u2588\u2588\u258b     | 142/300 [00:22<00:03, 43.24it/s, loss=0.000000]"
          ]
        },
        {
          "name": "stderr",
          "output_type": "stream",
          "text": [
            "\r",
            " 47%|\u2588\u2588\u2588\u2588\u258b     | 142/300 [00:22<00:03, 43.24it/s, loss=0.000000]"
          ]
        },
        {
          "name": "stderr",
          "output_type": "stream",
          "text": [
            "\r",
            " 47%|\u2588\u2588\u2588\u2588\u258b     | 142/300 [00:22<00:03, 43.24it/s, loss=0.000000]"
          ]
        },
        {
          "name": "stderr",
          "output_type": "stream",
          "text": [
            "\r",
            " 47%|\u2588\u2588\u2588\u2588\u258b     | 142/300 [00:22<00:03, 43.24it/s, loss=0.000000]"
          ]
        },
        {
          "name": "stderr",
          "output_type": "stream",
          "text": [
            "\r",
            " 47%|\u2588\u2588\u2588\u2588\u258b     | 142/300 [00:22<00:03, 43.24it/s, loss=0.000000]"
          ]
        },
        {
          "name": "stderr",
          "output_type": "stream",
          "text": [
            "\r",
            " 49%|\u2588\u2588\u2588\u2588\u2589     | 147/300 [00:22<00:03, 43.37it/s, loss=0.000000]"
          ]
        },
        {
          "name": "stderr",
          "output_type": "stream",
          "text": [
            "\r",
            " 49%|\u2588\u2588\u2588\u2588\u2589     | 147/300 [00:22<00:03, 43.37it/s, loss=0.000000]"
          ]
        },
        {
          "name": "stderr",
          "output_type": "stream",
          "text": [
            "\r",
            " 49%|\u2588\u2588\u2588\u2588\u2589     | 147/300 [00:22<00:03, 43.37it/s, loss=0.000000]"
          ]
        },
        {
          "name": "stderr",
          "output_type": "stream",
          "text": [
            "\r",
            " 49%|\u2588\u2588\u2588\u2588\u2589     | 147/300 [00:22<00:03, 43.37it/s, loss=0.000000]"
          ]
        },
        {
          "name": "stderr",
          "output_type": "stream",
          "text": [
            "\r",
            " 49%|\u2588\u2588\u2588\u2588\u2589     | 147/300 [00:22<00:03, 43.37it/s, loss=0.000000]"
          ]
        },
        {
          "name": "stderr",
          "output_type": "stream",
          "text": [
            "\r",
            " 49%|\u2588\u2588\u2588\u2588\u2589     | 147/300 [00:22<00:03, 43.37it/s, loss=0.000000]"
          ]
        },
        {
          "name": "stderr",
          "output_type": "stream",
          "text": [
            "\r",
            " 51%|\u2588\u2588\u2588\u2588\u2588     | 152/300 [00:22<00:03, 43.00it/s, loss=0.000000]"
          ]
        },
        {
          "name": "stderr",
          "output_type": "stream",
          "text": [
            "\r",
            " 51%|\u2588\u2588\u2588\u2588\u2588     | 152/300 [00:22<00:03, 43.00it/s, loss=0.000000]"
          ]
        },
        {
          "name": "stderr",
          "output_type": "stream",
          "text": [
            "\r",
            " 51%|\u2588\u2588\u2588\u2588\u2588     | 152/300 [00:22<00:03, 43.00it/s, loss=0.000000]"
          ]
        },
        {
          "name": "stderr",
          "output_type": "stream",
          "text": [
            "\r",
            " 51%|\u2588\u2588\u2588\u2588\u2588     | 152/300 [00:22<00:03, 43.00it/s, loss=0.000000]"
          ]
        },
        {
          "name": "stderr",
          "output_type": "stream",
          "text": [
            "\r",
            " 51%|\u2588\u2588\u2588\u2588\u2588     | 152/300 [00:22<00:03, 43.00it/s, loss=0.000000]"
          ]
        },
        {
          "name": "stderr",
          "output_type": "stream",
          "text": [
            "\r",
            " 51%|\u2588\u2588\u2588\u2588\u2588     | 152/300 [00:22<00:03, 43.00it/s, loss=0.000000]"
          ]
        },
        {
          "name": "stderr",
          "output_type": "stream",
          "text": [
            "\r",
            " 52%|\u2588\u2588\u2588\u2588\u2588\u258f    | 157/300 [00:22<00:03, 42.94it/s, loss=0.000000]"
          ]
        },
        {
          "name": "stderr",
          "output_type": "stream",
          "text": [
            "\r",
            " 52%|\u2588\u2588\u2588\u2588\u2588\u258f    | 157/300 [00:22<00:03, 42.94it/s, loss=0.000000]"
          ]
        },
        {
          "name": "stderr",
          "output_type": "stream",
          "text": [
            "\r",
            " 52%|\u2588\u2588\u2588\u2588\u2588\u258f    | 157/300 [00:22<00:03, 42.94it/s, loss=0.000000]"
          ]
        },
        {
          "name": "stderr",
          "output_type": "stream",
          "text": [
            "\r",
            " 52%|\u2588\u2588\u2588\u2588\u2588\u258f    | 157/300 [00:22<00:03, 42.94it/s, loss=0.000000]"
          ]
        },
        {
          "name": "stderr",
          "output_type": "stream",
          "text": [
            "\r",
            " 52%|\u2588\u2588\u2588\u2588\u2588\u258f    | 157/300 [00:22<00:03, 42.94it/s, loss=0.000000]"
          ]
        },
        {
          "name": "stderr",
          "output_type": "stream",
          "text": [
            "\r",
            " 52%|\u2588\u2588\u2588\u2588\u2588\u258f    | 157/300 [00:22<00:03, 42.94it/s, loss=0.000000]"
          ]
        },
        {
          "name": "stderr",
          "output_type": "stream",
          "text": [
            "\r",
            " 54%|\u2588\u2588\u2588\u2588\u2588\u258d    | 162/300 [00:22<00:03, 43.14it/s, loss=0.000000]"
          ]
        },
        {
          "name": "stderr",
          "output_type": "stream",
          "text": [
            "\r",
            " 54%|\u2588\u2588\u2588\u2588\u2588\u258d    | 162/300 [00:22<00:03, 43.14it/s, loss=0.000000]"
          ]
        },
        {
          "name": "stderr",
          "output_type": "stream",
          "text": [
            "\r",
            " 54%|\u2588\u2588\u2588\u2588\u2588\u258d    | 162/300 [00:22<00:03, 43.14it/s, loss=0.000000]"
          ]
        },
        {
          "name": "stderr",
          "output_type": "stream",
          "text": [
            "\r",
            " 54%|\u2588\u2588\u2588\u2588\u2588\u258d    | 162/300 [00:22<00:03, 43.14it/s, loss=0.000000]"
          ]
        },
        {
          "name": "stderr",
          "output_type": "stream",
          "text": [
            "\r",
            " 54%|\u2588\u2588\u2588\u2588\u2588\u258d    | 162/300 [00:22<00:03, 43.14it/s, loss=0.000000]"
          ]
        },
        {
          "name": "stderr",
          "output_type": "stream",
          "text": [
            "\r",
            " 54%|\u2588\u2588\u2588\u2588\u2588\u258d    | 162/300 [00:22<00:03, 43.14it/s, loss=0.000000]"
          ]
        },
        {
          "name": "stderr",
          "output_type": "stream",
          "text": [
            "\r",
            " 56%|\u2588\u2588\u2588\u2588\u2588\u258c    | 167/300 [00:22<00:03, 43.02it/s, loss=0.000000]"
          ]
        },
        {
          "name": "stderr",
          "output_type": "stream",
          "text": [
            "\r",
            " 56%|\u2588\u2588\u2588\u2588\u2588\u258c    | 167/300 [00:22<00:03, 43.02it/s, loss=0.000000]"
          ]
        },
        {
          "name": "stderr",
          "output_type": "stream",
          "text": [
            "\r",
            " 56%|\u2588\u2588\u2588\u2588\u2588\u258c    | 167/300 [00:22<00:03, 43.02it/s, loss=0.000000]"
          ]
        },
        {
          "name": "stderr",
          "output_type": "stream",
          "text": [
            "\r",
            " 56%|\u2588\u2588\u2588\u2588\u2588\u258c    | 167/300 [00:22<00:03, 43.02it/s, loss=0.000000]"
          ]
        },
        {
          "name": "stderr",
          "output_type": "stream",
          "text": [
            "\r",
            " 56%|\u2588\u2588\u2588\u2588\u2588\u258c    | 167/300 [00:22<00:03, 43.02it/s, loss=0.000000]"
          ]
        },
        {
          "name": "stderr",
          "output_type": "stream",
          "text": [
            "\r",
            " 56%|\u2588\u2588\u2588\u2588\u2588\u258c    | 167/300 [00:22<00:03, 43.02it/s, loss=0.000000]"
          ]
        },
        {
          "name": "stderr",
          "output_type": "stream",
          "text": [
            "\r",
            " 57%|\u2588\u2588\u2588\u2588\u2588\u258b    | 172/300 [00:22<00:02, 42.67it/s, loss=0.000000]"
          ]
        },
        {
          "name": "stderr",
          "output_type": "stream",
          "text": [
            "\r",
            " 57%|\u2588\u2588\u2588\u2588\u2588\u258b    | 172/300 [00:22<00:02, 42.67it/s, loss=0.000000]"
          ]
        },
        {
          "name": "stderr",
          "output_type": "stream",
          "text": [
            "\r",
            " 57%|\u2588\u2588\u2588\u2588\u2588\u258b    | 172/300 [00:22<00:02, 42.67it/s, loss=0.000000]"
          ]
        },
        {
          "name": "stderr",
          "output_type": "stream",
          "text": [
            "\r",
            " 57%|\u2588\u2588\u2588\u2588\u2588\u258b    | 172/300 [00:22<00:02, 42.67it/s, loss=0.000000]"
          ]
        },
        {
          "name": "stderr",
          "output_type": "stream",
          "text": [
            "\r",
            " 57%|\u2588\u2588\u2588\u2588\u2588\u258b    | 172/300 [00:22<00:02, 42.67it/s, loss=0.000000]"
          ]
        },
        {
          "name": "stderr",
          "output_type": "stream",
          "text": [
            "\r",
            " 57%|\u2588\u2588\u2588\u2588\u2588\u258b    | 172/300 [00:22<00:02, 42.67it/s, loss=0.000000]"
          ]
        },
        {
          "name": "stderr",
          "output_type": "stream",
          "text": [
            "\r",
            " 59%|\u2588\u2588\u2588\u2588\u2588\u2589    | 177/300 [00:22<00:02, 42.13it/s, loss=0.000000]"
          ]
        },
        {
          "name": "stderr",
          "output_type": "stream",
          "text": [
            "\r",
            " 59%|\u2588\u2588\u2588\u2588\u2588\u2589    | 177/300 [00:22<00:02, 42.13it/s, loss=0.000000]"
          ]
        },
        {
          "name": "stderr",
          "output_type": "stream",
          "text": [
            "\r",
            " 59%|\u2588\u2588\u2588\u2588\u2588\u2589    | 177/300 [00:22<00:02, 42.13it/s, loss=0.000000]"
          ]
        },
        {
          "name": "stderr",
          "output_type": "stream",
          "text": [
            "\r",
            " 59%|\u2588\u2588\u2588\u2588\u2588\u2589    | 177/300 [00:22<00:02, 42.13it/s, loss=0.000000]"
          ]
        },
        {
          "name": "stderr",
          "output_type": "stream",
          "text": [
            "\r",
            " 59%|\u2588\u2588\u2588\u2588\u2588\u2589    | 177/300 [00:22<00:02, 42.13it/s, loss=0.000000]"
          ]
        },
        {
          "name": "stderr",
          "output_type": "stream",
          "text": [
            "\r",
            " 59%|\u2588\u2588\u2588\u2588\u2588\u2589    | 177/300 [00:23<00:02, 42.13it/s, loss=0.000000]"
          ]
        },
        {
          "name": "stderr",
          "output_type": "stream",
          "text": [
            "\r",
            " 61%|\u2588\u2588\u2588\u2588\u2588\u2588    | 182/300 [00:23<00:02, 42.06it/s, loss=0.000000]"
          ]
        },
        {
          "name": "stderr",
          "output_type": "stream",
          "text": [
            "\r",
            " 61%|\u2588\u2588\u2588\u2588\u2588\u2588    | 182/300 [00:23<00:02, 42.06it/s, loss=0.000000]"
          ]
        },
        {
          "name": "stderr",
          "output_type": "stream",
          "text": [
            "\r",
            " 61%|\u2588\u2588\u2588\u2588\u2588\u2588    | 182/300 [00:23<00:02, 42.06it/s, loss=0.000000]"
          ]
        },
        {
          "name": "stderr",
          "output_type": "stream",
          "text": [
            "\r",
            " 61%|\u2588\u2588\u2588\u2588\u2588\u2588    | 182/300 [00:23<00:02, 42.06it/s, loss=0.000000]"
          ]
        },
        {
          "name": "stderr",
          "output_type": "stream",
          "text": [
            "\r",
            " 61%|\u2588\u2588\u2588\u2588\u2588\u2588    | 182/300 [00:23<00:02, 42.06it/s, loss=0.000000]"
          ]
        },
        {
          "name": "stderr",
          "output_type": "stream",
          "text": [
            "\r",
            " 61%|\u2588\u2588\u2588\u2588\u2588\u2588    | 182/300 [00:23<00:02, 42.06it/s, loss=0.000000]"
          ]
        },
        {
          "name": "stderr",
          "output_type": "stream",
          "text": [
            "\r",
            " 62%|\u2588\u2588\u2588\u2588\u2588\u2588\u258f   | 187/300 [00:23<00:02, 42.40it/s, loss=0.000000]"
          ]
        },
        {
          "name": "stderr",
          "output_type": "stream",
          "text": [
            "\r",
            " 62%|\u2588\u2588\u2588\u2588\u2588\u2588\u258f   | 187/300 [00:23<00:02, 42.40it/s, loss=0.000000]"
          ]
        },
        {
          "name": "stderr",
          "output_type": "stream",
          "text": [
            "\r",
            " 62%|\u2588\u2588\u2588\u2588\u2588\u2588\u258f   | 187/300 [00:23<00:02, 42.40it/s, loss=0.000000]"
          ]
        },
        {
          "name": "stderr",
          "output_type": "stream",
          "text": [
            "\r",
            " 62%|\u2588\u2588\u2588\u2588\u2588\u2588\u258f   | 187/300 [00:23<00:02, 42.40it/s, loss=0.000000]"
          ]
        },
        {
          "name": "stderr",
          "output_type": "stream",
          "text": [
            "\r",
            " 62%|\u2588\u2588\u2588\u2588\u2588\u2588\u258f   | 187/300 [00:23<00:02, 42.40it/s, loss=0.000000]"
          ]
        },
        {
          "name": "stderr",
          "output_type": "stream",
          "text": [
            "\r",
            " 62%|\u2588\u2588\u2588\u2588\u2588\u2588\u258f   | 187/300 [00:23<00:02, 42.40it/s, loss=0.000000]"
          ]
        },
        {
          "name": "stderr",
          "output_type": "stream",
          "text": [
            "\r",
            " 64%|\u2588\u2588\u2588\u2588\u2588\u2588\u258d   | 192/300 [00:23<00:02, 42.37it/s, loss=0.000000]"
          ]
        },
        {
          "name": "stderr",
          "output_type": "stream",
          "text": [
            "\r",
            " 64%|\u2588\u2588\u2588\u2588\u2588\u2588\u258d   | 192/300 [00:23<00:02, 42.37it/s, loss=0.000000]"
          ]
        },
        {
          "name": "stderr",
          "output_type": "stream",
          "text": [
            "\r",
            " 64%|\u2588\u2588\u2588\u2588\u2588\u2588\u258d   | 192/300 [00:23<00:02, 42.37it/s, loss=0.000000]"
          ]
        },
        {
          "name": "stderr",
          "output_type": "stream",
          "text": [
            "\r",
            " 64%|\u2588\u2588\u2588\u2588\u2588\u2588\u258d   | 192/300 [00:23<00:02, 42.37it/s, loss=0.000000]"
          ]
        },
        {
          "name": "stderr",
          "output_type": "stream",
          "text": [
            "\r",
            " 64%|\u2588\u2588\u2588\u2588\u2588\u2588\u258d   | 192/300 [00:23<00:02, 42.37it/s, loss=0.000000]"
          ]
        },
        {
          "name": "stderr",
          "output_type": "stream",
          "text": [
            "\r",
            " 64%|\u2588\u2588\u2588\u2588\u2588\u2588\u258d   | 192/300 [00:23<00:02, 42.37it/s, loss=0.000000]"
          ]
        },
        {
          "name": "stderr",
          "output_type": "stream",
          "text": [
            "\r",
            " 66%|\u2588\u2588\u2588\u2588\u2588\u2588\u258c   | 197/300 [00:23<00:02, 42.93it/s, loss=0.000000]"
          ]
        },
        {
          "name": "stderr",
          "output_type": "stream",
          "text": [
            "\r",
            " 66%|\u2588\u2588\u2588\u2588\u2588\u2588\u258c   | 197/300 [00:23<00:02, 42.93it/s, loss=0.000000]"
          ]
        },
        {
          "name": "stderr",
          "output_type": "stream",
          "text": [
            "\r",
            " 66%|\u2588\u2588\u2588\u2588\u2588\u2588\u258c   | 197/300 [00:23<00:02, 42.93it/s, loss=0.000000]"
          ]
        },
        {
          "name": "stderr",
          "output_type": "stream",
          "text": [
            "\r",
            " 66%|\u2588\u2588\u2588\u2588\u2588\u2588\u258c   | 197/300 [00:23<00:02, 42.93it/s, loss=0.000000]"
          ]
        },
        {
          "name": "stderr",
          "output_type": "stream",
          "text": [
            "\r",
            " 66%|\u2588\u2588\u2588\u2588\u2588\u2588\u258c   | 197/300 [00:23<00:02, 42.93it/s, loss=0.000000]"
          ]
        },
        {
          "name": "stderr",
          "output_type": "stream",
          "text": [
            "\r",
            " 66%|\u2588\u2588\u2588\u2588\u2588\u2588\u258c   | 197/300 [00:23<00:02, 42.93it/s, loss=0.000000]"
          ]
        },
        {
          "name": "stderr",
          "output_type": "stream",
          "text": [
            "\r",
            " 67%|\u2588\u2588\u2588\u2588\u2588\u2588\u258b   | 202/300 [00:23<00:02, 43.20it/s, loss=0.000000]"
          ]
        },
        {
          "name": "stderr",
          "output_type": "stream",
          "text": [
            "\r",
            " 67%|\u2588\u2588\u2588\u2588\u2588\u2588\u258b   | 202/300 [00:23<00:02, 43.20it/s, loss=0.000000]"
          ]
        },
        {
          "name": "stderr",
          "output_type": "stream",
          "text": [
            "\r",
            " 67%|\u2588\u2588\u2588\u2588\u2588\u2588\u258b   | 202/300 [00:23<00:02, 43.20it/s, loss=0.000000]"
          ]
        },
        {
          "name": "stderr",
          "output_type": "stream",
          "text": [
            "\r",
            " 67%|\u2588\u2588\u2588\u2588\u2588\u2588\u258b   | 202/300 [00:23<00:02, 43.20it/s, loss=0.000000]"
          ]
        },
        {
          "name": "stderr",
          "output_type": "stream",
          "text": [
            "\r",
            " 67%|\u2588\u2588\u2588\u2588\u2588\u2588\u258b   | 202/300 [00:23<00:02, 43.20it/s, loss=0.000000]"
          ]
        },
        {
          "name": "stderr",
          "output_type": "stream",
          "text": [
            "\r",
            " 67%|\u2588\u2588\u2588\u2588\u2588\u2588\u258b   | 202/300 [00:23<00:02, 43.20it/s, loss=0.000000]"
          ]
        },
        {
          "name": "stderr",
          "output_type": "stream",
          "text": [
            "\r",
            " 69%|\u2588\u2588\u2588\u2588\u2588\u2588\u2589   | 207/300 [00:23<00:02, 43.19it/s, loss=0.000000]"
          ]
        },
        {
          "name": "stderr",
          "output_type": "stream",
          "text": [
            "\r",
            " 69%|\u2588\u2588\u2588\u2588\u2588\u2588\u2589   | 207/300 [00:23<00:02, 43.19it/s, loss=0.000000]"
          ]
        },
        {
          "name": "stderr",
          "output_type": "stream",
          "text": [
            "\r",
            " 69%|\u2588\u2588\u2588\u2588\u2588\u2588\u2589   | 207/300 [00:23<00:02, 43.19it/s, loss=0.000000]"
          ]
        },
        {
          "name": "stderr",
          "output_type": "stream",
          "text": [
            "\r",
            " 69%|\u2588\u2588\u2588\u2588\u2588\u2588\u2589   | 207/300 [00:23<00:02, 43.19it/s, loss=0.000000]"
          ]
        },
        {
          "name": "stderr",
          "output_type": "stream",
          "text": [
            "\r",
            " 69%|\u2588\u2588\u2588\u2588\u2588\u2588\u2589   | 207/300 [00:23<00:02, 43.19it/s, loss=0.000000]"
          ]
        },
        {
          "name": "stderr",
          "output_type": "stream",
          "text": [
            "\r",
            " 69%|\u2588\u2588\u2588\u2588\u2588\u2588\u2589   | 207/300 [00:23<00:02, 43.19it/s, loss=0.000000]"
          ]
        },
        {
          "name": "stderr",
          "output_type": "stream",
          "text": [
            "\r",
            " 71%|\u2588\u2588\u2588\u2588\u2588\u2588\u2588   | 212/300 [00:23<00:02, 43.39it/s, loss=0.000000]"
          ]
        },
        {
          "name": "stderr",
          "output_type": "stream",
          "text": [
            "\r",
            " 71%|\u2588\u2588\u2588\u2588\u2588\u2588\u2588   | 212/300 [00:23<00:02, 43.39it/s, loss=0.000000]"
          ]
        },
        {
          "name": "stderr",
          "output_type": "stream",
          "text": [
            "\r",
            " 71%|\u2588\u2588\u2588\u2588\u2588\u2588\u2588   | 212/300 [00:23<00:02, 43.39it/s, loss=0.000000]"
          ]
        },
        {
          "name": "stderr",
          "output_type": "stream",
          "text": [
            "\r",
            " 71%|\u2588\u2588\u2588\u2588\u2588\u2588\u2588   | 212/300 [00:23<00:02, 43.39it/s, loss=0.000000]"
          ]
        },
        {
          "name": "stderr",
          "output_type": "stream",
          "text": [
            "\r",
            " 71%|\u2588\u2588\u2588\u2588\u2588\u2588\u2588   | 212/300 [00:23<00:02, 43.39it/s, loss=0.000000]"
          ]
        },
        {
          "name": "stderr",
          "output_type": "stream",
          "text": [
            "\r",
            " 71%|\u2588\u2588\u2588\u2588\u2588\u2588\u2588   | 212/300 [00:23<00:02, 43.39it/s, loss=0.000000]"
          ]
        },
        {
          "name": "stderr",
          "output_type": "stream",
          "text": [
            "\r",
            " 72%|\u2588\u2588\u2588\u2588\u2588\u2588\u2588\u258f  | 217/300 [00:23<00:01, 43.14it/s, loss=0.000000]"
          ]
        },
        {
          "name": "stderr",
          "output_type": "stream",
          "text": [
            "\r",
            " 72%|\u2588\u2588\u2588\u2588\u2588\u2588\u2588\u258f  | 217/300 [00:23<00:01, 43.14it/s, loss=0.000000]"
          ]
        },
        {
          "name": "stderr",
          "output_type": "stream",
          "text": [
            "\r",
            " 72%|\u2588\u2588\u2588\u2588\u2588\u2588\u2588\u258f  | 217/300 [00:23<00:01, 43.14it/s, loss=0.000000]"
          ]
        },
        {
          "name": "stderr",
          "output_type": "stream",
          "text": [
            "\r",
            " 72%|\u2588\u2588\u2588\u2588\u2588\u2588\u2588\u258f  | 217/300 [00:23<00:01, 43.14it/s, loss=0.000000]"
          ]
        },
        {
          "name": "stderr",
          "output_type": "stream",
          "text": [
            "\r",
            " 72%|\u2588\u2588\u2588\u2588\u2588\u2588\u2588\u258f  | 217/300 [00:23<00:01, 43.14it/s, loss=0.000000]"
          ]
        },
        {
          "name": "stderr",
          "output_type": "stream",
          "text": [
            "\r",
            " 72%|\u2588\u2588\u2588\u2588\u2588\u2588\u2588\u258f  | 217/300 [00:23<00:01, 43.14it/s, loss=0.000000]"
          ]
        },
        {
          "name": "stderr",
          "output_type": "stream",
          "text": [
            "\r",
            " 74%|\u2588\u2588\u2588\u2588\u2588\u2588\u2588\u258d  | 222/300 [00:23<00:01, 42.03it/s, loss=0.000000]"
          ]
        },
        {
          "name": "stderr",
          "output_type": "stream",
          "text": [
            "\r",
            " 74%|\u2588\u2588\u2588\u2588\u2588\u2588\u2588\u258d  | 222/300 [00:23<00:01, 42.03it/s, loss=0.000000]"
          ]
        },
        {
          "name": "stderr",
          "output_type": "stream",
          "text": [
            "\r",
            " 74%|\u2588\u2588\u2588\u2588\u2588\u2588\u2588\u258d  | 222/300 [00:24<00:01, 42.03it/s, loss=0.000000]"
          ]
        },
        {
          "name": "stderr",
          "output_type": "stream",
          "text": [
            "\r",
            " 74%|\u2588\u2588\u2588\u2588\u2588\u2588\u2588\u258d  | 222/300 [00:24<00:01, 42.03it/s, loss=0.000000]"
          ]
        },
        {
          "name": "stderr",
          "output_type": "stream",
          "text": [
            "\r",
            " 74%|\u2588\u2588\u2588\u2588\u2588\u2588\u2588\u258d  | 222/300 [00:24<00:01, 42.03it/s, loss=0.000000]"
          ]
        },
        {
          "name": "stderr",
          "output_type": "stream",
          "text": [
            "\r",
            " 74%|\u2588\u2588\u2588\u2588\u2588\u2588\u2588\u258d  | 222/300 [00:24<00:01, 42.03it/s, loss=0.000000]"
          ]
        },
        {
          "name": "stderr",
          "output_type": "stream",
          "text": [
            "\r",
            " 76%|\u2588\u2588\u2588\u2588\u2588\u2588\u2588\u258c  | 227/300 [00:24<00:01, 41.69it/s, loss=0.000000]"
          ]
        },
        {
          "name": "stderr",
          "output_type": "stream",
          "text": [
            "\r",
            " 76%|\u2588\u2588\u2588\u2588\u2588\u2588\u2588\u258c  | 227/300 [00:24<00:01, 41.69it/s, loss=0.000000]"
          ]
        },
        {
          "name": "stderr",
          "output_type": "stream",
          "text": [
            "\r",
            " 76%|\u2588\u2588\u2588\u2588\u2588\u2588\u2588\u258c  | 227/300 [00:24<00:01, 41.69it/s, loss=0.000000]"
          ]
        },
        {
          "name": "stderr",
          "output_type": "stream",
          "text": [
            "\r",
            " 76%|\u2588\u2588\u2588\u2588\u2588\u2588\u2588\u258c  | 227/300 [00:24<00:01, 41.69it/s, loss=0.000000]"
          ]
        },
        {
          "name": "stderr",
          "output_type": "stream",
          "text": [
            "\r",
            " 76%|\u2588\u2588\u2588\u2588\u2588\u2588\u2588\u258c  | 227/300 [00:24<00:01, 41.69it/s, loss=0.000000]"
          ]
        },
        {
          "name": "stderr",
          "output_type": "stream",
          "text": [
            "\r",
            " 76%|\u2588\u2588\u2588\u2588\u2588\u2588\u2588\u258c  | 227/300 [00:24<00:01, 41.69it/s, loss=0.000000]"
          ]
        },
        {
          "name": "stderr",
          "output_type": "stream",
          "text": [
            "\r",
            " 77%|\u2588\u2588\u2588\u2588\u2588\u2588\u2588\u258b  | 232/300 [00:24<00:01, 42.12it/s, loss=0.000000]"
          ]
        },
        {
          "name": "stderr",
          "output_type": "stream",
          "text": [
            "\r",
            " 77%|\u2588\u2588\u2588\u2588\u2588\u2588\u2588\u258b  | 232/300 [00:24<00:01, 42.12it/s, loss=0.000000]"
          ]
        },
        {
          "name": "stderr",
          "output_type": "stream",
          "text": [
            "\r",
            " 77%|\u2588\u2588\u2588\u2588\u2588\u2588\u2588\u258b  | 232/300 [00:24<00:01, 42.12it/s, loss=0.000000]"
          ]
        },
        {
          "name": "stderr",
          "output_type": "stream",
          "text": [
            "\r",
            " 77%|\u2588\u2588\u2588\u2588\u2588\u2588\u2588\u258b  | 232/300 [00:24<00:01, 42.12it/s, loss=0.000000]"
          ]
        },
        {
          "name": "stderr",
          "output_type": "stream",
          "text": [
            "\r",
            " 77%|\u2588\u2588\u2588\u2588\u2588\u2588\u2588\u258b  | 232/300 [00:24<00:01, 42.12it/s, loss=0.000000]"
          ]
        },
        {
          "name": "stderr",
          "output_type": "stream",
          "text": [
            "\r",
            " 77%|\u2588\u2588\u2588\u2588\u2588\u2588\u2588\u258b  | 232/300 [00:24<00:01, 42.12it/s, loss=0.000000]"
          ]
        },
        {
          "name": "stderr",
          "output_type": "stream",
          "text": [
            "\r",
            " 79%|\u2588\u2588\u2588\u2588\u2588\u2588\u2588\u2589  | 237/300 [00:24<00:01, 42.12it/s, loss=0.000000]"
          ]
        },
        {
          "name": "stderr",
          "output_type": "stream",
          "text": [
            "\r",
            " 79%|\u2588\u2588\u2588\u2588\u2588\u2588\u2588\u2589  | 237/300 [00:24<00:01, 42.12it/s, loss=0.000000]"
          ]
        },
        {
          "name": "stderr",
          "output_type": "stream",
          "text": [
            "\r",
            " 79%|\u2588\u2588\u2588\u2588\u2588\u2588\u2588\u2589  | 237/300 [00:24<00:01, 42.12it/s, loss=0.000000]"
          ]
        },
        {
          "name": "stderr",
          "output_type": "stream",
          "text": [
            "\r",
            " 79%|\u2588\u2588\u2588\u2588\u2588\u2588\u2588\u2589  | 237/300 [00:24<00:01, 42.12it/s, loss=0.000000]"
          ]
        },
        {
          "name": "stderr",
          "output_type": "stream",
          "text": [
            "\r",
            " 79%|\u2588\u2588\u2588\u2588\u2588\u2588\u2588\u2589  | 237/300 [00:24<00:01, 42.12it/s, loss=0.000000]"
          ]
        },
        {
          "name": "stderr",
          "output_type": "stream",
          "text": [
            "\r",
            " 79%|\u2588\u2588\u2588\u2588\u2588\u2588\u2588\u2589  | 237/300 [00:24<00:01, 42.12it/s, loss=0.000000]"
          ]
        },
        {
          "name": "stderr",
          "output_type": "stream",
          "text": [
            "\r",
            " 81%|\u2588\u2588\u2588\u2588\u2588\u2588\u2588\u2588  | 242/300 [00:24<00:01, 42.08it/s, loss=0.000000]"
          ]
        },
        {
          "name": "stderr",
          "output_type": "stream",
          "text": [
            "\r",
            " 81%|\u2588\u2588\u2588\u2588\u2588\u2588\u2588\u2588  | 242/300 [00:24<00:01, 42.08it/s, loss=0.000000]"
          ]
        },
        {
          "name": "stderr",
          "output_type": "stream",
          "text": [
            "\r",
            " 81%|\u2588\u2588\u2588\u2588\u2588\u2588\u2588\u2588  | 242/300 [00:24<00:01, 42.08it/s, loss=0.000000]"
          ]
        },
        {
          "name": "stderr",
          "output_type": "stream",
          "text": [
            "\r",
            " 81%|\u2588\u2588\u2588\u2588\u2588\u2588\u2588\u2588  | 242/300 [00:24<00:01, 42.08it/s, loss=0.000000]"
          ]
        },
        {
          "name": "stderr",
          "output_type": "stream",
          "text": [
            "\r",
            " 81%|\u2588\u2588\u2588\u2588\u2588\u2588\u2588\u2588  | 242/300 [00:24<00:01, 42.08it/s, loss=0.000000]"
          ]
        },
        {
          "name": "stderr",
          "output_type": "stream",
          "text": [
            "\r",
            " 81%|\u2588\u2588\u2588\u2588\u2588\u2588\u2588\u2588  | 242/300 [00:24<00:01, 42.08it/s, loss=0.000000]"
          ]
        },
        {
          "name": "stderr",
          "output_type": "stream",
          "text": [
            "\r",
            " 82%|\u2588\u2588\u2588\u2588\u2588\u2588\u2588\u2588\u258f | 247/300 [00:24<00:01, 41.92it/s, loss=0.000000]"
          ]
        },
        {
          "name": "stderr",
          "output_type": "stream",
          "text": [
            "\r",
            " 82%|\u2588\u2588\u2588\u2588\u2588\u2588\u2588\u2588\u258f | 247/300 [00:24<00:01, 41.92it/s, loss=0.000000]"
          ]
        },
        {
          "name": "stderr",
          "output_type": "stream",
          "text": [
            "\r",
            " 82%|\u2588\u2588\u2588\u2588\u2588\u2588\u2588\u2588\u258f | 247/300 [00:24<00:01, 41.92it/s, loss=0.000000]"
          ]
        },
        {
          "name": "stderr",
          "output_type": "stream",
          "text": [
            "\r",
            " 82%|\u2588\u2588\u2588\u2588\u2588\u2588\u2588\u2588\u258f | 247/300 [00:24<00:01, 41.92it/s, loss=0.000000]"
          ]
        },
        {
          "name": "stderr",
          "output_type": "stream",
          "text": [
            "\r",
            " 82%|\u2588\u2588\u2588\u2588\u2588\u2588\u2588\u2588\u258f | 247/300 [00:24<00:01, 41.92it/s, loss=0.000000]"
          ]
        },
        {
          "name": "stderr",
          "output_type": "stream",
          "text": [
            "\r",
            " 82%|\u2588\u2588\u2588\u2588\u2588\u2588\u2588\u2588\u258f | 247/300 [00:24<00:01, 41.92it/s, loss=0.000000]"
          ]
        },
        {
          "name": "stderr",
          "output_type": "stream",
          "text": [
            "\r",
            " 84%|\u2588\u2588\u2588\u2588\u2588\u2588\u2588\u2588\u258d | 252/300 [00:24<00:01, 41.94it/s, loss=0.000000]"
          ]
        },
        {
          "name": "stderr",
          "output_type": "stream",
          "text": [
            "\r",
            " 84%|\u2588\u2588\u2588\u2588\u2588\u2588\u2588\u2588\u258d | 252/300 [00:24<00:01, 41.94it/s, loss=0.000000]"
          ]
        },
        {
          "name": "stderr",
          "output_type": "stream",
          "text": [
            "\r",
            " 84%|\u2588\u2588\u2588\u2588\u2588\u2588\u2588\u2588\u258d | 252/300 [00:24<00:01, 41.94it/s, loss=0.000000]"
          ]
        },
        {
          "name": "stderr",
          "output_type": "stream",
          "text": [
            "\r",
            " 84%|\u2588\u2588\u2588\u2588\u2588\u2588\u2588\u2588\u258d | 252/300 [00:24<00:01, 41.94it/s, loss=0.000000]"
          ]
        },
        {
          "name": "stderr",
          "output_type": "stream",
          "text": [
            "\r",
            " 84%|\u2588\u2588\u2588\u2588\u2588\u2588\u2588\u2588\u258d | 252/300 [00:24<00:01, 41.94it/s, loss=0.000000]"
          ]
        },
        {
          "name": "stderr",
          "output_type": "stream",
          "text": [
            "\r",
            " 84%|\u2588\u2588\u2588\u2588\u2588\u2588\u2588\u2588\u258d | 252/300 [00:24<00:01, 41.94it/s, loss=0.000000]"
          ]
        },
        {
          "name": "stderr",
          "output_type": "stream",
          "text": [
            "\r",
            " 86%|\u2588\u2588\u2588\u2588\u2588\u2588\u2588\u2588\u258c | 257/300 [00:24<00:01, 42.04it/s, loss=0.000000]"
          ]
        },
        {
          "name": "stderr",
          "output_type": "stream",
          "text": [
            "\r",
            " 86%|\u2588\u2588\u2588\u2588\u2588\u2588\u2588\u2588\u258c | 257/300 [00:24<00:01, 42.04it/s, loss=0.000000]"
          ]
        },
        {
          "name": "stderr",
          "output_type": "stream",
          "text": [
            "\r",
            " 86%|\u2588\u2588\u2588\u2588\u2588\u2588\u2588\u2588\u258c | 257/300 [00:24<00:01, 42.04it/s, loss=0.000000]"
          ]
        },
        {
          "name": "stderr",
          "output_type": "stream",
          "text": [
            "\r",
            " 86%|\u2588\u2588\u2588\u2588\u2588\u2588\u2588\u2588\u258c | 257/300 [00:24<00:01, 42.04it/s, loss=0.000000]"
          ]
        },
        {
          "name": "stderr",
          "output_type": "stream",
          "text": [
            "\r",
            " 86%|\u2588\u2588\u2588\u2588\u2588\u2588\u2588\u2588\u258c | 257/300 [00:24<00:01, 42.04it/s, loss=0.000000]"
          ]
        },
        {
          "name": "stderr",
          "output_type": "stream",
          "text": [
            "\r",
            " 86%|\u2588\u2588\u2588\u2588\u2588\u2588\u2588\u2588\u258c | 257/300 [00:24<00:01, 42.04it/s, loss=0.000000]"
          ]
        },
        {
          "name": "stderr",
          "output_type": "stream",
          "text": [
            "\r",
            " 87%|\u2588\u2588\u2588\u2588\u2588\u2588\u2588\u2588\u258b | 262/300 [00:24<00:00, 42.38it/s, loss=0.000000]"
          ]
        },
        {
          "name": "stderr",
          "output_type": "stream",
          "text": [
            "\r",
            " 87%|\u2588\u2588\u2588\u2588\u2588\u2588\u2588\u2588\u258b | 262/300 [00:24<00:00, 42.38it/s, loss=0.000000]"
          ]
        },
        {
          "name": "stderr",
          "output_type": "stream",
          "text": [
            "\r",
            " 87%|\u2588\u2588\u2588\u2588\u2588\u2588\u2588\u2588\u258b | 262/300 [00:24<00:00, 42.38it/s, loss=0.000000]"
          ]
        },
        {
          "name": "stderr",
          "output_type": "stream",
          "text": [
            "\r",
            " 87%|\u2588\u2588\u2588\u2588\u2588\u2588\u2588\u2588\u258b | 262/300 [00:24<00:00, 42.38it/s, loss=0.000000]"
          ]
        },
        {
          "name": "stderr",
          "output_type": "stream",
          "text": [
            "\r",
            " 87%|\u2588\u2588\u2588\u2588\u2588\u2588\u2588\u2588\u258b | 262/300 [00:24<00:00, 42.38it/s, loss=0.000000]"
          ]
        },
        {
          "name": "stderr",
          "output_type": "stream",
          "text": [
            "\r",
            " 87%|\u2588\u2588\u2588\u2588\u2588\u2588\u2588\u2588\u258b | 262/300 [00:25<00:00, 42.38it/s, loss=0.000000]"
          ]
        },
        {
          "name": "stderr",
          "output_type": "stream",
          "text": [
            "\r",
            " 89%|\u2588\u2588\u2588\u2588\u2588\u2588\u2588\u2588\u2589 | 267/300 [00:25<00:00, 42.47it/s, loss=0.000000]"
          ]
        },
        {
          "name": "stderr",
          "output_type": "stream",
          "text": [
            "\r",
            " 89%|\u2588\u2588\u2588\u2588\u2588\u2588\u2588\u2588\u2589 | 267/300 [00:25<00:00, 42.47it/s, loss=0.000000]"
          ]
        },
        {
          "name": "stderr",
          "output_type": "stream",
          "text": [
            "\r",
            " 89%|\u2588\u2588\u2588\u2588\u2588\u2588\u2588\u2588\u2589 | 267/300 [00:25<00:00, 42.47it/s, loss=0.000000]"
          ]
        },
        {
          "name": "stderr",
          "output_type": "stream",
          "text": [
            "\r",
            " 89%|\u2588\u2588\u2588\u2588\u2588\u2588\u2588\u2588\u2589 | 267/300 [00:25<00:00, 42.47it/s, loss=0.000000]"
          ]
        },
        {
          "name": "stderr",
          "output_type": "stream",
          "text": [
            "\r",
            " 89%|\u2588\u2588\u2588\u2588\u2588\u2588\u2588\u2588\u2589 | 267/300 [00:25<00:00, 42.47it/s, loss=0.000000]"
          ]
        },
        {
          "name": "stderr",
          "output_type": "stream",
          "text": [
            "\r",
            " 89%|\u2588\u2588\u2588\u2588\u2588\u2588\u2588\u2588\u2589 | 267/300 [00:25<00:00, 42.47it/s, loss=0.000000]"
          ]
        },
        {
          "name": "stderr",
          "output_type": "stream",
          "text": [
            "\r",
            " 91%|\u2588\u2588\u2588\u2588\u2588\u2588\u2588\u2588\u2588 | 272/300 [00:25<00:00, 43.13it/s, loss=0.000000]"
          ]
        },
        {
          "name": "stderr",
          "output_type": "stream",
          "text": [
            "\r",
            " 91%|\u2588\u2588\u2588\u2588\u2588\u2588\u2588\u2588\u2588 | 272/300 [00:25<00:00, 43.13it/s, loss=0.000000]"
          ]
        },
        {
          "name": "stderr",
          "output_type": "stream",
          "text": [
            "\r",
            " 91%|\u2588\u2588\u2588\u2588\u2588\u2588\u2588\u2588\u2588 | 272/300 [00:25<00:00, 43.13it/s, loss=0.000000]"
          ]
        },
        {
          "name": "stderr",
          "output_type": "stream",
          "text": [
            "\r",
            " 91%|\u2588\u2588\u2588\u2588\u2588\u2588\u2588\u2588\u2588 | 272/300 [00:25<00:00, 43.13it/s, loss=0.000000]"
          ]
        },
        {
          "name": "stderr",
          "output_type": "stream",
          "text": [
            "\r",
            " 91%|\u2588\u2588\u2588\u2588\u2588\u2588\u2588\u2588\u2588 | 272/300 [00:25<00:00, 43.13it/s, loss=0.000000]"
          ]
        },
        {
          "name": "stderr",
          "output_type": "stream",
          "text": [
            "\r",
            " 91%|\u2588\u2588\u2588\u2588\u2588\u2588\u2588\u2588\u2588 | 272/300 [00:25<00:00, 43.13it/s, loss=0.000000]"
          ]
        },
        {
          "name": "stderr",
          "output_type": "stream",
          "text": [
            "\r",
            " 92%|\u2588\u2588\u2588\u2588\u2588\u2588\u2588\u2588\u2588\u258f| 277/300 [00:25<00:00, 43.40it/s, loss=0.000000]"
          ]
        },
        {
          "name": "stderr",
          "output_type": "stream",
          "text": [
            "\r",
            " 92%|\u2588\u2588\u2588\u2588\u2588\u2588\u2588\u2588\u2588\u258f| 277/300 [00:25<00:00, 43.40it/s, loss=0.000000]"
          ]
        },
        {
          "name": "stderr",
          "output_type": "stream",
          "text": [
            "\r",
            " 92%|\u2588\u2588\u2588\u2588\u2588\u2588\u2588\u2588\u2588\u258f| 277/300 [00:25<00:00, 43.40it/s, loss=0.000000]"
          ]
        },
        {
          "name": "stderr",
          "output_type": "stream",
          "text": [
            "\r",
            " 92%|\u2588\u2588\u2588\u2588\u2588\u2588\u2588\u2588\u2588\u258f| 277/300 [00:25<00:00, 43.40it/s, loss=0.000000]"
          ]
        },
        {
          "name": "stderr",
          "output_type": "stream",
          "text": [
            "\r",
            " 92%|\u2588\u2588\u2588\u2588\u2588\u2588\u2588\u2588\u2588\u258f| 277/300 [00:25<00:00, 43.40it/s, loss=0.000000]"
          ]
        },
        {
          "name": "stderr",
          "output_type": "stream",
          "text": [
            "\r",
            " 92%|\u2588\u2588\u2588\u2588\u2588\u2588\u2588\u2588\u2588\u258f| 277/300 [00:25<00:00, 43.40it/s, loss=0.000000]"
          ]
        },
        {
          "name": "stderr",
          "output_type": "stream",
          "text": [
            "\r",
            " 94%|\u2588\u2588\u2588\u2588\u2588\u2588\u2588\u2588\u2588\u258d| 282/300 [00:25<00:00, 43.06it/s, loss=0.000000]"
          ]
        },
        {
          "name": "stderr",
          "output_type": "stream",
          "text": [
            "\r",
            " 94%|\u2588\u2588\u2588\u2588\u2588\u2588\u2588\u2588\u2588\u258d| 282/300 [00:25<00:00, 43.06it/s, loss=0.000000]"
          ]
        },
        {
          "name": "stderr",
          "output_type": "stream",
          "text": [
            "\r",
            " 94%|\u2588\u2588\u2588\u2588\u2588\u2588\u2588\u2588\u2588\u258d| 282/300 [00:25<00:00, 43.06it/s, loss=0.000000]"
          ]
        },
        {
          "name": "stderr",
          "output_type": "stream",
          "text": [
            "\r",
            " 94%|\u2588\u2588\u2588\u2588\u2588\u2588\u2588\u2588\u2588\u258d| 282/300 [00:25<00:00, 43.06it/s, loss=0.000000]"
          ]
        },
        {
          "name": "stderr",
          "output_type": "stream",
          "text": [
            "\r",
            " 94%|\u2588\u2588\u2588\u2588\u2588\u2588\u2588\u2588\u2588\u258d| 282/300 [00:25<00:00, 43.06it/s, loss=0.000000]"
          ]
        },
        {
          "name": "stderr",
          "output_type": "stream",
          "text": [
            "\r",
            " 94%|\u2588\u2588\u2588\u2588\u2588\u2588\u2588\u2588\u2588\u258d| 282/300 [00:25<00:00, 43.06it/s, loss=0.000000]"
          ]
        },
        {
          "name": "stderr",
          "output_type": "stream",
          "text": [
            "\r",
            " 96%|\u2588\u2588\u2588\u2588\u2588\u2588\u2588\u2588\u2588\u258c| 287/300 [00:25<00:00, 42.57it/s, loss=0.000000]"
          ]
        },
        {
          "name": "stderr",
          "output_type": "stream",
          "text": [
            "\r",
            " 96%|\u2588\u2588\u2588\u2588\u2588\u2588\u2588\u2588\u2588\u258c| 287/300 [00:25<00:00, 42.57it/s, loss=0.000000]"
          ]
        },
        {
          "name": "stderr",
          "output_type": "stream",
          "text": [
            "\r",
            " 96%|\u2588\u2588\u2588\u2588\u2588\u2588\u2588\u2588\u2588\u258c| 287/300 [00:25<00:00, 42.57it/s, loss=0.000000]"
          ]
        },
        {
          "name": "stderr",
          "output_type": "stream",
          "text": [
            "\r",
            " 96%|\u2588\u2588\u2588\u2588\u2588\u2588\u2588\u2588\u2588\u258c| 287/300 [00:25<00:00, 42.57it/s, loss=0.000000]"
          ]
        },
        {
          "name": "stderr",
          "output_type": "stream",
          "text": [
            "\r",
            " 96%|\u2588\u2588\u2588\u2588\u2588\u2588\u2588\u2588\u2588\u258c| 287/300 [00:25<00:00, 42.57it/s, loss=0.000000]"
          ]
        },
        {
          "name": "stderr",
          "output_type": "stream",
          "text": [
            "\r",
            " 96%|\u2588\u2588\u2588\u2588\u2588\u2588\u2588\u2588\u2588\u258c| 287/300 [00:25<00:00, 42.57it/s, loss=0.000000]"
          ]
        },
        {
          "name": "stderr",
          "output_type": "stream",
          "text": [
            "\r",
            " 97%|\u2588\u2588\u2588\u2588\u2588\u2588\u2588\u2588\u2588\u258b| 292/300 [00:25<00:00, 42.80it/s, loss=0.000000]"
          ]
        },
        {
          "name": "stderr",
          "output_type": "stream",
          "text": [
            "\r",
            " 97%|\u2588\u2588\u2588\u2588\u2588\u2588\u2588\u2588\u2588\u258b| 292/300 [00:25<00:00, 42.80it/s, loss=0.000000]"
          ]
        },
        {
          "name": "stderr",
          "output_type": "stream",
          "text": [
            "\r",
            " 97%|\u2588\u2588\u2588\u2588\u2588\u2588\u2588\u2588\u2588\u258b| 292/300 [00:25<00:00, 42.80it/s, loss=0.000000]"
          ]
        },
        {
          "name": "stderr",
          "output_type": "stream",
          "text": [
            "\r",
            " 97%|\u2588\u2588\u2588\u2588\u2588\u2588\u2588\u2588\u2588\u258b| 292/300 [00:25<00:00, 42.80it/s, loss=0.000000]"
          ]
        },
        {
          "name": "stderr",
          "output_type": "stream",
          "text": [
            "\r",
            " 97%|\u2588\u2588\u2588\u2588\u2588\u2588\u2588\u2588\u2588\u258b| 292/300 [00:25<00:00, 42.80it/s, loss=0.000000]"
          ]
        },
        {
          "name": "stderr",
          "output_type": "stream",
          "text": [
            "\r",
            " 97%|\u2588\u2588\u2588\u2588\u2588\u2588\u2588\u2588\u2588\u258b| 292/300 [00:25<00:00, 42.80it/s, loss=0.000000]"
          ]
        },
        {
          "name": "stderr",
          "output_type": "stream",
          "text": [
            "\r",
            " 99%|\u2588\u2588\u2588\u2588\u2588\u2588\u2588\u2588\u2588\u2589| 297/300 [00:25<00:00, 42.96it/s, loss=0.000000]"
          ]
        },
        {
          "name": "stderr",
          "output_type": "stream",
          "text": [
            "\r",
            " 99%|\u2588\u2588\u2588\u2588\u2588\u2588\u2588\u2588\u2588\u2589| 297/300 [00:25<00:00, 42.96it/s, loss=0.000000]"
          ]
        },
        {
          "name": "stderr",
          "output_type": "stream",
          "text": [
            "\r",
            " 99%|\u2588\u2588\u2588\u2588\u2588\u2588\u2588\u2588\u2588\u2589| 297/300 [00:25<00:00, 42.96it/s, loss=0.000000]"
          ]
        },
        {
          "name": "stderr",
          "output_type": "stream",
          "text": [
            "\r",
            " 99%|\u2588\u2588\u2588\u2588\u2588\u2588\u2588\u2588\u2588\u2589| 297/300 [00:25<00:00, 42.96it/s, loss=0.000000]"
          ]
        },
        {
          "name": "stderr",
          "output_type": "stream",
          "text": [
            "\r",
            "100%|\u2588\u2588\u2588\u2588\u2588\u2588\u2588\u2588\u2588\u2588| 300/300 [00:25<00:00, 11.63it/s, loss=0.000000]"
          ]
        },
        {
          "name": "stderr",
          "output_type": "stream",
          "text": [
            "\n"
          ]
        }
      ],
      "source": [
        "range_ = tqdm.trange(300)\n",
        "for step in range_:\n",
        "    lossvalue, optim_state = train_step(step, optim_state)\n",
        "    range_.set_postfix(loss=f\"{lossvalue:.6f}\")"
      ]
    },
    {
      "cell_type": "code",
      "execution_count": 21,
      "id": "eb9a1e20",
      "metadata": {
        "execution": {
          "iopub.execute_input": "2022-08-04T16:15:19.275260Z",
          "iopub.status.busy": "2022-08-04T16:15:19.274323Z",
          "iopub.status.idle": "2022-08-04T16:15:19.276982Z",
          "shell.execute_reply": "2022-08-04T16:15:19.277375Z"
        },
        "papermill": {
          "duration": 0.13608,
          "end_time": "2022-08-04T16:15:19.277519",
          "exception": false,
          "start_time": "2022-08-04T16:15:19.141439",
          "status": "completed"
        },
        "tags": []
      },
      "outputs": [
        {
          "data": {
            "text/plain": [
              "9.9359"
            ]
          },
          "execution_count": 21,
          "metadata": {},
          "output_type": "execute_result"
        }
      ],
      "source": [
        "delta_length = optim_params(optim_state)\n",
        "delta_length"
      ]
    },
    {
      "cell_type": "markdown",
      "id": "15d8754b",
      "metadata": {
        "papermill": {
          "duration": 0.128822,
          "end_time": "2022-08-04T16:15:19.533846",
          "exception": false,
          "start_time": "2022-08-04T16:15:19.405024",
          "status": "completed"
        },
        "tags": []
      },
      "source": [
        "Let's see what we've got over a range of wavelengths:"
      ]
    },
    {
      "cell_type": "code",
      "execution_count": 22,
      "id": "b36d10a3",
      "metadata": {
        "execution": {
          "iopub.execute_input": "2022-08-04T16:15:19.795318Z",
          "iopub.status.busy": "2022-08-04T16:15:19.794726Z",
          "iopub.status.idle": "2022-08-04T16:15:19.927368Z",
          "shell.execute_reply": "2022-08-04T16:15:19.927862Z"
        },
        "papermill": {
          "duration": 0.26635,
          "end_time": "2022-08-04T16:15:19.928015",
          "exception": false,
          "start_time": "2022-08-04T16:15:19.661665",
          "status": "completed"
        },
        "tags": []
      },
      "outputs": [
        {
          "data": {
            "image/png": "[encoded data removed]",
            "text/plain": [
              "<Figure size 432x288 with 1 Axes>"
            ]
          },
          "metadata": {
            "needs_background": "light"
          },
          "output_type": "display_data"
        }
      ],
      "source": [
        "S = mzi(wl=wl, top={\"length\": 15.0 + delta_length}, btm={\"length\": 15.0})\n",
        "plt.plot(wl * 1e3, abs(S[\"in1\", \"out1\"]) ** 2)\n",
        "plt.xlabel(\"\u03bb [nm]\")\n",
        "plt.ylabel(\"T\")\n",
        "plt.ylim(-0.05, 1.05)\n",
        "plt.plot([1550, 1550], [0, 1])\n",
        "plt.show()"
      ]
    },
    {
      "cell_type": "markdown",
      "id": "a990da96",
      "metadata": {
        "papermill": {
          "duration": 0.12632,
          "end_time": "2022-08-04T16:15:20.183488",
          "exception": false,
          "start_time": "2022-08-04T16:15:20.057168",
          "status": "completed"
        },
        "tags": []
      },
      "source": [
        "The minimum of the MZI is perfectly located at 1550nm."
      ]
    },
    {
      "cell_type": "markdown",
      "id": "7d93aa85",
      "metadata": {
        "papermill": {
          "duration": 0.12659,
          "end_time": "2022-08-04T16:15:20.437478",
          "exception": false,
          "start_time": "2022-08-04T16:15:20.310888",
          "status": "completed"
        },
        "tags": []
      },
      "source": [
        "## MZI Chain"
      ]
    },
    {
      "cell_type": "markdown",
      "id": "9c312e13",
      "metadata": {
        "papermill": {
          "duration": 0.126637,
          "end_time": "2022-08-04T16:15:20.692776",
          "exception": false,
          "start_time": "2022-08-04T16:15:20.566139",
          "status": "completed"
        },
        "tags": []
      },
      "source": [
        "Let's now create a chain of MZIs. For this, we first create a subcomponent: a directional coupler with arms:\n",
        "\n",
        "\n",
        "```\n",
        "                                 top\n",
        "                            in0 ----- out0 -> out1\n",
        "    in1 <- in1        out1                 \n",
        "              \\  dc  /                  \n",
        "               ======                  \n",
        "              /      \\                \n",
        "    in0 <- in0        out0       btm    \n",
        "                            in0 ----- out0 -> out0\n",
        "```"
      ]
    },
    {
      "cell_type": "code",
      "execution_count": 23,
      "id": "1ebe80c2",
      "metadata": {
        "execution": {
          "iopub.execute_input": "2022-08-04T16:15:20.954676Z",
          "iopub.status.busy": "2022-08-04T16:15:20.954122Z",
          "iopub.status.idle": "2022-08-04T16:15:20.960684Z",
          "shell.execute_reply": "2022-08-04T16:15:20.960267Z"
        },
        "papermill": {
          "duration": 0.141769,
          "end_time": "2022-08-04T16:15:20.960807",
          "exception": false,
          "start_time": "2022-08-04T16:15:20.819038",
          "status": "completed"
        },
        "tags": []
      },
      "outputs": [],
      "source": [
        "dc_with_arms = sax.circuit(\n",
        "    instances={\n",
        "        \"lft\": coupler,\n",
        "        \"top\": waveguide,\n",
        "        \"btm\": waveguide,\n",
        "    },\n",
        "    connections={\n",
        "        \"lft,out0\": \"btm,in0\",\n",
        "        \"lft,out1\": \"top,in0\",\n",
        "    },\n",
        "    ports={\n",
        "        \"in0\": \"lft,in0\",\n",
        "        \"in1\": \"lft,in1\",\n",
        "        \"out0\": \"btm,out0\",\n",
        "        \"out1\": \"top,out0\",\n",
        "    },\n",
        ")"
      ]
    },
    {
      "cell_type": "markdown",
      "id": "1eda468f",
      "metadata": {
        "papermill": {
          "duration": 0.129145,
          "end_time": "2022-08-04T16:15:21.219093",
          "exception": false,
          "start_time": "2022-08-04T16:15:21.089948",
          "status": "completed"
        },
        "tags": []
      },
      "source": [
        "An MZI chain can now be created by cascading these directional couplers with arms:\n",
        "\n",
        "```\n",
        "      _    _    _    _             _    _  \n",
        "    \\/   \\/   \\/   \\/     ...    \\/   \\/   \n",
        "    /\\_  /\\_  /\\_  /\\_           /\\_  /\\_  \n",
        "```\n",
        "\n",
        "Let's create a *model factory* (`ModelFactory`) for this. In SAX, a *model factory* is any keyword-only function that generates a `Model`:"
      ]
    },
    {
      "cell_type": "code",
      "execution_count": 24,
      "id": "11c4ab07",
      "metadata": {
        "execution": {
          "iopub.execute_input": "2022-08-04T16:15:21.480095Z",
          "iopub.status.busy": "2022-08-04T16:15:21.479565Z",
          "iopub.status.idle": "2022-08-04T16:15:21.482762Z",
          "shell.execute_reply": "2022-08-04T16:15:21.483195Z"
        },
        "papermill": {
          "duration": 0.137252,
          "end_time": "2022-08-04T16:15:21.483345",
          "exception": false,
          "start_time": "2022-08-04T16:15:21.346093",
          "status": "completed"
        },
        "tags": []
      },
      "outputs": [],
      "source": [
        "def mzi_chain(num_mzis=1) -> sax.Model:\n",
        "    chain = sax.circuit(\n",
        "        instances={f\"dc{i}\": dc_with_arms for i in range(num_mzis + 1)},\n",
        "        connections={\n",
        "            **{f\"dc{i},out0\": f\"dc{i+1},in0\" for i in range(num_mzis)},\n",
        "            **{f\"dc{i},out1\": f\"dc{i+1},in1\" for i in range(num_mzis)},\n",
        "        },\n",
        "        ports={\n",
        "            \"in0\": f\"dc0,in0\",\n",
        "            \"in1\": f\"dc0,in1\",\n",
        "            \"out0\": f\"dc{num_mzis},out0\",\n",
        "            \"out1\": f\"dc{num_mzis},out1\",\n",
        "        },\n",
        "    )\n",
        "    return chain"
      ]
    },
    {
      "cell_type": "markdown",
      "id": "03f225e9",
      "metadata": {
        "papermill": {
          "duration": 0.129261,
          "end_time": "2022-08-04T16:15:21.742393",
          "exception": false,
          "start_time": "2022-08-04T16:15:21.613132",
          "status": "completed"
        },
        "tags": []
      },
      "source": [
        "Let's for example create a chain with 15 MZIs. We can also update the settings dictionary as follows:"
      ]
    },
    {
      "cell_type": "code",
      "execution_count": 25,
      "id": "576d4de8",
      "metadata": {
        "execution": {
          "iopub.execute_input": "2022-08-04T16:15:22.029235Z",
          "iopub.status.busy": "2022-08-04T16:15:22.024203Z",
          "iopub.status.idle": "2022-08-04T16:15:22.042678Z",
          "shell.execute_reply": "2022-08-04T16:15:22.042210Z"
        },
        "papermill": {
          "duration": 0.171504,
          "end_time": "2022-08-04T16:15:22.042807",
          "exception": false,
          "start_time": "2022-08-04T16:15:21.871303",
          "status": "completed"
        },
        "tags": []
      },
      "outputs": [],
      "source": [
        "chain = mzi_chain(num_mzis=15)\n",
        "settings = sax.get_settings(chain)\n",
        "for dc in settings:\n",
        "    settings[dc][\"top\"][\"length\"] = 25.0\n",
        "    settings[dc][\"btm\"][\"length\"] = 15.0\n",
        "settings = sax.update_settings(settings, wl=jnp.linspace(1.5, 1.6, 1000))"
      ]
    },
    {
      "cell_type": "markdown",
      "id": "11e3a10f",
      "metadata": {
        "papermill": {
          "duration": 0.129557,
          "end_time": "2022-08-04T16:15:22.300852",
          "exception": false,
          "start_time": "2022-08-04T16:15:22.171295",
          "status": "completed"
        },
        "tags": []
      },
      "source": [
        "We can simulate this:"
      ]
    },
    {
      "cell_type": "code",
      "execution_count": 26,
      "id": "b6e1155a",
      "metadata": {
        "execution": {
          "iopub.execute_input": "2022-08-04T16:15:22.567269Z",
          "iopub.status.busy": "2022-08-04T16:15:22.566045Z",
          "iopub.status.idle": "2022-08-04T16:20:19.581438Z",
          "shell.execute_reply": "2022-08-04T16:20:19.581885Z"
        },
        "papermill": {
          "duration": 297.151699,
          "end_time": "2022-08-04T16:20:19.582053",
          "exception": false,
          "start_time": "2022-08-04T16:15:22.430354",
          "status": "completed"
        },
        "tags": []
      },
      "outputs": [
        {
          "name": "stdout",
          "output_type": "stream",
          "text": [
            "CPU times: user 1.94 s, sys: 0 ns, total: 1.94 s\n",
            "Wall time: 1.94 s\n"
          ]
        },
        {
          "name": "stdout",
          "output_type": "stream",
          "text": [
            "CPU times: user 4min 54s, sys: 844 ms, total: 4min 55s\n",
            "Wall time: 4min 54s\n",
            "CPU times: user 52 ms, sys: 7.98 ms, total: 59.9 ms\n",
            "Wall time: 45.8 ms\n"
          ]
        }
      ],
      "source": [
        "%time S = chain(**settings) # time to evaluate the MZI\n",
        "func = jax.jit(chain)\n",
        "%time S = func(**settings) # time to jit the MZI\n",
        "%time S = func(**settings) # time to evaluate the MZI after jitting"
      ]
    },
    {
      "cell_type": "markdown",
      "id": "70db7179",
      "metadata": {
        "papermill": {
          "duration": 0.128388,
          "end_time": "2022-08-04T16:20:19.839818",
          "exception": false,
          "start_time": "2022-08-04T16:20:19.711430",
          "status": "completed"
        },
        "tags": []
      },
      "source": [
        "Where we see that the unjitted evaluation of the MZI chain takes about a second, while the jitting of the MZI chain takes about two minutes (on a CPU). However, after the MZI chain has been jitted, the evaluation is in the order of about a millisecond!\n",
        "\n",
        "Anyway, let's see what this gives:"
      ]
    },
    {
      "cell_type": "code",
      "execution_count": 27,
      "id": "1e4a2aab",
      "metadata": {
        "execution": {
          "iopub.execute_input": "2022-08-04T16:20:20.101899Z",
          "iopub.status.busy": "2022-08-04T16:20:20.101344Z",
          "iopub.status.idle": "2022-08-04T16:20:20.268634Z",
          "shell.execute_reply": "2022-08-04T16:20:20.268175Z"
        },
        "papermill": {
          "duration": 0.301531,
          "end_time": "2022-08-04T16:20:20.268755",
          "exception": false,
          "start_time": "2022-08-04T16:20:19.967224",
          "status": "completed"
        },
        "tags": []
      },
      "outputs": [
        {
          "data": {
            "image/png": "[encoded data removed]",
            "text/plain": [
              "<Figure size 432x288 with 1 Axes>"
            ]
          },
          "metadata": {
            "needs_background": "light"
          },
          "output_type": "display_data"
        }
      ],
      "source": [
        "plt.plot(1e3 * settings[\"dc0\"][\"top\"][\"wl\"], jnp.abs(S[\"in0\", \"out0\"]) ** 2)\n",
        "plt.ylim(-0.05, 1.05)\n",
        "plt.xlabel(\"\u03bb [nm]\")\n",
        "plt.ylabel(\"T\")\n",
        "plt.ylim(-0.05, 1.05)\n",
        "plt.show()"
      ]
    }
  ],
  "metadata": {
    "kernelspec": {
      "display_name": "sax",
      "language": "python",
      "name": "sax"
    },
    "language_info": {
      "codemirror_mode": {
        "name": "ipython",
        "version": 3
      },
      "file_extension": ".py",
      "mimetype": "text/x-python",
      "name": "python",
      "nbconvert_exporter": "python",
      "pygments_lexer": "ipython3",
      "version": "3.9.0"
    },
    "papermill": {
      "default_parameters": {},
      "duration": 352.679157,
      "end_time": "2022-08-04T16:20:23.712005",
      "environment_variables": {},
      "exception": null,
      "input_path": "./examples/01_quick_start.ipynb",
      "output_path": "./examples/01_quick_start.ipynb",
      "parameters": {},
      "start_time": "2022-08-04T16:14:31.032848",
      "version": "2.3.4"
    }
  },
  "nbformat": 4,
  "nbformat_minor": 5
}