{
  "cells": [
    {
      "cell_type": "markdown",
      "id": "6f097557",
      "metadata": {
        "papermill": {
          "duration": 0.006493,
          "end_time": "2022-08-04T16:20:25.965617",
          "exception": false,
          "start_time": "2022-08-04T16:20:25.959124",
          "status": "completed"
        },
        "tags": []
      },
      "source": [
        "# Additive Backend"
      ]
    },
    {
      "cell_type": "markdown",
      "id": "56868383",
      "metadata": {
        "papermill": {
          "duration": 0.004694,
          "end_time": "2022-08-04T16:20:25.975813",
          "exception": false,
          "start_time": "2022-08-04T16:20:25.971119",
          "status": "completed"
        },
        "tags": []
      },
      "source": [
        "> The additive backend can be used to obtain pathlengths and group delays."
      ]
    },
    {
      "cell_type": "code",
      "execution_count": 1,
      "id": "79c98bc0",
      "metadata": {
        "execution": {
          "iopub.execute_input": "2022-08-04T16:20:25.995133Z",
          "iopub.status.busy": "2022-08-04T16:20:25.994593Z",
          "iopub.status.idle": "2022-08-04T16:20:27.546955Z",
          "shell.execute_reply": "2022-08-04T16:20:27.546266Z"
        },
        "papermill": {
          "duration": 1.566502,
          "end_time": "2022-08-04T16:20:27.547139",
          "exception": false,
          "start_time": "2022-08-04T16:20:25.980637",
          "status": "completed"
        },
        "tags": []
      },
      "outputs": [],
      "source": [
        "from functools import partial\n",
        "\n",
        "import jax\n",
        "import jax.example_libraries.optimizers as opt\n",
        "import jax.numpy as jnp\n",
        "import matplotlib.pyplot as plt  # plotting\n",
        "import sax\n",
        "import tqdm  # progress bars"
      ]
    },
    {
      "cell_type": "markdown",
      "id": "6a42b9d9",
      "metadata": {
        "papermill": {
          "duration": 0.005591,
          "end_time": "2022-08-04T16:20:27.559424",
          "exception": false,
          "start_time": "2022-08-04T16:20:27.553833",
          "status": "completed"
        },
        "tags": []
      },
      "source": [
        "## Parametrized Models"
      ]
    },
    {
      "cell_type": "code",
      "execution_count": 2,
      "id": "79e7e40e",
      "metadata": {
        "execution": {
          "iopub.execute_input": "2022-08-04T16:20:27.574212Z",
          "iopub.status.busy": "2022-08-04T16:20:27.573699Z",
          "iopub.status.idle": "2022-08-04T16:20:27.577190Z",
          "shell.execute_reply": "2022-08-04T16:20:27.576764Z"
        },
        "papermill": {
          "duration": 0.012791,
          "end_time": "2022-08-04T16:20:27.577300",
          "exception": false,
          "start_time": "2022-08-04T16:20:27.564509",
          "status": "completed"
        },
        "tags": []
      },
      "outputs": [],
      "source": [
        "def coupler(length=50.0) -> sax.SDict:\n",
        "    sdict =  {\n",
        "        (\"in0\", \"out0\"): length,\n",
        "        (\"in0\", \"out1\"): length,\n",
        "        (\"in1\", \"out0\"): length,\n",
        "        (\"in1\", \"out1\"): length,\n",
        "    }\n",
        "    return sax.reciprocal(sdict)"
      ]
    },
    {
      "cell_type": "code",
      "execution_count": 3,
      "id": "3248838c",
      "metadata": {
        "execution": {
          "iopub.execute_input": "2022-08-04T16:20:27.591505Z",
          "iopub.status.busy": "2022-08-04T16:20:27.589846Z",
          "iopub.status.idle": "2022-08-04T16:20:27.593314Z",
          "shell.execute_reply": "2022-08-04T16:20:27.593680Z"
        },
        "papermill": {
          "duration": 0.011347,
          "end_time": "2022-08-04T16:20:27.593813",
          "exception": false,
          "start_time": "2022-08-04T16:20:27.582466",
          "status": "completed"
        },
        "tags": []
      },
      "outputs": [],
      "source": [
        "def waveguide(length=100.0) -> sax.SDict:\n",
        "    sdict = {\n",
        "        (\"in0\", \"out0\"): length,\n",
        "    }\n",
        "    return sax.reciprocal(sdict)"
      ]
    },
    {
      "cell_type": "markdown",
      "id": "d650fb8d",
      "metadata": {
        "papermill": {
          "duration": 0.005218,
          "end_time": "2022-08-04T16:20:27.604279",
          "exception": false,
          "start_time": "2022-08-04T16:20:27.599061",
          "status": "completed"
        },
        "tags": []
      },
      "source": [
        "## Circuit with additive backend"
      ]
    },
    {
      "cell_type": "code",
      "execution_count": 4,
      "id": "56e035d0",
      "metadata": {
        "execution": {
          "iopub.execute_input": "2022-08-04T16:20:27.622250Z",
          "iopub.status.busy": "2022-08-04T16:20:27.621716Z",
          "iopub.status.idle": "2022-08-04T16:20:27.633931Z",
          "shell.execute_reply": "2022-08-04T16:20:27.634319Z"
        },
        "papermill": {
          "duration": 0.024968,
          "end_time": "2022-08-04T16:20:27.634463",
          "exception": false,
          "start_time": "2022-08-04T16:20:27.609495",
          "status": "completed"
        },
        "tags": []
      },
      "outputs": [
        {
          "name": "stderr",
          "output_type": "stream",
          "text": [
            "WARNING:absl:No GPU/TPU found, falling back to CPU. (Set TF_CPP_MIN_LOG_LEVEL=0 and rerun for more info.)\n"
          ]
        }
      ],
      "source": [
        "mzi = sax.circuit(\n",
        "    instances={\n",
        "        \"lft\": coupler,\n",
        "        \"top\": partial(waveguide, length=500),\n",
        "        \"btm\": partial(waveguide, length=100),\n",
        "        \"rgt\": coupler,\n",
        "    },\n",
        "    connections={\n",
        "        \"lft,out0\": \"btm,in0\",\n",
        "        \"btm,out0\": \"rgt,in0\",\n",
        "        \"lft,out1\": \"top,in0\",\n",
        "        \"top,out0\": \"rgt,in1\",\n",
        "    },\n",
        "    ports={\n",
        "        \"in0\": \"lft,in0\",\n",
        "        \"in1\": \"lft,in1\",\n",
        "        \"out0\": \"rgt,out0\",\n",
        "        \"out1\": \"rgt,out1\",\n",
        "    },\n",
        "    backend=\"additive\"\n",
        ")"
      ]
    },
    {
      "cell_type": "code",
      "execution_count": 5,
      "id": "c1f245fd",
      "metadata": {
        "execution": {
          "iopub.execute_input": "2022-08-04T16:20:27.657335Z",
          "iopub.status.busy": "2022-08-04T16:20:27.648711Z",
          "iopub.status.idle": "2022-08-04T16:20:27.793597Z",
          "shell.execute_reply": "2022-08-04T16:20:27.793195Z"
        },
        "papermill": {
          "duration": 0.153289,
          "end_time": "2022-08-04T16:20:27.793715",
          "exception": false,
          "start_time": "2022-08-04T16:20:27.640426",
          "status": "completed"
        },
        "tags": []
      },
      "outputs": [
        {
          "data": {
            "text/plain": [
              "{('in0', 'out0'): [array([200.]), array([600.])],\n",
              " ('in0', 'out1'): [array([200.]), array([600.])],\n",
              " ('in1', 'out0'): [array([200.]), array([600.])],\n",
              " ('in1', 'out1'): [array([200.]), array([600.])],\n",
              " ('out0', 'in0'): [array([200.]), array([600.])],\n",
              " ('out0', 'in1'): [array([200.]), array([600.])],\n",
              " ('out1', 'in0'): [array([200.]), array([600.])],\n",
              " ('out1', 'in1'): [array([200.]), array([600.])]}"
            ]
          },
          "execution_count": 5,
          "metadata": {},
          "output_type": "execute_result"
        }
      ],
      "source": [
        "mzi()"
      ]
    }
  ],
  "metadata": {
    "kernelspec": {
      "display_name": "sax",
      "language": "python",
      "name": "sax"
    },
    "language_info": {
      "codemirror_mode": {
        "name": "ipython",
        "version": 3
      },
      "file_extension": ".py",
      "mimetype": "text/x-python",
      "name": "python",
      "nbconvert_exporter": "python",
      "pygments_lexer": "ipython3",
      "version": "3.9.0"
    },
    "papermill": {
      "default_parameters": {},
      "duration": 6.43786,
      "end_time": "2022-08-04T16:20:30.889586",
      "environment_variables": {},
      "exception": null,
      "input_path": "./examples/06_additive_backend.ipynb",
      "output_path": "./examples/06_additive_backend.ipynb",
      "parameters": {},
      "start_time": "2022-08-04T16:20:24.451726",
      "version": "2.3.4"
    }
  },
  "nbformat": 4,
  "nbformat_minor": 5
}