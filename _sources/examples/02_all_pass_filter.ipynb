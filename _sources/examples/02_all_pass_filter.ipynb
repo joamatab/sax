{
  "cells": [
    {
      "cell_type": "markdown",
      "id": "a234aed9",
      "metadata": {
        "papermill": {
          "duration": 0.008192,
          "end_time": "2022-08-04T16:22:01.785871",
          "exception": false,
          "start_time": "2022-08-04T16:22:01.777679",
          "status": "completed"
        },
        "tags": []
      },
      "source": [
        "# Simulating an All-Pass Filter\n",
        "> A simple comparison between an analytical evaluation of an all pass filter and using SAX."
      ]
    },
    {
      "cell_type": "code",
      "execution_count": 1,
      "id": "f8a6a944",
      "metadata": {
        "execution": {
          "iopub.execute_input": "2022-08-04T16:22:01.808372Z",
          "iopub.status.busy": "2022-08-04T16:22:01.803765Z",
          "iopub.status.idle": "2022-08-04T16:22:03.361670Z",
          "shell.execute_reply": "2022-08-04T16:22:03.360637Z"
        },
        "papermill": {
          "duration": 1.569151,
          "end_time": "2022-08-04T16:22:03.361833",
          "exception": false,
          "start_time": "2022-08-04T16:22:01.792682",
          "status": "completed"
        },
        "tags": []
      },
      "outputs": [],
      "source": [
        "import jax\n",
        "import jax.example_libraries.optimizers as opt\n",
        "import jax.numpy as jnp\n",
        "import matplotlib.pyplot as plt\n",
        "import sax\n",
        "import tqdm"
      ]
    },
    {
      "cell_type": "markdown",
      "id": "d9d87eef",
      "metadata": {
        "papermill": {
          "duration": 0.006488,
          "end_time": "2022-08-04T16:22:03.375546",
          "exception": false,
          "start_time": "2022-08-04T16:22:03.369058",
          "status": "completed"
        },
        "tags": []
      },
      "source": [
        "## Schematic\n",
        "```\n",
        "\n",
        "           in0---out0\n",
        "        in1          out1\n",
        "           \\        /\n",
        "            ========\n",
        "           /        \\\n",
        " in0 <- in0          out0 -> out0\n",
        "```"
      ]
    },
    {
      "cell_type": "markdown",
      "id": "3847a061",
      "metadata": {
        "papermill": {
          "duration": 0.006349,
          "end_time": "2022-08-04T16:22:03.388224",
          "exception": false,
          "start_time": "2022-08-04T16:22:03.381875",
          "status": "completed"
        },
        "tags": []
      },
      "source": [
        "## Simulation & Design Parameters"
      ]
    },
    {
      "cell_type": "code",
      "execution_count": 2,
      "id": "03d546d8",
      "metadata": {
        "execution": {
          "iopub.execute_input": "2022-08-04T16:22:03.406311Z",
          "iopub.status.busy": "2022-08-04T16:22:03.405766Z",
          "iopub.status.idle": "2022-08-04T16:22:03.458071Z",
          "shell.execute_reply": "2022-08-04T16:22:03.458482Z"
        },
        "papermill": {
          "duration": 0.064014,
          "end_time": "2022-08-04T16:22:03.458651",
          "exception": false,
          "start_time": "2022-08-04T16:22:03.394637",
          "status": "completed"
        },
        "tags": []
      },
      "outputs": [
        {
          "name": "stderr",
          "output_type": "stream",
          "text": [
            "WARNING:absl:No GPU/TPU found, falling back to CPU. (Set TF_CPP_MIN_LOG_LEVEL=0 and rerun for more info.)\n"
          ]
        }
      ],
      "source": [
        "loss = 0.1  # [dB/\u03bcm] (alpha) waveguide loss\n",
        "neff = 2.34  # Effective index of the waveguides\n",
        "ng = 3.4  # Group index of the waveguides\n",
        "wl0 = 1.55  # [\u03bcm] the wavelength at which neff and ng are defined\n",
        "ring_length = 10.0  # [\u03bcm] Length of the ring\n",
        "coupling = 0.5  # [] coupling of the coupler\n",
        "wl = jnp.linspace(1.5, 1.6, 1000)  # [\u03bcm] Wavelengths to sweep over"
      ]
    },
    {
      "cell_type": "markdown",
      "id": "8c463584",
      "metadata": {
        "papermill": {
          "duration": 0.007201,
          "end_time": "2022-08-04T16:22:03.473497",
          "exception": false,
          "start_time": "2022-08-04T16:22:03.466296",
          "status": "completed"
        },
        "tags": []
      },
      "source": [
        "## Frequency Domain Analytically"
      ]
    },
    {
      "cell_type": "markdown",
      "id": "9e171871",
      "metadata": {
        "papermill": {
          "duration": 0.008026,
          "end_time": "2022-08-04T16:22:03.488790",
          "exception": false,
          "start_time": "2022-08-04T16:22:03.480764",
          "status": "completed"
        },
        "tags": []
      },
      "source": [
        "As a comparison, we first calculate the frequency domain response for the all-pass filter analytically:\n",
        "\\begin{align*}\n",
        "o = \\frac{t-10^{-\\alpha L/20}\\exp(2\\pi j n_{\\rm eff}(\\lambda) L / \\lambda)}{1-t10^{-\\alpha L/20}\\exp(2\\pi j n_{\\rm eff}(\\lambda) L / \\lambda)}s\n",
        "\\end{align*}"
      ]
    },
    {
      "cell_type": "code",
      "execution_count": 3,
      "id": "48031239",
      "metadata": {
        "execution": {
          "iopub.execute_input": "2022-08-04T16:22:03.509497Z",
          "iopub.status.busy": "2022-08-04T16:22:03.508962Z",
          "iopub.status.idle": "2022-08-04T16:22:03.510963Z",
          "shell.execute_reply": "2022-08-04T16:22:03.511448Z"
        },
        "papermill": {
          "duration": 0.015761,
          "end_time": "2022-08-04T16:22:03.511583",
          "exception": false,
          "start_time": "2022-08-04T16:22:03.495822",
          "status": "completed"
        },
        "tags": []
      },
      "outputs": [],
      "source": [
        "def all_pass_analytical():\n",
        "    \"\"\" Analytic Frequency Domain Response of an all pass filter \"\"\"\n",
        "    detected = jnp.zeros_like(wl)\n",
        "    transmission = 1 - coupling\n",
        "    neff_wl = neff + (wl0 - wl) * (ng - neff) / wl0  # we expect a linear behavior with respect to wavelength\n",
        "    out = jnp.sqrt(transmission) - 10 ** (-loss * ring_length / 20.0) * jnp.exp(2j * jnp.pi * neff_wl * ring_length / wl)\n",
        "    out /= 1 - jnp.sqrt(transmission) * 10 ** (-loss * ring_length / 20.0) * jnp.exp(2j * jnp.pi * neff_wl * ring_length / wl)\n",
        "    detected = abs(out) ** 2\n",
        "    return detected"
      ]
    },
    {
      "cell_type": "code",
      "execution_count": 4,
      "id": "cb39b703",
      "metadata": {
        "execution": {
          "iopub.execute_input": "2022-08-04T16:22:03.538538Z",
          "iopub.status.busy": "2022-08-04T16:22:03.537986Z",
          "iopub.status.idle": "2022-08-04T16:22:04.528302Z",
          "shell.execute_reply": "2022-08-04T16:22:04.528709Z"
        },
        "papermill": {
          "duration": 1.010278,
          "end_time": "2022-08-04T16:22:04.528864",
          "exception": false,
          "start_time": "2022-08-04T16:22:03.518586",
          "status": "completed"
        },
        "tags": []
      },
      "outputs": [
        {
          "name": "stdout",
          "output_type": "stream",
          "text": [
            "CPU times: user 351 ms, sys: 302 \u00b5s, total: 351 ms\n",
            "Wall time: 349 ms\n",
            "CPU times: user 65.8 ms, sys: 0 ns, total: 65.8 ms\n",
            "Wall time: 65 ms\n",
            "CPU times: user 652 \u00b5s, sys: 0 ns, total: 652 \u00b5s\n",
            "Wall time: 468 \u00b5s\n"
          ]
        },
        {
          "data": {
            "image/png": "[encoded data removed]",
            "text/plain": [
              "<Figure size 432x288 with 1 Axes>"
            ]
          },
          "metadata": {
            "needs_background": "light"
          },
          "output_type": "display_data"
        }
      ],
      "source": [
        "%time detected = all_pass_analytical() # non-jitted evaluation time\n",
        "all_pass_analytical_jitted = jax.jit(all_pass_analytical)\n",
        "%time detected = all_pass_analytical_jitted() # time to jit\n",
        "%time detected = all_pass_analytical_jitted() # evaluation time after jitting\n",
        "\n",
        "plt.plot(wl * 1e3, detected)\n",
        "plt.xlabel(\"\u03bb [nm]\")\n",
        "plt.ylabel(\"T\")\n",
        "plt.show()"
      ]
    },
    {
      "cell_type": "markdown",
      "id": "11219941",
      "metadata": {
        "papermill": {
          "duration": 0.008389,
          "end_time": "2022-08-04T16:22:04.547187",
          "exception": false,
          "start_time": "2022-08-04T16:22:04.538798",
          "status": "completed"
        },
        "tags": []
      },
      "source": [
        "## Scatter Dictionaries"
      ]
    },
    {
      "cell_type": "code",
      "execution_count": 5,
      "id": "5957b3f3",
      "metadata": {
        "execution": {
          "iopub.execute_input": "2022-08-04T16:22:04.571746Z",
          "iopub.status.busy": "2022-08-04T16:22:04.571213Z",
          "iopub.status.idle": "2022-08-04T16:22:04.576335Z",
          "shell.execute_reply": "2022-08-04T16:22:04.575923Z"
        },
        "papermill": {
          "duration": 0.021019,
          "end_time": "2022-08-04T16:22:04.576453",
          "exception": false,
          "start_time": "2022-08-04T16:22:04.555434",
          "status": "completed"
        },
        "tags": []
      },
      "outputs": [],
      "source": [
        "all_pass_sax = sax.circuit(\n",
        "    instances={\n",
        "        \"dc\": sax.partial(sax.models.coupler, coupling=coupling),\n",
        "        \"top\": sax.partial(sax.models.straight, length=ring_length, loss=loss, neff=neff, ng=ng, wl0=wl0, wl=wl),\n",
        "    },\n",
        "    connections={\n",
        "        \"dc,out1\": \"top,in0\",\n",
        "        \"top,out0\": \"dc,in1\",\n",
        "    },\n",
        "    ports={\n",
        "        \"in0\": \"dc,in0\",\n",
        "        \"out0\": \"dc,out0\",\n",
        "    },\n",
        ")"
      ]
    },
    {
      "cell_type": "code",
      "execution_count": 6,
      "id": "1702182a",
      "metadata": {
        "execution": {
          "iopub.execute_input": "2022-08-04T16:22:04.608525Z",
          "iopub.status.busy": "2022-08-04T16:22:04.607994Z",
          "iopub.status.idle": "2022-08-04T16:22:07.058179Z",
          "shell.execute_reply": "2022-08-04T16:22:07.058567Z"
        },
        "papermill": {
          "duration": 2.473803,
          "end_time": "2022-08-04T16:22:07.058723",
          "exception": false,
          "start_time": "2022-08-04T16:22:04.584920",
          "status": "completed"
        },
        "tags": []
      },
      "outputs": [
        {
          "name": "stderr",
          "output_type": "stream",
          "text": [
            "/opt/conda/lib/python3.9/site-packages/jax/_src/numpy/lax_numpy.py:3658: UserWarning: Explicitly requested dtype <class 'complex'> requested in asarray is not available, and will be truncated to dtype complex64. To enable more dtypes, set the jax_enable_x64 configuration option or the JAX_ENABLE_X64 shell environment variable. See https://github.com/google/jax#current-gotchas for more.\n",
            "  lax._check_user_dtype_supported(dtype, \"asarray\")\n"
          ]
        },
        {
          "name": "stdout",
          "output_type": "stream",
          "text": [
            "CPU times: user 2.32 s, sys: 12 ms, total: 2.33 s\n",
            "Wall time: 2.33 s\n",
            "CPU times: user 767 \u00b5s, sys: 0 ns, total: 767 \u00b5s\n",
            "Wall time: 565 \u00b5s\n",
            "CPU times: user 311 \u00b5s, sys: 0 ns, total: 311 \u00b5s\n",
            "Wall time: 200 \u00b5s\n"
          ]
        },
        {
          "data": {
            "image/png": "[encoded data removed]",
            "text/plain": [
              "<Figure size 432x288 with 1 Axes>"
            ]
          },
          "metadata": {
            "needs_background": "light"
          },
          "output_type": "display_data"
        }
      ],
      "source": [
        "%time detected_sax = all_pass_sax() # non-jitted evaluation time\n",
        "all_pass_sax_jitted = jax.jit(all_pass_analytical)\n",
        "%time detected_sax = all_pass_sax_jitted() # time to jit\n",
        "%time detected_sax = all_pass_sax_jitted() # time after jitting\n",
        "\n",
        "plt.plot(wl * 1e3, detected, label=\"analytical\")\n",
        "plt.plot(wl * 1e3, detected_sax, label=\"sax\", ls=\"--\", lw=3)\n",
        "plt.xlabel(\"\u03bb [nm]\")\n",
        "plt.ylabel(\"T\")\n",
        "plt.show()"
      ]
    }
  ],
  "metadata": {
    "kernelspec": {
      "display_name": "sax",
      "language": "python",
      "name": "sax"
    },
    "language_info": {
      "codemirror_mode": {
        "name": "ipython",
        "version": 3
      },
      "file_extension": ".py",
      "mimetype": "text/x-python",
      "name": "python",
      "nbconvert_exporter": "python",
      "pygments_lexer": "ipython3",
      "version": "3.9.0"
    },
    "papermill": {
      "default_parameters": {},
      "duration": 9.436454,
      "end_time": "2022-08-04T16:22:09.826859",
      "environment_variables": {},
      "exception": null,
      "input_path": "./examples/02_all_pass_filter.ipynb",
      "output_path": "./examples/02_all_pass_filter.ipynb",
      "parameters": {},
      "start_time": "2022-08-04T16:22:00.390405",
      "version": "2.3.4"
    }
  },
  "nbformat": 4,
  "nbformat_minor": 5
}