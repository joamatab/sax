{
  "cells": [
    {
      "cell_type": "markdown",
      "id": "textile-panel",
      "metadata": {
        "papermill": {
          "duration": 0.013202,
          "end_time": "2022-08-04T16:21:50.912668",
          "exception": false,
          "start_time": "2022-08-04T16:21:50.899466",
          "status": "completed"
        },
        "tags": []
      },
      "source": [
        "# Multimode simulations\n",
        "> SAX can handle multiple modes too!"
      ]
    },
    {
      "cell_type": "code",
      "execution_count": 1,
      "id": "prescribed-plant",
      "metadata": {
        "execution": {
          "iopub.execute_input": "2022-08-04T16:21:50.943822Z",
          "iopub.status.busy": "2022-08-04T16:21:50.943280Z",
          "iopub.status.idle": "2022-08-04T16:21:51.794257Z",
          "shell.execute_reply": "2022-08-04T16:21:51.793623Z"
        },
        "papermill": {
          "duration": 0.870175,
          "end_time": "2022-08-04T16:21:51.794422",
          "exception": false,
          "start_time": "2022-08-04T16:21:50.924247",
          "status": "completed"
        },
        "tags": []
      },
      "outputs": [],
      "source": [
        "from itertools import combinations_with_replacement, product\n",
        "\n",
        "import jax\n",
        "import jax.numpy as jnp\n",
        "import sax"
      ]
    },
    {
      "cell_type": "markdown",
      "id": "requested-calvin",
      "metadata": {
        "papermill": {
          "duration": 0.009231,
          "end_time": "2022-08-04T16:21:51.813577",
          "exception": false,
          "start_time": "2022-08-04T16:21:51.804346",
          "status": "completed"
        },
        "tags": []
      },
      "source": [
        "## Ports and modes per port"
      ]
    },
    {
      "cell_type": "markdown",
      "id": "grateful-programming",
      "metadata": {
        "papermill": {
          "duration": 0.008796,
          "end_time": "2022-08-04T16:21:51.831463",
          "exception": false,
          "start_time": "2022-08-04T16:21:51.822667",
          "status": "completed"
        },
        "tags": []
      },
      "source": [
        "Let's denote a combination of a port and a mode by a string of the following format: `\"{port}@{mode}\"`. We can obtain all possible port-mode combinations with some magic itertools functions:"
      ]
    },
    {
      "cell_type": "code",
      "execution_count": 2,
      "id": "going-entity",
      "metadata": {
        "execution": {
          "iopub.execute_input": "2022-08-04T16:21:51.860845Z",
          "iopub.status.busy": "2022-08-04T16:21:51.857000Z",
          "iopub.status.idle": "2022-08-04T16:21:51.863227Z",
          "shell.execute_reply": "2022-08-04T16:21:51.863631Z"
        },
        "papermill": {
          "duration": 0.023344,
          "end_time": "2022-08-04T16:21:51.863768",
          "exception": false,
          "start_time": "2022-08-04T16:21:51.840424",
          "status": "completed"
        },
        "tags": []
      },
      "outputs": [
        {
          "data": {
            "text/plain": [
              "[('in0@te', 'in0@te'),\n",
              " ('in0@te', 'in0@tm'),\n",
              " ('in0@te', 'out0@te'),\n",
              " ('in0@te', 'out0@tm'),\n",
              " ('in0@tm', 'in0@tm'),\n",
              " ('in0@tm', 'out0@te'),\n",
              " ('in0@tm', 'out0@tm'),\n",
              " ('out0@te', 'out0@te'),\n",
              " ('out0@te', 'out0@tm'),\n",
              " ('out0@tm', 'out0@tm')]"
            ]
          },
          "execution_count": 2,
          "metadata": {},
          "output_type": "execute_result"
        }
      ],
      "source": [
        "\n",
        "ports = [\"in0\", \"out0\"]\n",
        "modes = [\"te\", \"tm\"]\n",
        "portmodes = [\n",
        "    (f\"{p1}@{m1}\", f\"{p2}@{m2}\")\n",
        "    for (p1, m1), (p2, m2) in combinations_with_replacement(product(ports, modes), 2)\n",
        "]\n",
        "portmodes"
      ]
    },
    {
      "cell_type": "markdown",
      "id": "passive-selling",
      "metadata": {
        "papermill": {
          "duration": 0.009381,
          "end_time": "2022-08-04T16:21:51.882640",
          "exception": false,
          "start_time": "2022-08-04T16:21:51.873259",
          "status": "completed"
        },
        "tags": []
      },
      "source": [
        "If we would disregard any backreflection, this can be further simplified:"
      ]
    },
    {
      "cell_type": "code",
      "execution_count": 3,
      "id": "numerical-novel",
      "metadata": {
        "execution": {
          "iopub.execute_input": "2022-08-04T16:21:51.906947Z",
          "iopub.status.busy": "2022-08-04T16:21:51.906395Z",
          "iopub.status.idle": "2022-08-04T16:21:51.909637Z",
          "shell.execute_reply": "2022-08-04T16:21:51.909255Z"
        },
        "papermill": {
          "duration": 0.018016,
          "end_time": "2022-08-04T16:21:51.909744",
          "exception": false,
          "start_time": "2022-08-04T16:21:51.891728",
          "status": "completed"
        },
        "tags": []
      },
      "outputs": [
        {
          "data": {
            "text/plain": [
              "[('in0@te', 'out0@te'),\n",
              " ('in0@te', 'out0@tm'),\n",
              " ('in0@tm', 'out0@te'),\n",
              " ('in0@tm', 'out0@tm')]"
            ]
          },
          "execution_count": 3,
          "metadata": {},
          "output_type": "execute_result"
        }
      ],
      "source": [
        "portmodes_without_backreflection = [\n",
        "    (p1, p2) for p1, p2 in portmodes if p1.split(\"@\")[0] != p2.split(\"@\")[0]\n",
        "]\n",
        "portmodes_without_backreflection"
      ]
    },
    {
      "cell_type": "markdown",
      "id": "hindu-application",
      "metadata": {
        "papermill": {
          "duration": 0.009689,
          "end_time": "2022-08-04T16:21:51.929024",
          "exception": false,
          "start_time": "2022-08-04T16:21:51.919335",
          "status": "completed"
        },
        "tags": []
      },
      "source": [
        "Sometimes cross-polarization terms can also be ignored:"
      ]
    },
    {
      "cell_type": "code",
      "execution_count": 4,
      "id": "encouraging-territory",
      "metadata": {
        "execution": {
          "iopub.execute_input": "2022-08-04T16:21:51.953493Z",
          "iopub.status.busy": "2022-08-04T16:21:51.952991Z",
          "iopub.status.idle": "2022-08-04T16:21:51.955672Z",
          "shell.execute_reply": "2022-08-04T16:21:51.955253Z"
        },
        "papermill": {
          "duration": 0.01727,
          "end_time": "2022-08-04T16:21:51.955781",
          "exception": false,
          "start_time": "2022-08-04T16:21:51.938511",
          "status": "completed"
        },
        "tags": []
      },
      "outputs": [
        {
          "data": {
            "text/plain": [
              "[('in0@te', 'in0@te'),\n",
              " ('in0@te', 'out0@te'),\n",
              " ('in0@tm', 'in0@tm'),\n",
              " ('in0@tm', 'out0@tm'),\n",
              " ('out0@te', 'out0@te'),\n",
              " ('out0@tm', 'out0@tm')]"
            ]
          },
          "execution_count": 4,
          "metadata": {},
          "output_type": "execute_result"
        }
      ],
      "source": [
        "portmodes_without_crosspolarization = [\n",
        "    (p1, p2) for p1, p2 in portmodes if p1.split(\"@\")[1] == p2.split(\"@\")[1]\n",
        "]\n",
        "portmodes_without_crosspolarization"
      ]
    },
    {
      "cell_type": "markdown",
      "id": "mathematical-default",
      "metadata": {
        "papermill": {
          "duration": 0.00961,
          "end_time": "2022-08-04T16:21:51.975314",
          "exception": false,
          "start_time": "2022-08-04T16:21:51.965704",
          "status": "completed"
        },
        "tags": []
      },
      "source": [
        "## Multimode waveguide"
      ]
    },
    {
      "cell_type": "markdown",
      "id": "asian-noise",
      "metadata": {
        "papermill": {
          "duration": 0.009889,
          "end_time": "2022-08-04T16:21:51.995218",
          "exception": false,
          "start_time": "2022-08-04T16:21:51.985329",
          "status": "completed"
        },
        "tags": []
      },
      "source": [
        "Let's create a waveguide with two ports (`\"in\"`, `\"out\"`) and two modes (`\"te\"`, `\"tm\"`) without backreflection. Let's assume there is 5% cross-polarization and that the `\"tm\"`->`\"tm\"` transmission is 10% worse than the `\"te\"`->`\"te\"` transmission. Naturally in more realisic waveguide models these percentages will be length-dependent, but this is just a dummy model serving as an example."
      ]
    },
    {
      "cell_type": "code",
      "execution_count": 5,
      "id": "patient-wealth",
      "metadata": {
        "execution": {
          "iopub.execute_input": "2022-08-04T16:21:52.022662Z",
          "iopub.status.busy": "2022-08-04T16:21:52.022180Z",
          "iopub.status.idle": "2022-08-04T16:21:52.094621Z",
          "shell.execute_reply": "2022-08-04T16:21:52.094219Z"
        },
        "papermill": {
          "duration": 0.089815,
          "end_time": "2022-08-04T16:21:52.094737",
          "exception": false,
          "start_time": "2022-08-04T16:21:52.004922",
          "status": "completed"
        },
        "tags": []
      },
      "outputs": [
        {
          "name": "stderr",
          "output_type": "stream",
          "text": [
            "WARNING:absl:No GPU/TPU found, falling back to CPU. (Set TF_CPP_MIN_LOG_LEVEL=0 and rerun for more info.)\n"
          ]
        },
        {
          "data": {
            "text/plain": [
              "{('in0@te', 'out0@te'): 0.77973+0.5427j,\n",
              " ('in0@te', 'out0@tm'): 0.04104+0.02856j,\n",
              " ('in0@tm', 'out0@tm'): 0.69765+0.48558j,\n",
              " ('in0@tm', 'out0@te'): 0.04104+0.02856j,\n",
              " ('out0@te', 'in0@te'): 0.77973+0.5427j,\n",
              " ('out0@tm', 'in0@te'): 0.04104+0.02856j,\n",
              " ('out0@tm', 'in0@tm'): 0.69765+0.48558j,\n",
              " ('out0@te', 'in0@tm'): 0.04104+0.02856j}"
            ]
          },
          "execution_count": 5,
          "metadata": {},
          "output_type": "execute_result"
        }
      ],
      "source": [
        "def waveguide(wl=1.55, wl0=1.55, neff=2.34, ng=3.4, length=10.0, loss=0.0):\n",
        "    \"\"\"a simple straight waveguide model\n",
        "\n",
        "    Args:\n",
        "        wl: wavelength\n",
        "        neff: waveguide effective index\n",
        "        ng: waveguide group index (used for linear neff dispersion)\n",
        "        wl0: center wavelength at which neff is defined\n",
        "        length: [m] wavelength length\n",
        "        loss: [dB/m] waveguide loss\n",
        "    \"\"\"\n",
        "    dwl = wl - wl0\n",
        "    dneff_dwl = (ng - neff) / wl0\n",
        "    neff = neff - dwl * dneff_dwl\n",
        "    phase = 2 * jnp.pi * neff * length / wl\n",
        "    transmission = 10 ** (-loss * length / 20) * jnp.exp(1j * phase)\n",
        "    sdict = sax.reciprocal(\n",
        "        {\n",
        "            (\"in0@te\", \"out0@te\"): 0.95 * transmission,  # 5% lost to cross-polarization\n",
        "            (\"in0@te\", \"out0@tm\"): 0.05 * transmission,  # 5% cross-polarization\n",
        "            (\"in0@tm\", \"out0@tm\"): 0.85 * transmission,  # 10% worse tm->tm than te->te\n",
        "            (\"in0@tm\", \"out0@te\"): 0.05 * transmission,  # 5% cross-polarization\n",
        "        }\n",
        "    )\n",
        "    return sdict\n",
        "\n",
        "\n",
        "waveguide()"
      ]
    },
    {
      "cell_type": "markdown",
      "id": "accessory-sheep",
      "metadata": {
        "papermill": {
          "duration": 0.01064,
          "end_time": "2022-08-04T16:21:52.116029",
          "exception": false,
          "start_time": "2022-08-04T16:21:52.105389",
          "status": "completed"
        },
        "tags": []
      },
      "source": [
        "## Multimode MZI"
      ]
    },
    {
      "cell_type": "markdown",
      "id": "joint-semiconductor",
      "metadata": {
        "papermill": {
          "duration": 0.010534,
          "end_time": "2022-08-04T16:21:52.137169",
          "exception": false,
          "start_time": "2022-08-04T16:21:52.126635",
          "status": "completed"
        },
        "tags": []
      },
      "source": [
        "We can now combine these models into a circuit in much the same way as before. We just need to add the `modes=` keyword:"
      ]
    },
    {
      "cell_type": "code",
      "execution_count": 6,
      "id": "suffering-judges",
      "metadata": {
        "execution": {
          "iopub.execute_input": "2022-08-04T16:21:52.173148Z",
          "iopub.status.busy": "2022-08-04T16:21:52.172599Z",
          "iopub.status.idle": "2022-08-04T16:21:52.175082Z",
          "shell.execute_reply": "2022-08-04T16:21:52.174669Z"
        },
        "papermill": {
          "duration": 0.027466,
          "end_time": "2022-08-04T16:21:52.175197",
          "exception": false,
          "start_time": "2022-08-04T16:21:52.147731",
          "status": "completed"
        },
        "tags": []
      },
      "outputs": [],
      "source": [
        "mzi = sax.circuit(\n",
        "    instances={\n",
        "        \"lft\": sax.models.coupler,  # single mode models will be automatically converted to multimode models without cross polarization.\n",
        "        \"top\": sax.partial(waveguide, length=25.0),\n",
        "        \"btm\": sax.partial(waveguide, length=15.0),\n",
        "        \"rgt\": sax.models.coupler,  # single mode models will be automatically converted to multimode models without cross polarization.\n",
        "    },\n",
        "    connections={\n",
        "        \"lft,out0\": \"btm,in0\",\n",
        "        \"btm,out0\": \"rgt,in0\",\n",
        "        \"lft,out1\": \"top,in0\",\n",
        "        \"top,out0\": \"rgt,in1\",\n",
        "    },\n",
        "    ports={\n",
        "        \"in0\": \"lft,in0\",\n",
        "        \"in1\": \"lft,in1\",\n",
        "        \"out0\": \"rgt,out0\",\n",
        "        \"out1\": \"rgt,out1\",\n",
        "    },\n",
        "    modes=(\"te\", \"tm\"),\n",
        ")"
      ]
    },
    {
      "cell_type": "code",
      "execution_count": 7,
      "id": "bridal-insider",
      "metadata": {
        "execution": {
          "iopub.execute_input": "2022-08-04T16:21:52.205525Z",
          "iopub.status.busy": "2022-08-04T16:21:52.204479Z",
          "iopub.status.idle": "2022-08-04T16:21:56.311730Z",
          "shell.execute_reply": "2022-08-04T16:21:56.311225Z"
        },
        "papermill": {
          "duration": 4.126131,
          "end_time": "2022-08-04T16:21:56.311873",
          "exception": false,
          "start_time": "2022-08-04T16:21:52.185742",
          "status": "completed"
        },
        "tags": []
      },
      "outputs": [
        {
          "data": {
            "text/plain": [
              "{('in0@te', 'in0@te'): 0j,\n",
              " ('in0@te', 'in0@tm'): 0j,\n",
              " ('in0@te', 'in1@te'): 0j,\n",
              " ('in0@te', 'in1@tm'): 0j,\n",
              " ('in0@tm', 'in0@te'): 0j,\n",
              " ('in0@tm', 'in0@tm'): 0j,\n",
              " ('in0@tm', 'in1@te'): 0j,\n",
              " ('in0@tm', 'in1@tm'): 0j,\n",
              " ('in1@te', 'in0@te'): 0j,\n",
              " ('in1@te', 'in0@tm'): 0j,\n",
              " ('in1@te', 'in1@te'): 0j,\n",
              " ('in1@te', 'in1@tm'): 0j,\n",
              " ('in1@tm', 'in0@te'): 0j,\n",
              " ('in1@tm', 'in0@tm'): 0j,\n",
              " ('in1@tm', 'in1@te'): 0j,\n",
              " ('in1@tm', 'in1@tm'): 0j,\n",
              " ('out1@tm', 'out1@tm'): 0j,\n",
              " ('out1@tm', 'out0@tm'): 0j,\n",
              " ('out1@tm', 'out1@te'): 0j,\n",
              " ('out1@tm', 'out0@te'): 0j,\n",
              " ('out1@tm', 'in0@te'): 0.04474-0.01657j,\n",
              " ('out1@tm', 'in0@tm'): 0.76054-0.28166j,\n",
              " ('out1@tm', 'in1@te'): 0.01404-0.0052j,\n",
              " ('out1@tm', 'in1@tm'): 0.23862-0.08837j,\n",
              " ('out0@tm', 'out1@tm'): 0j,\n",
              " ('out0@tm', 'out0@tm'): 0j,\n",
              " ('out0@tm', 'out1@te'): 0j,\n",
              " ('out0@tm', 'out0@te'): 0j,\n",
              " ('out0@tm', 'in0@te'): -0.01404+0.0052j,\n",
              " ('out0@tm', 'in0@tm'): -0.23862+0.08837j,\n",
              " ('out0@tm', 'in1@te'): 0.04474-0.01657j,\n",
              " ('out0@tm', 'in1@tm'): 0.76054-0.28166j,\n",
              " ('out1@te', 'out1@tm'): 0j,\n",
              " ('out1@te', 'out0@tm'): 0j,\n",
              " ('out1@te', 'out1@te'): 0j,\n",
              " ('out1@te', 'out0@te'): 0j,\n",
              " ('out1@te', 'in0@te'): 0.85001-0.3148j,\n",
              " ('out1@te', 'in0@tm'): 0.04474-0.01657j,\n",
              " ('out1@te', 'in1@te'): 0.2667-0.09877j,\n",
              " ('out1@te', 'in1@tm'): 0.01404-0.0052j,\n",
              " ('out0@te', 'out1@tm'): 0j,\n",
              " ('out0@te', 'out0@tm'): 0j,\n",
              " ('out0@te', 'out1@te'): 0j,\n",
              " ('out0@te', 'out0@te'): 0j,\n",
              " ('out0@te', 'in0@te'): -0.2667+0.09877j,\n",
              " ('out0@te', 'in0@tm'): -0.01404+0.0052j,\n",
              " ('out0@te', 'in1@te'): 0.85001-0.3148j,\n",
              " ('out0@te', 'in1@tm'): 0.04474-0.01657j,\n",
              " ('in0@te', 'out1@tm'): 0.04474-0.01657j,\n",
              " ('in0@te', 'out0@tm'): -0.01404+0.0052j,\n",
              " ('in0@te', 'out1@te'): 0.85001-0.3148j,\n",
              " ('in0@te', 'out0@te'): -0.2667+0.09877j,\n",
              " ('in0@tm', 'out1@tm'): 0.76054-0.28166j,\n",
              " ('in0@tm', 'out0@tm'): -0.23862+0.08837j,\n",
              " ('in0@tm', 'out1@te'): 0.04474-0.01657j,\n",
              " ('in0@tm', 'out0@te'): -0.01404+0.0052j,\n",
              " ('in1@te', 'out1@tm'): 0.01404-0.0052j,\n",
              " ('in1@te', 'out0@tm'): 0.04474-0.01657j,\n",
              " ('in1@te', 'out1@te'): 0.2667-0.09877j,\n",
              " ('in1@te', 'out0@te'): 0.85001-0.3148j,\n",
              " ('in1@tm', 'out1@tm'): 0.23862-0.08837j,\n",
              " ('in1@tm', 'out0@tm'): 0.76054-0.28166j,\n",
              " ('in1@tm', 'out1@te'): 0.01404-0.0052j,\n",
              " ('in1@tm', 'out0@te'): 0.04474-0.01657j}"
            ]
          },
          "execution_count": 7,
          "metadata": {},
          "output_type": "execute_result"
        }
      ],
      "source": [
        "mzi()"
      ]
    },
    {
      "cell_type": "markdown",
      "id": "cellular-contemporary",
      "metadata": {
        "papermill": {
          "duration": 0.011708,
          "end_time": "2022-08-04T16:21:56.336342",
          "exception": false,
          "start_time": "2022-08-04T16:21:56.324634",
          "status": "completed"
        },
        "tags": []
      },
      "source": [
        "we can convert this model back to a singlemode `SDict` as follows:"
      ]
    },
    {
      "cell_type": "code",
      "execution_count": 8,
      "id": "aggregate-lemon",
      "metadata": {
        "execution": {
          "iopub.execute_input": "2022-08-04T16:21:56.364869Z",
          "iopub.status.busy": "2022-08-04T16:21:56.363291Z",
          "iopub.status.idle": "2022-08-04T16:21:56.394161Z",
          "shell.execute_reply": "2022-08-04T16:21:56.394891Z"
        },
        "papermill": {
          "duration": 0.047183,
          "end_time": "2022-08-04T16:21:56.395126",
          "exception": false,
          "start_time": "2022-08-04T16:21:56.347943",
          "status": "completed"
        },
        "tags": []
      },
      "outputs": [
        {
          "data": {
            "text/plain": [
              "{('in0', 'in0'): 0j,\n",
              " ('in0', 'in1'): 0j,\n",
              " ('in1', 'in0'): 0j,\n",
              " ('in1', 'in1'): 0j,\n",
              " ('out1', 'out1'): 0j,\n",
              " ('out1', 'out0'): 0j,\n",
              " ('out1', 'in0'): 0.85001-0.3148j,\n",
              " ('out1', 'in1'): 0.2667-0.09877j,\n",
              " ('out0', 'out1'): 0j,\n",
              " ('out0', 'out0'): 0j,\n",
              " ('out0', 'in0'): -0.2667+0.09877j,\n",
              " ('out0', 'in1'): 0.85001-0.3148j,\n",
              " ('in0', 'out1'): 0.85001-0.3148j,\n",
              " ('in0', 'out0'): -0.2667+0.09877j,\n",
              " ('in1', 'out1'): 0.2667-0.09877j,\n",
              " ('in1', 'out0'): 0.85001-0.3148j}"
            ]
          },
          "execution_count": 8,
          "metadata": {},
          "output_type": "execute_result"
        }
      ],
      "source": [
        "mzi_te = sax.singlemode(mzi, mode=\"te\")\n",
        "mzi_te()"
      ]
    }
  ],
  "metadata": {
    "kernelspec": {
      "display_name": "sax",
      "language": "python",
      "name": "sax"
    },
    "language_info": {
      "codemirror_mode": {
        "name": "ipython",
        "version": 3
      },
      "file_extension": ".py",
      "mimetype": "text/x-python",
      "name": "python",
      "nbconvert_exporter": "python",
      "pygments_lexer": "ipython3",
      "version": "3.9.0"
    },
    "papermill": {
      "default_parameters": {},
      "duration": 10.442782,
      "end_time": "2022-08-04T16:21:59.904199",
      "environment_variables": {},
      "exception": null,
      "input_path": "./examples/04_multimode_simulations.ipynb",
      "output_path": "./examples/04_multimode_simulations.ipynb",
      "parameters": {},
      "start_time": "2022-08-04T16:21:49.461417",
      "version": "2.3.4"
    }
  },
  "nbformat": 4,
  "nbformat_minor": 5
}