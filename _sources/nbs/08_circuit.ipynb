{
  "cells": [
    {
      "cell_type": "code",
      "execution_count": 1,
      "id": "452d3a3c03481183",
      "metadata": {
        "execution": {
          "iopub.execute_input": "2022-08-04T16:13:50.455100Z",
          "iopub.status.busy": "2022-08-04T16:13:50.454574Z",
          "iopub.status.idle": "2022-08-04T16:13:50.457383Z",
          "shell.execute_reply": "2022-08-04T16:13:50.457769Z"
        },
        "papermill": {
          "duration": 0.0178,
          "end_time": "2022-08-04T16:13:50.458023",
          "exception": false,
          "start_time": "2022-08-04T16:13:50.440223",
          "status": "completed"
        },
        "tags": [
          "remove-cell"
        ]
      },
      "outputs": [],
      "source": []
    },
    {
      "cell_type": "markdown",
      "id": "2c9c99fe",
      "metadata": {
        "papermill": {
          "duration": 0.007469,
          "end_time": "2022-08-04T16:13:50.473535",
          "exception": false,
          "start_time": "2022-08-04T16:13:50.466066",
          "status": "completed"
        },
        "tags": []
      },
      "source": [
        "# Circuit\n",
        "\n",
        "> SAX Circuits"
      ]
    },
    {
      "cell_type": "code",
      "execution_count": 2,
      "id": "6cbfd24ea1babf9f",
      "metadata": {
        "execution": {
          "iopub.execute_input": "2022-08-04T16:13:50.497096Z",
          "iopub.status.busy": "2022-08-04T16:13:50.495771Z",
          "iopub.status.idle": "2022-08-04T16:13:50.572321Z",
          "shell.execute_reply": "2022-08-04T16:13:50.571822Z"
        },
        "papermill": {
          "duration": 0.09155,
          "end_time": "2022-08-04T16:13:50.572461",
          "exception": false,
          "start_time": "2022-08-04T16:13:50.480911",
          "status": "completed"
        },
        "tags": [
          "remove-cell"
        ]
      },
      "outputs": [],
      "source": [
        "from pytest import approx\n",
        "\n",
        "import os, sys; sys.stderr = open(os.devnull, \"w\")"
      ]
    },
    {
      "cell_type": "code",
      "execution_count": 3,
      "id": "6e744bf7e2110e65",
      "metadata": {
        "execution": {
          "iopub.execute_input": "2022-08-04T16:13:50.594900Z",
          "iopub.status.busy": "2022-08-04T16:13:50.594333Z",
          "iopub.status.idle": "2022-08-04T16:13:51.429885Z",
          "shell.execute_reply": "2022-08-04T16:13:51.430374Z"
        },
        "papermill": {
          "duration": 0.849641,
          "end_time": "2022-08-04T16:13:51.430572",
          "exception": false,
          "start_time": "2022-08-04T16:13:50.580931",
          "status": "completed"
        },
        "tags": [
          "hide-input"
        ]
      },
      "outputs": [],
      "source": [
        "from __future__ import annotations\n",
        "\n",
        "from functools import partial\n",
        "from typing import Dict, Optional, Tuple, Union, cast\n",
        "\n",
        "from sax.backends import circuit_backends\n",
        "from sax.models import coupler, straight\n",
        "from sax.multimode import multimode, singlemode\n",
        "from sax.netlist import LogicalNetlist, Netlist, logical_netlist, netlist_from_yaml\n",
        "from sax.typing_ import Instances, Model, Models, Netlist, Settings, SType, is_netlist\n",
        "from sax.utils import _replace_kwargs, get_settings, merge_dicts, update_settings\n",
        "\n",
        "try:\n",
        "    import jax.numpy as jnp\n",
        "    JAX_AVAILABLE = True\n",
        "except ImportError:\n",
        "    import numpy as jnp\n",
        "    JAX_AVAILABLE = False"
      ]
    },
    {
      "cell_type": "markdown",
      "id": "d8d414b26dacdb76",
      "metadata": {},
      "source": [
        ":::{eval-rst}\n",
        ".. autofunction:: sax.circuit.circuit\n",
        ":::\n"
      ]
    },
    {
      "cell_type": "code",
      "execution_count": 4,
      "id": "5f586e21198c88c6",
      "metadata": {
        "execution": {
          "iopub.execute_input": "2022-08-04T16:13:51.449473Z",
          "iopub.status.busy": "2022-08-04T16:13:51.448917Z",
          "iopub.status.idle": "2022-08-04T16:13:51.463121Z",
          "shell.execute_reply": "2022-08-04T16:13:51.462632Z"
        },
        "papermill": {
          "duration": 0.024187,
          "end_time": "2022-08-04T16:13:51.463254",
          "exception": false,
          "start_time": "2022-08-04T16:13:51.439067",
          "status": "completed"
        },
        "tags": [
          "hide-input"
        ]
      },
      "outputs": [],
      "source": [
        "\n",
        "def circuit(\n",
        "    *,\n",
        "    instances: Instances,\n",
        "    connections: Dict[str, str],\n",
        "    ports: Dict[str, str],\n",
        "    models: Optional[Models] = None,\n",
        "    modes: Optional[Tuple[str, ...]] = None,\n",
        "    settings: Optional[Settings] = None,\n",
        "    backend: str = \"default\",\n",
        "    default_models=None,\n",
        ") -> Model:\n",
        "    # assert valid circuit_backend\n",
        "    if backend not in circuit_backends:\n",
        "        raise KeyError(\n",
        "            f\"circuit backend {backend} not found. Allowed circuit backends: \"\n",
        "            f\"{', '.join(circuit_backends.keys())}.\"\n",
        "        )\n",
        "\n",
        "    evaluate_circuit = circuit_backends[backend]\n",
        "\n",
        "    _netlist, _settings, _models = logical_netlist(\n",
        "        instances=instances,\n",
        "        connections=connections,\n",
        "        ports=ports,\n",
        "        models=models,\n",
        "        settings=settings,\n",
        "        default_models=default_models,\n",
        "    )\n",
        "\n",
        "    for name in list(_models.keys()):\n",
        "        if is_netlist(_models[name]):\n",
        "            netlist_model = cast(LogicalNetlist, _models.pop(name))\n",
        "            instance_model_names = set(netlist_model[\"instances\"].values())\n",
        "            instance_models = {k: _models[k] for k in instance_model_names}\n",
        "            netlist_func = circuit_from_netlist(\n",
        "                netlist=netlist_model,\n",
        "                models=instance_models,\n",
        "                backend=backend,\n",
        "                modes=modes,\n",
        "                settings=None,  # settings are already integrated in netlist by now.\n",
        "                default_models=default_models,\n",
        "            )\n",
        "            _models[name] = netlist_func\n",
        "\n",
        "    if modes is not None:\n",
        "        maybe_multimode = partial(multimode, modes=modes)\n",
        "        connections = {\n",
        "            f\"{p1}@{mode}\": f\"{p2}@{mode}\"\n",
        "            for p1, p2 in _netlist[\"connections\"].items()\n",
        "            for mode in modes\n",
        "        }\n",
        "        ports = {\n",
        "            f\"{p1}@{mode}\": f\"{p2}@{mode}\"\n",
        "            for p1, p2 in _netlist[\"ports\"].items()\n",
        "            for mode in modes\n",
        "        }\n",
        "    else:\n",
        "        maybe_multimode = partial(singlemode, mode=\"te\")\n",
        "        connections = _netlist[\"connections\"]\n",
        "        ports = _netlist[\"ports\"]\n",
        "\n",
        "    def _circuit(**settings: Settings) -> SType:\n",
        "        settings = merge_dicts(_settings, settings)\n",
        "        global_settings = {}\n",
        "        for k in list(settings.keys()):\n",
        "            if k in _netlist[\"instances\"]:\n",
        "                continue\n",
        "            global_settings[k] = settings.pop(k)\n",
        "        if global_settings:\n",
        "            settings = cast(\n",
        "                Dict[str, Settings], update_settings(settings, **global_settings)\n",
        "            )\n",
        "        instances: Dict[str, SType] = {}\n",
        "        for name, model_name in _netlist[\"instances\"].items():\n",
        "            model = cast(Model, _models[model_name])\n",
        "            instances[name] = cast(\n",
        "                SType, maybe_multimode(model(**settings.get(name, {})))\n",
        "            )\n",
        "        S = evaluate_circuit(instances, connections, ports)\n",
        "        return S\n",
        "\n",
        "    settings = {\n",
        "        name: get_settings(cast(Model, _models[model]))\n",
        "        for name, model in _netlist[\"instances\"].items()\n",
        "    }\n",
        "    settings = merge_dicts(settings, _settings)\n",
        "    _replace_kwargs(_circuit, **settings)\n",
        "\n",
        "    return _circuit"
      ]
    },
    {
      "cell_type": "code",
      "execution_count": 5,
      "id": "9c6be0ea",
      "metadata": {
        "execution": {
          "iopub.execute_input": "2022-08-04T16:13:51.487014Z",
          "iopub.status.busy": "2022-08-04T16:13:51.486434Z",
          "iopub.status.idle": "2022-08-04T16:13:51.544381Z",
          "shell.execute_reply": "2022-08-04T16:13:51.543831Z"
        },
        "papermill": {
          "duration": 0.073189,
          "end_time": "2022-08-04T16:13:51.544534",
          "exception": false,
          "start_time": "2022-08-04T16:13:51.471345",
          "status": "completed"
        },
        "tags": []
      },
      "outputs": [],
      "source": [
        "mzi = circuit(\n",
        "    instances={\n",
        "        \"lft\": \"coupler\",\n",
        "        \"top\": \"straight\",\n",
        "        \"btm\": \"straight\",\n",
        "        \"rgt\": \"coupler\",\n",
        "    },\n",
        "    connections={\n",
        "        \"lft,out0\": \"btm,in0\",\n",
        "        \"btm,out0\": \"rgt,in0\",\n",
        "        \"lft,out1\": \"top,in0\",\n",
        "        \"top,out0\": \"rgt,in1\",\n",
        "    },\n",
        "    ports={\n",
        "        \"in0\": \"lft,in0\",\n",
        "        \"in1\": \"lft,in1\",\n",
        "        \"out0\": \"rgt,out0\",\n",
        "        \"out1\": \"rgt,out1\",\n",
        "    },\n",
        "    models={\n",
        "        \"straight\": straight,\n",
        "        \"coupler\": coupler,\n",
        "    }\n",
        ")\n",
        "\n",
        "mzi?"
      ]
    },
    {
      "cell_type": "code",
      "execution_count": 6,
      "id": "bca34a72",
      "metadata": {
        "execution": {
          "iopub.execute_input": "2022-08-04T16:13:51.563760Z",
          "iopub.status.busy": "2022-08-04T16:13:51.563209Z",
          "iopub.status.idle": "2022-08-04T16:13:54.319396Z",
          "shell.execute_reply": "2022-08-04T16:13:54.319816Z"
        },
        "papermill": {
          "duration": 2.767198,
          "end_time": "2022-08-04T16:13:54.319987",
          "exception": false,
          "start_time": "2022-08-04T16:13:51.552789",
          "status": "completed"
        },
        "tags": []
      },
      "outputs": [],
      "source": [
        "result = mzi(top={\"length\": 25.0}, btm={\"length\": 15.0})\n",
        "result = {k: approx(jnp.abs(v)) for k, v in result.items()}"
      ]
    },
    {
      "cell_type": "markdown",
      "id": "e30428e71b6970c7",
      "metadata": {},
      "source": [
        ":::{eval-rst}\n",
        ".. autofunction:: sax.circuit.circuit_from_netlist\n",
        ":::\n"
      ]
    },
    {
      "cell_type": "code",
      "execution_count": 7,
      "id": "c01bfd0f05060330",
      "metadata": {
        "execution": {
          "iopub.execute_input": "2022-08-04T16:13:54.346618Z",
          "iopub.status.busy": "2022-08-04T16:13:54.346065Z",
          "iopub.status.idle": "2022-08-04T16:13:54.347471Z",
          "shell.execute_reply": "2022-08-04T16:13:54.347875Z"
        },
        "papermill": {
          "duration": 0.016681,
          "end_time": "2022-08-04T16:13:54.348023",
          "exception": false,
          "start_time": "2022-08-04T16:13:54.331342",
          "status": "completed"
        },
        "tags": [
          "hide-input"
        ]
      },
      "outputs": [],
      "source": [
        "\n",
        "def circuit_from_netlist(\n",
        "    netlist: Union[LogicalNetlist, Netlist],\n",
        "    *,\n",
        "    models: Optional[Models] = None,\n",
        "    modes: Optional[Tuple[str, ...]] = None,\n",
        "    settings: Optional[Settings] = None,\n",
        "    backend: str = \"default\",\n",
        "    default_models=None,\n",
        ") -> Model:\n",
        "    \"\"\"create a circuit model function from a netlist \"\"\"\n",
        "    instances = netlist[\"instances\"]\n",
        "    connections = netlist[\"connections\"]\n",
        "    ports = netlist[\"ports\"]\n",
        "    _circuit = circuit(\n",
        "        instances=instances,\n",
        "        connections=connections,\n",
        "        ports=ports,\n",
        "        models=models,\n",
        "        modes=modes,\n",
        "        settings=settings,\n",
        "        backend=backend,\n",
        "        default_models=default_models,\n",
        "    )\n",
        "    return _circuit"
      ]
    },
    {
      "cell_type": "markdown",
      "id": "34d7295c",
      "metadata": {
        "papermill": {
          "duration": 0.008101,
          "end_time": "2022-08-04T16:13:54.364189",
          "exception": false,
          "start_time": "2022-08-04T16:13:54.356088",
          "status": "completed"
        },
        "tags": []
      },
      "source": [
        "> Example"
      ]
    },
    {
      "cell_type": "code",
      "execution_count": 8,
      "id": "d29f070a",
      "metadata": {
        "execution": {
          "iopub.execute_input": "2022-08-04T16:13:54.383437Z",
          "iopub.status.busy": "2022-08-04T16:13:54.382899Z",
          "iopub.status.idle": "2022-08-04T16:13:54.402136Z",
          "shell.execute_reply": "2022-08-04T16:13:54.401692Z"
        },
        "papermill": {
          "duration": 0.030105,
          "end_time": "2022-08-04T16:13:54.402262",
          "exception": false,
          "start_time": "2022-08-04T16:13:54.372157",
          "status": "completed"
        },
        "tags": []
      },
      "outputs": [],
      "source": [
        "mzi = circuit_from_netlist(\n",
        "    netlist = {\n",
        "        \"instances\": {\n",
        "            \"lft\": \"coupler\",\n",
        "            \"top\": \"straight\",\n",
        "            \"btm\": \"straight\",\n",
        "            \"rgt\": \"coupler\",\n",
        "        },\n",
        "        \"connections\": {\n",
        "            \"lft,out0\": \"btm,in0\",\n",
        "            \"btm,out0\": \"rgt,in0\",\n",
        "            \"lft,out1\": \"top,in0\",\n",
        "            \"top,out0\": \"rgt,in1\",\n",
        "        },\n",
        "        \"ports\": {\n",
        "            \"in0\": \"lft,in0\",\n",
        "            \"in1\": \"lft,in1\",\n",
        "            \"out0\": \"rgt,out0\",\n",
        "            \"out1\": \"rgt,out1\",\n",
        "        },\n",
        "    },\n",
        "    models={\n",
        "        \"straight\": straight,\n",
        "        \"coupler\": coupler,\n",
        "    }\n",
        ")\n",
        "\n",
        "mzi?"
      ]
    },
    {
      "cell_type": "markdown",
      "id": "2321f1ee3a15afac",
      "metadata": {},
      "source": [
        ":::{eval-rst}\n",
        ".. autofunction:: sax.circuit.circuit_from_yaml\n",
        ":::\n"
      ]
    },
    {
      "cell_type": "code",
      "execution_count": 9,
      "id": "89f47d79b9b50574",
      "metadata": {
        "execution": {
          "iopub.execute_input": "2022-08-04T16:13:54.422040Z",
          "iopub.status.busy": "2022-08-04T16:13:54.421501Z",
          "iopub.status.idle": "2022-08-04T16:13:54.427000Z",
          "shell.execute_reply": "2022-08-04T16:13:54.426547Z"
        },
        "papermill": {
          "duration": 0.016515,
          "end_time": "2022-08-04T16:13:54.427123",
          "exception": false,
          "start_time": "2022-08-04T16:13:54.410608",
          "status": "completed"
        },
        "tags": [
          "hide-input"
        ]
      },
      "outputs": [],
      "source": [
        "def circuit_from_yaml(\n",
        "    yaml: str,\n",
        "    *,\n",
        "    models: Optional[Models] = None,\n",
        "    modes: Optional[Tuple[str, ...]] = None,\n",
        "    settings: Optional[Settings] = None,\n",
        "    backend: str = \"default\",\n",
        "    default_models=None,\n",
        ") -> Model:\n",
        "    \"\"\"Load a sax circuit from yaml definition\n",
        "\n",
        "    Args:\n",
        "        yaml: the yaml string to load\n",
        "        models: a dictionary which maps component names to model functions\n",
        "        modes: the modes of the simulation (if not given, single mode\n",
        "            operation is assumed).\n",
        "        settings: override netlist instance settings. Use this setting to set\n",
        "            global settings like for example the wavelength 'wl'.\n",
        "        backend: \"default\" or \"klu\". How the circuit S-parameters are\n",
        "            calculated.  \"klu\" is a CPU-only method which generally speaking is\n",
        "            much faster for large circuits but cannot be jitted or used for autograd.\n",
        "    \"\"\"\n",
        "    netlist, models = netlist_from_yaml(yaml=yaml, models=models, settings=settings)\n",
        "    circuit = circuit_from_netlist(\n",
        "        netlist=netlist,\n",
        "        models=models,\n",
        "        modes=modes,\n",
        "        settings=None,  # settings are already integrated in the netlist by now\n",
        "        backend=backend,\n",
        "        default_models=default_models,\n",
        "    )\n",
        "    return circuit"
      ]
    },
    {
      "cell_type": "markdown",
      "id": "4fa5ca02700ee5e7",
      "metadata": {},
      "source": [
        ":::{eval-rst}\n",
        ".. autofunction:: sax.circuit.circuit_from_gdsfactory\n",
        ":::\n"
      ]
    },
    {
      "cell_type": "code",
      "execution_count": 10,
      "id": "13c4d524c42c6483",
      "metadata": {
        "execution": {
          "iopub.execute_input": "2022-08-04T16:13:54.449358Z",
          "iopub.status.busy": "2022-08-04T16:13:54.448841Z",
          "iopub.status.idle": "2022-08-04T16:13:54.450636Z",
          "shell.execute_reply": "2022-08-04T16:13:54.451063Z"
        },
        "papermill": {
          "duration": 0.015547,
          "end_time": "2022-08-04T16:13:54.451207",
          "exception": false,
          "start_time": "2022-08-04T16:13:54.435660",
          "status": "completed"
        },
        "tags": [
          "hide-input"
        ]
      },
      "outputs": [],
      "source": [
        "def circuit_from_gdsfactory(\n",
        "    component,\n",
        "    *,\n",
        "    models: Optional[Models] = None,\n",
        "    modes: Optional[Tuple[str, ...]] = None,\n",
        "    settings: Optional[Settings] = None,\n",
        "    backend: str = \"default\",\n",
        "    default_models=None,\n",
        ") -> Model:\n",
        "    \"\"\"Load a sax circuit from a GDSFactory component\"\"\"\n",
        "    circuit = circuit_from_netlist(\n",
        "        component.get_netlist_dict(),\n",
        "        models=models,\n",
        "        modes=modes,\n",
        "        settings=settings,\n",
        "        backend=backend,\n",
        "        default_models=default_models,\n",
        "    )\n",
        "    return circuit"
      ]
    }
  ],
  "metadata": {
    "kernelspec": {
      "display_name": "sax",
      "language": "python",
      "name": "sax"
    },
    "language_info": {
      "codemirror_mode": {
        "name": "ipython",
        "version": 3
      },
      "file_extension": ".py",
      "mimetype": "text/x-python",
      "name": "python",
      "nbconvert_exporter": "python",
      "pygments_lexer": "ipython3",
      "version": "3.9.0"
    },
    "papermill": {
      "default_parameters": {},
      "duration": 6.429971,
      "end_time": "2022-08-04T16:13:55.630857",
      "environment_variables": {},
      "exception": null,
      "input_path": "./nbs/08_circuit.ipynb",
      "output_path": "./nbs/08_circuit.ipynb",
      "parameters": {},
      "start_time": "2022-08-04T16:13:49.200886",
      "version": "2.3.4"
    }
  },
  "nbformat": 4,
  "nbformat_minor": 5
}