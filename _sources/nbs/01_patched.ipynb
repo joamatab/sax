{
  "cells": [
    {
      "cell_type": "code",
      "execution_count": 1,
      "id": "e1cb2b9ee056ca2b",
      "metadata": {
        "execution": {
          "iopub.execute_input": "2022-08-04T16:13:20.895565Z",
          "iopub.status.busy": "2022-08-04T16:13:20.895035Z",
          "iopub.status.idle": "2022-08-04T16:13:20.897702Z",
          "shell.execute_reply": "2022-08-04T16:13:20.898149Z"
        },
        "papermill": {
          "duration": 0.016195,
          "end_time": "2022-08-04T16:13:20.898358",
          "exception": false,
          "start_time": "2022-08-04T16:13:20.882163",
          "status": "completed"
        },
        "tags": [
          "remove-cell"
        ]
      },
      "outputs": [],
      "source": []
    },
    {
      "cell_type": "markdown",
      "id": "62619887-4d1d-4218-8259-9dbe991cfded",
      "metadata": {
        "papermill": {
          "duration": 0.005931,
          "end_time": "2022-08-04T16:13:20.910873",
          "exception": false,
          "start_time": "2022-08-04T16:13:20.904942",
          "status": "completed"
        },
        "tags": []
      },
      "source": [
        "# Patched\n",
        "\n",
        "> We patch some library and objects that don't belong to SAX. Don't worry, it's nothing substantial."
      ]
    },
    {
      "cell_type": "code",
      "execution_count": 2,
      "id": "a0dbfc22dcfb6239",
      "metadata": {
        "execution": {
          "iopub.execute_input": "2022-08-04T16:13:20.931488Z",
          "iopub.status.busy": "2022-08-04T16:13:20.927565Z",
          "iopub.status.idle": "2022-08-04T16:13:21.735175Z",
          "shell.execute_reply": "2022-08-04T16:13:21.734202Z"
        },
        "papermill": {
          "duration": 0.818694,
          "end_time": "2022-08-04T16:13:21.735321",
          "exception": false,
          "start_time": "2022-08-04T16:13:20.916627",
          "status": "completed"
        },
        "tags": [
          "remove-cell"
        ]
      },
      "outputs": [],
      "source": [
        "import matplotlib.pyplot as plt\n",
        "from fastcore.test import test_eq\n",
        "from pytest import approx, raises\n",
        "\n",
        "import os, sys; sys.stderr = open(os.devnull, \"w\")"
      ]
    },
    {
      "cell_type": "code",
      "execution_count": 3,
      "id": "6e08c9f4470d159f",
      "metadata": {
        "execution": {
          "iopub.execute_input": "2022-08-04T16:13:21.753031Z",
          "iopub.status.busy": "2022-08-04T16:13:21.752499Z",
          "iopub.status.idle": "2022-08-04T16:13:22.565795Z",
          "shell.execute_reply": "2022-08-04T16:13:22.565265Z"
        },
        "papermill": {
          "duration": 0.824289,
          "end_time": "2022-08-04T16:13:22.565944",
          "exception": false,
          "start_time": "2022-08-04T16:13:21.741655",
          "status": "completed"
        },
        "tags": [
          "hide-input"
        ]
      },
      "outputs": [],
      "source": [
        "from __future__ import annotations\n",
        "\n",
        "import re\n",
        "from textwrap import dedent\n",
        "\n",
        "from fastcore.basics import patch_to\n",
        "from sax.typing_ import is_complex_float, is_float\n",
        "\n",
        "try:\n",
        "    import jax.numpy as jnp\n",
        "    from flax.core import FrozenDict\n",
        "    from jaxlib.xla_extension import DeviceArray\n",
        "    JAX_AVAILABLE = True\n",
        "except (ImportError, ModuleNotFoundError):\n",
        "    import numpy as jnp\n",
        "    DeviceArray = jnp.ndarray\n",
        "    FrozenDict = dict\n",
        "    JAX_AVAILABLE = False"
      ]
    },
    {
      "cell_type": "markdown",
      "id": "e37bb974-621b-4fc2-b4a8-d3f51d4f72ad",
      "metadata": {
        "papermill": {
          "duration": 0.006697,
          "end_time": "2022-08-04T16:13:22.579665",
          "exception": false,
          "start_time": "2022-08-04T16:13:22.572968",
          "status": "completed"
        },
        "tags": []
      },
      "source": [
        "Paching `FrozenDict` to have the same repr as a normal dict:"
      ]
    },
    {
      "cell_type": "code",
      "execution_count": 4,
      "id": "338dd48f88ee7448",
      "metadata": {
        "execution": {
          "iopub.execute_input": "2022-08-04T16:13:22.597057Z",
          "iopub.status.busy": "2022-08-04T16:13:22.594459Z",
          "iopub.status.idle": "2022-08-04T16:13:22.598703Z",
          "shell.execute_reply": "2022-08-04T16:13:22.599188Z"
        },
        "papermill": {
          "duration": 0.013536,
          "end_time": "2022-08-04T16:13:22.599352",
          "exception": false,
          "start_time": "2022-08-04T16:13:22.585816",
          "status": "completed"
        },
        "tags": [
          "remove-cell"
        ]
      },
      "outputs": [],
      "source": [
        "\n",
        "if JAX_AVAILABLE:\n",
        "    @patch_to(FrozenDict)\n",
        "    def __repr__(self):  # type: ignore\n",
        "        _dict = lambda d: dict(\n",
        "            {k: (v if not isinstance(v, self.__class__) else dict(v)) for k, v in d.items()}\n",
        "        )\n",
        "        return f\"{self.__class__.__name__}({dict.__repr__(_dict(self))})\""
      ]
    },
    {
      "cell_type": "markdown",
      "id": "4484b223-c22e-4537-8f90-df47ef31d086",
      "metadata": {
        "papermill": {
          "duration": 0.006205,
          "end_time": "2022-08-04T16:13:22.611881",
          "exception": false,
          "start_time": "2022-08-04T16:13:22.605676",
          "status": "completed"
        },
        "tags": []
      },
      "source": [
        "Patching `DeviceArray` to have less verbose reprs for 0-D arrays:"
      ]
    },
    {
      "cell_type": "code",
      "execution_count": 5,
      "id": "84b0c020b8c4342d",
      "metadata": {
        "execution": {
          "iopub.execute_input": "2022-08-04T16:13:22.632659Z",
          "iopub.status.busy": "2022-08-04T16:13:22.632144Z",
          "iopub.status.idle": "2022-08-04T16:13:22.633913Z",
          "shell.execute_reply": "2022-08-04T16:13:22.634375Z"
        },
        "papermill": {
          "duration": 0.016401,
          "end_time": "2022-08-04T16:13:22.634513",
          "exception": false,
          "start_time": "2022-08-04T16:13:22.618112",
          "status": "completed"
        },
        "tags": [
          "remove-cell"
        ]
      },
      "outputs": [],
      "source": [
        "if JAX_AVAILABLE:\n",
        "    @patch_to(DeviceArray)\n",
        "    def __repr__(self):  # type: ignore\n",
        "        if self.ndim == 0 and is_float(self):\n",
        "            v = float(self)\n",
        "            return repr(round(v, 5)) if abs(v) > 1e-4 else repr(v)\n",
        "        elif self.ndim == 0 and is_complex_float(self):\n",
        "            r, i = float(self.real), float(self.imag)\n",
        "            r = round(r, 5) if abs(r) > 1e-4 else r\n",
        "            i = round(i, 5) if abs(i) > 1e-4 else i\n",
        "            s = repr(r + 1j * i)\n",
        "            if s[0] == \"(\" and s[-1] == \")\":\n",
        "                s = s[1:-1]\n",
        "            return s\n",
        "        else:\n",
        "            s = super(self.__class__, self).__repr__()\n",
        "            s = s.replace(\"DeviceArray(\", \"      array(\")\n",
        "            s = re.sub(r\", dtype=.*[,)]\", \"\", s)\n",
        "            s = re.sub(r\" weak_type=.*[,)]\", \"\", s)\n",
        "            return dedent(s)+\")\""
      ]
    },
    {
      "cell_type": "code",
      "execution_count": 6,
      "id": "5f6c14e4-723e-4ad9-9b20-fde3d7b7f86f",
      "metadata": {
        "execution": {
          "iopub.execute_input": "2022-08-04T16:13:22.649633Z",
          "iopub.status.busy": "2022-08-04T16:13:22.649137Z",
          "iopub.status.idle": "2022-08-04T16:13:22.682998Z",
          "shell.execute_reply": "2022-08-04T16:13:22.683963Z"
        },
        "papermill": {
          "duration": 0.043264,
          "end_time": "2022-08-04T16:13:22.684129",
          "exception": false,
          "start_time": "2022-08-04T16:13:22.640865",
          "status": "completed"
        },
        "tags": []
      },
      "outputs": [
        {
          "data": {
            "text/plain": [
              "array(3)"
            ]
          },
          "execution_count": 6,
          "metadata": {},
          "output_type": "execute_result"
        }
      ],
      "source": [
        "jnp.array(3)"
      ]
    },
    {
      "cell_type": "code",
      "execution_count": 7,
      "id": "02676641-cddd-4f70-8138-b4530dd318cd",
      "metadata": {
        "execution": {
          "iopub.execute_input": "2022-08-04T16:13:22.704129Z",
          "iopub.status.busy": "2022-08-04T16:13:22.703603Z",
          "iopub.status.idle": "2022-08-04T16:13:22.708217Z",
          "shell.execute_reply": "2022-08-04T16:13:22.707815Z"
        },
        "papermill": {
          "duration": 0.016754,
          "end_time": "2022-08-04T16:13:22.708331",
          "exception": false,
          "start_time": "2022-08-04T16:13:22.691577",
          "status": "completed"
        },
        "tags": []
      },
      "outputs": [
        {
          "data": {
            "text/plain": [
              "array([3, 4, 5])"
            ]
          },
          "execution_count": 7,
          "metadata": {},
          "output_type": "execute_result"
        }
      ],
      "source": [
        "jnp.array([3, 4, 5])"
      ]
    }
  ],
  "metadata": {
    "kernelspec": {
      "display_name": "Python 3 (ipykernel)",
      "language": "python",
      "name": "python3"
    },
    "language_info": {
      "codemirror_mode": {
        "name": "ipython",
        "version": 3
      },
      "file_extension": ".py",
      "mimetype": "text/x-python",
      "name": "python",
      "nbconvert_exporter": "python",
      "pygments_lexer": "ipython3",
      "version": "3.9.0"
    },
    "papermill": {
      "default_parameters": {},
      "duration": 4.434732,
      "end_time": "2022-08-04T16:13:23.868338",
      "environment_variables": {},
      "exception": null,
      "input_path": "./nbs/01_patched.ipynb",
      "output_path": "./nbs/01_patched.ipynb",
      "parameters": {},
      "start_time": "2022-08-04T16:13:19.433606",
      "version": "2.3.4"
    }
  },
  "nbformat": 4,
  "nbformat_minor": 5
}