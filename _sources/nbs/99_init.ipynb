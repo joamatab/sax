{
  "cells": [
    {
      "cell_type": "code",
      "execution_count": 1,
      "id": "a53c0a8493dfbf33",
      "metadata": {
        "execution": {
          "iopub.execute_input": "2022-08-04T16:13:06.751002Z",
          "iopub.status.busy": "2022-08-04T16:13:06.750490Z",
          "iopub.status.idle": "2022-08-04T16:13:06.753056Z",
          "shell.execute_reply": "2022-08-04T16:13:06.753481Z"
        },
        "papermill": {
          "duration": 0.021607,
          "end_time": "2022-08-04T16:13:06.753767",
          "exception": false,
          "start_time": "2022-08-04T16:13:06.732160",
          "status": "completed"
        },
        "tags": [
          "remove-cell"
        ]
      },
      "outputs": [],
      "source": []
    },
    {
      "cell_type": "markdown",
      "id": "b4250b31",
      "metadata": {
        "papermill": {
          "duration": 0.01246,
          "end_time": "2022-08-04T16:13:06.779493",
          "exception": false,
          "start_time": "2022-08-04T16:13:06.767033",
          "status": "completed"
        },
        "tags": []
      },
      "source": [
        "# SAX init\n",
        "\n",
        "> Import everything into the `sax` namespace:"
      ]
    },
    {
      "cell_type": "code",
      "execution_count": 2,
      "id": "6355cce70fe84c49",
      "metadata": {
        "execution": {
          "iopub.execute_input": "2022-08-04T16:13:06.814045Z",
          "iopub.status.busy": "2022-08-04T16:13:06.813512Z",
          "iopub.status.idle": "2022-08-04T16:13:07.623277Z",
          "shell.execute_reply": "2022-08-04T16:13:07.622675Z"
        },
        "papermill": {
          "duration": 0.831321,
          "end_time": "2022-08-04T16:13:07.623428",
          "exception": false,
          "start_time": "2022-08-04T16:13:06.792107",
          "status": "completed"
        },
        "tags": [
          "remove-cell"
        ]
      },
      "outputs": [],
      "source": [
        "import matplotlib.pyplot as plt\n",
        "from fastcore.test import test_eq\n",
        "from pytest import approx, raises\n",
        "\n",
        "import os, sys; sys.stderr = open(os.devnull, \"w\")"
      ]
    },
    {
      "cell_type": "code",
      "execution_count": 3,
      "id": "4ed6aafb1831df5c",
      "metadata": {
        "execution": {
          "iopub.execute_input": "2022-08-04T16:13:07.655021Z",
          "iopub.status.busy": "2022-08-04T16:13:07.654498Z",
          "iopub.status.idle": "2022-08-04T16:13:07.655717Z",
          "shell.execute_reply": "2022-08-04T16:13:07.656117Z"
        },
        "papermill": {
          "duration": 0.019203,
          "end_time": "2022-08-04T16:13:07.656274",
          "exception": false,
          "start_time": "2022-08-04T16:13:07.637071",
          "status": "completed"
        },
        "tags": [
          "remove-cell"
        ]
      },
      "outputs": [],
      "source": [
        "__author__ = \"Floris Laporte\"\n",
        "__version__ = \"0.7.3\""
      ]
    },
    {
      "cell_type": "code",
      "execution_count": 4,
      "id": "86d630e692fb7270",
      "metadata": {
        "execution": {
          "iopub.execute_input": "2022-08-04T16:13:07.686889Z",
          "iopub.status.busy": "2022-08-04T16:13:07.686344Z",
          "iopub.status.idle": "2022-08-04T16:13:07.688470Z",
          "shell.execute_reply": "2022-08-04T16:13:07.688005Z"
        },
        "papermill": {
          "duration": 0.018871,
          "end_time": "2022-08-04T16:13:07.688575",
          "exception": false,
          "start_time": "2022-08-04T16:13:07.669704",
          "status": "completed"
        },
        "tags": [
          "remove-cell"
        ]
      },
      "outputs": [],
      "source": [
        "from __future__ import annotations"
      ]
    },
    {
      "cell_type": "markdown",
      "id": "fe77e5e3",
      "metadata": {
        "papermill": {
          "duration": 0.012813,
          "end_time": "2022-08-04T16:13:07.714054",
          "exception": false,
          "start_time": "2022-08-04T16:13:07.701241",
          "status": "completed"
        },
        "tags": []
      },
      "source": [
        "## External\n",
        "\n",
        "utils from other packages available in SAX for convenience:"
      ]
    },
    {
      "cell_type": "code",
      "execution_count": 5,
      "id": "6740556b59db3acf",
      "metadata": {
        "execution": {
          "iopub.execute_input": "2022-08-04T16:13:07.744733Z",
          "iopub.status.busy": "2022-08-04T16:13:07.744222Z",
          "iopub.status.idle": "2022-08-04T16:13:08.444062Z",
          "shell.execute_reply": "2022-08-04T16:13:08.443525Z"
        },
        "papermill": {
          "duration": 0.717197,
          "end_time": "2022-08-04T16:13:08.444211",
          "exception": false,
          "start_time": "2022-08-04T16:13:07.727014",
          "status": "completed"
        },
        "tags": []
      },
      "outputs": [],
      "source": [
        "from functools import partial as partial\n",
        "from math import pi as pi\n",
        "\n",
        "from scipy.constants import c as c\n",
        "\n",
        "try:\n",
        "    from flax.core.frozen_dict import FrozenDict as FrozenDict\n",
        "except ImportError:\n",
        "    FrozenDict = dict"
      ]
    },
    {
      "cell_type": "markdown",
      "id": "3d3bde86",
      "metadata": {
        "papermill": {
          "duration": 0.013318,
          "end_time": "2022-08-04T16:13:08.471208",
          "exception": false,
          "start_time": "2022-08-04T16:13:08.457890",
          "status": "completed"
        },
        "tags": []
      },
      "source": [
        "## Typing"
      ]
    },
    {
      "cell_type": "code",
      "execution_count": 6,
      "id": "bb5436c659d875a8",
      "metadata": {
        "execution": {
          "iopub.execute_input": "2022-08-04T16:13:08.504332Z",
          "iopub.status.busy": "2022-08-04T16:13:08.503806Z",
          "iopub.status.idle": "2022-08-04T16:13:08.612585Z",
          "shell.execute_reply": "2022-08-04T16:13:08.612040Z"
        },
        "papermill": {
          "duration": 0.128133,
          "end_time": "2022-08-04T16:13:08.612733",
          "exception": false,
          "start_time": "2022-08-04T16:13:08.484600",
          "status": "completed"
        },
        "tags": []
      },
      "outputs": [],
      "source": [
        "\n",
        "from sax import typing_ as typing\n",
        "from sax.typing_ import (\n",
        "    Array as Array,\n",
        "    ComplexFloat as ComplexFloat,\n",
        "    Float as Float,\n",
        "    Instance as Instance,\n",
        "    Instances as Instances,\n",
        "    LogicalNetlist as LogicalNetlist,\n",
        "    Model as Model,\n",
        "    ModelFactory as ModelFactory,\n",
        "    Models as Models,\n",
        "    Netlist as Netlist,\n",
        "    SCoo as SCoo,\n",
        "    SDense as SDense,\n",
        "    SDict as SDict,\n",
        "    Settings as Settings,\n",
        "    SType as SType,\n",
        "    is_complex as is_complex,\n",
        "    is_complex_float as is_complex_float,\n",
        "    is_float as is_float,\n",
        "    is_instance as is_instance,\n",
        "    is_mixedmode as is_mixedmode,\n",
        "    is_model as is_model,\n",
        "    is_model_factory as is_model_factory,\n",
        "    is_multimode as is_multimode,\n",
        "    is_netlist as is_netlist,\n",
        "    is_scoo as is_scoo,\n",
        "    is_sdense as is_sdense,\n",
        "    is_sdict as is_sdict,\n",
        "    is_singlemode as is_singlemode,\n",
        "    modelfactory as modelfactory,\n",
        "    scoo as scoo,\n",
        "    sdense as sdense,\n",
        "    sdict as sdict,\n",
        "    validate_model as validate_model,\n",
        ")"
      ]
    },
    {
      "cell_type": "markdown",
      "id": "345808d3",
      "metadata": {
        "papermill": {
          "duration": 0.013262,
          "end_time": "2022-08-04T16:13:08.640338",
          "exception": false,
          "start_time": "2022-08-04T16:13:08.627076",
          "status": "completed"
        },
        "tags": []
      },
      "source": [
        "## Utils"
      ]
    },
    {
      "cell_type": "code",
      "execution_count": 7,
      "id": "813b71de167bb758",
      "metadata": {
        "execution": {
          "iopub.execute_input": "2022-08-04T16:13:08.672672Z",
          "iopub.status.busy": "2022-08-04T16:13:08.672114Z",
          "iopub.status.idle": "2022-08-04T16:13:08.673152Z",
          "shell.execute_reply": "2022-08-04T16:13:08.673621Z"
        },
        "papermill": {
          "duration": 0.02056,
          "end_time": "2022-08-04T16:13:08.673762",
          "exception": false,
          "start_time": "2022-08-04T16:13:08.653202",
          "status": "completed"
        },
        "tags": []
      },
      "outputs": [],
      "source": [
        "\n",
        "from sax import utils as utils\n",
        "from sax.utils import (\n",
        "    block_diag as block_diag,\n",
        "    clean_string as clean_string,\n",
        "    copy_settings as copy_settings,\n",
        "    flatten_dict as flatten_dict,\n",
        "    get_inputs_outputs as get_inputs_outputs,\n",
        "    get_port_combinations as get_port_combinations,\n",
        "    get_ports as get_ports,\n",
        "    get_settings as get_settings,\n",
        "    grouped_interp as grouped_interp,\n",
        "    merge_dicts as merge_dicts,\n",
        "    mode_combinations as mode_combinations,\n",
        "    reciprocal as reciprocal,\n",
        "    rename_params as rename_params,\n",
        "    rename_ports as rename_ports,\n",
        "    try_float as try_float,\n",
        "    unflatten_dict as unflatten_dict,\n",
        "    update_settings as update_settings,\n",
        "    validate_multimode as validate_multimode,\n",
        "    validate_not_mixedmode as validate_not_mixedmode,\n",
        "    validate_sdict as validate_sdict,\n",
        "    validate_settings as validate_settings,\n",
        ")"
      ]
    },
    {
      "cell_type": "markdown",
      "id": "d80b6784",
      "metadata": {
        "papermill": {
          "duration": 0.013194,
          "end_time": "2022-08-04T16:13:08.700126",
          "exception": false,
          "start_time": "2022-08-04T16:13:08.686932",
          "status": "completed"
        },
        "tags": []
      },
      "source": [
        "## Caching"
      ]
    },
    {
      "cell_type": "code",
      "execution_count": 8,
      "id": "9298fd218deef096",
      "metadata": {
        "execution": {
          "iopub.execute_input": "2022-08-04T16:13:08.731353Z",
          "iopub.status.busy": "2022-08-04T16:13:08.730814Z",
          "iopub.status.idle": "2022-08-04T16:13:08.731945Z",
          "shell.execute_reply": "2022-08-04T16:13:08.732412Z"
        },
        "papermill": {
          "duration": 0.019267,
          "end_time": "2022-08-04T16:13:08.732546",
          "exception": false,
          "start_time": "2022-08-04T16:13:08.713279",
          "status": "completed"
        },
        "tags": []
      },
      "outputs": [],
      "source": [
        "\n",
        "from sax import caching as caching\n",
        "from sax.caching import (\n",
        "    cache as cache, \n",
        "    cache_clear as cache_clear,\n",
        ")"
      ]
    },
    {
      "cell_type": "markdown",
      "id": "23287a09",
      "metadata": {
        "papermill": {
          "duration": 0.013355,
          "end_time": "2022-08-04T16:13:08.759150",
          "exception": false,
          "start_time": "2022-08-04T16:13:08.745795",
          "status": "completed"
        },
        "tags": []
      },
      "source": [
        "## Multimode"
      ]
    },
    {
      "cell_type": "code",
      "execution_count": 9,
      "id": "9e6202e86fb7a84a",
      "metadata": {
        "execution": {
          "iopub.execute_input": "2022-08-04T16:13:08.790102Z",
          "iopub.status.busy": "2022-08-04T16:13:08.789590Z",
          "iopub.status.idle": "2022-08-04T16:13:08.790940Z",
          "shell.execute_reply": "2022-08-04T16:13:08.791339Z"
        },
        "papermill": {
          "duration": 0.019339,
          "end_time": "2022-08-04T16:13:08.791476",
          "exception": false,
          "start_time": "2022-08-04T16:13:08.772137",
          "status": "completed"
        },
        "tags": []
      },
      "outputs": [],
      "source": [
        "\n",
        "from sax import multimode as multimode\n",
        "from sax.multimode import (\n",
        "    multimode as multimode,\n",
        "    singlemode as singlemode,\n",
        ")"
      ]
    },
    {
      "cell_type": "markdown",
      "id": "c794abf0",
      "metadata": {
        "papermill": {
          "duration": 0.01314,
          "end_time": "2022-08-04T16:13:08.817638",
          "exception": false,
          "start_time": "2022-08-04T16:13:08.804498",
          "status": "completed"
        },
        "tags": []
      },
      "source": [
        "## Models"
      ]
    },
    {
      "cell_type": "code",
      "execution_count": 10,
      "id": "e02ad2277d75410c",
      "metadata": {
        "execution": {
          "iopub.execute_input": "2022-08-04T16:13:08.848358Z",
          "iopub.status.busy": "2022-08-04T16:13:08.847846Z",
          "iopub.status.idle": "2022-08-04T16:13:08.848988Z",
          "shell.execute_reply": "2022-08-04T16:13:08.849474Z"
        },
        "papermill": {
          "duration": 0.018801,
          "end_time": "2022-08-04T16:13:08.849611",
          "exception": false,
          "start_time": "2022-08-04T16:13:08.830810",
          "status": "completed"
        },
        "tags": []
      },
      "outputs": [],
      "source": [
        "\n",
        "from sax import models as models\n",
        "from sax.models import get_models as get_models, passthru as passthru"
      ]
    },
    {
      "cell_type": "markdown",
      "id": "b94feb62",
      "metadata": {
        "papermill": {
          "duration": 0.01311,
          "end_time": "2022-08-04T16:13:08.876234",
          "exception": false,
          "start_time": "2022-08-04T16:13:08.863124",
          "status": "completed"
        },
        "tags": []
      },
      "source": [
        "## Netlist"
      ]
    },
    {
      "cell_type": "code",
      "execution_count": 11,
      "id": "b72edd39d782a3a0",
      "metadata": {
        "execution": {
          "iopub.execute_input": "2022-08-04T16:13:08.907340Z",
          "iopub.status.busy": "2022-08-04T16:13:08.906815Z",
          "iopub.status.idle": "2022-08-04T16:13:08.908712Z",
          "shell.execute_reply": "2022-08-04T16:13:08.908311Z"
        },
        "papermill": {
          "duration": 0.019373,
          "end_time": "2022-08-04T16:13:08.908833",
          "exception": false,
          "start_time": "2022-08-04T16:13:08.889460",
          "status": "completed"
        },
        "tags": []
      },
      "outputs": [],
      "source": [
        "\n",
        "from sax import netlist as netlist\n",
        "from sax.netlist import (\n",
        "    logical_netlist as logical_netlist,\n",
        "    netlist as netlist,\n",
        "    netlist_from_yaml as netlist_from_yaml,\n",
        ")"
      ]
    },
    {
      "cell_type": "markdown",
      "id": "5792b5e9",
      "metadata": {
        "papermill": {
          "duration": 0.013521,
          "end_time": "2022-08-04T16:13:08.935728",
          "exception": false,
          "start_time": "2022-08-04T16:13:08.922207",
          "status": "completed"
        },
        "tags": []
      },
      "source": [
        "## Circuit"
      ]
    },
    {
      "cell_type": "code",
      "execution_count": 12,
      "id": "437174dcc4fb6111",
      "metadata": {
        "execution": {
          "iopub.execute_input": "2022-08-04T16:13:08.967241Z",
          "iopub.status.busy": "2022-08-04T16:13:08.966675Z",
          "iopub.status.idle": "2022-08-04T16:13:08.967803Z",
          "shell.execute_reply": "2022-08-04T16:13:08.968265Z"
        },
        "papermill": {
          "duration": 0.019655,
          "end_time": "2022-08-04T16:13:08.968408",
          "exception": false,
          "start_time": "2022-08-04T16:13:08.948753",
          "status": "completed"
        },
        "tags": []
      },
      "outputs": [],
      "source": [
        "\n",
        "from sax import circuit as circuit\n",
        "from sax.circuit import (\n",
        "    circuit as circuit,\n",
        "    circuit_from_gdsfactory as circuit_from_gdsfactory,\n",
        "    circuit_from_netlist as circuit_from_netlist,\n",
        "    circuit_from_yaml as circuit_from_yaml,\n",
        ")"
      ]
    },
    {
      "cell_type": "markdown",
      "id": "e2d7c9fc",
      "metadata": {
        "papermill": {
          "duration": 0.013537,
          "end_time": "2022-08-04T16:13:08.995824",
          "exception": false,
          "start_time": "2022-08-04T16:13:08.982287",
          "status": "completed"
        },
        "tags": []
      },
      "source": [
        "## Backend"
      ]
    },
    {
      "cell_type": "code",
      "execution_count": 13,
      "id": "e73e11c55f57c55e",
      "metadata": {
        "execution": {
          "iopub.execute_input": "2022-08-04T16:13:09.027320Z",
          "iopub.status.busy": "2022-08-04T16:13:09.026787Z",
          "iopub.status.idle": "2022-08-04T16:13:09.027909Z",
          "shell.execute_reply": "2022-08-04T16:13:09.028369Z"
        },
        "papermill": {
          "duration": 0.019126,
          "end_time": "2022-08-04T16:13:09.028523",
          "exception": false,
          "start_time": "2022-08-04T16:13:09.009397",
          "status": "completed"
        },
        "tags": []
      },
      "outputs": [],
      "source": [
        "\n",
        "from sax import backends as backends"
      ]
    },
    {
      "cell_type": "markdown",
      "id": "3ecf363e",
      "metadata": {
        "papermill": {
          "duration": 0.013432,
          "end_time": "2022-08-04T16:13:09.055521",
          "exception": false,
          "start_time": "2022-08-04T16:13:09.042089",
          "status": "completed"
        },
        "tags": []
      },
      "source": [
        "## Patches"
      ]
    },
    {
      "cell_type": "code",
      "execution_count": 14,
      "id": "3f0d5270419cf72a",
      "metadata": {
        "execution": {
          "iopub.execute_input": "2022-08-04T16:13:09.087245Z",
          "iopub.status.busy": "2022-08-04T16:13:09.086691Z",
          "iopub.status.idle": "2022-08-04T16:13:09.087727Z",
          "shell.execute_reply": "2022-08-04T16:13:09.088181Z"
        },
        "papermill": {
          "duration": 0.019359,
          "end_time": "2022-08-04T16:13:09.088321",
          "exception": false,
          "start_time": "2022-08-04T16:13:09.068962",
          "status": "completed"
        },
        "tags": []
      },
      "outputs": [],
      "source": [
        "\n",
        "from sax import patched as _patched"
      ]
    }
  ],
  "metadata": {
    "kernelspec": {
      "display_name": "sax",
      "language": "python",
      "name": "sax"
    },
    "language_info": {
      "codemirror_mode": {
        "name": "ipython",
        "version": 3
      },
      "file_extension": ".py",
      "mimetype": "text/x-python",
      "name": "python",
      "nbconvert_exporter": "python",
      "pygments_lexer": "ipython3",
      "version": "3.9.0"
    },
    "papermill": {
      "default_parameters": {},
      "duration": 4.305656,
      "end_time": "2022-08-04T16:13:09.509216",
      "environment_variables": {},
      "exception": null,
      "input_path": "./nbs/99_init.ipynb",
      "output_path": "./nbs/99_init.ipynb",
      "parameters": {},
      "start_time": "2022-08-04T16:13:05.203560",
      "version": "2.3.4"
    }
  },
  "nbformat": 4,
  "nbformat_minor": 5
}