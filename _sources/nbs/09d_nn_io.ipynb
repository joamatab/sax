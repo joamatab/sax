{
  "cells": [
    {
      "cell_type": "code",
      "execution_count": 1,
      "id": "1cf7e34e6382ec0a",
      "metadata": {
        "execution": {
          "iopub.execute_input": "2022-08-04T16:12:33.604230Z",
          "iopub.status.busy": "2022-08-04T16:12:33.603734Z",
          "iopub.status.idle": "2022-08-04T16:12:33.606893Z",
          "shell.execute_reply": "2022-08-04T16:12:33.606358Z"
        },
        "papermill": {
          "duration": 0.015945,
          "end_time": "2022-08-04T16:12:33.607038",
          "exception": false,
          "start_time": "2022-08-04T16:12:33.591093",
          "status": "completed"
        },
        "tags": [
          "remove-cell"
        ]
      },
      "outputs": [],
      "source": []
    },
    {
      "cell_type": "markdown",
      "id": "a0489f95",
      "metadata": {
        "papermill": {
          "duration": 0.007175,
          "end_time": "2022-08-04T16:12:33.622106",
          "exception": false,
          "start_time": "2022-08-04T16:12:33.614931",
          "status": "completed"
        },
        "tags": []
      },
      "source": [
        "# NN - IO\n",
        "\n",
        "> IO Utilitites for SAX neural networks"
      ]
    },
    {
      "cell_type": "code",
      "execution_count": 2,
      "id": "7a486d995f16eee5",
      "metadata": {
        "execution": {
          "iopub.execute_input": "2022-08-04T16:12:33.644550Z",
          "iopub.status.busy": "2022-08-04T16:12:33.644023Z",
          "iopub.status.idle": "2022-08-04T16:12:34.451814Z",
          "shell.execute_reply": "2022-08-04T16:12:34.450930Z"
        },
        "papermill": {
          "duration": 0.822907,
          "end_time": "2022-08-04T16:12:34.451966",
          "exception": false,
          "start_time": "2022-08-04T16:12:33.629059",
          "status": "completed"
        },
        "tags": [
          "remove-cell"
        ]
      },
      "outputs": [],
      "source": [
        "import matplotlib.pyplot as plt\n",
        "from fastcore.test import test_eq\n",
        "from pytest import approx, raises\n",
        "\n",
        "import os, sys; sys.stderr = open(os.devnull, \"w\")"
      ]
    },
    {
      "cell_type": "code",
      "execution_count": 3,
      "id": "46d21dd87962e40b",
      "metadata": {
        "execution": {
          "iopub.execute_input": "2022-08-04T16:12:34.473569Z",
          "iopub.status.busy": "2022-08-04T16:12:34.473041Z",
          "iopub.status.idle": "2022-08-04T16:12:35.709394Z",
          "shell.execute_reply": "2022-08-04T16:12:35.708498Z"
        },
        "papermill": {
          "duration": 1.249298,
          "end_time": "2022-08-04T16:12:35.709532",
          "exception": false,
          "start_time": "2022-08-04T16:12:34.460234",
          "status": "completed"
        },
        "tags": [
          "hide-input"
        ]
      },
      "outputs": [],
      "source": [
        "from __future__ import annotations\n",
        "\n",
        "import json\n",
        "import os\n",
        "import re\n",
        "from typing import Callable, Dict, List, Optional, Tuple\n",
        "\n",
        "import jax.numpy as jnp\n",
        "from sax.nn.core import dense, preprocess\n",
        "from sax.nn.utils import norm\n",
        "from sax.typing_ import ComplexFloat"
      ]
    },
    {
      "cell_type": "markdown",
      "id": "e03f343f30a848c9",
      "metadata": {},
      "source": [
        ":::{eval-rst}\n",
        ".. autofunction:: sax.nn.io.load_nn_weights_json\n",
        ":::\n"
      ]
    },
    {
      "cell_type": "code",
      "execution_count": 4,
      "id": "67cbfdd4daef4775",
      "metadata": {
        "execution": {
          "iopub.execute_input": "2022-08-04T16:12:35.731064Z",
          "iopub.status.busy": "2022-08-04T16:12:35.729610Z",
          "iopub.status.idle": "2022-08-04T16:12:35.731651Z",
          "shell.execute_reply": "2022-08-04T16:12:35.732038Z"
        },
        "papermill": {
          "duration": 0.015428,
          "end_time": "2022-08-04T16:12:35.732181",
          "exception": false,
          "start_time": "2022-08-04T16:12:35.716753",
          "status": "completed"
        },
        "tags": [
          "hide-input"
        ]
      },
      "outputs": [],
      "source": [
        "\n",
        "def load_nn_weights_json(path: str) -> Dict[str, ComplexFloat]:\n",
        "    \"\"\"Load json weights from given path\"\"\"\n",
        "    path = os.path.abspath(os.path.expanduser(path))\n",
        "    weights = {}\n",
        "    if os.path.exists(path):\n",
        "        with open(path, \"r\") as file:\n",
        "            for k, v in json.load(file).items():\n",
        "                _v = jnp.array(v, dtype=float)\n",
        "                assert isinstance(_v, jnp.ndarray)\n",
        "                weights[k] = _v\n",
        "    return weights"
      ]
    },
    {
      "cell_type": "markdown",
      "id": "976ee86a5bf26484",
      "metadata": {},
      "source": [
        ":::{eval-rst}\n",
        ".. autofunction:: sax.nn.io.save_nn_weights_json\n",
        ":::\n"
      ]
    },
    {
      "cell_type": "code",
      "execution_count": 5,
      "id": "6b613012e308a32a",
      "metadata": {
        "execution": {
          "iopub.execute_input": "2022-08-04T16:12:35.752719Z",
          "iopub.status.busy": "2022-08-04T16:12:35.752214Z",
          "iopub.status.idle": "2022-08-04T16:12:35.754862Z",
          "shell.execute_reply": "2022-08-04T16:12:35.754430Z"
        },
        "papermill": {
          "duration": 0.015499,
          "end_time": "2022-08-04T16:12:35.754972",
          "exception": false,
          "start_time": "2022-08-04T16:12:35.739473",
          "status": "completed"
        },
        "tags": [
          "hide-input"
        ]
      },
      "outputs": [],
      "source": [
        "def save_nn_weights_json(weights: Dict[str, ComplexFloat], path: str):\n",
        "    \"\"\"Save json weights to given path\"\"\"\n",
        "    path = os.path.abspath(os.path.expanduser(path))\n",
        "    os.makedirs(os.path.dirname(path), exist_ok=True)\n",
        "    with open(path, \"w\") as file:\n",
        "        _weights = {}\n",
        "        for k, v in weights.items():\n",
        "            v = jnp.atleast_1d(jnp.array(v))\n",
        "            assert isinstance(v, jnp.ndarray)\n",
        "            _weights[k] = v.tolist()\n",
        "        json.dump(_weights, file)"
      ]
    },
    {
      "cell_type": "markdown",
      "id": "2062d4c535888ea0",
      "metadata": {},
      "source": [
        ":::{eval-rst}\n",
        ".. autofunction:: sax.nn.io.get_available_sizes\n",
        ":::\n"
      ]
    },
    {
      "cell_type": "code",
      "execution_count": 6,
      "id": "246776a0261abcb2",
      "metadata": {
        "execution": {
          "iopub.execute_input": "2022-08-04T16:12:35.777793Z",
          "iopub.status.busy": "2022-08-04T16:12:35.776941Z",
          "iopub.status.idle": "2022-08-04T16:12:35.779574Z",
          "shell.execute_reply": "2022-08-04T16:12:35.779976Z"
        },
        "papermill": {
          "duration": 0.017939,
          "end_time": "2022-08-04T16:12:35.780112",
          "exception": false,
          "start_time": "2022-08-04T16:12:35.762173",
          "status": "completed"
        },
        "tags": [
          "hide-input"
        ]
      },
      "outputs": [],
      "source": [
        "def get_available_sizes(\n",
        "    dirpath: str,\n",
        "    prefix: str,\n",
        "    input_names: Tuple[str, ...],\n",
        "    output_names: Tuple[str, ...],\n",
        ") -> List[Tuple[int, ...]]:\n",
        "    \"\"\"Get all available json weight hidden sizes given filename parameters\n",
        "\n",
        "    > Note: this function does NOT return the input size and the output size \n",
        "      of the neural network. ONLY the hidden sizes are reported. The input \n",
        "      and output sizes can easily be derived from `input_names` (after \n",
        "      preprocessing) and `output_names`.\n",
        "    \"\"\"\n",
        "    all_weightfiles = os.listdir(dirpath)\n",
        "    possible_weightfiles = (\n",
        "        s for s in all_weightfiles if s.endswith(f\"-{'-'.join(output_names)}.json\")\n",
        "    )\n",
        "    possible_weightfiles = (\n",
        "        s\n",
        "        for s in possible_weightfiles\n",
        "        if s.startswith(f\"{prefix}-{'-'.join(input_names)}\")\n",
        "    )\n",
        "    possible_weightfiles = (re.sub(\"[^0-9x]\", \"\", s) for s in possible_weightfiles)\n",
        "    possible_weightfiles = (re.sub(\"^x*\", \"\", s) for s in possible_weightfiles)\n",
        "    possible_weightfiles = (re.sub(\"x[^0-9]*$\", \"\", s) for s in possible_weightfiles)\n",
        "    possible_hidden_sizes = (s.strip() for s in possible_weightfiles if s.strip())\n",
        "    possible_hidden_sizes = (\n",
        "        tuple(hs.strip() for hs in s.split(\"x\") if hs.strip())\n",
        "        for s in possible_hidden_sizes\n",
        "    )\n",
        "    possible_hidden_sizes = (\n",
        "        tuple(int(hs) for hs in s[1:-1]) for s in possible_hidden_sizes if len(s) > 2\n",
        "    )\n",
        "    possible_hidden_sizes = sorted(\n",
        "        possible_hidden_sizes, key=lambda hs: (len(hs), max(hs))\n",
        "    )\n",
        "    return possible_hidden_sizes"
      ]
    },
    {
      "cell_type": "markdown",
      "id": "235d18d8184ba611",
      "metadata": {},
      "source": [
        ":::{eval-rst}\n",
        ".. autofunction:: sax.nn.io.get_dense_weights_path\n",
        ":::\n"
      ]
    },
    {
      "cell_type": "code",
      "execution_count": 7,
      "id": "b0fa046d575c5366",
      "metadata": {
        "execution": {
          "iopub.execute_input": "2022-08-04T16:12:35.801797Z",
          "iopub.status.busy": "2022-08-04T16:12:35.801288Z",
          "iopub.status.idle": "2022-08-04T16:12:35.803296Z",
          "shell.execute_reply": "2022-08-04T16:12:35.802855Z"
        },
        "papermill": {
          "duration": 0.015995,
          "end_time": "2022-08-04T16:12:35.803419",
          "exception": false,
          "start_time": "2022-08-04T16:12:35.787424",
          "status": "completed"
        },
        "tags": [
          "hide-input"
        ]
      },
      "outputs": [],
      "source": [
        "\n",
        "def get_dense_weights_path(\n",
        "    *sizes: int,\n",
        "    input_names: Optional[Tuple[str, ...]] = None,\n",
        "    output_names: Optional[Tuple[str, ...]] = None,\n",
        "    dirpath: str = \"weights\",\n",
        "    prefix: str = \"dense\",\n",
        "    preprocess=preprocess,\n",
        "):\n",
        "    \"\"\"Create the SAX conventional path for a given weight dictionary\"\"\"\n",
        "    if input_names:\n",
        "        num_inputs = preprocess(*jnp.ones(len(input_names))).shape[0]\n",
        "        sizes = (num_inputs,) + sizes\n",
        "    if output_names:\n",
        "        sizes = sizes + (len(output_names),)\n",
        "    path = os.path.abspath(os.path.join(dirpath, prefix))\n",
        "    if input_names:\n",
        "        path = f\"{path}-{'-'.join(input_names)}\"\n",
        "    if sizes:\n",
        "        path = f\"{path}-{'x'.join(str(s) for s in sizes)}\"\n",
        "    if output_names:\n",
        "        path = f\"{path}-{'-'.join(output_names)}\"\n",
        "    return f\"{path}.json\""
      ]
    },
    {
      "cell_type": "markdown",
      "id": "a9e90148bee50897",
      "metadata": {},
      "source": [
        ":::{eval-rst}\n",
        ".. autofunction:: sax.nn.io.get_norm_path\n",
        ":::\n"
      ]
    },
    {
      "cell_type": "code",
      "execution_count": 8,
      "id": "6f073358e7df8db2",
      "metadata": {
        "execution": {
          "iopub.execute_input": "2022-08-04T16:12:35.825401Z",
          "iopub.status.busy": "2022-08-04T16:12:35.824896Z",
          "iopub.status.idle": "2022-08-04T16:12:35.826235Z",
          "shell.execute_reply": "2022-08-04T16:12:35.826628Z"
        },
        "papermill": {
          "duration": 0.016006,
          "end_time": "2022-08-04T16:12:35.826763",
          "exception": false,
          "start_time": "2022-08-04T16:12:35.810757",
          "status": "completed"
        },
        "tags": [
          "hide-input"
        ]
      },
      "outputs": [],
      "source": [
        "\n",
        "def get_norm_path(\n",
        "    *shape: int,\n",
        "    input_names: Optional[Tuple[str, ...]] = None,\n",
        "    output_names: Optional[Tuple[str, ...]] = None,\n",
        "    dirpath: str = \"norms\",\n",
        "    prefix: str = \"norm\",\n",
        "    preprocess=preprocess,\n",
        "):\n",
        "    \"\"\"Create the SAX conventional path for the normalization constants\"\"\"\n",
        "    if input_names and output_names:\n",
        "        raise ValueError(\n",
        "            \"To get the norm name, one can only specify `input_names` OR `output_names`.\"\n",
        "        )\n",
        "    if input_names:\n",
        "        num_inputs = preprocess(*jnp.ones(len(input_names))).shape[0]\n",
        "        shape = (num_inputs,) + shape\n",
        "    if output_names:\n",
        "        shape = shape + (len(output_names),)\n",
        "    path = os.path.abspath(os.path.join(dirpath, prefix))\n",
        "    if input_names:\n",
        "        path = f\"{path}-{'-'.join(input_names)}\"\n",
        "    if shape:\n",
        "        path = f\"{path}-{'x'.join(str(s) for s in shape)}\"\n",
        "    if output_names:\n",
        "        path = f\"{path}-{'-'.join(output_names)}\"\n",
        "    return f\"{path}.json\""
      ]
    },
    {
      "cell_type": "code",
      "execution_count": 9,
      "id": "6f274dfc61c151fd",
      "metadata": {
        "execution": {
          "iopub.execute_input": "2022-08-04T16:12:35.847607Z",
          "iopub.status.busy": "2022-08-04T16:12:35.847100Z",
          "iopub.status.idle": "2022-08-04T16:12:35.848356Z",
          "shell.execute_reply": "2022-08-04T16:12:35.848772Z"
        },
        "papermill": {
          "duration": 0.014385,
          "end_time": "2022-08-04T16:12:35.848907",
          "exception": false,
          "start_time": "2022-08-04T16:12:35.834522",
          "status": "completed"
        },
        "tags": [
          "remove-cell"
        ]
      },
      "outputs": [],
      "source": [
        "class _PartialDense:\n",
        "    def __init__(self, weights, x_norm, y_norm, input_names, output_names):\n",
        "        self.weights = weights\n",
        "        self.x_norm = x_norm\n",
        "        self.y_norm = y_norm\n",
        "        self.input_names = input_names\n",
        "        self.output_names = output_names\n",
        "\n",
        "    def __call__(self, *params: ComplexFloat) -> ComplexFloat:\n",
        "        return dense(self.weights, *params, x_norm=self.x_norm, y_norm=self.y_norm)\n",
        "\n",
        "    def __repr__(self):\n",
        "        return f\"{self.__class__.__name__}{repr(self.input_names)}->{repr(self.output_names)}\""
      ]
    },
    {
      "cell_type": "markdown",
      "id": "2271569785ef0959",
      "metadata": {},
      "source": [
        ":::{eval-rst}\n",
        ".. autofunction:: sax.nn.io.load_nn_dense\n",
        ":::\n"
      ]
    },
    {
      "cell_type": "code",
      "execution_count": 10,
      "id": "ce402d42333b34e3",
      "metadata": {
        "execution": {
          "iopub.execute_input": "2022-08-04T16:12:35.871777Z",
          "iopub.status.busy": "2022-08-04T16:12:35.871254Z",
          "iopub.status.idle": "2022-08-04T16:12:35.873483Z",
          "shell.execute_reply": "2022-08-04T16:12:35.873054Z"
        },
        "papermill": {
          "duration": 0.01708,
          "end_time": "2022-08-04T16:12:35.873593",
          "exception": false,
          "start_time": "2022-08-04T16:12:35.856513",
          "status": "completed"
        },
        "tags": [
          "hide-input"
        ]
      },
      "outputs": [],
      "source": [
        "def load_nn_dense(\n",
        "    *sizes: int,\n",
        "    input_names: Optional[Tuple[str, ...]] = None,\n",
        "    output_names: Optional[Tuple[str, ...]] = None,\n",
        "    weightprefix=\"dense\",\n",
        "    weightdirpath=\"weights\",\n",
        "    normdirpath=\"norms\",\n",
        "    normprefix=\"norm\",\n",
        "    preprocess=preprocess,\n",
        ") -> Callable:\n",
        "    \"\"\"Load a pre-trained dense model\"\"\"\n",
        "    weights_path = get_dense_weights_path(\n",
        "        *sizes,\n",
        "        input_names=input_names,\n",
        "        output_names=output_names,\n",
        "        prefix=weightprefix,\n",
        "        dirpath=weightdirpath,\n",
        "        preprocess=preprocess,\n",
        "    )\n",
        "    if not os.path.exists(weights_path):\n",
        "        raise ValueError(\"Cannot find weights path for given parameters\")\n",
        "    x_norm_path = get_norm_path(\n",
        "        input_names=input_names,\n",
        "        prefix=normprefix,\n",
        "        dirpath=normdirpath,\n",
        "        preprocess=preprocess,\n",
        "    )\n",
        "    if not os.path.exists(x_norm_path):\n",
        "        raise ValueError(\"Cannot find normalization for input parameters\")\n",
        "    y_norm_path = get_norm_path(\n",
        "        output_names=output_names,\n",
        "        prefix=normprefix,\n",
        "        dirpath=normdirpath,\n",
        "        preprocess=preprocess,\n",
        "    )\n",
        "    if not os.path.exists(x_norm_path):\n",
        "        raise ValueError(\"Cannot find normalization for output parameters\")\n",
        "    weights = load_nn_weights_json(weights_path)\n",
        "    x_norm_dict = load_nn_weights_json(x_norm_path)\n",
        "    y_norm_dict = load_nn_weights_json(y_norm_path)\n",
        "    x_norm = norm(x_norm_dict[\"mean\"], x_norm_dict[\"std\"])\n",
        "    y_norm = norm(y_norm_dict[\"mean\"], y_norm_dict[\"std\"])\n",
        "    partial_dense = _PartialDense(weights, x_norm, y_norm, input_names, output_names)\n",
        "    return partial_dense"
      ]
    }
  ],
  "metadata": {
    "kernelspec": {
      "display_name": "sax",
      "language": "python",
      "name": "sax"
    },
    "language_info": {
      "codemirror_mode": {
        "name": "ipython",
        "version": 3
      },
      "file_extension": ".py",
      "mimetype": "text/x-python",
      "name": "python",
      "nbconvert_exporter": "python",
      "pygments_lexer": "ipython3",
      "version": "3.9.0"
    },
    "papermill": {
      "default_parameters": {},
      "duration": 4.264615,
      "end_time": "2022-08-04T16:12:36.388409",
      "environment_variables": {},
      "exception": null,
      "input_path": "./nbs/09d_nn_io.ipynb",
      "output_path": "./nbs/09d_nn_io.ipynb",
      "parameters": {},
      "start_time": "2022-08-04T16:12:32.123794",
      "version": "2.3.4"
    }
  },
  "nbformat": 4,
  "nbformat_minor": 5
}