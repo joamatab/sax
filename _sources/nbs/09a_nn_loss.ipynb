{
  "cells": [
    {
      "cell_type": "code",
      "execution_count": 1,
      "id": "90e02917444289e8",
      "metadata": {
        "execution": {
          "iopub.execute_input": "2022-08-04T16:11:58.276057Z",
          "iopub.status.busy": "2022-08-04T16:11:58.275525Z",
          "iopub.status.idle": "2022-08-04T16:11:58.279832Z",
          "shell.execute_reply": "2022-08-04T16:11:58.280239Z"
        },
        "papermill": {
          "duration": 0.016973,
          "end_time": "2022-08-04T16:11:58.280478",
          "exception": false,
          "start_time": "2022-08-04T16:11:58.263505",
          "status": "completed"
        },
        "tags": [
          "remove-cell"
        ]
      },
      "outputs": [],
      "source": []
    },
    {
      "cell_type": "markdown",
      "id": "3cf6720e",
      "metadata": {
        "papermill": {
          "duration": 0.005104,
          "end_time": "2022-08-04T16:11:58.291403",
          "exception": false,
          "start_time": "2022-08-04T16:11:58.286299",
          "status": "completed"
        },
        "tags": []
      },
      "source": [
        "# NN - Loss\n",
        "\n",
        "> loss functions and utilitites for SAX neural networks"
      ]
    },
    {
      "cell_type": "code",
      "execution_count": 2,
      "id": "0f53c71df6a2812e",
      "metadata": {
        "execution": {
          "iopub.execute_input": "2022-08-04T16:11:58.310519Z",
          "iopub.status.busy": "2022-08-04T16:11:58.307545Z",
          "iopub.status.idle": "2022-08-04T16:11:59.135404Z",
          "shell.execute_reply": "2022-08-04T16:11:59.134500Z"
        },
        "papermill": {
          "duration": 0.839111,
          "end_time": "2022-08-04T16:11:59.135544",
          "exception": false,
          "start_time": "2022-08-04T16:11:58.296433",
          "status": "completed"
        },
        "tags": [
          "remove-cell"
        ]
      },
      "outputs": [],
      "source": [
        "import matplotlib.pyplot as plt\n",
        "from fastcore.test import test_eq\n",
        "from pytest import approx, raises\n",
        "\n",
        "import os, sys; sys.stderr = open(os.devnull, \"w\")"
      ]
    },
    {
      "cell_type": "code",
      "execution_count": 3,
      "id": "a8f9f53b88206e2a",
      "metadata": {
        "execution": {
          "iopub.execute_input": "2022-08-04T16:11:59.150795Z",
          "iopub.status.busy": "2022-08-04T16:11:59.150297Z",
          "iopub.status.idle": "2022-08-04T16:11:59.967107Z",
          "shell.execute_reply": "2022-08-04T16:11:59.966556Z"
        },
        "papermill": {
          "duration": 0.826237,
          "end_time": "2022-08-04T16:11:59.967257",
          "exception": false,
          "start_time": "2022-08-04T16:11:59.141020",
          "status": "completed"
        },
        "tags": [
          "hide-input"
        ]
      },
      "outputs": [],
      "source": [
        "from __future__ import annotations\n",
        "\n",
        "from typing import Dict\n",
        "\n",
        "import jax.numpy as jnp\n",
        "from sax.typing_ import ComplexFloat"
      ]
    },
    {
      "cell_type": "markdown",
      "id": "2413c0fad60405b4",
      "metadata": {},
      "source": [
        ":::{eval-rst}\n",
        ".. autofunction:: sax.nn.loss.mse\n",
        ":::\n"
      ]
    },
    {
      "cell_type": "code",
      "execution_count": 4,
      "id": "5154aebd9857ed79",
      "metadata": {
        "execution": {
          "iopub.execute_input": "2022-08-04T16:11:59.983386Z",
          "iopub.status.busy": "2022-08-04T16:11:59.982875Z",
          "iopub.status.idle": "2022-08-04T16:11:59.984846Z",
          "shell.execute_reply": "2022-08-04T16:11:59.984427Z"
        },
        "papermill": {
          "duration": 0.011452,
          "end_time": "2022-08-04T16:11:59.984958",
          "exception": false,
          "start_time": "2022-08-04T16:11:59.973506",
          "status": "completed"
        },
        "tags": [
          "hide-input"
        ]
      },
      "outputs": [],
      "source": [
        "\n",
        "def mse(x: ComplexFloat, y: ComplexFloat) -> float:\n",
        "    \"\"\"mean squared error\"\"\"\n",
        "    return ((x - y) ** 2).mean()"
      ]
    },
    {
      "cell_type": "markdown",
      "id": "5130cd150e89f3e7",
      "metadata": {},
      "source": [
        ":::{eval-rst}\n",
        ".. autofunction:: sax.nn.loss.huber_loss\n",
        ":::\n"
      ]
    },
    {
      "cell_type": "code",
      "execution_count": 5,
      "id": "6c87c3aeb2437bce",
      "metadata": {
        "execution": {
          "iopub.execute_input": "2022-08-04T16:11:59.999833Z",
          "iopub.status.busy": "2022-08-04T16:11:59.997629Z",
          "iopub.status.idle": "2022-08-04T16:12:00.001896Z",
          "shell.execute_reply": "2022-08-04T16:12:00.001500Z"
        },
        "papermill": {
          "duration": 0.011726,
          "end_time": "2022-08-04T16:12:00.002010",
          "exception": false,
          "start_time": "2022-08-04T16:11:59.990284",
          "status": "completed"
        },
        "tags": [
          "hide-input"
        ]
      },
      "outputs": [],
      "source": [
        "\n",
        "def huber_loss(x: ComplexFloat, y: ComplexFloat, delta: float=0.5) -> float:\n",
        "    \"\"\"huber loss\"\"\"\n",
        "    return ((delta ** 2) * ((1.0 + ((x - y) / delta) ** 2) ** 0.5 - 1.0)).mean()"
      ]
    },
    {
      "cell_type": "markdown",
      "id": "98d84861",
      "metadata": {
        "papermill": {
          "duration": 0.005428,
          "end_time": "2022-08-04T16:12:00.012879",
          "exception": false,
          "start_time": "2022-08-04T16:12:00.007451",
          "status": "completed"
        },
        "tags": []
      },
      "source": [
        "The huber loss is like the mean squared error close to zero and mean\n",
        "absolute error for outliers"
      ]
    },
    {
      "cell_type": "markdown",
      "id": "bd7bc40f3bc15ea4",
      "metadata": {},
      "source": [
        ":::{eval-rst}\n",
        ".. autofunction:: sax.nn.loss.l2_reg\n",
        ":::\n"
      ]
    },
    {
      "cell_type": "code",
      "execution_count": 6,
      "id": "b9a8240865662896",
      "metadata": {
        "execution": {
          "iopub.execute_input": "2022-08-04T16:12:00.030206Z",
          "iopub.status.busy": "2022-08-04T16:12:00.029686Z",
          "iopub.status.idle": "2022-08-04T16:12:00.031059Z",
          "shell.execute_reply": "2022-08-04T16:12:00.031528Z"
        },
        "papermill": {
          "duration": 0.013374,
          "end_time": "2022-08-04T16:12:00.031674",
          "exception": false,
          "start_time": "2022-08-04T16:12:00.018300",
          "status": "completed"
        },
        "tags": [
          "hide-input"
        ]
      },
      "outputs": [],
      "source": [
        "\n",
        "def l2_reg(weights: Dict[str, ComplexFloat]) -> float:\n",
        "    \"\"\"L2 regularization loss\"\"\"\n",
        "    numel = 0\n",
        "    loss = 0.0\n",
        "    for w in (v for k, v in weights.items() if k[0] in (\"w\", \"b\")):\n",
        "        numel = numel + w.size\n",
        "        loss = loss + (jnp.abs(w) ** 2).sum()\n",
        "    return loss / numel"
      ]
    }
  ],
  "metadata": {
    "kernelspec": {
      "display_name": "sax",
      "language": "python",
      "name": "sax"
    },
    "language_info": {
      "codemirror_mode": {
        "name": "ipython",
        "version": 3
      },
      "file_extension": ".py",
      "mimetype": "text/x-python",
      "name": "python",
      "nbconvert_exporter": "python",
      "pygments_lexer": "ipython3",
      "version": "3.9.0"
    },
    "papermill": {
      "default_parameters": {},
      "duration": 4.439384,
      "end_time": "2022-08-04T16:12:01.192164",
      "environment_variables": {},
      "exception": null,
      "input_path": "./nbs/09a_nn_loss.ipynb",
      "output_path": "./nbs/09a_nn_loss.ipynb",
      "parameters": {},
      "start_time": "2022-08-04T16:11:56.752780",
      "version": "2.3.4"
    }
  },
  "nbformat": 4,
  "nbformat_minor": 5
}