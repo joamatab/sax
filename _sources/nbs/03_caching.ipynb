{
  "cells": [
    {
      "cell_type": "code",
      "execution_count": 1,
      "id": "cded293fd3b5563e",
      "metadata": {
        "execution": {
          "iopub.execute_input": "2022-08-04T16:12:31.337152Z",
          "iopub.status.busy": "2022-08-04T16:12:31.336634Z",
          "iopub.status.idle": "2022-08-04T16:12:31.339239Z",
          "shell.execute_reply": "2022-08-04T16:12:31.339672Z"
        },
        "papermill": {
          "duration": 0.013482,
          "end_time": "2022-08-04T16:12:31.339893",
          "exception": false,
          "start_time": "2022-08-04T16:12:31.326411",
          "status": "completed"
        },
        "tags": [
          "remove-cell"
        ]
      },
      "outputs": [],
      "source": []
    },
    {
      "cell_type": "markdown",
      "id": "faeaa526",
      "metadata": {
        "papermill": {
          "duration": 0.004738,
          "end_time": "2022-08-04T16:12:31.349816",
          "exception": false,
          "start_time": "2022-08-04T16:12:31.345078",
          "status": "completed"
        },
        "tags": []
      },
      "source": [
        "# Caching\n",
        "\n",
        "> SAX Caching"
      ]
    },
    {
      "cell_type": "code",
      "execution_count": 2,
      "id": "9c8b570862fcca4d",
      "metadata": {
        "execution": {
          "iopub.execute_input": "2022-08-04T16:12:31.368238Z",
          "iopub.status.busy": "2022-08-04T16:12:31.367715Z",
          "iopub.status.idle": "2022-08-04T16:12:31.369512Z",
          "shell.execute_reply": "2022-08-04T16:12:31.369938Z"
        },
        "papermill": {
          "duration": 0.015625,
          "end_time": "2022-08-04T16:12:31.370072",
          "exception": false,
          "start_time": "2022-08-04T16:12:31.354447",
          "status": "completed"
        },
        "tags": [
          "remove-cell"
        ]
      },
      "outputs": [],
      "source": [
        "import os, sys; sys.stderr = open(os.devnull, \"w\")"
      ]
    },
    {
      "cell_type": "code",
      "execution_count": 3,
      "id": "2de48085d280b424",
      "metadata": {
        "execution": {
          "iopub.execute_input": "2022-08-04T16:12:31.382060Z",
          "iopub.status.busy": "2022-08-04T16:12:31.381570Z",
          "iopub.status.idle": "2022-08-04T16:12:31.384600Z",
          "shell.execute_reply": "2022-08-04T16:12:31.385013Z"
        },
        "papermill": {
          "duration": 0.010483,
          "end_time": "2022-08-04T16:12:31.385147",
          "exception": false,
          "start_time": "2022-08-04T16:12:31.374664",
          "status": "completed"
        },
        "tags": [
          "hide-input"
        ]
      },
      "outputs": [],
      "source": [
        "from __future__ import annotations\n",
        "\n",
        "import gc\n",
        "from functools import _lru_cache_wrapper, lru_cache, partial, wraps\n",
        "from typing import Callable, Optional"
      ]
    },
    {
      "cell_type": "code",
      "execution_count": 4,
      "id": "7a08e78cea806a0a",
      "metadata": {
        "execution": {
          "iopub.execute_input": "2022-08-04T16:12:31.398190Z",
          "iopub.status.busy": "2022-08-04T16:12:31.397695Z",
          "iopub.status.idle": "2022-08-04T16:12:31.398926Z",
          "shell.execute_reply": "2022-08-04T16:12:31.399385Z"
        },
        "papermill": {
          "duration": 0.009653,
          "end_time": "2022-08-04T16:12:31.399520",
          "exception": false,
          "start_time": "2022-08-04T16:12:31.389867",
          "status": "completed"
        },
        "tags": [
          "remove-cell"
        ]
      },
      "outputs": [],
      "source": [
        "\n",
        "_cached_functions = []"
      ]
    },
    {
      "cell_type": "markdown",
      "id": "db38249bd4f31b4d",
      "metadata": {},
      "source": [
        ":::{eval-rst}\n",
        ".. autofunction:: sax.caching.cache\n",
        ":::\n"
      ]
    },
    {
      "cell_type": "code",
      "execution_count": 5,
      "id": "c243c9d34dd7915c",
      "metadata": {
        "execution": {
          "iopub.execute_input": "2022-08-04T16:12:31.415340Z",
          "iopub.status.busy": "2022-08-04T16:12:31.414773Z",
          "iopub.status.idle": "2022-08-04T16:12:31.415912Z",
          "shell.execute_reply": "2022-08-04T16:12:31.416369Z"
        },
        "papermill": {
          "duration": 0.012113,
          "end_time": "2022-08-04T16:12:31.416505",
          "exception": false,
          "start_time": "2022-08-04T16:12:31.404392",
          "status": "completed"
        },
        "tags": [
          "hide-input"
        ]
      },
      "outputs": [],
      "source": [
        "\n",
        "def cache(func: Optional[Callable] = None, *, maxsize: Optional[int] = None) -> Callable:\n",
        "    \"\"\"cache a function\"\"\"\n",
        "    if func is None:\n",
        "        return partial(cache, maxsize=maxsize)\n",
        "\n",
        "    cached_func = lru_cache(maxsize=maxsize)(func)\n",
        "\n",
        "    @wraps(func)\n",
        "    def new_func(*args, **kwargs):\n",
        "        return cached_func(*args, **kwargs)\n",
        "\n",
        "    new_func.cache_clear = cached_func.cache_clear\n",
        "\n",
        "    _cached_functions.append(new_func)\n",
        "\n",
        "    return new_func"
      ]
    },
    {
      "cell_type": "markdown",
      "id": "e81bc897389340d5",
      "metadata": {},
      "source": [
        ":::{eval-rst}\n",
        ".. autofunction:: sax.caching.cache_clear\n",
        ":::\n"
      ]
    },
    {
      "cell_type": "code",
      "execution_count": 6,
      "id": "4449947104795918",
      "metadata": {
        "execution": {
          "iopub.execute_input": "2022-08-04T16:12:31.431391Z",
          "iopub.status.busy": "2022-08-04T16:12:31.430875Z",
          "iopub.status.idle": "2022-08-04T16:12:31.432418Z",
          "shell.execute_reply": "2022-08-04T16:12:31.432841Z"
        },
        "papermill": {
          "duration": 0.011444,
          "end_time": "2022-08-04T16:12:31.432976",
          "exception": false,
          "start_time": "2022-08-04T16:12:31.421532",
          "status": "completed"
        },
        "tags": [
          "hide-input"
        ]
      },
      "outputs": [],
      "source": [
        "def cache_clear(*, force: bool=False):\n",
        "    \"\"\"clear all function caches\"\"\"\n",
        "    if not force:\n",
        "        for func in _cached_functions:\n",
        "            func.cache_clear()\n",
        "    else:\n",
        "        gc.collect()\n",
        "        funcs = [a for a in gc.get_objects() if isinstance(a, _lru_cache_wrapper)]\n",
        "\n",
        "        for func in funcs:\n",
        "            func.cache_clear()"
      ]
    }
  ],
  "metadata": {
    "kernelspec": {
      "display_name": "sax-np",
      "language": "python",
      "name": "sax-np"
    },
    "language_info": {
      "codemirror_mode": {
        "name": "ipython",
        "version": 3
      },
      "file_extension": ".py",
      "mimetype": "text/x-python",
      "name": "python",
      "nbconvert_exporter": "python",
      "pygments_lexer": "ipython3",
      "version": "3.9.0"
    },
    "papermill": {
      "default_parameters": {},
      "duration": 1.628709,
      "end_time": "2022-08-04T16:12:31.644425",
      "environment_variables": {},
      "exception": null,
      "input_path": "./nbs/03_caching.ipynb",
      "output_path": "./nbs/03_caching.ipynb",
      "parameters": {},
      "start_time": "2022-08-04T16:12:30.015716",
      "version": "2.3.4"
    }
  },
  "nbformat": 4,
  "nbformat_minor": 5
}