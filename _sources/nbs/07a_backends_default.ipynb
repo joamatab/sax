{
  "cells": [
    {
      "cell_type": "code",
      "execution_count": 1,
      "id": "6ac701c3d0489356",
      "metadata": {
        "execution": {
          "iopub.execute_input": "2022-08-04T16:13:11.620324Z",
          "iopub.status.busy": "2022-08-04T16:13:11.619812Z",
          "iopub.status.idle": "2022-08-04T16:13:11.622895Z",
          "shell.execute_reply": "2022-08-04T16:13:11.622360Z"
        },
        "papermill": {
          "duration": 0.033205,
          "end_time": "2022-08-04T16:13:11.623031",
          "exception": false,
          "start_time": "2022-08-04T16:13:11.589826",
          "status": "completed"
        },
        "tags": [
          "remove-cell"
        ]
      },
      "outputs": [],
      "source": []
    },
    {
      "cell_type": "markdown",
      "id": "41e0d311",
      "metadata": {
        "papermill": {
          "duration": 0.023377,
          "end_time": "2022-08-04T16:13:11.670133",
          "exception": false,
          "start_time": "2022-08-04T16:13:11.646756",
          "status": "completed"
        },
        "tags": []
      },
      "source": [
        "# Backend - default\n",
        "\n",
        "> Default SAX Backend"
      ]
    },
    {
      "cell_type": "code",
      "execution_count": 2,
      "id": "e55005b1b0c78df8",
      "metadata": {
        "execution": {
          "iopub.execute_input": "2022-08-04T16:13:11.726180Z",
          "iopub.status.busy": "2022-08-04T16:13:11.725162Z",
          "iopub.status.idle": "2022-08-04T16:13:11.727648Z",
          "shell.execute_reply": "2022-08-04T16:13:11.728117Z"
        },
        "papermill": {
          "duration": 0.035209,
          "end_time": "2022-08-04T16:13:11.728266",
          "exception": false,
          "start_time": "2022-08-04T16:13:11.693057",
          "status": "completed"
        },
        "tags": [
          "remove-cell"
        ]
      },
      "outputs": [],
      "source": [
        "import os, sys; sys.stderr = open(os.devnull, \"w\")"
      ]
    },
    {
      "cell_type": "code",
      "execution_count": 3,
      "id": "283757e49eace04a",
      "metadata": {
        "execution": {
          "iopub.execute_input": "2022-08-04T16:13:11.781872Z",
          "iopub.status.busy": "2022-08-04T16:13:11.781345Z",
          "iopub.status.idle": "2022-08-04T16:13:12.635832Z",
          "shell.execute_reply": "2022-08-04T16:13:12.634988Z"
        },
        "papermill": {
          "duration": 0.884003,
          "end_time": "2022-08-04T16:13:12.635975",
          "exception": false,
          "start_time": "2022-08-04T16:13:11.751972",
          "status": "completed"
        },
        "tags": [
          "hide-input"
        ]
      },
      "outputs": [],
      "source": [
        "from __future__ import annotations\n",
        "\n",
        "import warnings\n",
        "from types import SimpleNamespace\n",
        "from typing import Dict\n",
        "\n",
        "try:\n",
        "    import jax\n",
        "    import jax.numpy as jnp\n",
        "    JAX_AVAILABLE = True\n",
        "except ImportError:\n",
        "    import numpy as jnp\n",
        "    def jit(func, *args, **kwargs):\n",
        "        warnings.warn(\"[NO JAX] skipping jit! Please install JAX!\")\n",
        "        return func\n",
        "    \n",
        "    jax = SimpleNamespace(jit=jit)\n",
        "    JAX_AVAILABLE = False\n",
        "    \n",
        "from sax.typing_ import SDict, SType, sdict"
      ]
    },
    {
      "cell_type": "markdown",
      "id": "d8369d2f-9109-4375-8cb4-6d7ccabbd356",
      "metadata": {
        "papermill": {
          "duration": 0.023395,
          "end_time": "2022-08-04T16:13:12.683542",
          "exception": false,
          "start_time": "2022-08-04T16:13:12.660147",
          "status": "completed"
        },
        "tags": []
      },
      "source": [
        "## Citation\n",
        "The default SAX backend is based on the following paper:\n",
        "\n",
        "> Filipsson, Gunnar. \"*A new general computer algorithm for S-matrix calculation of interconnected multiports.*\" 11th European Microwave Conference. IEEE, 1981."
      ]
    },
    {
      "cell_type": "markdown",
      "id": "feea9c4f-0528-44e0-8e87-91234c6d29cc",
      "metadata": {
        "papermill": {
          "duration": 0.023552,
          "end_time": "2022-08-04T16:13:12.730236",
          "exception": false,
          "start_time": "2022-08-04T16:13:12.706684",
          "status": "completed"
        },
        "tags": []
      },
      "source": [
        "## Circuit Evaluation"
      ]
    },
    {
      "cell_type": "markdown",
      "id": "184affd09f2e5b45",
      "metadata": {},
      "source": [
        ":::{eval-rst}\n",
        ".. autofunction:: sax.backends.default.evaluate_circuit\n",
        ":::\n"
      ]
    },
    {
      "cell_type": "code",
      "execution_count": 4,
      "id": "e319d0f3d1bc3ea8",
      "metadata": {
        "execution": {
          "iopub.execute_input": "2022-08-04T16:13:12.794057Z",
          "iopub.status.busy": "2022-08-04T16:13:12.779524Z",
          "iopub.status.idle": "2022-08-04T16:13:12.796247Z",
          "shell.execute_reply": "2022-08-04T16:13:12.795835Z"
        },
        "papermill": {
          "duration": 0.042956,
          "end_time": "2022-08-04T16:13:12.796360",
          "exception": false,
          "start_time": "2022-08-04T16:13:12.753404",
          "status": "completed"
        },
        "tags": [
          "hide-input"
        ]
      },
      "outputs": [],
      "source": [
        "\n",
        "def evaluate_circuit(\n",
        "    instances: Dict[str, SType],\n",
        "    connections: Dict[str, str],\n",
        "    ports: Dict[str, str],\n",
        ") -> SDict:\n",
        "    \"\"\"evaluate a circuit for the given sdicts.\"\"\"\n",
        "    \n",
        "    # it's actually easier working w reverse:\n",
        "    reversed_ports = {v: k for k, v in ports.items()}\n",
        "\n",
        "    block_diag = {}\n",
        "    for name, S in instances.items():\n",
        "        block_diag.update(\n",
        "            {(f\"{name},{p1}\", f\"{name},{p2}\"): v for (p1, p2), v in sdict(S).items()}\n",
        "        )\n",
        "\n",
        "    sorted_connections = sorted(connections.items(), key=_connections_sort_key)\n",
        "    all_connected_instances = {k: {k} for k in instances}\n",
        "\n",
        "    for k, l in sorted_connections:\n",
        "        name1, _ = k.split(\",\")\n",
        "        name2, _ = l.split(\",\")\n",
        "\n",
        "        connected_instances = (\n",
        "            all_connected_instances[name1] | all_connected_instances[name2]\n",
        "        )\n",
        "        for name in connected_instances:\n",
        "            all_connected_instances[name] = connected_instances\n",
        "\n",
        "        current_ports = tuple(\n",
        "            p\n",
        "            for instance in connected_instances\n",
        "            for p in set([p for p, _ in block_diag] + [p for _, p in block_diag])\n",
        "            if p.startswith(f\"{instance},\")\n",
        "        )\n",
        "\n",
        "        block_diag.update(_interconnect_ports(block_diag, current_ports, k, l))\n",
        "\n",
        "        for i, j in list(block_diag.keys()):\n",
        "            is_connected = i == k or i == l or j == k or j == l\n",
        "            is_in_output_ports = i in reversed_ports and j in reversed_ports\n",
        "            if is_connected and not is_in_output_ports:\n",
        "                del block_diag[i, j]  # we're no longer interested in these port combinations\n",
        "\n",
        "    circuit_sdict: SDict = {\n",
        "        (reversed_ports[i], reversed_ports[j]): v\n",
        "        for (i, j), v in block_diag.items()\n",
        "        if i in reversed_ports and j in reversed_ports\n",
        "    }\n",
        "    return circuit_sdict\n",
        "\n",
        "\n",
        "def _connections_sort_key(connection):\n",
        "    \"\"\"sort key for sorting a connection dictionary \"\"\"\n",
        "    part1, part2 = connection\n",
        "    name1, _ = part1.split(\",\")\n",
        "    name2, _ = part2.split(\",\")\n",
        "    return (min(name1, name2), max(name1, name2))\n",
        "\n",
        "\n",
        "def _interconnect_ports(block_diag, current_ports, k, l):\n",
        "    \"\"\"interconnect two ports in a given model\n",
        "\n",
        "    > Note: the interconnect algorithm is based on equation 6 of 'Filipsson, Gunnar. \n",
        "      \"A new general computer algorithm for S-matrix calculation of interconnected \n",
        "      multiports.\" 11th European Microwave Conference. IEEE, 1981.'\n",
        "    \"\"\"\n",
        "    current_block_diag = {}\n",
        "    for i in current_ports:\n",
        "        for j in current_ports:\n",
        "            vij = _calculate_interconnected_value(\n",
        "                vij=block_diag.get((i, j), 0.0),\n",
        "                vik=block_diag.get((i, k), 0.0),\n",
        "                vil=block_diag.get((i, l), 0.0),\n",
        "                vkj=block_diag.get((k, j), 0.0),\n",
        "                vkk=block_diag.get((k, k), 0.0),\n",
        "                vkl=block_diag.get((k, l), 0.0),\n",
        "                vlj=block_diag.get((l, j), 0.0),\n",
        "                vlk=block_diag.get((l, k), 0.0),\n",
        "                vll=block_diag.get((l, l), 0.0),\n",
        "            )\n",
        "            current_block_diag[i, j] = vij\n",
        "    return current_block_diag\n",
        "\n",
        "\n",
        "@jax.jit\n",
        "def _calculate_interconnected_value(vij, vik, vil, vkj, vkk, vkl, vlj, vlk, vll):\n",
        "    \"\"\"Calculate an interconnected S-parameter value\n",
        "\n",
        "    Note:\n",
        "        The interconnect algorithm is based on equation 6 in the paper below::\n",
        "\n",
        "          Filipsson, Gunnar. \"A new general computer algorithm for S-matrix calculation\n",
        "          of interconnected multiports.\" 11th European Microwave Conference. IEEE, 1981.\n",
        "    \"\"\"\n",
        "    result = vij + (\n",
        "        vkj * vil * (1 - vlk)\n",
        "        + vlj * vik * (1 - vkl)\n",
        "        + vkj * vll * vik\n",
        "        + vlj * vkk * vil\n",
        "    ) / ((1 - vkl) * (1 - vlk) - vkk * vll)\n",
        "    return result"
      ]
    },
    {
      "cell_type": "markdown",
      "id": "9dabee38",
      "metadata": {
        "papermill": {
          "duration": 0.023746,
          "end_time": "2022-08-04T16:13:12.843920",
          "exception": false,
          "start_time": "2022-08-04T16:13:12.820174",
          "status": "completed"
        },
        "tags": []
      },
      "source": [
        "## Example"
      ]
    },
    {
      "cell_type": "code",
      "execution_count": 5,
      "id": "5ab7ea6c",
      "metadata": {
        "execution": {
          "iopub.execute_input": "2022-08-04T16:13:12.899609Z",
          "iopub.status.busy": "2022-08-04T16:13:12.899051Z",
          "iopub.status.idle": "2022-08-04T16:13:13.914891Z",
          "shell.execute_reply": "2022-08-04T16:13:13.915302Z"
        },
        "papermill": {
          "duration": 1.047691,
          "end_time": "2022-08-04T16:13:13.915458",
          "exception": false,
          "start_time": "2022-08-04T16:13:12.867767",
          "status": "completed"
        },
        "tags": []
      },
      "outputs": [
        {
          "data": {
            "text/plain": [
              "{('in0', 'in0'): 0j,\n",
              " ('in0', 'in1'): 0j,\n",
              " ('in1', 'in0'): 0j,\n",
              " ('in1', 'in1'): 0j,\n",
              " ('out0', 'out0'): 0j,\n",
              " ('out0', 'out1'): 0j,\n",
              " ('out1', 'out0'): 0j,\n",
              " ('out1', 'out1'): 0j,\n",
              " ('in1', 'out1'): 0.25-0.43301j,\n",
              " ('in1', 'out0'): -0.43301+0.75j,\n",
              " ('in0', 'out1'): -0.43301+0.75j,\n",
              " ('in0', 'out0'): -0.25+0.43301j,\n",
              " ('out1', 'in1'): 0.25-0.43301j,\n",
              " ('out1', 'in0'): -0.43301+0.75j,\n",
              " ('out0', 'in1'): -0.43301+0.75j,\n",
              " ('out0', 'in0'): -0.25+0.43301j}"
            ]
          },
          "execution_count": 5,
          "metadata": {},
          "output_type": "execute_result"
        }
      ],
      "source": [
        "wg_sdict: SDict = {\n",
        "    (\"in0\", \"out0\"): 0.5 + 0.86603j,\n",
        "    (\"out0\", \"in0\"): 0.5 + 0.86603j,\n",
        "}\n",
        "\n",
        "\u03c4, \u03ba = 0.5 ** 0.5, 1j * 0.5 ** 0.5\n",
        "dc_sdense: SDense = (\n",
        "    jnp.array([[0, 0, \u03c4, \u03ba], \n",
        "               [0, 0, \u03ba, \u03c4], \n",
        "               [\u03c4, \u03ba, 0, 0], \n",
        "               [\u03ba, \u03c4, 0, 0]]),\n",
        "    {\"in0\": 0, \"in1\": 1, \"out0\": 2, \"out1\": 3},\n",
        ")\n",
        "\n",
        "mzi_sdict: SDict = evaluate_circuit(\n",
        "    instances={\n",
        "        \"dc1\": dc_sdense,\n",
        "        \"wg\": wg_sdict,\n",
        "        \"dc2\": dc_sdense,\n",
        "    },\n",
        "    connections={\n",
        "        \"dc1,out0\": \"wg,in0\",\n",
        "        \"wg,out0\": \"dc2,in0\",\n",
        "        \"dc1,out1\": \"dc2,in1\",\n",
        "    },\n",
        "    ports={\n",
        "        \"in0\": \"dc1,in0\",\n",
        "        \"in1\": \"dc1,in1\",\n",
        "        \"out0\": \"dc2,out0\",\n",
        "        \"out1\": \"dc2,out1\",\n",
        "    }\n",
        ")\n",
        "\n",
        "mzi_sdict"
      ]
    },
    {
      "cell_type": "markdown",
      "id": "48950a3d",
      "metadata": {
        "papermill": {
          "duration": 0.02307,
          "end_time": "2022-08-04T16:13:13.962537",
          "exception": false,
          "start_time": "2022-08-04T16:13:13.939467",
          "status": "completed"
        },
        "tags": []
      },
      "source": [
        "## Algorithm Walkthrough\n",
        "\n",
        "> Note: This algorithm gets pretty slow for large circuits. I'd be [very interested in any improvements](#Algorithm-Improvements) that can be made here, especially because - as opposed to the currently faster [KLU backend](./07b_backends_klu.ipynb) - the algorithm discussed here is jittable, differentiable and can be used on GPUs."
      ]
    },
    {
      "cell_type": "markdown",
      "id": "81e28766",
      "metadata": {
        "papermill": {
          "duration": 0.024459,
          "end_time": "2022-08-04T16:13:14.010328",
          "exception": false,
          "start_time": "2022-08-04T16:13:13.985869",
          "status": "completed"
        },
        "tags": []
      },
      "source": [
        "Let's walk through all the steps of this algorithm. We'll do this for a simple MZI circuit, given by two directional couplers characterised by `dc_sdense` with a phase shifting waveguide in between `wg_sdict`:"
      ]
    },
    {
      "cell_type": "code",
      "execution_count": 6,
      "id": "e2bdfbf4",
      "metadata": {
        "execution": {
          "iopub.execute_input": "2022-08-04T16:13:14.064050Z",
          "iopub.status.busy": "2022-08-04T16:13:14.062938Z",
          "iopub.status.idle": "2022-08-04T16:13:14.064618Z",
          "shell.execute_reply": "2022-08-04T16:13:14.065001Z"
        },
        "papermill": {
          "duration": 0.031032,
          "end_time": "2022-08-04T16:13:14.065144",
          "exception": false,
          "start_time": "2022-08-04T16:13:14.034112",
          "status": "completed"
        },
        "tags": []
      },
      "outputs": [],
      "source": [
        "instances={\n",
        "    \"dc1\": dc_sdense,\n",
        "    \"wg\": wg_sdict,\n",
        "    \"dc2\": dc_sdense,\n",
        "}\n",
        "connections={\n",
        "    \"dc1,out0\": \"wg,in0\",\n",
        "    \"wg,out0\": \"dc2,in0\",\n",
        "    \"dc1,out1\": \"dc2,in1\",\n",
        "}\n",
        "ports={\n",
        "    \"in0\": \"dc1,in0\",\n",
        "    \"in1\": \"dc1,in1\",\n",
        "    \"out0\": \"dc2,out0\",\n",
        "    \"out1\": \"dc2,out1\",\n",
        "}"
      ]
    },
    {
      "cell_type": "markdown",
      "id": "6ef72161",
      "metadata": {
        "papermill": {
          "duration": 0.024283,
          "end_time": "2022-08-04T16:13:14.113531",
          "exception": false,
          "start_time": "2022-08-04T16:13:14.089248",
          "status": "completed"
        },
        "tags": []
      },
      "source": [
        "as a first step, we construct the `reversed_ports`, it's actually easier to work with `reversed_ports` (we chose the opposite convention in the netlist definition to adhere to the GDSFactory netlist convention):"
      ]
    },
    {
      "cell_type": "code",
      "execution_count": 7,
      "id": "70302612",
      "metadata": {
        "execution": {
          "iopub.execute_input": "2022-08-04T16:13:14.166772Z",
          "iopub.status.busy": "2022-08-04T16:13:14.166245Z",
          "iopub.status.idle": "2022-08-04T16:13:14.168424Z",
          "shell.execute_reply": "2022-08-04T16:13:14.168795Z"
        },
        "papermill": {
          "duration": 0.031439,
          "end_time": "2022-08-04T16:13:14.168946",
          "exception": false,
          "start_time": "2022-08-04T16:13:14.137507",
          "status": "completed"
        },
        "tags": []
      },
      "outputs": [],
      "source": [
        "reversed_ports = {v: k for k, v in ports.items()}"
      ]
    },
    {
      "cell_type": "markdown",
      "id": "78676045",
      "metadata": {
        "papermill": {
          "duration": 0.024266,
          "end_time": "2022-08-04T16:13:14.217704",
          "exception": false,
          "start_time": "2022-08-04T16:13:14.193438",
          "status": "completed"
        },
        "tags": []
      },
      "source": [
        "The first real step of the algorithm is to create the 'block diagonal sdict`:"
      ]
    },
    {
      "cell_type": "code",
      "execution_count": 8,
      "id": "0ff6149f",
      "metadata": {
        "execution": {
          "iopub.execute_input": "2022-08-04T16:13:14.273141Z",
          "iopub.status.busy": "2022-08-04T16:13:14.272613Z",
          "iopub.status.idle": "2022-08-04T16:13:14.322468Z",
          "shell.execute_reply": "2022-08-04T16:13:14.322974Z"
        },
        "papermill": {
          "duration": 0.081212,
          "end_time": "2022-08-04T16:13:14.323164",
          "exception": false,
          "start_time": "2022-08-04T16:13:14.241952",
          "status": "completed"
        },
        "tags": []
      },
      "outputs": [],
      "source": [
        "block_diag = {}\n",
        "for name, S in instances.items():\n",
        "    block_diag.update(\n",
        "        {(f\"{name},{p1}\", f\"{name},{p2}\"): v for (p1, p2), v in sdict(S).items()}\n",
        "    )\n"
      ]
    },
    {
      "cell_type": "markdown",
      "id": "c4721548",
      "metadata": {
        "papermill": {
          "duration": 0.024209,
          "end_time": "2022-08-04T16:13:14.372217",
          "exception": false,
          "start_time": "2022-08-04T16:13:14.348008",
          "status": "completed"
        },
        "tags": []
      },
      "source": [
        "we can optionally filter out zeros from the resulting block_diag representation. Just note that this will make the resuling function unjittable (the resulting 'shape' (i.e. keys) of the dictionary would depend on the data itself, which is not allowed in JAX jit). We're doing it here to avoid printing zeros but **internally this is not done by default**."
      ]
    },
    {
      "cell_type": "code",
      "execution_count": 9,
      "id": "cfce53c1",
      "metadata": {
        "execution": {
          "iopub.execute_input": "2022-08-04T16:13:14.429176Z",
          "iopub.status.busy": "2022-08-04T16:13:14.428641Z",
          "iopub.status.idle": "2022-08-04T16:13:14.519414Z",
          "shell.execute_reply": "2022-08-04T16:13:14.519809Z"
        },
        "papermill": {
          "duration": 0.123604,
          "end_time": "2022-08-04T16:13:14.520004",
          "exception": false,
          "start_time": "2022-08-04T16:13:14.396400",
          "status": "completed"
        },
        "tags": []
      },
      "outputs": [
        {
          "name": "stdout",
          "output_type": "stream",
          "text": [
            "18\n"
          ]
        },
        {
          "data": {
            "text/plain": [
              "{('dc1,in0', 'dc1,out0'): 0.70711+0j,\n",
              " ('dc1,in0', 'dc1,out1'): 0.70711j,\n",
              " ('dc1,in1', 'dc1,out0'): 0.70711j,\n",
              " ('dc1,in1', 'dc1,out1'): 0.70711+0j,\n",
              " ('dc1,out0', 'dc1,in0'): 0.70711+0j,\n",
              " ('dc1,out0', 'dc1,in1'): 0.70711j,\n",
              " ('dc1,out1', 'dc1,in0'): 0.70711j,\n",
              " ('dc1,out1', 'dc1,in1'): 0.70711+0j,\n",
              " ('wg,in0', 'wg,out0'): (0.5+0.86603j),\n",
              " ('wg,out0', 'wg,in0'): (0.5+0.86603j),\n",
              " ('dc2,in0', 'dc2,out0'): 0.70711+0j,\n",
              " ('dc2,in0', 'dc2,out1'): 0.70711j,\n",
              " ('dc2,in1', 'dc2,out0'): 0.70711j,\n",
              " ('dc2,in1', 'dc2,out1'): 0.70711+0j,\n",
              " ('dc2,out0', 'dc2,in0'): 0.70711+0j,\n",
              " ('dc2,out0', 'dc2,in1'): 0.70711j,\n",
              " ('dc2,out1', 'dc2,in0'): 0.70711j,\n",
              " ('dc2,out1', 'dc2,in1'): 0.70711+0j}"
            ]
          },
          "execution_count": 9,
          "metadata": {},
          "output_type": "execute_result"
        }
      ],
      "source": [
        "block_diag = {k: v for k, v in block_diag.items() if jnp.abs(v) > 1e-10}\n",
        "print(len(block_diag))\n",
        "block_diag"
      ]
    },
    {
      "cell_type": "markdown",
      "id": "1963694a",
      "metadata": {
        "papermill": {
          "duration": 0.025307,
          "end_time": "2022-08-04T16:13:14.571027",
          "exception": false,
          "start_time": "2022-08-04T16:13:14.545720",
          "status": "completed"
        },
        "tags": []
      },
      "source": [
        "next, we sort the connections such that similar components are grouped together:"
      ]
    },
    {
      "cell_type": "code",
      "execution_count": 10,
      "id": "9859c2d4",
      "metadata": {
        "execution": {
          "iopub.execute_input": "2022-08-04T16:13:14.627480Z",
          "iopub.status.busy": "2022-08-04T16:13:14.624075Z",
          "iopub.status.idle": "2022-08-04T16:13:14.629213Z",
          "shell.execute_reply": "2022-08-04T16:13:14.629677Z"
        },
        "papermill": {
          "duration": 0.033574,
          "end_time": "2022-08-04T16:13:14.629840",
          "exception": false,
          "start_time": "2022-08-04T16:13:14.596266",
          "status": "completed"
        },
        "tags": []
      },
      "outputs": [
        {
          "data": {
            "text/plain": [
              "[('dc1,out1', 'dc2,in1'), ('dc1,out0', 'wg,in0'), ('wg,out0', 'dc2,in0')]"
            ]
          },
          "execution_count": 10,
          "metadata": {},
          "output_type": "execute_result"
        }
      ],
      "source": [
        "sorted_connections = sorted(connections.items(), key=_connections_sort_key)\n",
        "sorted_connections"
      ]
    },
    {
      "cell_type": "markdown",
      "id": "c75fbf65",
      "metadata": {
        "papermill": {
          "duration": 0.025527,
          "end_time": "2022-08-04T16:13:14.681092",
          "exception": false,
          "start_time": "2022-08-04T16:13:14.655565",
          "status": "completed"
        },
        "tags": []
      },
      "source": [
        "Now we iterate over the sorted connections and connect components as they come in. Connected components take over the name of the first component in the connection, but we keep a set of components belonging to that key in `all_connected_instances`.\n",
        "\n",
        "This is how this `all_connected_instances` dictionary looks initially."
      ]
    },
    {
      "cell_type": "code",
      "execution_count": 11,
      "id": "cf30668c",
      "metadata": {
        "execution": {
          "iopub.execute_input": "2022-08-04T16:13:14.736535Z",
          "iopub.status.busy": "2022-08-04T16:13:14.736026Z",
          "iopub.status.idle": "2022-08-04T16:13:14.737988Z",
          "shell.execute_reply": "2022-08-04T16:13:14.738449Z"
        },
        "papermill": {
          "duration": 0.03287,
          "end_time": "2022-08-04T16:13:14.738595",
          "exception": false,
          "start_time": "2022-08-04T16:13:14.705725",
          "status": "completed"
        },
        "tags": []
      },
      "outputs": [
        {
          "data": {
            "text/plain": [
              "{'dc1': {'dc1'}, 'wg': {'wg'}, 'dc2': {'dc2'}}"
            ]
          },
          "execution_count": 11,
          "metadata": {},
          "output_type": "execute_result"
        }
      ],
      "source": [
        "all_connected_instances = {k: {k} for k in instances}\n",
        "all_connected_instances"
      ]
    },
    {
      "cell_type": "markdown",
      "id": "1152056b",
      "metadata": {
        "papermill": {
          "duration": 0.025799,
          "end_time": "2022-08-04T16:13:14.790510",
          "exception": false,
          "start_time": "2022-08-04T16:13:14.764711",
          "status": "completed"
        },
        "tags": []
      },
      "source": [
        "Normally we would loop over every connection in `sorted_connections` now, but let's just go through it once at first:"
      ]
    },
    {
      "cell_type": "code",
      "execution_count": 12,
      "id": "b527d8820843335c",
      "metadata": {
        "execution": {
          "iopub.execute_input": "2022-08-04T16:13:14.847223Z",
          "iopub.status.busy": "2022-08-04T16:13:14.846649Z",
          "iopub.status.idle": "2022-08-04T16:13:14.848533Z",
          "shell.execute_reply": "2022-08-04T16:13:14.848917Z"
        },
        "papermill": {
          "duration": 0.032735,
          "end_time": "2022-08-04T16:13:14.849061",
          "exception": false,
          "start_time": "2022-08-04T16:13:14.816326",
          "status": "completed"
        },
        "tags": []
      },
      "outputs": [
        {
          "data": {
            "text/plain": [
              "('dc1,out1', 'dc2,in1')"
            ]
          },
          "execution_count": 12,
          "metadata": {},
          "output_type": "execute_result"
        }
      ],
      "source": [
        "# for k, l in sorted_connections:\n",
        "k, l = sorted_connections[0]\n",
        "k, l"
      ]
    },
    {
      "cell_type": "markdown",
      "id": "16a2266c",
      "metadata": {
        "papermill": {
          "duration": 0.026207,
          "end_time": "2022-08-04T16:13:14.901526",
          "exception": false,
          "start_time": "2022-08-04T16:13:14.875319",
          "status": "completed"
        },
        "tags": []
      },
      "source": [
        "`k` and `l` are the S-matrix indices we're trying to connect. Note that in our sparse `SDict` notation these S-matrix indices are in fact equivalent with the port names `('dc1,out1', 'dc2,in1')`!"
      ]
    },
    {
      "cell_type": "markdown",
      "id": "0eaf4add",
      "metadata": {
        "papermill": {
          "duration": 0.025938,
          "end_time": "2022-08-04T16:13:14.953563",
          "exception": false,
          "start_time": "2022-08-04T16:13:14.927625",
          "status": "completed"
        },
        "tags": []
      },
      "source": [
        "first we split the connection string into an instance name and a port name (we don't use the port name yet):"
      ]
    },
    {
      "cell_type": "code",
      "execution_count": 13,
      "id": "667d1a3c",
      "metadata": {
        "execution": {
          "iopub.execute_input": "2022-08-04T16:13:15.010525Z",
          "iopub.status.busy": "2022-08-04T16:13:15.010020Z",
          "iopub.status.idle": "2022-08-04T16:13:15.011904Z",
          "shell.execute_reply": "2022-08-04T16:13:15.012271Z"
        },
        "papermill": {
          "duration": 0.032985,
          "end_time": "2022-08-04T16:13:15.012419",
          "exception": false,
          "start_time": "2022-08-04T16:13:14.979434",
          "status": "completed"
        },
        "tags": []
      },
      "outputs": [],
      "source": [
        "name1, _ = k.split(\",\")\n",
        "name2, _ = l.split(\",\")"
      ]
    },
    {
      "cell_type": "markdown",
      "id": "16e8bbe8",
      "metadata": {
        "papermill": {
          "duration": 0.026402,
          "end_time": "2022-08-04T16:13:15.065213",
          "exception": false,
          "start_time": "2022-08-04T16:13:15.038811",
          "status": "completed"
        },
        "tags": []
      },
      "source": [
        "We then obtain the new set of connected instances."
      ]
    },
    {
      "cell_type": "code",
      "execution_count": 14,
      "id": "51bf8615",
      "metadata": {
        "execution": {
          "iopub.execute_input": "2022-08-04T16:13:15.123359Z",
          "iopub.status.busy": "2022-08-04T16:13:15.122799Z",
          "iopub.status.idle": "2022-08-04T16:13:15.125234Z",
          "shell.execute_reply": "2022-08-04T16:13:15.125636Z"
        },
        "papermill": {
          "duration": 0.034028,
          "end_time": "2022-08-04T16:13:15.125782",
          "exception": false,
          "start_time": "2022-08-04T16:13:15.091754",
          "status": "completed"
        },
        "tags": []
      },
      "outputs": [
        {
          "data": {
            "text/plain": [
              "{'dc1', 'dc2'}"
            ]
          },
          "execution_count": 14,
          "metadata": {},
          "output_type": "execute_result"
        }
      ],
      "source": [
        "connected_instances = all_connected_instances[name1] | all_connected_instances[name2]\n",
        "connected_instances"
      ]
    },
    {
      "cell_type": "markdown",
      "id": "676c8d61",
      "metadata": {
        "papermill": {
          "duration": 0.0263,
          "end_time": "2022-08-04T16:13:15.178798",
          "exception": false,
          "start_time": "2022-08-04T16:13:15.152498",
          "status": "completed"
        },
        "tags": []
      },
      "source": [
        "We then iterate over each of the components in this set and make sure each of the component names in that set maps to that set (yes, I know... confusing). We do this to be able to keep track with which components each of the components in the circuit is currently already connected to."
      ]
    },
    {
      "cell_type": "code",
      "execution_count": 15,
      "id": "d322e86c",
      "metadata": {
        "execution": {
          "iopub.execute_input": "2022-08-04T16:13:15.237602Z",
          "iopub.status.busy": "2022-08-04T16:13:15.237089Z",
          "iopub.status.idle": "2022-08-04T16:13:15.238952Z",
          "shell.execute_reply": "2022-08-04T16:13:15.239432Z"
        },
        "papermill": {
          "duration": 0.034092,
          "end_time": "2022-08-04T16:13:15.239576",
          "exception": false,
          "start_time": "2022-08-04T16:13:15.205484",
          "status": "completed"
        },
        "tags": []
      },
      "outputs": [
        {
          "data": {
            "text/plain": [
              "{'dc1': {'dc1', 'dc2'}, 'wg': {'wg'}, 'dc2': {'dc1', 'dc2'}}"
            ]
          },
          "execution_count": 15,
          "metadata": {},
          "output_type": "execute_result"
        }
      ],
      "source": [
        "for name in connected_instances:\n",
        "    all_connected_instances[name] = connected_instances\n",
        "    \n",
        "all_connected_instances"
      ]
    },
    {
      "cell_type": "markdown",
      "id": "b79f49f8",
      "metadata": {
        "papermill": {
          "duration": 0.02628,
          "end_time": "2022-08-04T16:13:15.292478",
          "exception": false,
          "start_time": "2022-08-04T16:13:15.266198",
          "status": "completed"
        },
        "tags": []
      },
      "source": [
        "now we need to obtain all the ports of the currently connected instances."
      ]
    },
    {
      "cell_type": "code",
      "execution_count": 16,
      "id": "61b3cfab",
      "metadata": {
        "execution": {
          "iopub.execute_input": "2022-08-04T16:13:15.351282Z",
          "iopub.status.busy": "2022-08-04T16:13:15.350716Z",
          "iopub.status.idle": "2022-08-04T16:13:15.352641Z",
          "shell.execute_reply": "2022-08-04T16:13:15.353107Z"
        },
        "papermill": {
          "duration": 0.034358,
          "end_time": "2022-08-04T16:13:15.353251",
          "exception": false,
          "start_time": "2022-08-04T16:13:15.318893",
          "status": "completed"
        },
        "tags": []
      },
      "outputs": [
        {
          "data": {
            "text/plain": [
              "('dc1,out1',\n",
              " 'dc1,in1',\n",
              " 'dc1,out0',\n",
              " 'dc1,in0',\n",
              " 'dc2,out1',\n",
              " 'dc2,out0',\n",
              " 'dc2,in0',\n",
              " 'dc2,in1')"
            ]
          },
          "execution_count": 16,
          "metadata": {},
          "output_type": "execute_result"
        }
      ],
      "source": [
        "current_ports = tuple(\n",
        "    p\n",
        "    for instance in connected_instances\n",
        "    for p in set([p for p, _ in block_diag] + [p for _, p in block_diag])\n",
        "    if p.startswith(f\"{instance},\")\n",
        ")\n",
        "\n",
        "current_ports"
      ]
    },
    {
      "cell_type": "markdown",
      "id": "d0e87449",
      "metadata": {
        "papermill": {
          "duration": 0.026504,
          "end_time": "2022-08-04T16:13:15.405930",
          "exception": false,
          "start_time": "2022-08-04T16:13:15.379426",
          "status": "completed"
        },
        "tags": []
      },
      "source": [
        "Now the [Gunnar Algorithm](#citation) is used. Given a (block-diagonal) 'S-matrix' `block_diag` and a 'connection matrix' `current_ports` we can interconnect port `k` and `l` as follows:\n",
        "\n",
        "> Note: some creative freedom is used here. In SAX, the matrices we're talking about are in fact represented by a sparse dictionary (an `SDict`), i.e. similar to a COO sparse matrix for which the indices are the port names."
      ]
    },
    {
      "cell_type": "code",
      "execution_count": 17,
      "id": "431649e5",
      "metadata": {
        "execution": {
          "iopub.execute_input": "2022-08-04T16:13:15.491926Z",
          "iopub.status.busy": "2022-08-04T16:13:15.475048Z",
          "iopub.status.idle": "2022-08-04T16:13:16.136677Z",
          "shell.execute_reply": "2022-08-04T16:13:16.136215Z"
        },
        "papermill": {
          "duration": 0.703807,
          "end_time": "2022-08-04T16:13:16.136817",
          "exception": false,
          "start_time": "2022-08-04T16:13:15.433010",
          "status": "completed"
        },
        "tags": []
      },
      "outputs": [],
      "source": [
        "def _interconnect_ports(block_diag, current_ports, k, l):\n",
        "    current_block_diag = {}\n",
        "    for i in current_ports:\n",
        "        for j in current_ports:\n",
        "            vij = _calculate_interconnected_value(\n",
        "                vij=block_diag.get((i, j), 0.0),\n",
        "                vik=block_diag.get((i, k), 0.0),\n",
        "                vil=block_diag.get((i, l), 0.0),\n",
        "                vkj=block_diag.get((k, j), 0.0),\n",
        "                vkk=block_diag.get((k, k), 0.0),\n",
        "                vkl=block_diag.get((k, l), 0.0),\n",
        "                vlj=block_diag.get((l, j), 0.0),\n",
        "                vlk=block_diag.get((l, k), 0.0),\n",
        "                vll=block_diag.get((l, l), 0.0),\n",
        "            )\n",
        "            current_block_diag[i, j] = vij\n",
        "    return current_block_diag\n",
        "\n",
        "@jax.jit\n",
        "def _calculate_interconnected_value(vij, vik, vil, vkj, vkk, vkl, vlj, vlk, vll):\n",
        "    result = vij + (\n",
        "        vkj * vil * (1 - vlk)\n",
        "        + vlj * vik * (1 - vkl)\n",
        "        + vkj * vll * vik\n",
        "        + vlj * vkk * vil\n",
        "    ) / ((1 - vkl) * (1 - vlk) - vkk * vll)\n",
        "    return result\n",
        "\n",
        "block_diag.update(_interconnect_ports(block_diag, current_ports, k, l))"
      ]
    },
    {
      "cell_type": "markdown",
      "id": "988c08d9",
      "metadata": {
        "papermill": {
          "duration": 0.027756,
          "end_time": "2022-08-04T16:13:16.192395",
          "exception": false,
          "start_time": "2022-08-04T16:13:16.164639",
          "status": "completed"
        },
        "tags": []
      },
      "source": [
        "Just as before, we're filtering the zeros from the sparse representation (remember, internally this is **not done by default**)."
      ]
    },
    {
      "cell_type": "code",
      "execution_count": 18,
      "id": "e9ac8164",
      "metadata": {
        "execution": {
          "iopub.execute_input": "2022-08-04T16:13:16.252582Z",
          "iopub.status.busy": "2022-08-04T16:13:16.252058Z",
          "iopub.status.idle": "2022-08-04T16:13:16.290988Z",
          "shell.execute_reply": "2022-08-04T16:13:16.291388Z"
        },
        "papermill": {
          "duration": 0.071645,
          "end_time": "2022-08-04T16:13:16.291544",
          "exception": false,
          "start_time": "2022-08-04T16:13:16.219899",
          "status": "completed"
        },
        "tags": []
      },
      "outputs": [
        {
          "name": "stdout",
          "output_type": "stream",
          "text": [
            "26\n"
          ]
        },
        {
          "data": {
            "text/plain": [
              "{('dc1,in0', 'dc1,out0'): 0.70711+0j,\n",
              " ('dc1,in0', 'dc1,out1'): 0.70711j,\n",
              " ('dc1,in1', 'dc1,out0'): 0.70711j,\n",
              " ('dc1,in1', 'dc1,out1'): 0.70711+0j,\n",
              " ('dc1,out0', 'dc1,in0'): 0.70711+0j,\n",
              " ('dc1,out0', 'dc1,in1'): 0.70711j,\n",
              " ('dc1,out1', 'dc1,in0'): 0.70711j,\n",
              " ('dc1,out1', 'dc1,in1'): 0.70711+0j,\n",
              " ('wg,in0', 'wg,out0'): (0.5+0.86603j),\n",
              " ('wg,out0', 'wg,in0'): (0.5+0.86603j),\n",
              " ('dc2,in0', 'dc2,out0'): 0.70711+0j,\n",
              " ('dc2,in0', 'dc2,out1'): 0.70711j,\n",
              " ('dc2,in1', 'dc2,out0'): 0.70711j,\n",
              " ('dc2,in1', 'dc2,out1'): 0.70711+0j,\n",
              " ('dc2,out0', 'dc2,in0'): 0.70711+0j,\n",
              " ('dc2,out0', 'dc2,in1'): 0.70711j,\n",
              " ('dc2,out1', 'dc2,in0'): 0.70711j,\n",
              " ('dc2,out1', 'dc2,in1'): 0.70711+0j,\n",
              " ('dc1,in1', 'dc2,out1'): 0.5+0j,\n",
              " ('dc1,in1', 'dc2,out0'): 0.5j,\n",
              " ('dc1,in0', 'dc2,out1'): 0.5j,\n",
              " ('dc1,in0', 'dc2,out0'): -0.5+0j,\n",
              " ('dc2,out1', 'dc1,in1'): 0.5+0j,\n",
              " ('dc2,out1', 'dc1,in0'): 0.5j,\n",
              " ('dc2,out0', 'dc1,in1'): 0.5j,\n",
              " ('dc2,out0', 'dc1,in0'): -0.5+0j}"
            ]
          },
          "execution_count": 18,
          "metadata": {},
          "output_type": "execute_result"
        }
      ],
      "source": [
        "block_diag = {k: v for k, v in block_diag.items() if jnp.abs(v) > 1e-10}\n",
        "print(len(block_diag))\n",
        "block_diag"
      ]
    },
    {
      "cell_type": "markdown",
      "id": "db0cd151",
      "metadata": {
        "papermill": {
          "duration": 0.028809,
          "end_time": "2022-08-04T16:13:16.348988",
          "exception": false,
          "start_time": "2022-08-04T16:13:16.320179",
          "status": "completed"
        },
        "tags": []
      },
      "source": [
        "This is the resulting block-diagonal matrix after interconnecting two ports (i.e. basically saying that those two ports are the same port). Because these ports are now connected we should actually remove them from the S-matrix representation (they are integrated into the S-parameters of the other connections):"
      ]
    },
    {
      "cell_type": "code",
      "execution_count": 19,
      "id": "311b034f",
      "metadata": {
        "execution": {
          "iopub.execute_input": "2022-08-04T16:13:16.413453Z",
          "iopub.status.busy": "2022-08-04T16:13:16.412174Z",
          "iopub.status.idle": "2022-08-04T16:13:16.418603Z",
          "shell.execute_reply": "2022-08-04T16:13:16.419019Z"
        },
        "papermill": {
          "duration": 0.041437,
          "end_time": "2022-08-04T16:13:16.419170",
          "exception": false,
          "start_time": "2022-08-04T16:13:16.377733",
          "status": "completed"
        },
        "tags": []
      },
      "outputs": [
        {
          "name": "stdout",
          "output_type": "stream",
          "text": [
            "18\n"
          ]
        },
        {
          "data": {
            "text/plain": [
              "{('dc1,in0', 'dc1,out0'): 0.70711+0j,\n",
              " ('dc1,in1', 'dc1,out0'): 0.70711j,\n",
              " ('dc1,out0', 'dc1,in0'): 0.70711+0j,\n",
              " ('dc1,out0', 'dc1,in1'): 0.70711j,\n",
              " ('wg,in0', 'wg,out0'): (0.5+0.86603j),\n",
              " ('wg,out0', 'wg,in0'): (0.5+0.86603j),\n",
              " ('dc2,in0', 'dc2,out0'): 0.70711+0j,\n",
              " ('dc2,in0', 'dc2,out1'): 0.70711j,\n",
              " ('dc2,out0', 'dc2,in0'): 0.70711+0j,\n",
              " ('dc2,out1', 'dc2,in0'): 0.70711j,\n",
              " ('dc1,in1', 'dc2,out1'): 0.5+0j,\n",
              " ('dc1,in1', 'dc2,out0'): 0.5j,\n",
              " ('dc1,in0', 'dc2,out1'): 0.5j,\n",
              " ('dc1,in0', 'dc2,out0'): -0.5+0j,\n",
              " ('dc2,out1', 'dc1,in1'): 0.5+0j,\n",
              " ('dc2,out1', 'dc1,in0'): 0.5j,\n",
              " ('dc2,out0', 'dc1,in1'): 0.5j,\n",
              " ('dc2,out0', 'dc1,in0'): -0.5+0j}"
            ]
          },
          "execution_count": 19,
          "metadata": {},
          "output_type": "execute_result"
        }
      ],
      "source": [
        "for i, j in list(block_diag.keys()):\n",
        "    is_connected = i == k or i == l or j == k or j == l\n",
        "    is_in_output_ports = i in reversed_ports and j in reversed_ports\n",
        "    if is_connected and not is_in_output_ports:\n",
        "        del block_diag[i, j]  # we're no longer interested in these port combinations\n",
        "        \n",
        "print(len(block_diag))\n",
        "block_diag"
      ]
    },
    {
      "cell_type": "markdown",
      "id": "b6badcb7",
      "metadata": {
        "papermill": {
          "duration": 0.029271,
          "end_time": "2022-08-04T16:13:16.477469",
          "exception": false,
          "start_time": "2022-08-04T16:13:16.448198",
          "status": "completed"
        },
        "tags": []
      },
      "source": [
        "Note that this deletion of values **does NOT** make this operation un-jittable. The deletion depends on the ports of the dictionary (i.e. on the dictionary 'shape'), not on the values."
      ]
    },
    {
      "cell_type": "markdown",
      "id": "89e775cd",
      "metadata": {
        "papermill": {
          "duration": 0.029744,
          "end_time": "2022-08-04T16:13:16.537019",
          "exception": false,
          "start_time": "2022-08-04T16:13:16.507275",
          "status": "completed"
        },
        "tags": []
      },
      "source": [
        "We now basically have to do those steps again for all other connections:"
      ]
    },
    {
      "cell_type": "code",
      "execution_count": 20,
      "id": "252b9b68f2b0d64f",
      "metadata": {
        "execution": {
          "iopub.execute_input": "2022-08-04T16:13:16.602719Z",
          "iopub.status.busy": "2022-08-04T16:13:16.602168Z",
          "iopub.status.idle": "2022-08-04T16:13:18.138110Z",
          "shell.execute_reply": "2022-08-04T16:13:18.137642Z"
        },
        "papermill": {
          "duration": 1.572186,
          "end_time": "2022-08-04T16:13:18.138245",
          "exception": false,
          "start_time": "2022-08-04T16:13:16.566059",
          "status": "completed"
        },
        "tags": []
      },
      "outputs": [],
      "source": [
        "#for k, l in sorted_connections: \n",
        "for k, l in sorted_connections[1:]: # we just did the first iteration of this loop above...\n",
        "    name1, _ = k.split(\",\")\n",
        "    name2, _ = l.split(\",\")\n",
        "    connected_instances = all_connected_instances[name1] | all_connected_instances[name2]\n",
        "    for name in connected_instances:\n",
        "        all_connected_instances[name] = connected_instances\n",
        "    current_ports = tuple(\n",
        "        p\n",
        "        for instance in connected_instances\n",
        "        for p in set([p for p, _ in block_diag] + [p for _, p in block_diag])\n",
        "        if p.startswith(f\"{instance},\")\n",
        "    )\n",
        "    block_diag.update(_interconnect_ports(block_diag, current_ports, k, l))\n",
        "    for i, j in list(block_diag.keys()):\n",
        "        is_connected = i == k or i == l or j == k or j == l\n",
        "        is_in_output_ports = i in reversed_ports and j in reversed_ports\n",
        "        if is_connected and not is_in_output_ports:\n",
        "            del block_diag[i, j]  # we're no longer interested in these port combinations"
      ]
    },
    {
      "cell_type": "markdown",
      "id": "36eb82fc",
      "metadata": {
        "papermill": {
          "duration": 0.030078,
          "end_time": "2022-08-04T16:13:18.198303",
          "exception": false,
          "start_time": "2022-08-04T16:13:18.168225",
          "status": "completed"
        },
        "tags": []
      },
      "source": [
        "This is the final MZI matrix we're getting:"
      ]
    },
    {
      "cell_type": "code",
      "execution_count": 21,
      "id": "d1c0367e",
      "metadata": {
        "execution": {
          "iopub.execute_input": "2022-08-04T16:13:18.262132Z",
          "iopub.status.busy": "2022-08-04T16:13:18.260769Z",
          "iopub.status.idle": "2022-08-04T16:13:18.266092Z",
          "shell.execute_reply": "2022-08-04T16:13:18.265681Z"
        },
        "papermill": {
          "duration": 0.038784,
          "end_time": "2022-08-04T16:13:18.266214",
          "exception": false,
          "start_time": "2022-08-04T16:13:18.227430",
          "status": "completed"
        },
        "tags": []
      },
      "outputs": [
        {
          "data": {
            "text/plain": [
              "{('dc1,in1', 'dc2,out1'): 0.25-0.43301j,\n",
              " ('dc1,in1', 'dc2,out0'): -0.43301+0.75j,\n",
              " ('dc1,in0', 'dc2,out1'): -0.43301+0.75j,\n",
              " ('dc1,in0', 'dc2,out0'): -0.25+0.43301j,\n",
              " ('dc2,out1', 'dc1,in1'): 0.25-0.43301j,\n",
              " ('dc2,out1', 'dc1,in0'): -0.43301+0.75j,\n",
              " ('dc2,out0', 'dc1,in1'): -0.43301+0.75j,\n",
              " ('dc2,out0', 'dc1,in0'): -0.25+0.43301j,\n",
              " ('dc1,in1', 'dc1,in1'): 0j,\n",
              " ('dc1,in1', 'dc1,in0'): 0j,\n",
              " ('dc1,in0', 'dc1,in1'): 0j,\n",
              " ('dc1,in0', 'dc1,in0'): 0j,\n",
              " ('dc2,out1', 'dc2,out1'): 0j,\n",
              " ('dc2,out1', 'dc2,out0'): 0j,\n",
              " ('dc2,out0', 'dc2,out1'): 0j,\n",
              " ('dc2,out0', 'dc2,out0'): 0j}"
            ]
          },
          "execution_count": 21,
          "metadata": {},
          "output_type": "execute_result"
        }
      ],
      "source": [
        "block_diag"
      ]
    },
    {
      "cell_type": "markdown",
      "id": "03f67ec6",
      "metadata": {
        "papermill": {
          "duration": 0.029631,
          "end_time": "2022-08-04T16:13:18.325297",
          "exception": false,
          "start_time": "2022-08-04T16:13:18.295666",
          "status": "completed"
        },
        "tags": []
      },
      "source": [
        "All that's left is to rename these internal ports of the format `{instance},{port}` into output ports of the resulting circuit:"
      ]
    },
    {
      "cell_type": "code",
      "execution_count": 22,
      "id": "cf5ea4af",
      "metadata": {
        "execution": {
          "iopub.execute_input": "2022-08-04T16:13:18.386401Z",
          "iopub.status.busy": "2022-08-04T16:13:18.385872Z",
          "iopub.status.idle": "2022-08-04T16:13:18.393744Z",
          "shell.execute_reply": "2022-08-04T16:13:18.393310Z"
        },
        "papermill": {
          "duration": 0.039748,
          "end_time": "2022-08-04T16:13:18.393863",
          "exception": false,
          "start_time": "2022-08-04T16:13:18.354115",
          "status": "completed"
        },
        "tags": []
      },
      "outputs": [
        {
          "data": {
            "text/plain": [
              "{('in1', 'out1'): 0.25-0.43301j,\n",
              " ('in1', 'out0'): -0.43301+0.75j,\n",
              " ('in0', 'out1'): -0.43301+0.75j,\n",
              " ('in0', 'out0'): -0.25+0.43301j,\n",
              " ('out1', 'in1'): 0.25-0.43301j,\n",
              " ('out1', 'in0'): -0.43301+0.75j,\n",
              " ('out0', 'in1'): -0.43301+0.75j,\n",
              " ('out0', 'in0'): -0.25+0.43301j,\n",
              " ('in1', 'in1'): 0j,\n",
              " ('in1', 'in0'): 0j,\n",
              " ('in0', 'in1'): 0j,\n",
              " ('in0', 'in0'): 0j,\n",
              " ('out1', 'out1'): 0j,\n",
              " ('out1', 'out0'): 0j,\n",
              " ('out0', 'out1'): 0j,\n",
              " ('out0', 'out0'): 0j}"
            ]
          },
          "execution_count": 22,
          "metadata": {},
          "output_type": "execute_result"
        }
      ],
      "source": [
        "circuit_sdict: SDict = {\n",
        "    (reversed_ports[i], reversed_ports[j]): v\n",
        "    for (i, j), v in block_diag.items()\n",
        "    if i in reversed_ports and j in reversed_ports\n",
        "}\n",
        "circuit_sdict"
      ]
    },
    {
      "cell_type": "markdown",
      "id": "7dc6505e",
      "metadata": {
        "papermill": {
          "duration": 0.029636,
          "end_time": "2022-08-04T16:13:18.453004",
          "exception": false,
          "start_time": "2022-08-04T16:13:18.423368",
          "status": "completed"
        },
        "tags": []
      },
      "source": [
        "And that's it. We evaluated the `SDict` of the full circuit."
      ]
    },
    {
      "cell_type": "markdown",
      "id": "170db10b",
      "metadata": {
        "papermill": {
          "duration": 0.030378,
          "end_time": "2022-08-04T16:13:18.512918",
          "exception": false,
          "start_time": "2022-08-04T16:13:18.482540",
          "status": "completed"
        },
        "tags": []
      },
      "source": [
        "## Algorithm Improvements"
      ]
    },
    {
      "cell_type": "markdown",
      "id": "4ed0e69a",
      "metadata": {
        "papermill": {
          "duration": 0.0297,
          "end_time": "2022-08-04T16:13:18.572230",
          "exception": false,
          "start_time": "2022-08-04T16:13:18.542530",
          "status": "completed"
        },
        "tags": []
      },
      "source": [
        "This algorithm is \n",
        "\n",
        "* pretty fast for small circuits \ud83d\ude42\n",
        "* jittable \ud83d\ude42\n",
        "* differentiable \ud83d\ude42\n",
        "* GPU-compatible \ud83d\ude42\n",
        "\n",
        "This algorithm is however:\n",
        "\n",
        "* **really slow** for large circuits \ud83d\ude25\n",
        "* **pretty slow** to jit the resulting circuit function \ud83d\ude25\n",
        "* **pretty slow** to differentiate the resulting circuit function \ud83d\ude25\n",
        "\n",
        "There are probably still plenty of improvements possible for this algorithm:\n",
        "\n",
        "* **\u00bf** Network analysis (ft. NetworkX ?) to obtain which ports of the block diagonal representation are relevant to obtain the output connection **?**\n",
        "* **\u00bf** Smarter ordering of connections to always have the minimum amount of ports in the intermediate block-diagonal representation **?**\n",
        "* **\u00bf** Using `jax.lax.scan` in stead of python native for-loops in `_interconnect_ports` **?**\n",
        "* **\u00bf** ... **?**\n",
        "\n",
        "Bottom line is... Do you know how to improve this algorithm or how to implement the above suggestions? Please open a Merge Request!"
      ]
    }
  ],
  "metadata": {
    "kernelspec": {
      "display_name": "sax",
      "language": "python",
      "name": "sax"
    },
    "language_info": {
      "codemirror_mode": {
        "name": "ipython",
        "version": 3
      },
      "file_extension": ".py",
      "mimetype": "text/x-python",
      "name": "python",
      "nbconvert_exporter": "python",
      "pygments_lexer": "ipython3",
      "version": "3.9.0"
    },
    "papermill": {
      "default_parameters": {},
      "duration": 8.877175,
      "end_time": "2022-08-04T16:13:18.910113",
      "environment_variables": {},
      "exception": null,
      "input_path": "./nbs/07a_backends_default.ipynb",
      "output_path": "./nbs/07a_backends_default.ipynb",
      "parameters": {},
      "start_time": "2022-08-04T16:13:10.032938",
      "version": "2.3.4"
    }
  },
  "nbformat": 4,
  "nbformat_minor": 5
}