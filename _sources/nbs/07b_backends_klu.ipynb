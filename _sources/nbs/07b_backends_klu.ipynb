{
  "cells": [
    {
      "cell_type": "code",
      "execution_count": 1,
      "id": "3d8566d054f50cef",
      "metadata": {
        "execution": {
          "iopub.execute_input": "2022-08-04T16:13:30.591253Z",
          "iopub.status.busy": "2022-08-04T16:13:30.590703Z",
          "iopub.status.idle": "2022-08-04T16:13:30.593455Z",
          "shell.execute_reply": "2022-08-04T16:13:30.593897Z"
        },
        "papermill": {
          "duration": 0.056715,
          "end_time": "2022-08-04T16:13:30.594134",
          "exception": false,
          "start_time": "2022-08-04T16:13:30.537419",
          "status": "completed"
        },
        "tags": [
          "remove-cell"
        ]
      },
      "outputs": [],
      "source": []
    },
    {
      "cell_type": "markdown",
      "id": "27c3489e",
      "metadata": {
        "papermill": {
          "duration": 0.046958,
          "end_time": "2022-08-04T16:13:30.690460",
          "exception": false,
          "start_time": "2022-08-04T16:13:30.643502",
          "status": "completed"
        },
        "tags": []
      },
      "source": [
        "# Backend - KLU\n",
        "\n",
        "> SAX KLU Backend"
      ]
    },
    {
      "cell_type": "code",
      "execution_count": 2,
      "id": "43c21d56f7830d1e",
      "metadata": {
        "execution": {
          "iopub.execute_input": "2022-08-04T16:13:30.792957Z",
          "iopub.status.busy": "2022-08-04T16:13:30.791571Z",
          "iopub.status.idle": "2022-08-04T16:13:32.678810Z",
          "shell.execute_reply": "2022-08-04T16:13:32.678362Z"
        },
        "papermill": {
          "duration": 1.94238,
          "end_time": "2022-08-04T16:13:32.678966",
          "exception": false,
          "start_time": "2022-08-04T16:13:30.736586",
          "status": "completed"
        },
        "tags": [
          "remove-cell"
        ]
      },
      "outputs": [],
      "source": [
        "import sax\n",
        "import matplotlib.pyplot as plt\n",
        "from fastcore.test import test_eq\n",
        "from pytest import approx, raises\n",
        "from nbdev import show_doc\n",
        "\n",
        "import os, sys; sys.stderr = open(os.devnull, \"w\")"
      ]
    },
    {
      "cell_type": "code",
      "execution_count": 3,
      "id": "2a65ae54f7777162",
      "metadata": {
        "execution": {
          "iopub.execute_input": "2022-08-04T16:13:32.780423Z",
          "iopub.status.busy": "2022-08-04T16:13:32.779898Z",
          "iopub.status.idle": "2022-08-04T16:13:32.781009Z",
          "shell.execute_reply": "2022-08-04T16:13:32.781448Z"
        },
        "papermill": {
          "duration": 0.054816,
          "end_time": "2022-08-04T16:13:32.781606",
          "exception": false,
          "start_time": "2022-08-04T16:13:32.726790",
          "status": "completed"
        },
        "tags": [
          "hide-input"
        ]
      },
      "outputs": [],
      "source": [
        "from __future__ import annotations\n",
        "\n",
        "from typing import Dict\n",
        "\n",
        "    \n",
        "from sax.typing_ import SDense, SDict, SType, scoo\n",
        "from sax.backends import evaluate_circuit\n",
        "\n",
        "try:\n",
        "    import klujax\n",
        "except ImportError:\n",
        "    klujax = None\n",
        "    \n",
        "try:\n",
        "    import jax\n",
        "    import jax.numpy as jnp\n",
        "    JAX_AVAILABLE = True\n",
        "except ImportError:\n",
        "    import numpy as jnp\n",
        "    JAX_AVAILABLE = False"
      ]
    },
    {
      "cell_type": "markdown",
      "id": "64e42767",
      "metadata": {
        "papermill": {
          "duration": 0.047136,
          "end_time": "2022-08-04T16:13:32.875322",
          "exception": false,
          "start_time": "2022-08-04T16:13:32.828186",
          "status": "completed"
        },
        "tags": []
      },
      "source": [
        "## Citation\n",
        "The KLU backend is using `klujax`, which uses the [SuiteSparse](https://github.com/DrTimothyAldenDavis/SuiteSparse) C++ libraries for sparse matrix evaluations to evaluate the circuit insanely fast on a CPU. The specific algorith being used in question is the KLU algorithm:\n",
        "\n",
        "> Ekanathan Palamadai Natariajan. \"*KLU - A high performance sparse linear solver for circuit simulation problems.*\""
      ]
    },
    {
      "cell_type": "markdown",
      "id": "2db5821c",
      "metadata": {
        "papermill": {
          "duration": 0.04807,
          "end_time": "2022-08-04T16:13:32.970653",
          "exception": false,
          "start_time": "2022-08-04T16:13:32.922583",
          "status": "completed"
        },
        "tags": []
      },
      "source": [
        "## Theoretical Background"
      ]
    },
    {
      "cell_type": "markdown",
      "id": "3d4d4a4c",
      "metadata": {
        "papermill": {
          "duration": 0.046758,
          "end_time": "2022-08-04T16:13:33.065091",
          "exception": false,
          "start_time": "2022-08-04T16:13:33.018333",
          "status": "completed"
        },
        "tags": []
      },
      "source": [
        "The core of the KLU algorithm is supported by `klujax`, which internally uses the Suitesparse libraries to solve the sparse system `Ax = b`, in which A is a sparse matrix."
      ]
    },
    {
      "cell_type": "markdown",
      "id": "a1985f58",
      "metadata": {
        "papermill": {
          "duration": 0.079824,
          "end_time": "2022-08-04T16:13:33.190187",
          "exception": false,
          "start_time": "2022-08-04T16:13:33.110363",
          "status": "completed"
        },
        "tags": []
      },
      "source": [
        "Now it only comes down to shoehorn our circuit evaluation into a sparse linear system of equations $Ax=b$ where we need to solve for $x$ using `klujax`. \n",
        "Consider the block diagonal matrix $S_{bd}$ of all components in the circuit acting on the fields $x_{in}$ at each of the individual ports of each of the component integrated in $S^{bd}$. The output fields $x^{out}$ at each of those ports is then given by:\n",
        "\n",
        "$$\n",
        "x^{out} = S_{bd} x^{in}\n",
        "$$"
      ]
    },
    {
      "cell_type": "markdown",
      "id": "9c26c04a",
      "metadata": {
        "papermill": {
          "duration": 0.045349,
          "end_time": "2022-08-04T16:13:33.280493",
          "exception": false,
          "start_time": "2022-08-04T16:13:33.235144",
          "status": "completed"
        },
        "tags": []
      },
      "source": [
        "However, $S_{bd}$ is not the S-matrix of the circuit as it does not encode any connectivity *between* the components. Connecting two component ports basically comes down to enforcing equality between the output fields at one port of a component with the input fields at another port of another (or maybe even the same) component. This equality can be enforced by creating an internal connection matrix, connecting all internal ports of the circuit:\n",
        "\n",
        "$$\n",
        "x^{in} = C_{int} x^{out}\n",
        "$$"
      ]
    },
    {
      "cell_type": "markdown",
      "id": "16b3fdad",
      "metadata": {
        "papermill": {
          "duration": 0.046408,
          "end_time": "2022-08-04T16:13:33.373356",
          "exception": false,
          "start_time": "2022-08-04T16:13:33.326948",
          "status": "completed"
        },
        "tags": []
      },
      "source": [
        "We can thus write the following combined equation:\n",
        "\n",
        "$$\n",
        "x^{in} = C_{int} S_{bd} x^{in}\n",
        "$$"
      ]
    },
    {
      "cell_type": "markdown",
      "id": "f5ceb9a2",
      "metadata": {
        "papermill": {
          "duration": 0.046055,
          "end_time": "2022-08-04T16:13:33.467422",
          "exception": false,
          "start_time": "2022-08-04T16:13:33.421367",
          "status": "completed"
        },
        "tags": []
      },
      "source": [
        "But this is not the complete story... Some component ports will *not* be *interconnected* with other ports: they will become the new *external ports* (or output ports) of the combined circuit. We can include those external ports into the above equation as follows:\n",
        "\n",
        "$$\n",
        "\\begin{pmatrix} x^{in} \\\\ x^{out}_{ext} \\end{pmatrix} = \\begin{pmatrix} C_{int} & C_{ext} \\\\ C_{ext}^T & 0 \\end{pmatrix} \\begin{pmatrix} S_{bd} x^{in} \\\\ x_{ext}^{in} \\end{pmatrix} \n",
        "$$"
      ]
    },
    {
      "cell_type": "markdown",
      "id": "6382a242",
      "metadata": {
        "papermill": {
          "duration": 0.046772,
          "end_time": "2022-08-04T16:13:33.560226",
          "exception": false,
          "start_time": "2022-08-04T16:13:33.513454",
          "status": "completed"
        },
        "tags": []
      },
      "source": [
        "Note that $C_{ext}$ is obviously **not** a square matrix. Eliminating $x^{in}$ from the equation above finally yields:\n",
        "\n",
        "$$\n",
        "x^{out}_{ext} = C^T_{ext} S_{bd} (\\mathbb{1} - C_{int}S_{bd})^{-1} C_{ext}x_{ext}^{in}\n",
        "$$"
      ]
    },
    {
      "cell_type": "markdown",
      "id": "5f15bdcd",
      "metadata": {
        "papermill": {
          "duration": 0.046085,
          "end_time": "2022-08-04T16:13:33.650043",
          "exception": false,
          "start_time": "2022-08-04T16:13:33.603958",
          "status": "completed"
        },
        "tags": []
      },
      "source": [
        "We basically found a representation of the circuit S-matrix:\n",
        "\n",
        "$$\n",
        "S = C^T_{ext} S_{bd} (\\mathbb{1} - C_{int}S_{bd})^{-1} C_{ext}\n",
        "$$"
      ]
    },
    {
      "cell_type": "markdown",
      "id": "40ad83b8",
      "metadata": {
        "papermill": {
          "duration": 0.046959,
          "end_time": "2022-08-04T16:13:33.743174",
          "exception": false,
          "start_time": "2022-08-04T16:13:33.696215",
          "status": "completed"
        },
        "tags": []
      },
      "source": [
        "Obviously, we won't want to calculate the inverse $(\\mathbb{1} - C_{int}S_{bd})^{-1}$, which is the inverse of a very sparse matrix (a connection matrix only has a single 1 per line), which very often is not even sparse itself. In stead we'll use the `solve_klu` function:\n",
        "\n",
        "$$\n",
        "S = C^T_{ext} S_{bd} \\texttt{solve}\\_\\texttt{klu}\\left((\\mathbb{1} - C_{int}S_{bd}), C_{ext}\\right)\n",
        "$$"
      ]
    },
    {
      "cell_type": "markdown",
      "id": "018fab3d",
      "metadata": {
        "papermill": {
          "duration": 0.046172,
          "end_time": "2022-08-04T16:13:33.836147",
          "exception": false,
          "start_time": "2022-08-04T16:13:33.789975",
          "status": "completed"
        },
        "tags": []
      },
      "source": [
        "Moreover, $C_{ext}^TS_{bd}$ is also a sparse matrix, therefore we'll also need a `mul_coo` routine:\n",
        "\n",
        "$$\n",
        "S = C^T_{ext} \\texttt{mul}\\_\\texttt{coo}\\left(S_{bd},~~\\texttt{solve}\\_\\texttt{klu}\\left((\\mathbb{1} - C_{int}S_{bd}),~C_{ext}\\right)\\right)\n",
        "$$"
      ]
    },
    {
      "cell_type": "markdown",
      "id": "d9b78852",
      "metadata": {
        "papermill": {
          "duration": 0.045029,
          "end_time": "2022-08-04T16:13:33.926877",
          "exception": false,
          "start_time": "2022-08-04T16:13:33.881848",
          "status": "completed"
        },
        "tags": []
      },
      "source": [
        "## Sparse Helper Functions"
      ]
    },
    {
      "cell_type": "code",
      "execution_count": 4,
      "id": "b828c85b948d7c72",
      "metadata": {
        "execution": {
          "iopub.execute_input": "2022-08-04T16:13:34.022045Z",
          "iopub.status.busy": "2022-08-04T16:13:34.021114Z",
          "iopub.status.idle": "2022-08-04T16:13:34.022584Z",
          "shell.execute_reply": "2022-08-04T16:13:34.023006Z"
        },
        "papermill": {
          "duration": 0.051067,
          "end_time": "2022-08-04T16:13:34.023148",
          "exception": false,
          "start_time": "2022-08-04T16:13:33.972081",
          "status": "completed"
        },
        "tags": [
          "remove-input"
        ]
      },
      "outputs": [],
      "source": [
        "if klujax is not None:\n",
        "    show_doc(klujax.solve, doc_string=False, name=\"klujax.solve\")"
      ]
    },
    {
      "cell_type": "markdown",
      "id": "01299d5d",
      "metadata": {
        "papermill": {
          "duration": 0.045746,
          "end_time": "2022-08-04T16:13:34.114448",
          "exception": false,
          "start_time": "2022-08-04T16:13:34.068702",
          "status": "completed"
        },
        "tags": []
      },
      "source": [
        "`klujax.solve` solves the sparse system of equations `Ax=b` for `x`. Where `A` is represented by in [COO-format](https://en.wikipedia.org/wiki/Sparse_matrix#Coordinate_list_(COO)) as (`Ai`, `Aj`, `Ax`).\n",
        "\n",
        "> Example"
      ]
    },
    {
      "cell_type": "code",
      "execution_count": 5,
      "id": "63e7977a",
      "metadata": {
        "execution": {
          "iopub.execute_input": "2022-08-04T16:13:34.215394Z",
          "iopub.status.busy": "2022-08-04T16:13:34.214856Z",
          "iopub.status.idle": "2022-08-04T16:13:34.227328Z",
          "shell.execute_reply": "2022-08-04T16:13:34.227724Z"
        },
        "papermill": {
          "duration": 0.066698,
          "end_time": "2022-08-04T16:13:34.227874",
          "exception": false,
          "start_time": "2022-08-04T16:13:34.161176",
          "status": "completed"
        },
        "tags": []
      },
      "outputs": [
        {
          "data": {
            "text/plain": [
              "array([6. , 1. , 0.5, 0.5, 2. ])"
            ]
          },
          "execution_count": 5,
          "metadata": {},
          "output_type": "execute_result"
        }
      ],
      "source": [
        "Ai = jnp.array([0, 1, 2, 3, 4])\n",
        "Aj = jnp.array([1, 3, 4, 0, 2])\n",
        "Ax = jnp.array([5, 6, 1, 1, 2])\n",
        "b = jnp.array([5, 3, 2, 6, 1])\n",
        "\n",
        "if klujax is not None:\n",
        "    x = klujax.solve(Ai, Aj, Ax, b)\n",
        "else:\n",
        "    x = jnp.array([6.0, 1.0, 0.5, 0.5, 2.0])\n",
        "\n",
        "x"
      ]
    },
    {
      "cell_type": "markdown",
      "id": "3233b04c",
      "metadata": {
        "papermill": {
          "duration": 0.047362,
          "end_time": "2022-08-04T16:13:34.322793",
          "exception": false,
          "start_time": "2022-08-04T16:13:34.275431",
          "status": "completed"
        },
        "tags": []
      },
      "source": [
        "This result is indeed correct:"
      ]
    },
    {
      "cell_type": "code",
      "execution_count": 6,
      "id": "629bbc71",
      "metadata": {
        "execution": {
          "iopub.execute_input": "2022-08-04T16:13:34.428828Z",
          "iopub.status.busy": "2022-08-04T16:13:34.427831Z",
          "iopub.status.idle": "2022-08-04T16:13:34.605016Z",
          "shell.execute_reply": "2022-08-04T16:13:34.605501Z"
        },
        "papermill": {
          "duration": 0.235891,
          "end_time": "2022-08-04T16:13:34.605657",
          "exception": false,
          "start_time": "2022-08-04T16:13:34.369766",
          "status": "completed"
        },
        "tags": []
      },
      "outputs": [
        {
          "name": "stdout",
          "output_type": "stream",
          "text": [
            "[[0. 5. 0. 0. 0.]\n",
            " [0. 0. 0. 6. 0.]\n",
            " [0. 0. 0. 0. 1.]\n",
            " [1. 0. 0. 0. 0.]\n",
            " [0. 0. 2. 0. 0.]]\n",
            "[5. 3. 2. 6. 1.]\n"
          ]
        }
      ],
      "source": [
        "if JAX_AVAILABLE:\n",
        "    A = jnp.zeros((5, 5)).at[Ai, Aj].set(Ax)\n",
        "    print(A)\n",
        "    print(A@x)"
      ]
    },
    {
      "cell_type": "markdown",
      "id": "c7fe6547",
      "metadata": {
        "papermill": {
          "duration": 0.047076,
          "end_time": "2022-08-04T16:13:34.700256",
          "exception": false,
          "start_time": "2022-08-04T16:13:34.653180",
          "status": "completed"
        },
        "tags": []
      },
      "source": [
        "However, to use this function effectively, we probably need an extra dimension for `Ax`. Indeed, we would like to solve this equation for multiple wavelengths (or more general, for multiple circuit configurations) at once. For this we can use `jax.vmap` to expose `klujax.solve` to more dimensions for `Ax`:"
      ]
    },
    {
      "cell_type": "code",
      "execution_count": 7,
      "id": "be9cf9d43cfa5fd0",
      "metadata": {
        "execution": {
          "iopub.execute_input": "2022-08-04T16:13:34.800477Z",
          "iopub.status.busy": "2022-08-04T16:13:34.799960Z",
          "iopub.status.idle": "2022-08-04T16:13:34.801709Z",
          "shell.execute_reply": "2022-08-04T16:13:34.802175Z"
        },
        "papermill": {
          "duration": 0.053762,
          "end_time": "2022-08-04T16:13:34.802315",
          "exception": false,
          "start_time": "2022-08-04T16:13:34.748553",
          "status": "completed"
        },
        "tags": []
      },
      "outputs": [],
      "source": [
        "solve_klu = None\n",
        "if klujax is not None:\n",
        "    solve_klu = jax.vmap(klujax.solve, (None, None, 0, None), 0)"
      ]
    },
    {
      "cell_type": "code",
      "execution_count": 8,
      "id": "8d3d2ecdfbe9cadb",
      "metadata": {
        "execution": {
          "iopub.execute_input": "2022-08-04T16:13:34.901076Z",
          "iopub.status.busy": "2022-08-04T16:13:34.900563Z",
          "iopub.status.idle": "2022-08-04T16:13:34.904104Z",
          "shell.execute_reply": "2022-08-04T16:13:34.903666Z"
        },
        "papermill": {
          "duration": 0.055031,
          "end_time": "2022-08-04T16:13:34.904217",
          "exception": false,
          "start_time": "2022-08-04T16:13:34.849186",
          "status": "completed"
        },
        "tags": [
          "remove-input"
        ]
      },
      "outputs": [
        {
          "data": {
            "text/markdown": [
              "<h4 id=\"solve_klu\" class=\"doc_header\"><code>solve_klu</code><a href=\"\" class=\"source_link\" style=\"float:right\">[source]</a></h4>\n",
              "\n"
            ],
            "text/plain": [
              "<IPython.core.display.Markdown object>"
            ]
          },
          "metadata": {},
          "output_type": "display_data"
        }
      ],
      "source": [
        "show_doc(solve_klu, doc_string=False, name=\"solve_klu\")"
      ]
    },
    {
      "cell_type": "markdown",
      "id": "6707049d",
      "metadata": {
        "papermill": {
          "duration": 0.048447,
          "end_time": "2022-08-04T16:13:35.001032",
          "exception": false,
          "start_time": "2022-08-04T16:13:34.952585",
          "status": "completed"
        },
        "tags": []
      },
      "source": [
        "Let's now redefine `Ax` and see what it gives:"
      ]
    },
    {
      "cell_type": "code",
      "execution_count": 9,
      "id": "d4d7b6f9",
      "metadata": {
        "execution": {
          "iopub.execute_input": "2022-08-04T16:13:35.108565Z",
          "iopub.status.busy": "2022-08-04T16:13:35.105677Z",
          "iopub.status.idle": "2022-08-04T16:13:35.111205Z",
          "shell.execute_reply": "2022-08-04T16:13:35.110751Z"
        },
        "papermill": {
          "duration": 0.062034,
          "end_time": "2022-08-04T16:13:35.111332",
          "exception": false,
          "start_time": "2022-08-04T16:13:35.049298",
          "status": "completed"
        },
        "tags": []
      },
      "outputs": [
        {
          "data": {
            "text/plain": [
              "array([[6.       , 1.       , 0.5      , 0.5      , 2.       ],\n",
              "       [3.       , 1.       , 1.       , 0.75     , 0.6666667],\n",
              "       [1.5      , 5.       , 0.2      , 1.5      , 0.6666667]],            dtype=float32))"
            ]
          },
          "execution_count": 9,
          "metadata": {},
          "output_type": "execute_result"
        }
      ],
      "source": [
        "Ai = jnp.array([0, 1, 2, 3, 4])\n",
        "Aj = jnp.array([1, 3, 4, 0, 2])\n",
        "Ax = jnp.array([[5, 6, 1, 1, 2], [5, 4, 3, 2, 1], [1, 2, 3, 4, 5]])\n",
        "b = jnp.array([5, 3, 2, 6, 1])\n",
        "if klujax is not None:\n",
        "    x = solve_klu(Ai, Aj, Ax, b)\n",
        "else:\n",
        "    x = jnp.array([\n",
        "        [6.0, 1.0, 0.5, 0.5, 2.0],\n",
        "        [3.0, 1.0, 1.0, 0.75, 0.66666667],\n",
        "        [1.5, 5.0, 0.2, 1.5, 0.66666667],\n",
        "    ])\n",
        "    \n",
        "x"
      ]
    },
    {
      "cell_type": "markdown",
      "id": "5f342c6f",
      "metadata": {
        "papermill": {
          "duration": 0.047525,
          "end_time": "2022-08-04T16:13:35.206758",
          "exception": false,
          "start_time": "2022-08-04T16:13:35.159233",
          "status": "completed"
        },
        "tags": []
      },
      "source": [
        "This result is indeed correct:"
      ]
    },
    {
      "cell_type": "code",
      "execution_count": 10,
      "id": "0afefaa6",
      "metadata": {
        "execution": {
          "iopub.execute_input": "2022-08-04T16:13:35.311436Z",
          "iopub.status.busy": "2022-08-04T16:13:35.310924Z",
          "iopub.status.idle": "2022-08-04T16:13:35.419270Z",
          "shell.execute_reply": "2022-08-04T16:13:35.418723Z"
        },
        "papermill": {
          "duration": 0.164905,
          "end_time": "2022-08-04T16:13:35.419406",
          "exception": false,
          "start_time": "2022-08-04T16:13:35.254501",
          "status": "completed"
        },
        "tags": []
      },
      "outputs": [],
      "source": [
        "if JAX_AVAILABLE:\n",
        "    A = jnp.zeros((3, 5, 5)).at[:, Ai, Aj].set(Ax)\n",
        "    jnp.einsum(\"ijk,ik->ij\", A, x)"
      ]
    },
    {
      "cell_type": "markdown",
      "id": "7ed8f62d",
      "metadata": {
        "papermill": {
          "duration": 0.048514,
          "end_time": "2022-08-04T16:13:35.517480",
          "exception": false,
          "start_time": "2022-08-04T16:13:35.468966",
          "status": "completed"
        },
        "tags": []
      },
      "source": [
        "Additionally, we need a way to multiply a sparse COO-matrix with a dense vector. This can be done with `klujax.coo_mul_vec`:"
      ]
    },
    {
      "cell_type": "code",
      "execution_count": 11,
      "id": "bb419b8e6c9c998b",
      "metadata": {
        "execution": {
          "iopub.execute_input": "2022-08-04T16:13:35.619798Z",
          "iopub.status.busy": "2022-08-04T16:13:35.619272Z",
          "iopub.status.idle": "2022-08-04T16:13:35.620382Z",
          "shell.execute_reply": "2022-08-04T16:13:35.620841Z"
        },
        "papermill": {
          "duration": 0.055039,
          "end_time": "2022-08-04T16:13:35.620985",
          "exception": false,
          "start_time": "2022-08-04T16:13:35.565946",
          "status": "completed"
        },
        "tags": [
          "remove-input"
        ]
      },
      "outputs": [],
      "source": [
        "\n",
        "if klujax is not None:\n",
        "    show_doc(klujax.coo_mul_vec, doc_string=False, name=\"klujax.coo_mul_vec\")"
      ]
    },
    {
      "cell_type": "markdown",
      "id": "7f57c443",
      "metadata": {
        "papermill": {
          "duration": 0.049217,
          "end_time": "2022-08-04T16:13:35.717918",
          "exception": false,
          "start_time": "2022-08-04T16:13:35.668701",
          "status": "completed"
        },
        "tags": []
      },
      "source": [
        "However, it's useful to allow a batch dimension, this time *both* in `Ax` and in `b`:"
      ]
    },
    {
      "cell_type": "code",
      "execution_count": 12,
      "id": "cd39175b232b5cba",
      "metadata": {
        "execution": {
          "iopub.execute_input": "2022-08-04T16:13:35.818659Z",
          "iopub.status.busy": "2022-08-04T16:13:35.818008Z",
          "iopub.status.idle": "2022-08-04T16:13:35.819265Z",
          "shell.execute_reply": "2022-08-04T16:13:35.819654Z"
        },
        "papermill": {
          "duration": 0.054418,
          "end_time": "2022-08-04T16:13:35.819794",
          "exception": false,
          "start_time": "2022-08-04T16:13:35.765376",
          "status": "completed"
        },
        "tags": [
          "remove-cell"
        ]
      },
      "outputs": [],
      "source": [
        "\n",
        "# @jax.jit  # TODO: make this available to autograd\n",
        "# def mul_coo(Ai, Aj, Ax, b):\n",
        "#     result = jnp.zeros_like(b).at[..., Ai, :].add(Ax[..., :, None] * b[..., Aj, :])\n",
        "#     return result"
      ]
    },
    {
      "cell_type": "code",
      "execution_count": 13,
      "id": "58cc532184ddd75d",
      "metadata": {
        "execution": {
          "iopub.execute_input": "2022-08-04T16:13:35.920348Z",
          "iopub.status.busy": "2022-08-04T16:13:35.919836Z",
          "iopub.status.idle": "2022-08-04T16:13:35.920935Z",
          "shell.execute_reply": "2022-08-04T16:13:35.921404Z"
        },
        "papermill": {
          "duration": 0.053993,
          "end_time": "2022-08-04T16:13:35.921535",
          "exception": false,
          "start_time": "2022-08-04T16:13:35.867542",
          "status": "completed"
        },
        "tags": []
      },
      "outputs": [],
      "source": [
        "mul_coo = None \n",
        "if klujax is not None:\n",
        "    mul_coo = jax.vmap(klujax.coo_mul_vec, (None, None, 0, 0), 0)"
      ]
    },
    {
      "cell_type": "code",
      "execution_count": 14,
      "id": "b4c39bfa8278374a",
      "metadata": {
        "execution": {
          "iopub.execute_input": "2022-08-04T16:13:36.024567Z",
          "iopub.status.busy": "2022-08-04T16:13:36.023930Z",
          "iopub.status.idle": "2022-08-04T16:13:36.027518Z",
          "shell.execute_reply": "2022-08-04T16:13:36.027117Z"
        },
        "papermill": {
          "duration": 0.05731,
          "end_time": "2022-08-04T16:13:36.027633",
          "exception": false,
          "start_time": "2022-08-04T16:13:35.970323",
          "status": "completed"
        },
        "tags": [
          "remove-input"
        ]
      },
      "outputs": [
        {
          "data": {
            "text/markdown": [
              "<h4 id=\"mul_coo\" class=\"doc_header\"><code>mul_coo</code><a href=\"\" class=\"source_link\" style=\"float:right\">[source]</a></h4>\n",
              "\n"
            ],
            "text/plain": [
              "<IPython.core.display.Markdown object>"
            ]
          },
          "metadata": {},
          "output_type": "display_data"
        }
      ],
      "source": [
        "show_doc(mul_coo, doc_string=False, name=\"mul_coo\")"
      ]
    },
    {
      "cell_type": "markdown",
      "id": "d26cc3d9",
      "metadata": {
        "papermill": {
          "duration": 0.049918,
          "end_time": "2022-08-04T16:13:36.125724",
          "exception": false,
          "start_time": "2022-08-04T16:13:36.075806",
          "status": "completed"
        },
        "tags": []
      },
      "source": [
        "Let's confirm this does the right thing:"
      ]
    },
    {
      "cell_type": "code",
      "execution_count": 15,
      "id": "bd868973",
      "metadata": {
        "execution": {
          "iopub.execute_input": "2022-08-04T16:13:36.231949Z",
          "iopub.status.busy": "2022-08-04T16:13:36.231414Z",
          "iopub.status.idle": "2022-08-04T16:13:36.234796Z",
          "shell.execute_reply": "2022-08-04T16:13:36.235200Z"
        },
        "papermill": {
          "duration": 0.060999,
          "end_time": "2022-08-04T16:13:36.235339",
          "exception": false,
          "start_time": "2022-08-04T16:13:36.174340",
          "status": "completed"
        },
        "tags": []
      },
      "outputs": [
        {
          "data": {
            "text/plain": [
              "array([[5., 3., 2., 6., 1.],\n",
              "       [5., 3., 2., 6., 1.],\n",
              "       [5., 3., 2., 6., 1.]])"
            ]
          },
          "execution_count": 15,
          "metadata": {},
          "output_type": "execute_result"
        }
      ],
      "source": [
        "if klujax is not None:\n",
        "    result = mul_coo(Ai, Aj, Ax, x)\n",
        "else:\n",
        "    result = jnp.array([\n",
        "        [5.0, 3.0, 2.0, 6.0, 1.0],\n",
        "        [5.0, 3.0, 2.00000001, 6.0, 1.0],\n",
        "        [5.0, 3.0, 2.00000001, 6.0, 1.0],\n",
        "    ])\n",
        "    \n",
        "result"
      ]
    },
    {
      "cell_type": "markdown",
      "id": "d71e89fa",
      "metadata": {
        "papermill": {
          "duration": 0.049558,
          "end_time": "2022-08-04T16:13:36.334037",
          "exception": false,
          "start_time": "2022-08-04T16:13:36.284479",
          "status": "completed"
        },
        "tags": []
      },
      "source": [
        "## Circuit Evaluation"
      ]
    },
    {
      "cell_type": "markdown",
      "id": "5f80a9b43bde487e",
      "metadata": {},
      "source": [
        ":::{eval-rst}\n",
        ".. autofunction:: sax.backends.klu.evaluate_circuit_klu\n",
        ":::\n"
      ]
    },
    {
      "cell_type": "code",
      "execution_count": 16,
      "id": "9fcebb327525ad60",
      "metadata": {
        "execution": {
          "iopub.execute_input": "2022-08-04T16:13:36.437755Z",
          "iopub.status.busy": "2022-08-04T16:13:36.437217Z",
          "iopub.status.idle": "2022-08-04T16:13:36.452785Z",
          "shell.execute_reply": "2022-08-04T16:13:36.452378Z"
        },
        "papermill": {
          "duration": 0.06815,
          "end_time": "2022-08-04T16:13:36.452900",
          "exception": false,
          "start_time": "2022-08-04T16:13:36.384750",
          "status": "completed"
        },
        "tags": [
          "hide-input"
        ]
      },
      "outputs": [],
      "source": [
        "def evaluate_circuit_klu(\n",
        "    instances: Dict[str, SType],\n",
        "    connections: Dict[str, str],\n",
        "    ports: Dict[str, str],\n",
        "):\n",
        "    \"\"\"evaluate a circuit using KLU for the given sdicts. \"\"\"\n",
        "\n",
        "    if klujax is None:\n",
        "        raise ImportError(\n",
        "            \"Could not import 'klujax'. \"\n",
        "            \"Please install it first before using backend method 'klu'\"\n",
        "        )\n",
        "\n",
        "    assert solve_klu is not None\n",
        "    assert mul_coo is not None\n",
        "\n",
        "    connections = {**connections, **{v: k for k, v in connections.items()}}\n",
        "    inverse_ports = {v: k for k, v in ports.items()}\n",
        "    port_map = {k: i for i, k in enumerate(ports)}\n",
        "\n",
        "    idx, Si, Sj, Sx, instance_ports = 0, [], [], [], {}\n",
        "    batch_shape = ()\n",
        "    for name, instance in instances.items():\n",
        "        si, sj, sx, ports_map = scoo(instance)\n",
        "        Si.append(si + idx)\n",
        "        Sj.append(sj + idx)\n",
        "        Sx.append(sx)\n",
        "        if len(sx.shape[:-1]) > len(batch_shape):\n",
        "            batch_shape = sx.shape[:-1]\n",
        "        instance_ports.update({f\"{name},{p}\": i + idx for p, i in ports_map.items()})\n",
        "        idx += len(ports_map)\n",
        "\n",
        "    Si = jnp.concatenate(Si, -1)\n",
        "    Sj = jnp.concatenate(Sj, -1)\n",
        "    Sx = jnp.concatenate(\n",
        "        [jnp.broadcast_to(sx, (*batch_shape, sx.shape[-1])) for sx in Sx], -1\n",
        "    )\n",
        "\n",
        "    n_col = idx\n",
        "    n_rhs = len(port_map)\n",
        "\n",
        "    Cmap = {\n",
        "        int(instance_ports[k]): int(instance_ports[v]) for k, v in connections.items()\n",
        "    }\n",
        "    Ci = jnp.array(list(Cmap.keys()), dtype=jnp.int32)\n",
        "    Cj = jnp.array(list(Cmap.values()), dtype=jnp.int32)\n",
        "\n",
        "    Cextmap = {int(instance_ports[k]): int(port_map[v]) for k, v in inverse_ports.items()}\n",
        "    Cexti = jnp.stack(list(Cextmap.keys()), 0)\n",
        "    Cextj = jnp.stack(list(Cextmap.values()), 0)\n",
        "    Cext = jnp.zeros((n_col, n_rhs), dtype=complex).at[Cexti, Cextj].set(1.0)\n",
        "\n",
        "    # TODO: make this block jittable...\n",
        "    Ix = jnp.ones((*batch_shape, n_col))\n",
        "    Ii = Ij = jnp.arange(n_col)\n",
        "    mask = Cj[None,:] == Si[:, None]\n",
        "    CSi = jnp.broadcast_to(Ci[None, :], mask.shape)[mask]\n",
        "\n",
        "    # CSi = jnp.where(Cj[None, :] == Si[:, None], Ci[None, :], 0).sum(1)\n",
        "    mask = (Cj[:, None] == Si[None, :]).any(0)\n",
        "    CSj = Sj[mask]\n",
        "    \n",
        "    if Sx.ndim > 1: # bug in JAX... see https://github.com/google/jax/issues/9050\n",
        "        CSx = Sx[..., mask]\n",
        "    else:\n",
        "        CSx = Sx[mask]\n",
        "        \n",
        "    # CSj = jnp.where(mask, Sj, 0)\n",
        "    # CSx = jnp.where(mask, Sx, 0.0)\n",
        "\n",
        "    I_CSi = jnp.concatenate([CSi, Ii], -1)\n",
        "    I_CSj = jnp.concatenate([CSj, Ij], -1)\n",
        "    I_CSx = jnp.concatenate([-CSx, Ix], -1)\n",
        "\n",
        "    n_col, n_rhs = Cext.shape\n",
        "    n_lhs = jnp.prod(jnp.array(batch_shape, dtype=jnp.int32))\n",
        "    Sx = Sx.reshape(n_lhs, -1)\n",
        "    I_CSx = I_CSx.reshape(n_lhs, -1)\n",
        "\n",
        "    inv_I_CS_Cext = solve_klu(I_CSi, I_CSj, I_CSx, Cext)\n",
        "    S_inv_I_CS_Cext = mul_coo(Si, Sj, Sx, inv_I_CS_Cext)\n",
        "\n",
        "    CextT_S_inv_I_CS_Cext = S_inv_I_CS_Cext[..., Cexti, :][..., :, Cextj]\n",
        "    \n",
        "    _, n, _ = CextT_S_inv_I_CS_Cext.shape\n",
        "    S = CextT_S_inv_I_CS_Cext.reshape(*batch_shape, n, n)\n",
        "\n",
        "    return S, port_map"
      ]
    },
    {
      "cell_type": "markdown",
      "id": "dce9d8ca",
      "metadata": {
        "papermill": {
          "duration": 0.050822,
          "end_time": "2022-08-04T16:13:36.553411",
          "exception": false,
          "start_time": "2022-08-04T16:13:36.502589",
          "status": "completed"
        },
        "tags": []
      },
      "source": [
        "## Example"
      ]
    },
    {
      "cell_type": "code",
      "execution_count": 17,
      "id": "9639c387f0bdf631",
      "metadata": {
        "execution": {
          "iopub.execute_input": "2022-08-04T16:13:36.660160Z",
          "iopub.status.busy": "2022-08-04T16:13:36.659678Z",
          "iopub.status.idle": "2022-08-04T16:13:36.661531Z",
          "shell.execute_reply": "2022-08-04T16:13:36.661028Z"
        },
        "papermill": {
          "duration": 0.05756,
          "end_time": "2022-08-04T16:13:36.661644",
          "exception": false,
          "start_time": "2022-08-04T16:13:36.604084",
          "status": "completed"
        },
        "tags": [
          "remove-cell"
        ]
      },
      "outputs": [],
      "source": [
        "if klujax is None:\n",
        "    def evaluate_circuit_klu(\n",
        "        instances: Dict[str, SType],\n",
        "        connections: Dict[str, str],\n",
        "        ports: Dict[str, str],\n",
        "    ):\n",
        "        sdict = evaluate_circuit(instances, connections, ports)\n",
        "        sdense = sax.sdense(sdict)\n",
        "        return sdense"
      ]
    },
    {
      "cell_type": "code",
      "execution_count": 18,
      "id": "f577522a",
      "metadata": {
        "execution": {
          "iopub.execute_input": "2022-08-04T16:13:36.774761Z",
          "iopub.status.busy": "2022-08-04T16:13:36.769754Z",
          "iopub.status.idle": "2022-08-04T16:13:37.908448Z",
          "shell.execute_reply": "2022-08-04T16:13:37.907929Z"
        },
        "papermill": {
          "duration": 1.196894,
          "end_time": "2022-08-04T16:13:37.908597",
          "exception": false,
          "start_time": "2022-08-04T16:13:36.711703",
          "status": "completed"
        },
        "tags": []
      },
      "outputs": [],
      "source": [
        "wg_sdict: SDict = {\n",
        "    (\"in0\", \"out0\"): 0.5 + 0.86603j,\n",
        "    (\"out0\", \"in0\"): 0.5 + 0.86603j,\n",
        "}\n",
        "\n",
        "\u03c4, \u03ba = 0.5 ** 0.5, 1j * 0.5 ** 0.5\n",
        "dc_sdense: SDense = (\n",
        "    jnp.array([[0, 0, \u03c4, \u03ba], \n",
        "               [0, 0, \u03ba, \u03c4], \n",
        "               [\u03c4, \u03ba, 0, 0], \n",
        "               [\u03ba, \u03c4, 0, 0]]),\n",
        "    {\"in0\": 0, \"in1\": 1, \"out0\": 2, \"out1\": 3},\n",
        ")\n",
        "\n",
        "mzi_sdense: SDense = evaluate_circuit_klu(\n",
        "    instances={\n",
        "        \"dc1\": dc_sdense,\n",
        "        \"wg\": wg_sdict,\n",
        "        \"dc2\": dc_sdense,\n",
        "    },\n",
        "    connections={\n",
        "        \"dc1,out0\": \"wg,in0\",\n",
        "        \"wg,out0\": \"dc2,in0\",\n",
        "        \"dc1,out1\": \"dc2,in1\",\n",
        "    },\n",
        "    ports={\n",
        "        \"in0\": \"dc1,in0\",\n",
        "        \"in1\": \"dc1,in1\",\n",
        "        \"out0\": \"dc2,out0\",\n",
        "        \"out1\": \"dc2,out1\",\n",
        "    }\n",
        ")"
      ]
    },
    {
      "cell_type": "markdown",
      "id": "60b6d1e6",
      "metadata": {
        "papermill": {
          "duration": 0.049611,
          "end_time": "2022-08-04T16:13:38.008311",
          "exception": false,
          "start_time": "2022-08-04T16:13:37.958700",
          "status": "completed"
        },
        "tags": []
      },
      "source": [
        "the KLU backend yields `SDense` results by default:"
      ]
    },
    {
      "cell_type": "code",
      "execution_count": 19,
      "id": "ecc3115e",
      "metadata": {
        "execution": {
          "iopub.execute_input": "2022-08-04T16:13:38.115422Z",
          "iopub.status.busy": "2022-08-04T16:13:38.114624Z",
          "iopub.status.idle": "2022-08-04T16:13:38.116943Z",
          "shell.execute_reply": "2022-08-04T16:13:38.117296Z"
        },
        "papermill": {
          "duration": 0.059108,
          "end_time": "2022-08-04T16:13:38.117428",
          "exception": false,
          "start_time": "2022-08-04T16:13:38.058320",
          "status": "completed"
        },
        "tags": []
      },
      "outputs": [
        {
          "data": {
            "text/plain": [
              "(array([[ 0.        +0.j        ,  0.        +0.j        ,\n",
              "         -0.24999999+0.433015j  , -0.433015  +0.74999994j],\n",
              "        [ 0.        +0.j        ,  0.        +0.j        ,\n",
              "         -0.433015  +0.74999994j,  0.24999999-0.433015j  ],\n",
              "        [-0.24999999+0.433015j  , -0.433015  +0.74999994j,\n",
              "          0.        +0.j        ,  0.        +0.j        ],\n",
              "        [-0.433015  +0.74999994j,  0.24999999-0.433015j  ,\n",
              "          0.        +0.j        ,  0.        +0.j        ]],            dtype=complex64)),\n",
              " {'in0': 0, 'in1': 1, 'out0': 2, 'out1': 3})"
            ]
          },
          "execution_count": 19,
          "metadata": {},
          "output_type": "execute_result"
        }
      ],
      "source": [
        "mzi_sdense"
      ]
    },
    {
      "cell_type": "markdown",
      "id": "4b8e87f3",
      "metadata": {
        "papermill": {
          "duration": 0.05119,
          "end_time": "2022-08-04T16:13:38.218569",
          "exception": false,
          "start_time": "2022-08-04T16:13:38.167379",
          "status": "completed"
        },
        "tags": []
      },
      "source": [
        "An `SDense` is returned for perfomance reasons. By returning an `SDense` by default we prevent any internal `SDict -> SDense` conversions in deeply hierarchical circuits. It's however very easy to convert `SDense` to `SDict` as a final step. To do this, wrap the result (or the function generating the result) with `sdict`:"
      ]
    },
    {
      "cell_type": "code",
      "execution_count": 20,
      "id": "7202ab1e",
      "metadata": {
        "execution": {
          "iopub.execute_input": "2022-08-04T16:13:38.323637Z",
          "iopub.status.busy": "2022-08-04T16:13:38.323128Z",
          "iopub.status.idle": "2022-08-04T16:13:38.379133Z",
          "shell.execute_reply": "2022-08-04T16:13:38.379601Z"
        },
        "papermill": {
          "duration": 0.111193,
          "end_time": "2022-08-04T16:13:38.379775",
          "exception": false,
          "start_time": "2022-08-04T16:13:38.268582",
          "status": "completed"
        },
        "tags": []
      },
      "outputs": [
        {
          "data": {
            "text/plain": [
              "{('in0', 'in0'): 0j,\n",
              " ('in0', 'in1'): 0j,\n",
              " ('in0', 'out0'): -0.25+0.43301j,\n",
              " ('in0', 'out1'): -0.43301+0.75j,\n",
              " ('in1', 'in0'): 0j,\n",
              " ('in1', 'in1'): 0j,\n",
              " ('in1', 'out0'): -0.43301+0.75j,\n",
              " ('in1', 'out1'): 0.25-0.43301j,\n",
              " ('out0', 'in0'): -0.25+0.43301j,\n",
              " ('out0', 'in1'): -0.43301+0.75j,\n",
              " ('out0', 'out0'): 0j,\n",
              " ('out0', 'out1'): 0j,\n",
              " ('out1', 'in0'): -0.43301+0.75j,\n",
              " ('out1', 'in1'): 0.25-0.43301j,\n",
              " ('out1', 'out0'): 0j,\n",
              " ('out1', 'out1'): 0j}"
            ]
          },
          "execution_count": 20,
          "metadata": {},
          "output_type": "execute_result"
        }
      ],
      "source": [
        "sax.sdict(mzi_sdense)"
      ]
    },
    {
      "cell_type": "markdown",
      "id": "9f8cd5ea",
      "metadata": {
        "papermill": {
          "duration": 0.051736,
          "end_time": "2022-08-04T16:13:38.483939",
          "exception": false,
          "start_time": "2022-08-04T16:13:38.432203",
          "status": "completed"
        },
        "tags": []
      },
      "source": [
        "## Algorithm Walkthrough"
      ]
    },
    {
      "cell_type": "code",
      "execution_count": 21,
      "id": "665c856d",
      "metadata": {
        "execution": {
          "iopub.execute_input": "2022-08-04T16:13:38.592236Z",
          "iopub.status.busy": "2022-08-04T16:13:38.591755Z",
          "iopub.status.idle": "2022-08-04T16:13:38.593650Z",
          "shell.execute_reply": "2022-08-04T16:13:38.593225Z"
        },
        "papermill": {
          "duration": 0.057783,
          "end_time": "2022-08-04T16:13:38.593762",
          "exception": false,
          "start_time": "2022-08-04T16:13:38.535979",
          "status": "completed"
        },
        "tags": []
      },
      "outputs": [],
      "source": [
        "instances={\n",
        "    \"dc1\": dc_sdense,\n",
        "    \"wg\": wg_sdict,\n",
        "    \"dc2\": dc_sdense,\n",
        "}\n",
        "connections={\n",
        "    \"dc1,out0\": \"wg,in0\",\n",
        "    \"wg,out0\": \"dc2,in0\",\n",
        "    \"dc1,out1\": \"dc2,in1\",\n",
        "}\n",
        "ports={\n",
        "    \"in0\": \"dc1,in0\",\n",
        "    \"in1\": \"dc1,in1\",\n",
        "    \"out0\": \"dc2,out0\",\n",
        "    \"out1\": \"dc2,out1\",\n",
        "}"
      ]
    },
    {
      "cell_type": "markdown",
      "id": "b5bf5188",
      "metadata": {
        "papermill": {
          "duration": 0.050874,
          "end_time": "2022-08-04T16:13:38.695557",
          "exception": false,
          "start_time": "2022-08-04T16:13:38.644683",
          "status": "completed"
        },
        "tags": []
      },
      "source": [
        "Let's first enforce $C^T = C$:"
      ]
    },
    {
      "cell_type": "code",
      "execution_count": 22,
      "id": "6d7d4c39",
      "metadata": {
        "execution": {
          "iopub.execute_input": "2022-08-04T16:13:38.802523Z",
          "iopub.status.busy": "2022-08-04T16:13:38.802055Z",
          "iopub.status.idle": "2022-08-04T16:13:38.804761Z",
          "shell.execute_reply": "2022-08-04T16:13:38.804338Z"
        },
        "papermill": {
          "duration": 0.058478,
          "end_time": "2022-08-04T16:13:38.804874",
          "exception": false,
          "start_time": "2022-08-04T16:13:38.746396",
          "status": "completed"
        },
        "tags": []
      },
      "outputs": [
        {
          "data": {
            "text/plain": [
              "{'dc1,out0': 'wg,in0',\n",
              " 'wg,out0': 'dc2,in0',\n",
              " 'dc1,out1': 'dc2,in1',\n",
              " 'wg,in0': 'dc1,out0',\n",
              " 'dc2,in0': 'wg,out0',\n",
              " 'dc2,in1': 'dc1,out1'}"
            ]
          },
          "execution_count": 22,
          "metadata": {},
          "output_type": "execute_result"
        }
      ],
      "source": [
        "connections = {**connections, **{v: k for k, v in connections.items()}}\n",
        "connections"
      ]
    },
    {
      "cell_type": "markdown",
      "id": "a41250ec",
      "metadata": {
        "papermill": {
          "duration": 0.051708,
          "end_time": "2022-08-04T16:13:38.907404",
          "exception": false,
          "start_time": "2022-08-04T16:13:38.855696",
          "status": "completed"
        },
        "tags": []
      },
      "source": [
        "We'll also need the reversed ports:"
      ]
    },
    {
      "cell_type": "code",
      "execution_count": 23,
      "id": "9a70463f",
      "metadata": {
        "execution": {
          "iopub.execute_input": "2022-08-04T16:13:39.016901Z",
          "iopub.status.busy": "2022-08-04T16:13:39.016131Z",
          "iopub.status.idle": "2022-08-04T16:13:39.018955Z",
          "shell.execute_reply": "2022-08-04T16:13:39.018514Z"
        },
        "papermill": {
          "duration": 0.060412,
          "end_time": "2022-08-04T16:13:39.019077",
          "exception": false,
          "start_time": "2022-08-04T16:13:38.958665",
          "status": "completed"
        },
        "tags": []
      },
      "outputs": [
        {
          "data": {
            "text/plain": [
              "{'dc1,in0': 'in0', 'dc1,in1': 'in1', 'dc2,out0': 'out0', 'dc2,out1': 'out1'}"
            ]
          },
          "execution_count": 23,
          "metadata": {},
          "output_type": "execute_result"
        }
      ],
      "source": [
        "inverse_ports = {v: k for k, v in ports.items()}\n",
        "inverse_ports"
      ]
    },
    {
      "cell_type": "markdown",
      "id": "1e96443b",
      "metadata": {
        "papermill": {
          "duration": 0.050941,
          "end_time": "2022-08-04T16:13:39.122375",
          "exception": false,
          "start_time": "2022-08-04T16:13:39.071434",
          "status": "completed"
        },
        "tags": []
      },
      "source": [
        "An the port indices"
      ]
    },
    {
      "cell_type": "code",
      "execution_count": 24,
      "id": "8e18d182",
      "metadata": {
        "execution": {
          "iopub.execute_input": "2022-08-04T16:13:39.229203Z",
          "iopub.status.busy": "2022-08-04T16:13:39.227502Z",
          "iopub.status.idle": "2022-08-04T16:13:39.231099Z",
          "shell.execute_reply": "2022-08-04T16:13:39.231506Z"
        },
        "papermill": {
          "duration": 0.058156,
          "end_time": "2022-08-04T16:13:39.231651",
          "exception": false,
          "start_time": "2022-08-04T16:13:39.173495",
          "status": "completed"
        },
        "tags": []
      },
      "outputs": [
        {
          "data": {
            "text/plain": [
              "{'in0': 0, 'in1': 1, 'out0': 2, 'out1': 3}"
            ]
          },
          "execution_count": 24,
          "metadata": {},
          "output_type": "execute_result"
        }
      ],
      "source": [
        "port_map = {k: i for i, k in enumerate(ports)}\n",
        "port_map"
      ]
    },
    {
      "cell_type": "markdown",
      "id": "70924074",
      "metadata": {
        "papermill": {
          "duration": 0.053026,
          "end_time": "2022-08-04T16:13:39.338541",
          "exception": false,
          "start_time": "2022-08-04T16:13:39.285515",
          "status": "completed"
        },
        "tags": []
      },
      "source": [
        "Let's now create the COO-representation of our block diagonal S-matrix $S_{bd}$:"
      ]
    },
    {
      "cell_type": "code",
      "execution_count": 25,
      "id": "835deb8f",
      "metadata": {
        "execution": {
          "iopub.execute_input": "2022-08-04T16:13:39.467209Z",
          "iopub.status.busy": "2022-08-04T16:13:39.466621Z",
          "iopub.status.idle": "2022-08-04T16:13:39.641592Z",
          "shell.execute_reply": "2022-08-04T16:13:39.642055Z"
        },
        "papermill": {
          "duration": 0.247235,
          "end_time": "2022-08-04T16:13:39.642228",
          "exception": false,
          "start_time": "2022-08-04T16:13:39.394993",
          "status": "completed"
        },
        "tags": []
      },
      "outputs": [
        {
          "name": "stdout",
          "output_type": "stream",
          "text": [
            "[0 0 0 0 1 1 1 1 2 2 2 2 3 3 3 3 4 5 6 6 6 6 7 7 7 7 8 8 8 8 9 9 9 9]\n",
            "[0 1 2 3 0 1 2 3 0 1 2 3 0 1 2 3 5 4 6 7 8 9 6 7 8 9 6 7 8 9 6 7 8 9]\n",
            "[0.        +0.j         0.        +0.j         0.70710677+0.j\n",
            " 0.        +0.70710677j 0.        +0.j         0.        +0.j\n",
            " 0.        +0.70710677j 0.70710677+0.j         0.70710677+0.j\n",
            " 0.        +0.70710677j 0.        +0.j         0.        +0.j\n",
            " 0.        +0.70710677j 0.70710677+0.j         0.        +0.j\n",
            " 0.        +0.j         0.5       +0.86603j    0.5       +0.86603j\n",
            " 0.        +0.j         0.        +0.j         0.70710677+0.j\n",
            " 0.        +0.70710677j 0.        +0.j         0.        +0.j\n",
            " 0.        +0.70710677j 0.70710677+0.j         0.70710677+0.j\n",
            " 0.        +0.70710677j 0.        +0.j         0.        +0.j\n",
            " 0.        +0.70710677j 0.70710677+0.j         0.        +0.j\n",
            " 0.        +0.j        ]\n"
          ]
        }
      ],
      "source": [
        "idx, Si, Sj, Sx, instance_ports = 0, [], [], [], {}\n",
        "batch_shape = ()\n",
        "for name, instance in instances.items():\n",
        "    si, sj, sx, ports_map = scoo(instance)\n",
        "    Si.append(si + idx)\n",
        "    Sj.append(sj + idx)\n",
        "    Sx.append(sx)\n",
        "    if len(sx.shape[:-1]) > len(batch_shape):\n",
        "        batch_shape = sx.shape[:-1]\n",
        "    instance_ports.update({f\"{name},{p}\": i + idx for p, i in ports_map.items()})\n",
        "    idx += len(ports_map)\n",
        "Si = jnp.concatenate(Si, -1)\n",
        "Sj = jnp.concatenate(Sj, -1)\n",
        "Sx = jnp.concatenate([jnp.broadcast_to(sx, (*batch_shape, sx.shape[-1])) for sx in Sx], -1)\n",
        "\n",
        "print(Si)\n",
        "print(Sj)\n",
        "print(Sx)"
      ]
    },
    {
      "cell_type": "markdown",
      "id": "a8edefa1",
      "metadata": {
        "papermill": {
          "duration": 0.050705,
          "end_time": "2022-08-04T16:13:39.746801",
          "exception": false,
          "start_time": "2022-08-04T16:13:39.696096",
          "status": "completed"
        },
        "tags": []
      },
      "source": [
        "note that we also kept track of the `batch_shape`, i.e. the number of independent simulations (usually number of wavelengths). In the example being used here we don't have a batch dimension (all elements of the `SDict` are `0D`):"
      ]
    },
    {
      "cell_type": "code",
      "execution_count": 26,
      "id": "7513759a",
      "metadata": {
        "execution": {
          "iopub.execute_input": "2022-08-04T16:13:39.854323Z",
          "iopub.status.busy": "2022-08-04T16:13:39.853822Z",
          "iopub.status.idle": "2022-08-04T16:13:39.855940Z",
          "shell.execute_reply": "2022-08-04T16:13:39.856327Z"
        },
        "papermill": {
          "duration": 0.058589,
          "end_time": "2022-08-04T16:13:39.856472",
          "exception": false,
          "start_time": "2022-08-04T16:13:39.797883",
          "status": "completed"
        },
        "tags": []
      },
      "outputs": [
        {
          "data": {
            "text/plain": [
              "()"
            ]
          },
          "execution_count": 26,
          "metadata": {},
          "output_type": "execute_result"
        }
      ],
      "source": [
        "batch_shape"
      ]
    },
    {
      "cell_type": "markdown",
      "id": "c63b14d7",
      "metadata": {
        "papermill": {
          "duration": 0.053654,
          "end_time": "2022-08-04T16:13:39.963930",
          "exception": false,
          "start_time": "2022-08-04T16:13:39.910276",
          "status": "completed"
        },
        "tags": []
      },
      "source": [
        "We'll also keep track of the number of columns"
      ]
    },
    {
      "cell_type": "code",
      "execution_count": 27,
      "id": "89000432",
      "metadata": {
        "execution": {
          "iopub.execute_input": "2022-08-04T16:13:40.076836Z",
          "iopub.status.busy": "2022-08-04T16:13:40.075830Z",
          "iopub.status.idle": "2022-08-04T16:13:40.078747Z",
          "shell.execute_reply": "2022-08-04T16:13:40.078314Z"
        },
        "papermill": {
          "duration": 0.061399,
          "end_time": "2022-08-04T16:13:40.078903",
          "exception": false,
          "start_time": "2022-08-04T16:13:40.017504",
          "status": "completed"
        },
        "tags": []
      },
      "outputs": [
        {
          "data": {
            "text/plain": [
              "10"
            ]
          },
          "execution_count": 27,
          "metadata": {},
          "output_type": "execute_result"
        }
      ],
      "source": [
        "n_col = idx\n",
        "n_col"
      ]
    },
    {
      "cell_type": "markdown",
      "id": "7b0f95da",
      "metadata": {
        "papermill": {
          "duration": 0.054309,
          "end_time": "2022-08-04T16:13:40.187691",
          "exception": false,
          "start_time": "2022-08-04T16:13:40.133382",
          "status": "completed"
        },
        "tags": []
      },
      "source": [
        "And we'll need to solve the circuit for each output port, i.e. we need to solve `n_rhs` number of equations:"
      ]
    },
    {
      "cell_type": "code",
      "execution_count": 28,
      "id": "27902354",
      "metadata": {
        "execution": {
          "iopub.execute_input": "2022-08-04T16:13:40.299867Z",
          "iopub.status.busy": "2022-08-04T16:13:40.298974Z",
          "iopub.status.idle": "2022-08-04T16:13:40.301175Z",
          "shell.execute_reply": "2022-08-04T16:13:40.301541Z"
        },
        "papermill": {
          "duration": 0.060551,
          "end_time": "2022-08-04T16:13:40.301676",
          "exception": false,
          "start_time": "2022-08-04T16:13:40.241125",
          "status": "completed"
        },
        "tags": []
      },
      "outputs": [
        {
          "data": {
            "text/plain": [
              "4"
            ]
          },
          "execution_count": 28,
          "metadata": {},
          "output_type": "execute_result"
        }
      ],
      "source": [
        "n_rhs = len(port_map)\n",
        "n_rhs"
      ]
    },
    {
      "cell_type": "markdown",
      "id": "05056b46",
      "metadata": {
        "papermill": {
          "duration": 0.0528,
          "end_time": "2022-08-04T16:13:40.407986",
          "exception": false,
          "start_time": "2022-08-04T16:13:40.355186",
          "status": "completed"
        },
        "tags": []
      },
      "source": [
        "We can represent the internal connection matrix $C_{int}$ as a mapping between port indices:"
      ]
    },
    {
      "cell_type": "code",
      "execution_count": 29,
      "id": "f3ff1fa7",
      "metadata": {
        "execution": {
          "iopub.execute_input": "2022-08-04T16:13:40.520995Z",
          "iopub.status.busy": "2022-08-04T16:13:40.520486Z",
          "iopub.status.idle": "2022-08-04T16:13:40.522322Z",
          "shell.execute_reply": "2022-08-04T16:13:40.522704Z"
        },
        "papermill": {
          "duration": 0.061255,
          "end_time": "2022-08-04T16:13:40.522873",
          "exception": false,
          "start_time": "2022-08-04T16:13:40.461618",
          "status": "completed"
        },
        "tags": []
      },
      "outputs": [
        {
          "data": {
            "text/plain": [
              "{2: 4, 5: 6, 3: 7, 4: 2, 6: 5, 7: 3}"
            ]
          },
          "execution_count": 29,
          "metadata": {},
          "output_type": "execute_result"
        }
      ],
      "source": [
        "Cmap = {int(instance_ports[k]): int(instance_ports[v]) for k, v in connections.items()}\n",
        "Cmap"
      ]
    },
    {
      "cell_type": "markdown",
      "id": "999164af",
      "metadata": {
        "papermill": {
          "duration": 0.054988,
          "end_time": "2022-08-04T16:13:40.633211",
          "exception": false,
          "start_time": "2022-08-04T16:13:40.578223",
          "status": "completed"
        },
        "tags": []
      },
      "source": [
        "Therefore, the COO-representation of this connection matrix can be obtained as follows (note that an array of values Cx is not necessary, all non-zero elements in a connection matrix are 1)"
      ]
    },
    {
      "cell_type": "code",
      "execution_count": 30,
      "id": "9e4f1728",
      "metadata": {
        "execution": {
          "iopub.execute_input": "2022-08-04T16:13:40.749374Z",
          "iopub.status.busy": "2022-08-04T16:13:40.748848Z",
          "iopub.status.idle": "2022-08-04T16:13:40.756771Z",
          "shell.execute_reply": "2022-08-04T16:13:40.757156Z"
        },
        "papermill": {
          "duration": 0.068594,
          "end_time": "2022-08-04T16:13:40.757313",
          "exception": false,
          "start_time": "2022-08-04T16:13:40.688719",
          "status": "completed"
        },
        "tags": []
      },
      "outputs": [
        {
          "name": "stdout",
          "output_type": "stream",
          "text": [
            "[2 5 3 4 6 7]\n",
            "[4 6 7 2 5 3]\n"
          ]
        }
      ],
      "source": [
        "Ci = jnp.array(list(Cmap.keys()), dtype=jnp.int32)\n",
        "Cj = jnp.array(list(Cmap.values()), dtype=jnp.int32)\n",
        "print(Ci)\n",
        "print(Cj)"
      ]
    },
    {
      "cell_type": "markdown",
      "id": "47d5ed60",
      "metadata": {
        "papermill": {
          "duration": 0.055066,
          "end_time": "2022-08-04T16:13:40.867723",
          "exception": false,
          "start_time": "2022-08-04T16:13:40.812657",
          "status": "completed"
        },
        "tags": []
      },
      "source": [
        "We can represent the external connection matrix $C_{ext}$ as a map between internal port indices and external port indices:"
      ]
    },
    {
      "cell_type": "code",
      "execution_count": 31,
      "id": "f56ae166",
      "metadata": {
        "execution": {
          "iopub.execute_input": "2022-08-04T16:13:40.982577Z",
          "iopub.status.busy": "2022-08-04T16:13:40.982062Z",
          "iopub.status.idle": "2022-08-04T16:13:40.983921Z",
          "shell.execute_reply": "2022-08-04T16:13:40.984392Z"
        },
        "papermill": {
          "duration": 0.061964,
          "end_time": "2022-08-04T16:13:40.984536",
          "exception": false,
          "start_time": "2022-08-04T16:13:40.922572",
          "status": "completed"
        },
        "tags": []
      },
      "outputs": [
        {
          "data": {
            "text/plain": [
              "{0: 0, 1: 1, 8: 2, 9: 3}"
            ]
          },
          "execution_count": 31,
          "metadata": {},
          "output_type": "execute_result"
        }
      ],
      "source": [
        "Cextmap = {int(instance_ports[k]): int(port_map[v]) for k, v in inverse_ports.items()}\n",
        "Cextmap"
      ]
    },
    {
      "cell_type": "markdown",
      "id": "2485c01d",
      "metadata": {
        "papermill": {
          "duration": 0.05511,
          "end_time": "2022-08-04T16:13:41.095522",
          "exception": false,
          "start_time": "2022-08-04T16:13:41.040412",
          "status": "completed"
        },
        "tags": []
      },
      "source": [
        "Just as for the internal matrix we can represent this external connection matrix in COO-format:"
      ]
    },
    {
      "cell_type": "code",
      "execution_count": 32,
      "id": "cfb419ac",
      "metadata": {
        "execution": {
          "iopub.execute_input": "2022-08-04T16:13:41.212921Z",
          "iopub.status.busy": "2022-08-04T16:13:41.212397Z",
          "iopub.status.idle": "2022-08-04T16:13:41.245438Z",
          "shell.execute_reply": "2022-08-04T16:13:41.245907Z"
        },
        "papermill": {
          "duration": 0.096353,
          "end_time": "2022-08-04T16:13:41.246077",
          "exception": false,
          "start_time": "2022-08-04T16:13:41.149724",
          "status": "completed"
        },
        "tags": []
      },
      "outputs": [
        {
          "name": "stdout",
          "output_type": "stream",
          "text": [
            "[0 1 8 9]\n",
            "[0 1 2 3]\n"
          ]
        }
      ],
      "source": [
        "Cexti = jnp.stack(list(Cextmap.keys()), 0)\n",
        "Cextj = jnp.stack(list(Cextmap.values()), 0)\n",
        "print(Cexti)\n",
        "print(Cextj)"
      ]
    },
    {
      "cell_type": "markdown",
      "id": "e46d609c",
      "metadata": {
        "papermill": {
          "duration": 0.055247,
          "end_time": "2022-08-04T16:13:41.357362",
          "exception": false,
          "start_time": "2022-08-04T16:13:41.302115",
          "status": "completed"
        },
        "tags": []
      },
      "source": [
        "However, we actually need it as a dense representation:\n",
        "\n",
        "> help needed: can we find a way later on to keep this sparse?"
      ]
    },
    {
      "cell_type": "code",
      "execution_count": 33,
      "id": "25c4ec6e",
      "metadata": {
        "execution": {
          "iopub.execute_input": "2022-08-04T16:13:41.476028Z",
          "iopub.status.busy": "2022-08-04T16:13:41.475516Z",
          "iopub.status.idle": "2022-08-04T16:13:41.659108Z",
          "shell.execute_reply": "2022-08-04T16:13:41.659674Z"
        },
        "papermill": {
          "duration": 0.246398,
          "end_time": "2022-08-04T16:13:41.659874",
          "exception": false,
          "start_time": "2022-08-04T16:13:41.413476",
          "status": "completed"
        },
        "tags": []
      },
      "outputs": [],
      "source": [
        "if JAX_AVAILABLE:\n",
        "    Cext = jnp.zeros((n_col, n_rhs), dtype=complex).at[Cexti, Cextj].set(1.0)\n",
        "    Cext"
      ]
    },
    {
      "cell_type": "markdown",
      "id": "b31cc279",
      "metadata": {
        "papermill": {
          "duration": 0.054026,
          "end_time": "2022-08-04T16:13:41.770259",
          "exception": false,
          "start_time": "2022-08-04T16:13:41.716233",
          "status": "completed"
        },
        "tags": []
      },
      "source": [
        "We'll now calculate the row index `CSi` of $C_{int}S_{bd}$ in COO-format:"
      ]
    },
    {
      "cell_type": "code",
      "execution_count": 34,
      "id": "cca4e7838dcc5ac5",
      "metadata": {
        "execution": {
          "iopub.execute_input": "2022-08-04T16:13:41.889348Z",
          "iopub.status.busy": "2022-08-04T16:13:41.887691Z",
          "iopub.status.idle": "2022-08-04T16:13:42.098078Z",
          "shell.execute_reply": "2022-08-04T16:13:42.098546Z"
        },
        "papermill": {
          "duration": 0.273229,
          "end_time": "2022-08-04T16:13:42.098718",
          "exception": false,
          "start_time": "2022-08-04T16:13:41.825489",
          "status": "completed"
        },
        "tags": []
      },
      "outputs": [
        {
          "data": {
            "text/plain": [
              "array([4, 4, 4, 4, 7, 7, 7, 7, 2, 6, 5, 5, 5, 5, 3, 3, 3, 3])"
            ]
          },
          "execution_count": 34,
          "metadata": {},
          "output_type": "execute_result"
        }
      ],
      "source": [
        "# TODO: make this block jittable...\n",
        "Ix = jnp.ones((*batch_shape, n_col))\n",
        "Ii = Ij = jnp.arange(n_col)\n",
        "mask = Cj[None,:] == Si[:, None]\n",
        "CSi = jnp.broadcast_to(Ci[None, :], mask.shape)[mask]\n",
        "CSi"
      ]
    },
    {
      "cell_type": "markdown",
      "id": "a2657582",
      "metadata": {
        "papermill": {
          "duration": 0.054258,
          "end_time": "2022-08-04T16:13:42.209814",
          "exception": false,
          "start_time": "2022-08-04T16:13:42.155556",
          "status": "completed"
        },
        "tags": []
      },
      "source": [
        "> `CSi`: possible jittable alternative? how do we remove the zeros?"
      ]
    },
    {
      "cell_type": "code",
      "execution_count": 35,
      "id": "d4ea2cb5",
      "metadata": {
        "execution": {
          "iopub.execute_input": "2022-08-04T16:13:42.325908Z",
          "iopub.status.busy": "2022-08-04T16:13:42.325416Z",
          "iopub.status.idle": "2022-08-04T16:13:42.377748Z",
          "shell.execute_reply": "2022-08-04T16:13:42.378118Z"
        },
        "papermill": {
          "duration": 0.11336,
          "end_time": "2022-08-04T16:13:42.378264",
          "exception": false,
          "start_time": "2022-08-04T16:13:42.264904",
          "status": "completed"
        },
        "tags": []
      },
      "outputs": [
        {
          "data": {
            "text/plain": [
              "array([0, 0, 0, 0, 0, 0, 0, 0, 4, 4, 4, 4, 7, 7, 7, 7, 2, 6, 5, 5,\n",
              "       5, 5, 3, 3, 3, 3, 0, 0, 0, 0, 0, 0, 0, 0])"
            ]
          },
          "execution_count": 35,
          "metadata": {},
          "output_type": "execute_result"
        }
      ],
      "source": [
        "CSi_ = jnp.where(Cj[None, :] == Si[:, None], Ci[None, :], 0).sum(1) # not used\n",
        "CSi_ # not used"
      ]
    },
    {
      "cell_type": "markdown",
      "id": "44fc620e",
      "metadata": {
        "papermill": {
          "duration": 0.055092,
          "end_time": "2022-08-04T16:13:42.489522",
          "exception": false,
          "start_time": "2022-08-04T16:13:42.434430",
          "status": "completed"
        },
        "tags": []
      },
      "source": [
        "The column index `CSj` of $C_{int}S_{bd}$ can more easily be obtained:"
      ]
    },
    {
      "cell_type": "code",
      "execution_count": 36,
      "id": "f71fdd7c",
      "metadata": {
        "execution": {
          "iopub.execute_input": "2022-08-04T16:13:42.611892Z",
          "iopub.status.busy": "2022-08-04T16:13:42.611367Z",
          "iopub.status.idle": "2022-08-04T16:13:42.702521Z",
          "shell.execute_reply": "2022-08-04T16:13:42.702922Z"
        },
        "papermill": {
          "duration": 0.157959,
          "end_time": "2022-08-04T16:13:42.703082",
          "exception": false,
          "start_time": "2022-08-04T16:13:42.545123",
          "status": "completed"
        },
        "tags": []
      },
      "outputs": [
        {
          "data": {
            "text/plain": [
              "array([0, 1, 2, 3, 0, 1, 2, 3, 5, 4, 6, 7, 8, 9, 6, 7, 8, 9])"
            ]
          },
          "execution_count": 36,
          "metadata": {},
          "output_type": "execute_result"
        }
      ],
      "source": [
        "mask = (Cj[:, None] == Si[None, :]).any(0)\n",
        "CSj = Sj[mask]\n",
        "CSj"
      ]
    },
    {
      "cell_type": "markdown",
      "id": "99bf7684",
      "metadata": {
        "papermill": {
          "duration": 0.056151,
          "end_time": "2022-08-04T16:13:42.816093",
          "exception": false,
          "start_time": "2022-08-04T16:13:42.759942",
          "status": "completed"
        },
        "tags": []
      },
      "source": [
        "> `CSj`: possible jittable alternative? how do we remove the zeros?"
      ]
    },
    {
      "cell_type": "code",
      "execution_count": 37,
      "id": "ffa7bc82",
      "metadata": {
        "execution": {
          "iopub.execute_input": "2022-08-04T16:13:42.940319Z",
          "iopub.status.busy": "2022-08-04T16:13:42.939794Z",
          "iopub.status.idle": "2022-08-04T16:13:42.958688Z",
          "shell.execute_reply": "2022-08-04T16:13:42.959272Z"
        },
        "papermill": {
          "duration": 0.087327,
          "end_time": "2022-08-04T16:13:42.959444",
          "exception": false,
          "start_time": "2022-08-04T16:13:42.872117",
          "status": "completed"
        },
        "tags": []
      },
      "outputs": [
        {
          "data": {
            "text/plain": [
              "array([0, 0, 0, 0, 0, 0, 0, 0, 0, 1, 2, 3, 0, 1, 2, 3, 5, 4, 6, 7,\n",
              "       8, 9, 6, 7, 8, 9, 0, 0, 0, 0, 0, 0, 0, 0])"
            ]
          },
          "execution_count": 37,
          "metadata": {},
          "output_type": "execute_result"
        }
      ],
      "source": [
        "CSj_ = jnp.where(mask, Sj, 0) # not used\n",
        "CSj_ # not used"
      ]
    },
    {
      "cell_type": "markdown",
      "id": "e0fc6d02",
      "metadata": {
        "papermill": {
          "duration": 0.056747,
          "end_time": "2022-08-04T16:13:43.076139",
          "exception": false,
          "start_time": "2022-08-04T16:13:43.019392",
          "status": "completed"
        },
        "tags": []
      },
      "source": [
        "Finally, the values `CSx` of $C_{int}S_{bd}$ can be obtained as follows:"
      ]
    },
    {
      "cell_type": "code",
      "execution_count": 38,
      "id": "59d2e1b2",
      "metadata": {
        "execution": {
          "iopub.execute_input": "2022-08-04T16:13:43.196000Z",
          "iopub.status.busy": "2022-08-04T16:13:43.195478Z",
          "iopub.status.idle": "2022-08-04T16:13:43.223738Z",
          "shell.execute_reply": "2022-08-04T16:13:43.224289Z"
        },
        "papermill": {
          "duration": 0.090749,
          "end_time": "2022-08-04T16:13:43.224462",
          "exception": false,
          "start_time": "2022-08-04T16:13:43.133713",
          "status": "completed"
        },
        "tags": []
      },
      "outputs": [
        {
          "data": {
            "text/plain": [
              "array([0.70710677+0.j        , 0.        +0.70710677j,\n",
              "       0.        +0.j        , 0.        +0.j        ,\n",
              "       0.        +0.70710677j, 0.70710677+0.j        ,\n",
              "       0.        +0.j        , 0.        +0.j        ,\n",
              "       0.5       +0.86603j   , 0.5       +0.86603j   ,\n",
              "       0.        +0.j        , 0.        +0.j        ,\n",
              "       0.70710677+0.j        , 0.        +0.70710677j,\n",
              "       0.        +0.j        , 0.        +0.j        ,\n",
              "       0.        +0.70710677j, 0.70710677+0.j        ],            dtype=complex64))"
            ]
          },
          "execution_count": 38,
          "metadata": {},
          "output_type": "execute_result"
        }
      ],
      "source": [
        "if Sx.ndim > 1:\n",
        "    CSx = Sx[..., mask] # normally this should be enough\n",
        "else:\n",
        "    CSx = Sx[mask] # need separate case bc bug in JAX... see https://github.com/google/jax/issues/9050\n",
        "   \n",
        "CSx"
      ]
    },
    {
      "cell_type": "markdown",
      "id": "c02035bd",
      "metadata": {
        "papermill": {
          "duration": 0.056496,
          "end_time": "2022-08-04T16:13:43.338490",
          "exception": false,
          "start_time": "2022-08-04T16:13:43.281994",
          "status": "completed"
        },
        "tags": []
      },
      "source": [
        "> `CSx`: possible jittable alternative? how do we remove the zeros?"
      ]
    },
    {
      "cell_type": "code",
      "execution_count": 39,
      "id": "107e9e80",
      "metadata": {
        "execution": {
          "iopub.execute_input": "2022-08-04T16:13:43.463459Z",
          "iopub.status.busy": "2022-08-04T16:13:43.462856Z",
          "iopub.status.idle": "2022-08-04T16:13:43.482891Z",
          "shell.execute_reply": "2022-08-04T16:13:43.483369Z"
        },
        "papermill": {
          "duration": 0.088983,
          "end_time": "2022-08-04T16:13:43.483541",
          "exception": false,
          "start_time": "2022-08-04T16:13:43.394558",
          "status": "completed"
        },
        "tags": []
      },
      "outputs": [
        {
          "data": {
            "text/plain": [
              "array([0.        +0.j        , 0.        +0.j        ,\n",
              "       0.        +0.j        , 0.        +0.j        ,\n",
              "       0.        +0.j        , 0.        +0.j        ,\n",
              "       0.        +0.j        , 0.        +0.j        ,\n",
              "       0.70710677+0.j        , 0.        +0.70710677j,\n",
              "       0.        +0.j        , 0.        +0.j        ,\n",
              "       0.        +0.70710677j, 0.70710677+0.j        ,\n",
              "       0.        +0.j        , 0.        +0.j        ,\n",
              "       0.5       +0.86603j   , 0.5       +0.86603j   ,\n",
              "       0.        +0.j        , 0.        +0.j        ,\n",
              "       0.70710677+0.j        , 0.        +0.70710677j,\n",
              "       0.        +0.j        , 0.        +0.j        ,\n",
              "       0.        +0.70710677j, 0.70710677+0.j        ,\n",
              "       0.        +0.j        , 0.        +0.j        ,\n",
              "       0.        +0.j        , 0.        +0.j        ,\n",
              "       0.        +0.j        , 0.        +0.j        ,\n",
              "       0.        +0.j        , 0.        +0.j        ],            dtype=complex64))"
            ]
          },
          "execution_count": 39,
          "metadata": {},
          "output_type": "execute_result"
        }
      ],
      "source": [
        "CSx_ = jnp.where(mask, Sx, 0.0) # not used\n",
        "CSx_ # not used"
      ]
    },
    {
      "cell_type": "markdown",
      "id": "9411edf5",
      "metadata": {
        "papermill": {
          "duration": 0.057645,
          "end_time": "2022-08-04T16:13:43.598763",
          "exception": false,
          "start_time": "2022-08-04T16:13:43.541118",
          "status": "completed"
        },
        "tags": []
      },
      "source": [
        "Now we calculate $\\mathbb{1} - C_{int}S_{bd}$ in an *uncoalesced* way (we might have duplicate indices on the diagonal):\n",
        "\n",
        "> **uncoalesced**: having duplicate index combinations (i, j) in the representation possibly with different corresponding values. This is usually not a problem as in linear operations these values will end up to be summed, usually the behavior you want:"
      ]
    },
    {
      "cell_type": "code",
      "execution_count": 40,
      "id": "53c3f4ab",
      "metadata": {
        "execution": {
          "iopub.execute_input": "2022-08-04T16:13:43.724502Z",
          "iopub.status.busy": "2022-08-04T16:13:43.723975Z",
          "iopub.status.idle": "2022-08-04T16:13:43.791420Z",
          "shell.execute_reply": "2022-08-04T16:13:43.791854Z"
        },
        "papermill": {
          "duration": 0.135853,
          "end_time": "2022-08-04T16:13:43.792016",
          "exception": false,
          "start_time": "2022-08-04T16:13:43.656163",
          "status": "completed"
        },
        "tags": []
      },
      "outputs": [
        {
          "name": "stdout",
          "output_type": "stream",
          "text": [
            "[4 4 4 4 7 7 7 7 2 6 5 5 5 5 3 3 3 3 0 1 2 3 4 5 6 7 8 9]\n",
            "[0 1 2 3 0 1 2 3 5 4 6 7 8 9 6 7 8 9 0 1 2 3 4 5 6 7 8 9]\n",
            "[-0.70710677-0.j         -0.        -0.70710677j -0.        -0.j\n",
            " -0.        -0.j         -0.        -0.70710677j -0.70710677-0.j\n",
            " -0.        -0.j         -0.        -0.j         -0.5       -0.86603j\n",
            " -0.5       -0.86603j    -0.        -0.j         -0.        -0.j\n",
            " -0.70710677-0.j         -0.        -0.70710677j -0.        -0.j\n",
            " -0.        -0.j         -0.        -0.70710677j -0.70710677-0.j\n",
            "  1.        +0.j          1.        +0.j          1.        +0.j\n",
            "  1.        +0.j          1.        +0.j          1.        +0.j\n",
            "  1.        +0.j          1.        +0.j          1.        +0.j\n",
            "  1.        +0.j        ]\n"
          ]
        }
      ],
      "source": [
        "I_CSi = jnp.concatenate([CSi, Ii], -1)\n",
        "I_CSj = jnp.concatenate([CSj, Ij], -1)\n",
        "I_CSx = jnp.concatenate([-CSx, Ix], -1)\n",
        "print(I_CSi)\n",
        "print(I_CSj)\n",
        "print(I_CSx)"
      ]
    },
    {
      "cell_type": "code",
      "execution_count": 41,
      "id": "188e4606",
      "metadata": {
        "execution": {
          "iopub.execute_input": "2022-08-04T16:13:43.912668Z",
          "iopub.status.busy": "2022-08-04T16:13:43.912193Z",
          "iopub.status.idle": "2022-08-04T16:13:43.914910Z",
          "shell.execute_reply": "2022-08-04T16:13:43.914482Z"
        },
        "papermill": {
          "duration": 0.064148,
          "end_time": "2022-08-04T16:13:43.915023",
          "exception": false,
          "start_time": "2022-08-04T16:13:43.850875",
          "status": "completed"
        },
        "tags": []
      },
      "outputs": [
        {
          "name": "stdout",
          "output_type": "stream",
          "text": [
            "10 4\n"
          ]
        }
      ],
      "source": [
        "if JAX_AVAILABLE:\n",
        "    n_col, n_rhs = Cext.shape\n",
        "    print(n_col, n_rhs)"
      ]
    },
    {
      "cell_type": "markdown",
      "id": "e018c515",
      "metadata": {
        "papermill": {
          "duration": 0.057883,
          "end_time": "2022-08-04T16:13:44.030514",
          "exception": false,
          "start_time": "2022-08-04T16:13:43.972631",
          "status": "completed"
        },
        "tags": []
      },
      "source": [
        "The batch shape dimension can generally speaking be anything (in the example here 0D). We need to do the necessary reshapings to make the batch shape 1D:"
      ]
    },
    {
      "cell_type": "code",
      "execution_count": 42,
      "id": "dad259e7",
      "metadata": {
        "execution": {
          "iopub.execute_input": "2022-08-04T16:13:44.156116Z",
          "iopub.status.busy": "2022-08-04T16:13:44.153639Z",
          "iopub.status.idle": "2022-08-04T16:13:44.169604Z",
          "shell.execute_reply": "2022-08-04T16:13:44.169093Z"
        },
        "papermill": {
          "duration": 0.081865,
          "end_time": "2022-08-04T16:13:44.169724",
          "exception": false,
          "start_time": "2022-08-04T16:13:44.087859",
          "status": "completed"
        },
        "tags": []
      },
      "outputs": [
        {
          "name": "stdout",
          "output_type": "stream",
          "text": [
            "1\n"
          ]
        }
      ],
      "source": [
        "n_lhs = jnp.prod(jnp.array(batch_shape, dtype=jnp.int32))\n",
        "print(n_lhs)"
      ]
    },
    {
      "cell_type": "code",
      "execution_count": 43,
      "id": "9cf69da7",
      "metadata": {
        "execution": {
          "iopub.execute_input": "2022-08-04T16:13:44.296827Z",
          "iopub.status.busy": "2022-08-04T16:13:44.296320Z",
          "iopub.status.idle": "2022-08-04T16:13:44.310999Z",
          "shell.execute_reply": "2022-08-04T16:13:44.310537Z"
        },
        "papermill": {
          "duration": 0.082728,
          "end_time": "2022-08-04T16:13:44.311113",
          "exception": false,
          "start_time": "2022-08-04T16:13:44.228385",
          "status": "completed"
        },
        "tags": []
      },
      "outputs": [
        {
          "data": {
            "text/plain": [
              "(1, 34)"
            ]
          },
          "execution_count": 43,
          "metadata": {},
          "output_type": "execute_result"
        }
      ],
      "source": [
        "Sx = Sx.reshape(n_lhs, -1)\n",
        "Sx.shape"
      ]
    },
    {
      "cell_type": "code",
      "execution_count": 44,
      "id": "788294fa",
      "metadata": {
        "execution": {
          "iopub.execute_input": "2022-08-04T16:13:44.438784Z",
          "iopub.status.busy": "2022-08-04T16:13:44.433301Z",
          "iopub.status.idle": "2022-08-04T16:13:44.453742Z",
          "shell.execute_reply": "2022-08-04T16:13:44.454206Z"
        },
        "papermill": {
          "duration": 0.083735,
          "end_time": "2022-08-04T16:13:44.454376",
          "exception": false,
          "start_time": "2022-08-04T16:13:44.370641",
          "status": "completed"
        },
        "tags": []
      },
      "outputs": [
        {
          "data": {
            "text/plain": [
              "(1, 28)"
            ]
          },
          "execution_count": 44,
          "metadata": {},
          "output_type": "execute_result"
        }
      ],
      "source": [
        "I_CSx = I_CSx.reshape(n_lhs, -1)\n",
        "I_CSx.shape"
      ]
    },
    {
      "cell_type": "markdown",
      "id": "ec741031",
      "metadata": {
        "papermill": {
          "duration": 0.059088,
          "end_time": "2022-08-04T16:13:44.573643",
          "exception": false,
          "start_time": "2022-08-04T16:13:44.514555",
          "status": "completed"
        },
        "tags": []
      },
      "source": [
        "We're finally ready to do the most important part of the calculation, which we conveniently leave to `klujax` and `SuiteSparse`:"
      ]
    },
    {
      "cell_type": "code",
      "execution_count": 45,
      "id": "9c1d8644",
      "metadata": {
        "execution": {
          "iopub.execute_input": "2022-08-04T16:13:44.700222Z",
          "iopub.status.busy": "2022-08-04T16:13:44.699688Z",
          "iopub.status.idle": "2022-08-04T16:13:44.700939Z",
          "shell.execute_reply": "2022-08-04T16:13:44.701324Z"
        },
        "papermill": {
          "duration": 0.069314,
          "end_time": "2022-08-04T16:13:44.701468",
          "exception": false,
          "start_time": "2022-08-04T16:13:44.632154",
          "status": "completed"
        },
        "tags": []
      },
      "outputs": [],
      "source": [
        "if klujax is not None:\n",
        "    inv_I_CS_Cext = solve_klu(I_CSi, I_CSj, I_CSx, Cext)\n",
        "else:\n",
        "    inv_I_CS_Cext = jnp.array([[[1.0 + 0.0j, 0.0 + 0.0j, 0.0 + 0.0j, 0.0 + 0.0j], [0.0 + 0.0j, 1.0 + 0.0j, 0.0 + 0.0j, 0.0 + 0.0j], [ -0.0 + 0.0j, -0.0 + 0.0j, 0.35355339 + 0.61237569j, -0.61237569 + 0.35355339j, ], [0.0 + 0.0j, 0.0 + 0.0j, 0.0 + 0.70710678j, 0.70710678 + 0.0j], [0.70710678 - 0.0j, -0.0 + 0.70710678j, -0.0 - 0.0j, -0.0 - 0.0j], [-0.0 - 0.0j, -0.0 - 0.0j, 0.70710678 - 0.0j, -0.0 + 0.70710678j], [ 0.35355339 + 0.61237569j, -0.61237569 + 0.35355339j, -0.0 + 0.0j, -0.0 + 0.0j, ], [0.0 + 0.70710678j, 0.70710678 + 0.0j, 0.0 + 0.0j, 0.0 + 0.0j], [0.0 + 0.0j, 0.0 + 0.0j, 1.0 + 0.0j, 0.0 + 0.0j], [0.0 + 0.0j, 0.0 + 0.0j, 0.0 + 0.0j, 1.0 + 0.0j]]])"
      ]
    },
    {
      "cell_type": "markdown",
      "id": "e51487df",
      "metadata": {
        "papermill": {
          "duration": 0.058674,
          "end_time": "2022-08-04T16:13:44.818777",
          "exception": false,
          "start_time": "2022-08-04T16:13:44.760103",
          "status": "completed"
        },
        "tags": []
      },
      "source": [
        "one more sparse multiplication:"
      ]
    },
    {
      "cell_type": "code",
      "execution_count": 46,
      "id": "cccda072",
      "metadata": {
        "execution": {
          "iopub.execute_input": "2022-08-04T16:13:44.943525Z",
          "iopub.status.busy": "2022-08-04T16:13:44.942972Z",
          "iopub.status.idle": "2022-08-04T16:13:44.944038Z",
          "shell.execute_reply": "2022-08-04T16:13:44.944510Z"
        },
        "papermill": {
          "duration": 0.067579,
          "end_time": "2022-08-04T16:13:44.944651",
          "exception": false,
          "start_time": "2022-08-04T16:13:44.877072",
          "status": "completed"
        },
        "tags": []
      },
      "outputs": [],
      "source": [
        "if klujax is not None:\n",
        "    S_inv_I_CS_Cext = mul_coo(Si, Sj, Sx, inv_I_CS_Cext)\n",
        "else:\n",
        "    S_inv_I_CS_Cext = jnp.array([[[0.0 + 0.0j, 0.0 + 0.0j, -0.25 + 0.433015j, -0.433015 + 0.75j], [0.0 + 0.0j, 0.0 + 0.0j, -0.433015 + 0.75j, 0.25 - 0.433015j], [0.70710678 + 0.0j, 0.0 + 0.70710678j, 0.0 + 0.0j, 0.0 + 0.0j], [0.0 + 0.70710678j, 0.70710678 + 0.0j, 0.0 + 0.0j, 0.0 + 0.0j], [ 0.0 + 0.0j, 0.0 + 0.0j, 0.35355339 + 0.61237569j, -0.61237569 + 0.35355339j, ], [ 0.35355339 + 0.61237569j, -0.61237569 + 0.35355339j, 0.0 + 0.0j, 0.0 + 0.0j, ], [0.0 + 0.0j, 0.0 + 0.0j, 0.70710678 + 0.0j, 0.0 + 0.70710678j], [0.0 + 0.0j, 0.0 + 0.0j, 0.0 + 0.70710678j, 0.70710678 + 0.0j], [-0.25 + 0.433015j, -0.433015 + 0.75j, 0.0 + 0.0j, 0.0 + 0.0j], [-0.433015 + 0.75j, 0.25 - 0.433015j, 0.0 + 0.0j, 0.0 + 0.0j]]])"
      ]
    },
    {
      "cell_type": "markdown",
      "id": "627a98f7",
      "metadata": {
        "papermill": {
          "duration": 0.059853,
          "end_time": "2022-08-04T16:13:45.064131",
          "exception": false,
          "start_time": "2022-08-04T16:13:45.004278",
          "status": "completed"
        },
        "tags": []
      },
      "source": [
        "And one more $C_{ext}$ multiplication which we do by clever indexing:"
      ]
    },
    {
      "cell_type": "code",
      "execution_count": 47,
      "id": "12ff877c",
      "metadata": {
        "execution": {
          "iopub.execute_input": "2022-08-04T16:13:45.191301Z",
          "iopub.status.busy": "2022-08-04T16:13:45.190714Z",
          "iopub.status.idle": "2022-08-04T16:13:45.192657Z",
          "shell.execute_reply": "2022-08-04T16:13:45.193044Z"
        },
        "papermill": {
          "duration": 0.069429,
          "end_time": "2022-08-04T16:13:45.193181",
          "exception": false,
          "start_time": "2022-08-04T16:13:45.123752",
          "status": "completed"
        },
        "tags": []
      },
      "outputs": [
        {
          "data": {
            "text/plain": [
              "array([[[ 0.      +0.j      ,  0.      +0.j      ,\n",
              "         -0.25    +0.433015j, -0.433015+0.75j    ],\n",
              "        [ 0.      +0.j      ,  0.      +0.j      ,\n",
              "         -0.433015+0.75j    ,  0.25    -0.433015j],\n",
              "        [-0.25    +0.433015j, -0.433015+0.75j    ,\n",
              "          0.      +0.j      ,  0.      +0.j      ],\n",
              "        [-0.433015+0.75j    ,  0.25    -0.433015j,\n",
              "          0.      +0.j      ,  0.      +0.j      ]]],            dtype=complex64))"
            ]
          },
          "execution_count": 47,
          "metadata": {},
          "output_type": "execute_result"
        }
      ],
      "source": [
        "if klujax is not None:\n",
        "    CextT_S_inv_I_CS_Cext = S_inv_I_CS_Cext[..., Cexti, :][..., :, Cextj]\n",
        "else:\n",
        "    CextT_S_inv_I_CS_Cext = jnp.array([[[0.0 + 0.0j, 0.0 + 0.0j, -0.25 + 0.433015j, -0.433015 + 0.75j], [0.0 + 0.0j, 0.0 + 0.0j, -0.433015 + 0.75j, 0.25 - 0.433015j], [-0.25 + 0.433015j, -0.433015 + 0.75j, 0.0 + 0.0j, 0.0 + 0.0j], [-0.433015 + 0.75j, 0.25 - 0.433015j, 0.0 + 0.0j, 0.0 + 0.0j]]])\n",
        "CextT_S_inv_I_CS_Cext"
      ]
    },
    {
      "cell_type": "markdown",
      "id": "3e1c75b2",
      "metadata": {
        "papermill": {
          "duration": 0.058993,
          "end_time": "2022-08-04T16:13:45.310059",
          "exception": false,
          "start_time": "2022-08-04T16:13:45.251066",
          "status": "completed"
        },
        "tags": []
      },
      "source": [
        "That's it! We found the S-matrix of the circuit. We just need to reshape the batch dimension back into the matrix:"
      ]
    },
    {
      "cell_type": "code",
      "execution_count": 48,
      "id": "cbf962af",
      "metadata": {
        "execution": {
          "iopub.execute_input": "2022-08-04T16:13:45.438475Z",
          "iopub.status.busy": "2022-08-04T16:13:45.437463Z",
          "iopub.status.idle": "2022-08-04T16:13:45.453028Z",
          "shell.execute_reply": "2022-08-04T16:13:45.453460Z"
        },
        "papermill": {
          "duration": 0.083897,
          "end_time": "2022-08-04T16:13:45.453601",
          "exception": false,
          "start_time": "2022-08-04T16:13:45.369704",
          "status": "completed"
        },
        "tags": []
      },
      "outputs": [
        {
          "data": {
            "text/plain": [
              "array([[ 0.      +0.j      ,  0.      +0.j      ,\n",
              "        -0.25    +0.433015j, -0.433015+0.75j    ],\n",
              "       [ 0.      +0.j      ,  0.      +0.j      ,\n",
              "        -0.433015+0.75j    ,  0.25    -0.433015j],\n",
              "       [-0.25    +0.433015j, -0.433015+0.75j    ,\n",
              "         0.      +0.j      ,  0.      +0.j      ],\n",
              "       [-0.433015+0.75j    ,  0.25    -0.433015j,\n",
              "         0.      +0.j      ,  0.      +0.j      ]])"
            ]
          },
          "execution_count": 48,
          "metadata": {},
          "output_type": "execute_result"
        }
      ],
      "source": [
        "_, n, _ = CextT_S_inv_I_CS_Cext.shape\n",
        "S = CextT_S_inv_I_CS_Cext.reshape(*batch_shape, n, n)\n",
        "S"
      ]
    },
    {
      "cell_type": "markdown",
      "id": "1f6dea4c",
      "metadata": {
        "papermill": {
          "duration": 0.060281,
          "end_time": "2022-08-04T16:13:45.574140",
          "exception": false,
          "start_time": "2022-08-04T16:13:45.513859",
          "status": "completed"
        },
        "tags": []
      },
      "source": [
        "Oh and to complete the `SDense` representation we need to specify the port map as well:"
      ]
    },
    {
      "cell_type": "code",
      "execution_count": 49,
      "id": "21098a45",
      "metadata": {
        "execution": {
          "iopub.execute_input": "2022-08-04T16:13:45.699078Z",
          "iopub.status.busy": "2022-08-04T16:13:45.698515Z",
          "iopub.status.idle": "2022-08-04T16:13:45.700450Z",
          "shell.execute_reply": "2022-08-04T16:13:45.700842Z"
        },
        "papermill": {
          "duration": 0.066333,
          "end_time": "2022-08-04T16:13:45.700978",
          "exception": false,
          "start_time": "2022-08-04T16:13:45.634645",
          "status": "completed"
        },
        "tags": []
      },
      "outputs": [
        {
          "data": {
            "text/plain": [
              "{'in0': 0, 'in1': 1, 'out0': 2, 'out1': 3}"
            ]
          },
          "execution_count": 49,
          "metadata": {},
          "output_type": "execute_result"
        }
      ],
      "source": [
        "port_map"
      ]
    },
    {
      "cell_type": "markdown",
      "id": "0cfee3cf",
      "metadata": {
        "papermill": {
          "duration": 0.061084,
          "end_time": "2022-08-04T16:13:45.822603",
          "exception": false,
          "start_time": "2022-08-04T16:13:45.761519",
          "status": "completed"
        },
        "tags": []
      },
      "source": [
        "## Algorithm Improvements"
      ]
    },
    {
      "cell_type": "markdown",
      "id": "26b70270",
      "metadata": {
        "papermill": {
          "duration": 0.058654,
          "end_time": "2022-08-04T16:13:45.940349",
          "exception": false,
          "start_time": "2022-08-04T16:13:45.881695",
          "status": "completed"
        },
        "tags": []
      },
      "source": [
        "This algorithm is \n",
        "\n",
        "* very fast for large circuits \ud83d\ude42\n",
        "\n",
        "This algorithm is however:\n",
        "\n",
        "* **not** jittable \ud83d\ude25\n",
        "* **not** differentiable \ud83d\ude25\n",
        "* **not** GPU-compatible \ud83d\ude42\n",
        "\n",
        "There are probably still plenty of improvements possible for this algorithm:\n",
        "\n",
        "* **\u00bf** make it jittable **?**\n",
        "* **\u00bf** make it differentiable (requires making klujax differentiable first) **?**\n",
        "* **\u00bf** make it GPU compatible (requires making suitesparse GPU compatible... probably not gonna happen)**?**\n",
        "\n",
        "Bottom line is... Do you know how to improve this algorithm or how to implement the above suggestions? Please open a Merge Request!"
      ]
    }
  ],
  "metadata": {
    "kernelspec": {
      "display_name": "sax",
      "language": "python",
      "name": "sax"
    },
    "language_info": {
      "codemirror_mode": {
        "name": "ipython",
        "version": 3
      },
      "file_extension": ".py",
      "mimetype": "text/x-python",
      "name": "python",
      "nbconvert_exporter": "python",
      "pygments_lexer": "ipython3",
      "version": "3.9.0"
    },
    "papermill": {
      "default_parameters": {},
      "duration": 19.568237,
      "end_time": "2022-08-04T16:13:48.619189",
      "environment_variables": {},
      "exception": null,
      "input_path": "./nbs/07b_backends_klu.ipynb",
      "output_path": "./nbs/07b_backends_klu.ipynb",
      "parameters": {},
      "start_time": "2022-08-04T16:13:29.050952",
      "version": "2.3.4"
    }
  },
  "nbformat": 4,
  "nbformat_minor": 5
}