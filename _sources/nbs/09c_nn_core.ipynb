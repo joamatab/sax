{
  "cells": [
    {
      "cell_type": "code",
      "execution_count": 1,
      "id": "d751e8198c31ffc8",
      "metadata": {
        "execution": {
          "iopub.execute_input": "2022-08-04T16:12:38.377427Z",
          "iopub.status.busy": "2022-08-04T16:12:38.376904Z",
          "iopub.status.idle": "2022-08-04T16:12:38.380061Z",
          "shell.execute_reply": "2022-08-04T16:12:38.379571Z"
        },
        "papermill": {
          "duration": 0.014337,
          "end_time": "2022-08-04T16:12:38.380198",
          "exception": false,
          "start_time": "2022-08-04T16:12:38.365861",
          "status": "completed"
        },
        "tags": [
          "remove-cell"
        ]
      },
      "outputs": [],
      "source": []
    },
    {
      "cell_type": "markdown",
      "id": "ad9dbb7f",
      "metadata": {
        "papermill": {
          "duration": 0.004976,
          "end_time": "2022-08-04T16:12:38.390536",
          "exception": false,
          "start_time": "2022-08-04T16:12:38.385560",
          "status": "completed"
        },
        "tags": []
      },
      "source": [
        "# NN - Core\n",
        "\n",
        "> Core for SAX neural networks"
      ]
    },
    {
      "cell_type": "code",
      "execution_count": 2,
      "id": "99e67bbbd86e7c90",
      "metadata": {
        "execution": {
          "iopub.execute_input": "2022-08-04T16:12:38.409383Z",
          "iopub.status.busy": "2022-08-04T16:12:38.408875Z",
          "iopub.status.idle": "2022-08-04T16:12:39.226609Z",
          "shell.execute_reply": "2022-08-04T16:12:39.226080Z"
        },
        "papermill": {
          "duration": 0.831493,
          "end_time": "2022-08-04T16:12:39.226759",
          "exception": false,
          "start_time": "2022-08-04T16:12:38.395266",
          "status": "completed"
        },
        "tags": [
          "remove-cell"
        ]
      },
      "outputs": [],
      "source": [
        "import matplotlib.pyplot as plt\n",
        "from fastcore.test import test_eq\n",
        "from pytest import approx, raises\n",
        "\n",
        "import os, sys; sys.stderr = open(os.devnull, \"w\")"
      ]
    },
    {
      "cell_type": "code",
      "execution_count": 3,
      "id": "47e882e8f1b37524",
      "metadata": {
        "execution": {
          "iopub.execute_input": "2022-08-04T16:12:39.242303Z",
          "iopub.status.busy": "2022-08-04T16:12:39.239570Z",
          "iopub.status.idle": "2022-08-04T16:12:40.450879Z",
          "shell.execute_reply": "2022-08-04T16:12:40.449923Z"
        },
        "papermill": {
          "duration": 1.21919,
          "end_time": "2022-08-04T16:12:40.451032",
          "exception": false,
          "start_time": "2022-08-04T16:12:39.231842",
          "status": "completed"
        },
        "tags": [
          "hide-input"
        ]
      },
      "outputs": [],
      "source": [
        "from __future__ import annotations\n",
        "\n",
        "from typing import Callable, Dict, Optional, Tuple, Union\n",
        "\n",
        "import jax\n",
        "import jax.numpy as jnp\n",
        "from sax.nn.utils import denormalize, normalize\n",
        "from sax.typing_ import Array, ComplexFloat"
      ]
    },
    {
      "cell_type": "markdown",
      "id": "c0d7a3f19aa24444",
      "metadata": {},
      "source": [
        ":::{eval-rst}\n",
        ".. autofunction:: sax.nn.core.preprocess\n",
        ":::\n"
      ]
    },
    {
      "cell_type": "code",
      "execution_count": 4,
      "id": "1d8e76735ed5bbf0",
      "metadata": {
        "execution": {
          "iopub.execute_input": "2022-08-04T16:12:40.467534Z",
          "iopub.status.busy": "2022-08-04T16:12:40.467008Z",
          "iopub.status.idle": "2022-08-04T16:12:40.468050Z",
          "shell.execute_reply": "2022-08-04T16:12:40.468511Z"
        },
        "papermill": {
          "duration": 0.01243,
          "end_time": "2022-08-04T16:12:40.468650",
          "exception": false,
          "start_time": "2022-08-04T16:12:40.456220",
          "status": "completed"
        },
        "tags": [
          "hide-input"
        ]
      },
      "outputs": [],
      "source": [
        "def preprocess(*params: ComplexFloat) -> ComplexFloat:\n",
        "    \"\"\"preprocess parameters\n",
        "\n",
        "    > Note: (1) all arguments are first casted into the same shape. (2) then pairs \n",
        "      of arguments are divided into each other to create relative arguments. (3) all \n",
        "      arguments are then stacked into one big tensor\n",
        "    \"\"\"\n",
        "    x = jnp.stack(jnp.broadcast_arrays(*params), -1)\n",
        "    assert isinstance(x, jnp.ndarray)\n",
        "    to_concatenate = [x]\n",
        "    for i in range(1, x.shape[-1]):\n",
        "        _x = jnp.roll(x, shift=i, axis=-1)\n",
        "        to_concatenate.append(x / _x)\n",
        "        to_concatenate.append(_x / x)\n",
        "    x = jnp.concatenate(to_concatenate, -1)\n",
        "    assert isinstance(x, jnp.ndarray)\n",
        "    return x"
      ]
    },
    {
      "cell_type": "markdown",
      "id": "7ac2e8d785fed431",
      "metadata": {},
      "source": [
        ":::{eval-rst}\n",
        ".. autofunction:: sax.nn.core.dense\n",
        ":::\n"
      ]
    },
    {
      "cell_type": "code",
      "execution_count": 5,
      "id": "3eaefe4d591b0065",
      "metadata": {
        "execution": {
          "iopub.execute_input": "2022-08-04T16:12:40.485089Z",
          "iopub.status.busy": "2022-08-04T16:12:40.484571Z",
          "iopub.status.idle": "2022-08-04T16:12:40.487890Z",
          "shell.execute_reply": "2022-08-04T16:12:40.487374Z"
        },
        "papermill": {
          "duration": 0.014322,
          "end_time": "2022-08-04T16:12:40.488015",
          "exception": false,
          "start_time": "2022-08-04T16:12:40.473693",
          "status": "completed"
        },
        "tags": [
          "hide-input"
        ]
      },
      "outputs": [],
      "source": [
        "def dense(\n",
        "    weights: Dict[str, Array],\n",
        "    *params: ComplexFloat,\n",
        "    x_norm: Tuple[float, float] = (0.0, 1.0),\n",
        "    y_norm: Tuple[float, float] = (0.0, 1.0),\n",
        "    preprocess: Callable = preprocess,\n",
        "    activation: Callable = jax.nn.leaky_relu,\n",
        ") -> ComplexFloat:\n",
        "    \"\"\"simple dense neural network\"\"\"\n",
        "    x_mean, x_std = x_norm\n",
        "    y_mean, y_std = y_norm\n",
        "    x = preprocess(*params)\n",
        "    x = normalize(x, mean=x_mean, std=x_std)\n",
        "    for i in range(len([w for w in weights if w.startswith(\"w\")])):\n",
        "        x = activation(x @ weights[f\"w{i}\"] + weights.get(f\"b{i}\", 0.0))\n",
        "    y = denormalize(x, mean=y_mean, std=y_std)\n",
        "    return y"
      ]
    },
    {
      "cell_type": "markdown",
      "id": "01f9223a4d39963a",
      "metadata": {},
      "source": [
        ":::{eval-rst}\n",
        ".. autofunction:: sax.nn.core.generate_dense_weights\n",
        ":::\n"
      ]
    },
    {
      "cell_type": "code",
      "execution_count": 6,
      "id": "64853beb3de3e104",
      "metadata": {
        "execution": {
          "iopub.execute_input": "2022-08-04T16:12:40.500904Z",
          "iopub.status.busy": "2022-08-04T16:12:40.500359Z",
          "iopub.status.idle": "2022-08-04T16:12:40.507619Z",
          "shell.execute_reply": "2022-08-04T16:12:40.507185Z"
        },
        "papermill": {
          "duration": 0.014568,
          "end_time": "2022-08-04T16:12:40.507735",
          "exception": false,
          "start_time": "2022-08-04T16:12:40.493167",
          "status": "completed"
        },
        "tags": [
          "hide-input"
        ]
      },
      "outputs": [],
      "source": [
        "def generate_dense_weights(\n",
        "    key: Union[int, Array],\n",
        "    sizes: Tuple[int, ...],\n",
        "    input_names: Optional[Tuple[str, ...]] = None,\n",
        "    output_names: Optional[Tuple[str, ...]] = None,\n",
        "    preprocess=preprocess,\n",
        ") -> Dict[str, ComplexFloat]:\n",
        "    \"\"\"Generate the weights for a dense neural network\"\"\"\n",
        "\n",
        "    if isinstance(key, int):\n",
        "        key = jax.random.PRNGKey(key)\n",
        "    assert isinstance(key, jnp.ndarray)\n",
        "\n",
        "    sizes = tuple(s for s in sizes)\n",
        "    if input_names:\n",
        "        arr = preprocess(*jnp.ones(len(input_names)))\n",
        "        assert isinstance(arr, jnp.ndarray)\n",
        "        sizes = (arr.shape[-1],) + sizes\n",
        "    if output_names:\n",
        "        sizes = sizes + (len(output_names),)\n",
        "\n",
        "    keys = jax.random.split(key, 2 * len(sizes))\n",
        "    rand = jax.nn.initializers.lecun_normal()\n",
        "    weights = {}\n",
        "    for i, (m, n) in enumerate(zip(sizes[:-1], sizes[1:])):\n",
        "        weights[f\"w{i}\"] = rand(keys[2 * i], (m, n))\n",
        "        weights[f\"b{i}\"] = rand(keys[2 * i + 1], (1, n)).ravel()\n",
        "\n",
        "    return weights"
      ]
    }
  ],
  "metadata": {
    "kernelspec": {
      "display_name": "sax",
      "language": "python",
      "name": "sax"
    },
    "language_info": {
      "codemirror_mode": {
        "name": "ipython",
        "version": 3
      },
      "file_extension": ".py",
      "mimetype": "text/x-python",
      "name": "python",
      "nbconvert_exporter": "python",
      "pygments_lexer": "ipython3",
      "version": "3.9.0"
    },
    "papermill": {
      "default_parameters": {},
      "duration": 4.160805,
      "end_time": "2022-08-04T16:12:41.019865",
      "environment_variables": {},
      "exception": null,
      "input_path": "./nbs/09c_nn_core.ipynb",
      "output_path": "./nbs/09c_nn_core.ipynb",
      "parameters": {},
      "start_time": "2022-08-04T16:12:36.859060",
      "version": "2.3.4"
    }
  },
  "nbformat": 4,
  "nbformat_minor": 5
}