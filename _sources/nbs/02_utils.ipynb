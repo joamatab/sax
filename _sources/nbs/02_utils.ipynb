{
  "cells": [
    {
      "cell_type": "code",
      "execution_count": 1,
      "id": "6f355ab2328fef0d",
      "metadata": {
        "execution": {
          "iopub.execute_input": "2022-08-04T16:12:06.015224Z",
          "iopub.status.busy": "2022-08-04T16:12:06.012722Z",
          "iopub.status.idle": "2022-08-04T16:12:06.015804Z",
          "shell.execute_reply": "2022-08-04T16:12:06.016200Z"
        },
        "papermill": {
          "duration": 0.041491,
          "end_time": "2022-08-04T16:12:06.016426",
          "exception": false,
          "start_time": "2022-08-04T16:12:05.974935",
          "status": "completed"
        },
        "tags": [
          "remove-cell"
        ]
      },
      "outputs": [],
      "source": []
    },
    {
      "cell_type": "markdown",
      "id": "6ecfd145",
      "metadata": {
        "papermill": {
          "duration": 0.032954,
          "end_time": "2022-08-04T16:12:06.082136",
          "exception": false,
          "start_time": "2022-08-04T16:12:06.049182",
          "status": "completed"
        },
        "tags": []
      },
      "source": [
        "# Utils\n",
        "\n",
        "> General SAX utilities"
      ]
    },
    {
      "cell_type": "code",
      "execution_count": 2,
      "id": "8d4780f1ef5ef299",
      "metadata": {
        "execution": {
          "iopub.execute_input": "2022-08-04T16:12:06.166620Z",
          "iopub.status.busy": "2022-08-04T16:12:06.166070Z",
          "iopub.status.idle": "2022-08-04T16:12:07.019769Z",
          "shell.execute_reply": "2022-08-04T16:12:07.019229Z"
        },
        "papermill": {
          "duration": 0.895382,
          "end_time": "2022-08-04T16:12:07.019915",
          "exception": false,
          "start_time": "2022-08-04T16:12:06.124533",
          "status": "completed"
        },
        "tags": [
          "remove-cell"
        ]
      },
      "outputs": [],
      "source": [
        "import matplotlib.pyplot as plt\n",
        "from fastcore.test import test_eq\n",
        "from pytest import raises\n",
        "\n",
        "import os, sys; sys.stderr = open(os.devnull, \"w\")"
      ]
    },
    {
      "cell_type": "code",
      "execution_count": 3,
      "id": "e609588221aa75ee",
      "metadata": {
        "execution": {
          "iopub.execute_input": "2022-08-04T16:12:07.092088Z",
          "iopub.status.busy": "2022-08-04T16:12:07.091545Z",
          "iopub.status.idle": "2022-08-04T16:12:07.899389Z",
          "shell.execute_reply": "2022-08-04T16:12:07.898871Z"
        },
        "papermill": {
          "duration": 0.846721,
          "end_time": "2022-08-04T16:12:07.899511",
          "exception": false,
          "start_time": "2022-08-04T16:12:07.052790",
          "status": "completed"
        },
        "tags": [
          "hide-input"
        ]
      },
      "outputs": [],
      "source": [
        "from __future__ import annotations\n",
        "\n",
        "import inspect\n",
        "import re\n",
        "import warnings\n",
        "from functools import lru_cache, partial, wraps\n",
        "from typing import Any, Callable, Dict, Iterable, Iterator, Tuple, Union, cast, overload\n",
        "\n",
        "from natsort import natsorted\n",
        "from sax.typing_ import (\n",
        "    Array,\n",
        "    ComplexFloat,\n",
        "    Float,\n",
        "    Model,\n",
        "    ModelFactory,\n",
        "    SCoo,\n",
        "    SDense,\n",
        "    SDict,\n",
        "    Settings,\n",
        "    SType,\n",
        "    is_mixedmode,\n",
        "    is_model,\n",
        "    is_model_factory,\n",
        "    is_scoo,\n",
        "    is_sdense,\n",
        "    is_sdict,\n",
        ")\n",
        "\n",
        "try:\n",
        "    import jax\n",
        "    import jax.numpy as jnp\n",
        "    import jax.scipy as jsp\n",
        "    import jax.scipy.linalg\n",
        "    JAX_AVAILABLE = True\n",
        "except ImportError:\n",
        "    import numpy as jnp\n",
        "    import scipy as jsp\n",
        "    import scipy.linalg\n",
        "    JAX_AVAILABLE = False"
      ]
    },
    {
      "cell_type": "markdown",
      "id": "730b8795217599c9",
      "metadata": {},
      "source": [
        ":::{eval-rst}\n",
        ".. autofunction:: sax.utils.block_diag\n",
        ":::\n"
      ]
    },
    {
      "cell_type": "code",
      "execution_count": 4,
      "id": "b5564997d46597fa",
      "metadata": {
        "execution": {
          "iopub.execute_input": "2022-08-04T16:12:07.974888Z",
          "iopub.status.busy": "2022-08-04T16:12:07.971608Z",
          "iopub.status.idle": "2022-08-04T16:12:07.976632Z",
          "shell.execute_reply": "2022-08-04T16:12:07.976221Z"
        },
        "papermill": {
          "duration": 0.0441,
          "end_time": "2022-08-04T16:12:07.976749",
          "exception": false,
          "start_time": "2022-08-04T16:12:07.932649",
          "status": "completed"
        },
        "tags": [
          "hide-input"
        ]
      },
      "outputs": [],
      "source": [
        "def block_diag(*arrs: Array) -> Array:\n",
        "    \"\"\"create block diagonal matrix with arbitrary batch dimensions \"\"\"\n",
        "    batch_shape = arrs[0].shape[:-2]\n",
        "    \n",
        "    B = jnp.prod(jnp.asarray(batch_shape, dtype=int))\n",
        "    \n",
        "    N = 0\n",
        "    for arr in arrs:\n",
        "        if batch_shape != arr.shape[:-2]:\n",
        "            raise ValueError(\"batch dimensions for given arrays don't match.\")\n",
        "        m, n = arr.shape[-2:]\n",
        "        if m != n:\n",
        "            raise ValueError(\"given arrays are not square.\")\n",
        "        N += n\n",
        "    \n",
        "    arrs = [arr.reshape(-1, arr.shape[-2], arr.shape[-1]) for arr in arrs]\n",
        "\n",
        "    if JAX_AVAILABLE:\n",
        "        batch_block_diag = jax.vmap(jsp.linalg.block_diag, in_axes=0, out_axes=0)\n",
        "        block_diag = batch_block_diag(*arrs)\n",
        "    else:\n",
        "        arrs = [jsp.linalg.block_diag(*[arr[i] for arr in arrs]) for i in range(B)]\n",
        "        block_diag = jnp.stack(arrs, 0)\n",
        "        \n",
        "    return block_diag.reshape(*batch_shape, N, N)"
      ]
    },
    {
      "cell_type": "code",
      "execution_count": 5,
      "id": "7e9b15b3",
      "metadata": {
        "execution": {
          "iopub.execute_input": "2022-08-04T16:12:08.042644Z",
          "iopub.status.busy": "2022-08-04T16:12:08.042075Z",
          "iopub.status.idle": "2022-08-04T16:12:08.238135Z",
          "shell.execute_reply": "2022-08-04T16:12:08.237669Z"
        },
        "papermill": {
          "duration": 0.230474,
          "end_time": "2022-08-04T16:12:08.238272",
          "exception": false,
          "start_time": "2022-08-04T16:12:08.007798",
          "status": "completed"
        },
        "tags": []
      },
      "outputs": [],
      "source": [
        "arr1 = 1 * jnp.ones((1, 2, 2))\n",
        "arr2 = 2 * jnp.ones((1, 3, 3))\n",
        "\n",
        "test_eq(\n",
        "    block_diag(arr1, arr2),\n",
        "    [[[1.0, 1.0, 0.0, 0.0, 0.0],\n",
        "      [1.0, 1.0, 0.0, 0.0, 0.0],\n",
        "      [0.0, 0.0, 2.0, 2.0, 2.0],\n",
        "      [0.0, 0.0, 2.0, 2.0, 2.0],\n",
        "      [0.0, 0.0, 2.0, 2.0, 2.0]]]\n",
        ")"
      ]
    },
    {
      "cell_type": "markdown",
      "id": "45ff4511fd921f4a",
      "metadata": {},
      "source": [
        ":::{eval-rst}\n",
        ".. autofunction:: sax.utils.clean_string\n",
        ":::\n"
      ]
    },
    {
      "cell_type": "code",
      "execution_count": 6,
      "id": "9eeeaf46ec64e373",
      "metadata": {
        "execution": {
          "iopub.execute_input": "2022-08-04T16:12:08.307258Z",
          "iopub.status.busy": "2022-08-04T16:12:08.304723Z",
          "iopub.status.idle": "2022-08-04T16:12:08.308639Z",
          "shell.execute_reply": "2022-08-04T16:12:08.309109Z"
        },
        "papermill": {
          "duration": 0.039187,
          "end_time": "2022-08-04T16:12:08.309251",
          "exception": false,
          "start_time": "2022-08-04T16:12:08.270064",
          "status": "completed"
        },
        "tags": [
          "hide-input"
        ]
      },
      "outputs": [],
      "source": [
        "\n",
        "def clean_string(s: str) -> str:\n",
        "    \"\"\"clean a string such that it is a valid python identifier\"\"\"\n",
        "    s = s.strip()\n",
        "    s = s.replace(\".\", \"p\")  # point\n",
        "    s = s.replace(\"-\", \"m\")  # minus\n",
        "    s = re.sub(\"[^0-9a-zA-Z]\", \"_\", s)\n",
        "    if s[0] in \"0123456789\":\n",
        "        s = \"_\" + s\n",
        "    return s"
      ]
    },
    {
      "cell_type": "code",
      "execution_count": 7,
      "id": "cfe8bf00",
      "metadata": {
        "execution": {
          "iopub.execute_input": "2022-08-04T16:12:08.376631Z",
          "iopub.status.busy": "2022-08-04T16:12:08.376100Z",
          "iopub.status.idle": "2022-08-04T16:12:08.377747Z",
          "shell.execute_reply": "2022-08-04T16:12:08.378174Z"
        },
        "papermill": {
          "duration": 0.037325,
          "end_time": "2022-08-04T16:12:08.378317",
          "exception": false,
          "start_time": "2022-08-04T16:12:08.340992",
          "status": "completed"
        },
        "tags": []
      },
      "outputs": [],
      "source": [
        "assert clean_string(\"Hello, string 1.0\") == \"Hello__string_1p0\""
      ]
    },
    {
      "cell_type": "markdown",
      "id": "aeafb61c472288ed",
      "metadata": {},
      "source": [
        ":::{eval-rst}\n",
        ".. autofunction:: sax.utils.copy_settings\n",
        ":::\n"
      ]
    },
    {
      "cell_type": "markdown",
      "id": "f239c8dc4dd44621",
      "metadata": {},
      "source": [
        ":::{eval-rst}\n",
        ".. autofunction:: sax.utils.validate_settings\n",
        ":::\n"
      ]
    },
    {
      "cell_type": "markdown",
      "id": "21b231be0c1f81f7",
      "metadata": {},
      "source": [
        ":::{eval-rst}\n",
        ".. autofunction:: sax.utils.try_float\n",
        ":::\n"
      ]
    },
    {
      "cell_type": "code",
      "execution_count": 8,
      "id": "1963241a87616c2f",
      "metadata": {
        "execution": {
          "iopub.execute_input": "2022-08-04T16:12:08.448536Z",
          "iopub.status.busy": "2022-08-04T16:12:08.447998Z",
          "iopub.status.idle": "2022-08-04T16:12:08.449064Z",
          "shell.execute_reply": "2022-08-04T16:12:08.449538Z"
        },
        "papermill": {
          "duration": 0.039632,
          "end_time": "2022-08-04T16:12:08.449681",
          "exception": false,
          "start_time": "2022-08-04T16:12:08.410049",
          "status": "completed"
        },
        "tags": [
          "hide-input"
        ]
      },
      "outputs": [],
      "source": [
        "\n",
        "def copy_settings(settings: Settings) -> Settings:\n",
        "    \"\"\"copy a parameter dictionary\"\"\"\n",
        "    return validate_settings(settings)  # validation also copies\n",
        "\n",
        "def validate_settings(settings: Settings) -> Settings:\n",
        "    \"\"\"Validate a parameter dictionary\"\"\"\n",
        "    _settings = {}\n",
        "    for k, v in settings.items():\n",
        "        if isinstance(v, dict):\n",
        "            _settings[k] = validate_settings(v)\n",
        "        else:\n",
        "            _settings[k] = try_float(v)\n",
        "    return _settings\n",
        "\n",
        "def try_float(f: Any) -> Any:\n",
        "    \"\"\"try converting an object to float, return unchanged object on fail\"\"\"\n",
        "    try:\n",
        "        return jnp.asarray(f, dtype=float)\n",
        "    except (ValueError, TypeError):\n",
        "        return f"
      ]
    },
    {
      "cell_type": "code",
      "execution_count": 9,
      "id": "7c7a72e4",
      "metadata": {
        "execution": {
          "iopub.execute_input": "2022-08-04T16:12:08.524327Z",
          "iopub.status.busy": "2022-08-04T16:12:08.521332Z",
          "iopub.status.idle": "2022-08-04T16:12:08.600537Z",
          "shell.execute_reply": "2022-08-04T16:12:08.599555Z"
        },
        "papermill": {
          "duration": 0.119864,
          "end_time": "2022-08-04T16:12:08.600712",
          "exception": false,
          "start_time": "2022-08-04T16:12:08.480848",
          "status": "completed"
        },
        "tags": []
      },
      "outputs": [],
      "source": [
        "orig_settings = {\"a\": 3, \"c\": jnp.array([9.0, 10.0, 11.0])}\n",
        "new_settings = copy_settings(orig_settings)\n",
        "\n",
        "assert orig_settings[\"a\"] == new_settings[\"a\"]\n",
        "assert jnp.all(orig_settings[\"c\"] == new_settings[\"c\"])\n",
        "new_settings[\"a\"] = jnp.array(5.0)\n",
        "assert orig_settings[\"a\"] == 3\n",
        "assert new_settings[\"a\"] == 5\n",
        "assert orig_settings[\"c\"] is new_settings[\"c\"]"
      ]
    },
    {
      "cell_type": "markdown",
      "id": "829a1530558ac07f",
      "metadata": {},
      "source": [
        ":::{eval-rst}\n",
        ".. autofunction:: sax.utils.flatten_dict\n",
        ":::\n"
      ]
    },
    {
      "cell_type": "code",
      "execution_count": 10,
      "id": "2ee151867b2b4534",
      "metadata": {
        "execution": {
          "iopub.execute_input": "2022-08-04T16:12:08.671646Z",
          "iopub.status.busy": "2022-08-04T16:12:08.671135Z",
          "iopub.status.idle": "2022-08-04T16:12:08.673052Z",
          "shell.execute_reply": "2022-08-04T16:12:08.672548Z"
        },
        "papermill": {
          "duration": 0.040518,
          "end_time": "2022-08-04T16:12:08.673160",
          "exception": false,
          "start_time": "2022-08-04T16:12:08.632642",
          "status": "completed"
        },
        "tags": [
          "hide-input"
        ]
      },
      "outputs": [],
      "source": [
        "def flatten_dict(dic: Dict[str, Any], sep: str = \",\") -> Dict[str, Any]:\n",
        "    \"\"\"flatten a nested dictionary\"\"\"\n",
        "    return _flatten_dict(dic, sep=sep)\n",
        "\n",
        "\n",
        "def _flatten_dict(\n",
        "    dic: Dict[str, Any], sep: str = \",\", frozen: bool = False, parent_key: str = \"\"\n",
        ") -> Dict[str, Any]:\n",
        "    items = []\n",
        "    for k, v in dic.items():\n",
        "        new_key = parent_key + sep + k if parent_key else k\n",
        "        if isinstance(v, dict):\n",
        "            items.extend(\n",
        "                _flatten_dict(v, sep=sep, frozen=frozen, parent_key=new_key).items()\n",
        "            )\n",
        "        else:\n",
        "            items.append((new_key, v))\n",
        "\n",
        "    return dict(items)"
      ]
    },
    {
      "cell_type": "code",
      "execution_count": 11,
      "id": "dc454e7d",
      "metadata": {
        "execution": {
          "iopub.execute_input": "2022-08-04T16:12:08.741731Z",
          "iopub.status.busy": "2022-08-04T16:12:08.741194Z",
          "iopub.status.idle": "2022-08-04T16:12:08.742295Z",
          "shell.execute_reply": "2022-08-04T16:12:08.742784Z"
        },
        "papermill": {
          "duration": 0.038226,
          "end_time": "2022-08-04T16:12:08.742953",
          "exception": false,
          "start_time": "2022-08-04T16:12:08.704727",
          "status": "completed"
        },
        "tags": []
      },
      "outputs": [],
      "source": [
        "nested_dict = {\n",
        "    \"a\": 3.0,\n",
        "    \"b\": {\"c\": 4.0},\n",
        "}\n",
        "\n",
        "flat_dict = flatten_dict(nested_dict, sep=\",\")\n",
        "assert flat_dict == {\"a\": 3.0, \"b,c\": 4.0}"
      ]
    },
    {
      "cell_type": "markdown",
      "id": "b721816a7b82c589",
      "metadata": {},
      "source": [
        ":::{eval-rst}\n",
        ".. autofunction:: sax.utils.unflatten_dict\n",
        ":::\n"
      ]
    },
    {
      "cell_type": "code",
      "execution_count": 12,
      "id": "905ffd1bd9690686",
      "metadata": {
        "execution": {
          "iopub.execute_input": "2022-08-04T16:12:08.813398Z",
          "iopub.status.busy": "2022-08-04T16:12:08.812866Z",
          "iopub.status.idle": "2022-08-04T16:12:08.813924Z",
          "shell.execute_reply": "2022-08-04T16:12:08.814382Z"
        },
        "papermill": {
          "duration": 0.039589,
          "end_time": "2022-08-04T16:12:08.814521",
          "exception": false,
          "start_time": "2022-08-04T16:12:08.774932",
          "status": "completed"
        },
        "tags": [
          "hide-input"
        ]
      },
      "outputs": [],
      "source": [
        "\n",
        "def unflatten_dict(dic, sep=\",\"):\n",
        "    \"\"\"unflatten a flattened dictionary \"\"\"\n",
        "    \n",
        "    # from: https://gist.github.com/fmder/494aaa2dd6f8c428cede\n",
        "    items = dict()\n",
        "\n",
        "    for k, v in dic.items():\n",
        "        keys = k.split(sep)\n",
        "        sub_items = items\n",
        "        for ki in keys[:-1]:\n",
        "            if ki in sub_items:\n",
        "                sub_items = sub_items[ki]\n",
        "            else:\n",
        "                sub_items[ki] = dict()\n",
        "                sub_items = sub_items[ki]\n",
        "\n",
        "        sub_items[keys[-1]] = v\n",
        "\n",
        "    return items"
      ]
    },
    {
      "cell_type": "code",
      "execution_count": 13,
      "id": "cd8b221b",
      "metadata": {
        "execution": {
          "iopub.execute_input": "2022-08-04T16:12:08.883126Z",
          "iopub.status.busy": "2022-08-04T16:12:08.882573Z",
          "iopub.status.idle": "2022-08-04T16:12:08.884770Z",
          "shell.execute_reply": "2022-08-04T16:12:08.884358Z"
        },
        "papermill": {
          "duration": 0.038139,
          "end_time": "2022-08-04T16:12:08.884888",
          "exception": false,
          "start_time": "2022-08-04T16:12:08.846749",
          "status": "completed"
        },
        "tags": []
      },
      "outputs": [],
      "source": [
        "assert unflatten_dict(flat_dict, sep=\",\") == nested_dict"
      ]
    },
    {
      "cell_type": "markdown",
      "id": "a3150e7f69a32539",
      "metadata": {},
      "source": [
        ":::{eval-rst}\n",
        ".. autofunction:: sax.utils.get_ports\n",
        ":::\n"
      ]
    },
    {
      "cell_type": "code",
      "execution_count": 14,
      "id": "3c99ff01d9b3a72b",
      "metadata": {
        "execution": {
          "iopub.execute_input": "2022-08-04T16:12:08.958217Z",
          "iopub.status.busy": "2022-08-04T16:12:08.957163Z",
          "iopub.status.idle": "2022-08-04T16:12:08.958783Z",
          "shell.execute_reply": "2022-08-04T16:12:08.959234Z"
        },
        "papermill": {
          "duration": 0.042212,
          "end_time": "2022-08-04T16:12:08.959384",
          "exception": false,
          "start_time": "2022-08-04T16:12:08.917172",
          "status": "completed"
        },
        "tags": [
          "hide-input"
        ]
      },
      "outputs": [],
      "source": [
        "\n",
        "def get_ports(S: Union[Model, SType]) -> Tuple[str, ...]:\n",
        "    \"\"\"get port names of a model or an stype\"\"\"\n",
        "    if is_model(S):\n",
        "        return _get_ports_from_model(cast(Model, S))\n",
        "    elif is_sdict(S):\n",
        "        ports_set = {p1 for p1, _ in S} | {p2 for _, p2 in S}\n",
        "        return tuple(natsorted(ports_set))\n",
        "    elif is_scoo(S) or is_sdense(S):\n",
        "        *_, ports_map = S\n",
        "        return tuple(natsorted(ports_map.keys()))\n",
        "    else:\n",
        "        raise ValueError(\"Could not extract ports for given S\")\n",
        "        \n",
        "@lru_cache(maxsize=4096)  # cache to prevent future tracing\n",
        "def _get_ports_from_model(model: Model) -> Tuple[str, ...]:\n",
        "    if JAX_AVAILABLE:\n",
        "        S: SType = jax.eval_shape(model)\n",
        "    else:\n",
        "        warnings.warn(\"[NO JAX] requesting the ports of a model requires evaluating the model!\")\n",
        "        S = model()\n",
        "    return get_ports(S)"
      ]
    },
    {
      "cell_type": "markdown",
      "id": "4c23ef24",
      "metadata": {
        "papermill": {
          "duration": 0.032009,
          "end_time": "2022-08-04T16:12:09.023367",
          "exception": false,
          "start_time": "2022-08-04T16:12:08.991358",
          "status": "completed"
        },
        "tags": []
      },
      "source": [
        "> Note: if a `Model` function is given in stead of an `SDict`, the function will be traced by JAX to obtain the ports of the resulting `SType`. Although this tracing of the function is 'cheap' in comparison to evaluating the model/circuit. It is not for free!  Use this function sparingly on your large `Model` or `circuit`!"
      ]
    },
    {
      "cell_type": "code",
      "execution_count": 15,
      "id": "c70af810",
      "metadata": {
        "execution": {
          "iopub.execute_input": "2022-08-04T16:12:09.098486Z",
          "iopub.status.busy": "2022-08-04T16:12:09.097944Z",
          "iopub.status.idle": "2022-08-04T16:12:09.114590Z",
          "shell.execute_reply": "2022-08-04T16:12:09.115024Z"
        },
        "papermill": {
          "duration": 0.059471,
          "end_time": "2022-08-04T16:12:09.115181",
          "exception": false,
          "start_time": "2022-08-04T16:12:09.055710",
          "status": "completed"
        },
        "tags": []
      },
      "outputs": [
        {
          "data": {
            "text/plain": [
              "(array([0]), array([1]), array([1.]), {'in0': 0, 'out0': 1})"
            ]
          },
          "execution_count": 15,
          "metadata": {},
          "output_type": "execute_result"
        }
      ],
      "source": [
        "from sax.typing_ import scoo\n",
        "scoo({(\"in0\", \"out0\"): 1.0})"
      ]
    },
    {
      "cell_type": "code",
      "execution_count": 16,
      "id": "dc2eecbe",
      "metadata": {
        "execution": {
          "iopub.execute_input": "2022-08-04T16:12:09.194067Z",
          "iopub.status.busy": "2022-08-04T16:12:09.193485Z",
          "iopub.status.idle": "2022-08-04T16:12:09.412783Z",
          "shell.execute_reply": "2022-08-04T16:12:09.413240Z"
        },
        "papermill": {
          "duration": 0.264762,
          "end_time": "2022-08-04T16:12:09.413401",
          "exception": false,
          "start_time": "2022-08-04T16:12:09.148639",
          "status": "completed"
        },
        "tags": []
      },
      "outputs": [],
      "source": [
        "def coupler(coupling=0.5):\n",
        "    return {\n",
        "        (\"in0\", \"out0\"): coupling**0.5,\n",
        "        (\"in0\", \"out1\"): 1j*coupling**0.5,\n",
        "        (\"in1\", \"out0\"): 1j*coupling**0.5,\n",
        "        (\"in1\", \"out1\"): coupling**0.5,\n",
        "    }\n",
        "\n",
        "model = coupler\n",
        "assert get_ports(model) == ('in0', 'in1', 'out0', 'out1')\n",
        "\n",
        "sdict_ = coupler()\n",
        "assert get_ports(sdict_) == ('in0', 'in1', 'out0', 'out1')\n",
        "\n",
        "from sax.typing_ import scoo\n",
        "scoo_ = scoo(sdict_)\n",
        "assert get_ports(scoo_) == ('in0', 'in1', 'out0', 'out1')\n",
        "\n",
        "from sax.typing_ import sdense\n",
        "sdense_ = sdense(sdict_)\n",
        "assert get_ports(sdense_) == ('in0', 'in1', 'out0', 'out1')"
      ]
    },
    {
      "cell_type": "markdown",
      "id": "24c8ccbce3042d8a",
      "metadata": {},
      "source": [
        ":::{eval-rst}\n",
        ".. autofunction:: sax.utils.get_port_combinations\n",
        ":::\n"
      ]
    },
    {
      "cell_type": "code",
      "execution_count": 17,
      "id": "72dc4f716e862653",
      "metadata": {
        "execution": {
          "iopub.execute_input": "2022-08-04T16:12:09.489390Z",
          "iopub.status.busy": "2022-08-04T16:12:09.488605Z",
          "iopub.status.idle": "2022-08-04T16:12:09.490677Z",
          "shell.execute_reply": "2022-08-04T16:12:09.491093Z"
        },
        "papermill": {
          "duration": 0.044332,
          "end_time": "2022-08-04T16:12:09.491233",
          "exception": false,
          "start_time": "2022-08-04T16:12:09.446901",
          "status": "completed"
        },
        "tags": [
          "hide-input"
        ]
      },
      "outputs": [],
      "source": [
        "\n",
        "def get_port_combinations(S: Union[Model, SType]) -> Tuple[Tuple[str, str], ...]:\n",
        "    \"\"\"get port combinations of a model or an stype\"\"\"\n",
        "    \n",
        "    if is_model(S):\n",
        "        S = cast(Model, S)\n",
        "        return _get_port_combinations_from_model(S)\n",
        "    elif is_sdict(S):\n",
        "        S = cast(SDict, S)\n",
        "        return tuple(S.keys())\n",
        "    elif is_scoo(S):\n",
        "        Si, Sj, _, pm = cast(SCoo, S)\n",
        "        rpm = {int(i): str(p) for p, i in pm.items()}\n",
        "        return tuple(natsorted((rpm[int(i)], rpm[int(j)]) for i, j in zip(Si, Sj)))\n",
        "    elif is_sdense(S):\n",
        "        _, pm = cast(SDense, S)\n",
        "        return tuple(natsorted((p1, p2) for p1 in pm for p2 in pm))\n",
        "    else:\n",
        "        raise ValueError(\"Could not extract ports for given S\")\n",
        "        \n",
        "@lru_cache(maxsize=4096)  # cache to prevent future tracing\n",
        "def _get_port_combinations_from_model(model: Model) -> Tuple[Tuple[str, str], ...]:\n",
        "    if JAX_AVAILABLE:\n",
        "        S: SType = jax.eval_shape(model)\n",
        "    else:\n",
        "        warnings.warn(\"[NO JAX] requesting the ports of a model requires evaluating the model!\")\n",
        "        S = model()\n",
        "    return get_port_combinations(S)"
      ]
    },
    {
      "cell_type": "markdown",
      "id": "a43d6849",
      "metadata": {
        "papermill": {
          "duration": 0.032731,
          "end_time": "2022-08-04T16:12:09.556676",
          "exception": false,
          "start_time": "2022-08-04T16:12:09.523945",
          "status": "completed"
        },
        "tags": []
      },
      "source": [
        "> Note: if a `Model` function is given in stead of an `SDict`, the function will be traced by JAX to obtain the port combinations of the resulting `SType`. Although this tracing of the function is 'cheap' in comparison to evaluating the model/circuit. It is not for free!  Use this function sparingly on your large `Model` or `circuit`!"
      ]
    },
    {
      "cell_type": "code",
      "execution_count": 18,
      "id": "cf00a0c0",
      "metadata": {
        "execution": {
          "iopub.execute_input": "2022-08-04T16:12:09.631473Z",
          "iopub.status.busy": "2022-08-04T16:12:09.630894Z",
          "iopub.status.idle": "2022-08-04T16:12:09.661420Z",
          "shell.execute_reply": "2022-08-04T16:12:09.660892Z"
        },
        "papermill": {
          "duration": 0.072266,
          "end_time": "2022-08-04T16:12:09.661561",
          "exception": false,
          "start_time": "2022-08-04T16:12:09.589295",
          "status": "completed"
        },
        "tags": []
      },
      "outputs": [],
      "source": [
        "model = coupler\n",
        "assert get_port_combinations(model) == ((\"in0\", \"out0\"), (\"in0\", \"out1\"), (\"in1\", \"out0\"), (\"in1\", \"out1\"))\n",
        "\n",
        "sdict_ = coupler()\n",
        "assert get_port_combinations(sdict_) == ((\"in0\", \"out0\"), (\"in0\", \"out1\"), (\"in1\", \"out0\"), (\"in1\", \"out1\"))\n",
        "\n",
        "from sax.typing_ import scoo\n",
        "scoo_ = scoo(sdict_)\n",
        "assert get_port_combinations(scoo_) == ((\"in0\", \"out0\"), (\"in0\", \"out1\"), (\"in1\", \"out0\"), (\"in1\", \"out1\"))\n",
        "\n",
        "from sax.typing_ import sdense\n",
        "sdense_ = sdense(sdict_)\n",
        "assert get_port_combinations(sdense_) == ((\"in0\", \"in0\"), (\"in0\", \"in1\"), (\"in0\", \"out0\"), (\"in0\", \"out1\"), \n",
        "    (\"in1\", \"in0\"), (\"in1\", \"in1\"), (\"in1\", \"out0\"), (\"in1\", \"out1\"), (\"out0\", \"in0\"),  (\"out0\", \"in1\"), \n",
        "    (\"out0\", \"out0\"), (\"out0\", \"out1\"), (\"out1\", \"in0\"), (\"out1\", \"in1\"), (\"out1\", \"out0\"), (\"out1\", \"out1\"))"
      ]
    },
    {
      "cell_type": "markdown",
      "id": "dc9a6baed81f1e10",
      "metadata": {},
      "source": [
        ":::{eval-rst}\n",
        ".. autofunction:: sax.utils.get_settings\n",
        ":::\n"
      ]
    },
    {
      "cell_type": "code",
      "execution_count": 19,
      "id": "484f4eaf7d5ee949",
      "metadata": {
        "execution": {
          "iopub.execute_input": "2022-08-04T16:12:09.733436Z",
          "iopub.status.busy": "2022-08-04T16:12:09.732912Z",
          "iopub.status.idle": "2022-08-04T16:12:09.734240Z",
          "shell.execute_reply": "2022-08-04T16:12:09.734609Z"
        },
        "papermill": {
          "duration": 0.039254,
          "end_time": "2022-08-04T16:12:09.734738",
          "exception": false,
          "start_time": "2022-08-04T16:12:09.695484",
          "status": "completed"
        },
        "tags": [
          "hide-input"
        ]
      },
      "outputs": [],
      "source": [
        "def get_settings(model: Union[Model, ModelFactory]) -> Settings:\n",
        "    \"\"\"Get the parameters of a SAX model function\"\"\"\n",
        "    \n",
        "    signature = inspect.signature(model)\n",
        "\n",
        "    settings: Settings = {\n",
        "        k: (v.default if not isinstance(v, dict) else v)\n",
        "        for k, v in signature.parameters.items()\n",
        "        if v.default is not inspect.Parameter.empty\n",
        "    }\n",
        "\n",
        "    # make sure an inplace operation of resulting dict does not change the\n",
        "    # circuit parameters themselves\n",
        "    return copy_settings(settings)"
      ]
    },
    {
      "cell_type": "code",
      "execution_count": 20,
      "id": "2deefdc8",
      "metadata": {
        "execution": {
          "iopub.execute_input": "2022-08-04T16:12:09.804281Z",
          "iopub.status.busy": "2022-08-04T16:12:09.803800Z",
          "iopub.status.idle": "2022-08-04T16:12:09.805446Z",
          "shell.execute_reply": "2022-08-04T16:12:09.805913Z"
        },
        "papermill": {
          "duration": 0.038626,
          "end_time": "2022-08-04T16:12:09.806054",
          "exception": false,
          "start_time": "2022-08-04T16:12:09.767428",
          "status": "completed"
        },
        "tags": []
      },
      "outputs": [],
      "source": [
        "assert get_settings(coupler) == {'coupling': 0.5}"
      ]
    },
    {
      "cell_type": "markdown",
      "id": "c85454db9b24788c",
      "metadata": {},
      "source": [
        ":::{eval-rst}\n",
        ".. autofunction:: sax.utils.grouped_interp\n",
        ":::\n"
      ]
    },
    {
      "cell_type": "code",
      "execution_count": 21,
      "id": "b7d2e4b3ef16c34c",
      "metadata": {
        "execution": {
          "iopub.execute_input": "2022-08-04T16:12:09.874431Z",
          "iopub.status.busy": "2022-08-04T16:12:09.873899Z",
          "iopub.status.idle": "2022-08-04T16:12:09.885578Z",
          "shell.execute_reply": "2022-08-04T16:12:09.885119Z"
        },
        "papermill": {
          "duration": 0.047437,
          "end_time": "2022-08-04T16:12:09.885693",
          "exception": false,
          "start_time": "2022-08-04T16:12:09.838256",
          "status": "completed"
        },
        "tags": [
          "hide-input"
        ]
      },
      "outputs": [],
      "source": [
        "def grouped_interp(wl: Float, wls: Float, phis: Float) -> Float:\n",
        "    \"\"\"Grouped phase interpolation\"\"\"\n",
        "    if not JAX_AVAILABLE:\n",
        "        raise NotImplementedError(\"[NO JAX] grouped_interp function not implemented when JAX not available. Please install JAX.\")\n",
        "        \n",
        "    @partial(jax.vmap, in_axes=(0, None, None), out_axes=0)\n",
        "    @jax.jit\n",
        "    def _grouped_interp(\n",
        "        wl: Array,  # 0D array (not-vmapped) ; 1D array (vmapped)\n",
        "        wls: Array,  # 1D array\n",
        "        phis: Array,  # 1D array\n",
        "    ) -> Array:\n",
        "        dphi_dwl = (phis[1::2] - phis[::2]) / (wls[1::2] - wls[::2])\n",
        "        phis = phis[::2]\n",
        "        wls = wls[::2]\n",
        "        dwl = (wls[1:] - wls[:-1]).mean(0, keepdims=True)\n",
        "\n",
        "        t = (wl - wls + 1e-5 * dwl) / dwl  # small offset to ensure no values are zero\n",
        "        t = jnp.where(jnp.abs(t) < 1, t, 0)\n",
        "        m0 = jnp.where(t > 0, size=1)[0]\n",
        "        m1 = jnp.where(t < 0, size=1)[0]\n",
        "        t = t[m0]\n",
        "        wl0 = wls[m0]\n",
        "        wl1 = wls[m1]\n",
        "        phi0 = phis[m0]\n",
        "        phi1 = phis[m1]\n",
        "        dphi_dwl0 = dphi_dwl[m0]\n",
        "        dphi_dwl1 = dphi_dwl[m1]\n",
        "        _phi0 = phi0 - 0.5 * (wl1 - wl0) * (\n",
        "            dphi_dwl0 * (t ** 2 - 2 * t) - dphi_dwl1 * t ** 2\n",
        "        )\n",
        "        _phi1 = phi1 - 0.5 * (wl1 - wl0) * (\n",
        "            dphi_dwl0 * (t - 1) ** 2 - dphi_dwl1 * (t ** 2 - 1)\n",
        "        )\n",
        "        phis = jnp.arctan2(\n",
        "            (1 - t) * jnp.sin(_phi0) + t * jnp.sin(_phi1),\n",
        "            (1 - t) * jnp.cos(_phi0) + t * jnp.cos(_phi1),\n",
        "        )\n",
        "        return phis\n",
        "        \n",
        "    wl = cast(Array, jnp.asarray(wl))\n",
        "    wls = cast(Array, jnp.asarray(wls))\n",
        "    # make sure values between -pi and pi\n",
        "    phis = cast(Array, jnp.asarray(phis)) % (2 * jnp.pi)\n",
        "    phis = jnp.where(phis > jnp.pi, phis - 2 * jnp.pi, phis)  \n",
        "    if not wls.ndim == 1:\n",
        "        raise ValueError(\"grouped_interp: wls should be a 1D array\")\n",
        "    if not phis.ndim == 1:\n",
        "        raise ValueError(\"grouped_interp: wls should be a 1D array\")\n",
        "    if not wls.shape == phis.shape:\n",
        "        raise ValueError(\"grouped_interp: wls and phis shape does not match\")\n",
        "    return _grouped_interp(wl.reshape(-1), wls, phis).reshape(*wl.shape)"
      ]
    },
    {
      "cell_type": "markdown",
      "id": "79a7f1a8",
      "metadata": {
        "papermill": {
          "duration": 0.033072,
          "end_time": "2022-08-04T16:12:09.951865",
          "exception": false,
          "start_time": "2022-08-04T16:12:09.918793",
          "status": "completed"
        },
        "tags": []
      },
      "source": [
        "Grouped interpolation is useful to interpolate phase values where each datapoint is doubled (very close together) to give an indication of the phase variation at that point.\n",
        "\n",
        "> Note: this interpolation is only accurate in the range `[wls[0], wls[-2])` (`wls[-2]` not included). Any extrapolation outside these bounds can yield unexpected results!"
      ]
    },
    {
      "cell_type": "code",
      "execution_count": 22,
      "id": "b041bb7a6f3bc5b3",
      "metadata": {
        "execution": {
          "iopub.execute_input": "2022-08-04T16:12:10.034698Z",
          "iopub.status.busy": "2022-08-04T16:12:10.030019Z",
          "iopub.status.idle": "2022-08-04T16:12:10.692337Z",
          "shell.execute_reply": "2022-08-04T16:12:10.691839Z"
        },
        "papermill": {
          "duration": 0.707965,
          "end_time": "2022-08-04T16:12:10.692462",
          "exception": false,
          "start_time": "2022-08-04T16:12:09.984497",
          "status": "completed"
        },
        "tags": [
          "remove-cell"
        ]
      },
      "outputs": [],
      "source": [
        "\n",
        "if JAX_AVAILABLE:\n",
        "    wls = jnp.array([2.19999, 2.20001, 2.22499, 2.22501, 2.24999, 2.25001, 2.27499, 2.27501, 2.29999, 2.30001, 2.32499, 2.32501, 2.34999, 2.35001, 2.37499, 2.37501, 2.39999, 2.40001, 2.42499, 2.42501, 2.44999, 2.45001])\n",
        "    phis = jnp.array([5.17317336, 5.1219654, 4.71259842, 4.66252492, 5.65699608, 5.60817922, 2.03697377, 1.98936119, 6.010146, 5.96358061, 4.96336733, 4.91777933, 5.13912198, 5.09451137, 0.22347545, 0.17979684, 2.74501894, 2.70224092, 0.10403192, 0.06214664, 4.83328794, 4.79225525])\n",
        "    wl = jnp.array([2.21, 2.27, 1.31, 2.424])\n",
        "    phi = jnp.array(grouped_interp(wl, wls, phis))\n",
        "    phi_ref = jnp.array([-1.4901831,  1.3595749, -1.110012 ,  2.1775336])\n",
        "\n",
        "    assert ((phi-phi_ref)**2 < 1e-5).all()"
      ]
    },
    {
      "cell_type": "markdown",
      "id": "ad7ec9d1",
      "metadata": {
        "papermill": {
          "duration": 0.033439,
          "end_time": "2022-08-04T16:12:10.759121",
          "exception": false,
          "start_time": "2022-08-04T16:12:10.725682",
          "status": "completed"
        },
        "tags": []
      },
      "source": [
        "> Example"
      ]
    },
    {
      "cell_type": "code",
      "execution_count": 23,
      "id": "03b7a938",
      "metadata": {
        "execution": {
          "iopub.execute_input": "2022-08-04T16:12:10.840219Z",
          "iopub.status.busy": "2022-08-04T16:12:10.839651Z",
          "iopub.status.idle": "2022-08-04T16:12:12.351377Z",
          "shell.execute_reply": "2022-08-04T16:12:12.350977Z"
        },
        "papermill": {
          "duration": 1.55895,
          "end_time": "2022-08-04T16:12:12.351493",
          "exception": false,
          "start_time": "2022-08-04T16:12:10.792543",
          "status": "completed"
        },
        "tags": []
      },
      "outputs": [
        {
          "data": {
            "image/png": "[encoded data removed]",
            "text/plain": [
              "<Figure size 1008x432 with 2 Axes>"
            ]
          },
          "metadata": {
            "needs_background": "light"
          },
          "output_type": "display_data"
        }
      ],
      "source": [
        "if JAX_AVAILABLE:\n",
        "    wl = jnp.linspace(wls.min(), wls.max(), 10000)\n",
        "\n",
        "    _, ax = plt.subplots(2, 1, sharex=True, figsize=(14, 6))\n",
        "    plt.sca(ax[0])\n",
        "    plt.plot(1e3*wls, jnp.arange(wls.shape[0]), marker=\"o\", ls=\"none\")\n",
        "    plt.grid(True)\n",
        "    plt.ylabel(\"index\")\n",
        "    plt.sca(ax[1])\n",
        "    plt.grid(True)\n",
        "    plt.plot(1e3*wls, phis, marker=\"o\", c=\"C1\")\n",
        "    plt.plot(1e3*wl, grouped_interp(wl, wls, phis), c=\"C2\")\n",
        "    plt.xlabel(\"\u03bb [nm]\")\n",
        "    plt.ylabel(\"\u03c6\")\n",
        "    plt.show()"
      ]
    },
    {
      "cell_type": "markdown",
      "id": "5391f36869e82021",
      "metadata": {},
      "source": [
        ":::{eval-rst}\n",
        ".. autofunction:: sax.utils.merge_dicts\n",
        ":::\n"
      ]
    },
    {
      "cell_type": "code",
      "execution_count": 24,
      "id": "c325f3d9af4eb688",
      "metadata": {
        "execution": {
          "iopub.execute_input": "2022-08-04T16:12:12.439616Z",
          "iopub.status.busy": "2022-08-04T16:12:12.432355Z",
          "iopub.status.idle": "2022-08-04T16:12:12.440275Z",
          "shell.execute_reply": "2022-08-04T16:12:12.440678Z"
        },
        "papermill": {
          "duration": 0.053268,
          "end_time": "2022-08-04T16:12:12.440827",
          "exception": false,
          "start_time": "2022-08-04T16:12:12.387559",
          "status": "completed"
        },
        "tags": [
          "hide-input"
        ]
      },
      "outputs": [],
      "source": [
        "def merge_dicts(*dicts: Dict) -> Dict:\n",
        "    \"\"\"merge (possibly deeply nested) dictionaries\"\"\"\n",
        "    if len(dicts) == 1:\n",
        "        return dict(_generate_merged_dict(dicts[0], {}))\n",
        "    elif len(dicts) == 2:\n",
        "        return dict(_generate_merged_dict(dicts[0], dicts[1]))\n",
        "    else:\n",
        "        return merge_dicts(dicts[0], merge_dicts(*dicts[1:]))\n",
        "    \n",
        "\n",
        "def _generate_merged_dict(dict1: Dict, dict2: Dict) -> Iterator[Tuple[Any, Any]]:\n",
        "    # inspired by https://stackoverflow.com/questions/7204805/how-to-merge-dictionaries-of-dictionaries\n",
        "    keys = {**{k: None for k in dict1}, **{k: None for k in dict2}} # keep key order, values irrelevant\n",
        "    for k in keys:\n",
        "        if k in dict1 and k in dict2:\n",
        "            v1, v2 = dict1[k], dict2[k]\n",
        "            if isinstance(v1, dict) and isinstance(v2, dict):\n",
        "                v = dict(_generate_merged_dict(v1, v2))\n",
        "            else:\n",
        "                # If one of the values is not a dict, you can't continue merging it.\n",
        "                # Value from second dict overrides one in first and we move on.\n",
        "                v = v2\n",
        "        elif k in dict1:\n",
        "            v = dict1[k]\n",
        "        else: # k in dict2:\n",
        "            v = dict2[k]\n",
        "        \n",
        "        if isinstance(v, dict):\n",
        "            yield (k, {**v}) # shallow copy of dict\n",
        "        else:\n",
        "            yield (k, v)"
      ]
    },
    {
      "cell_type": "code",
      "execution_count": 25,
      "id": "27cf74d7",
      "metadata": {
        "execution": {
          "iopub.execute_input": "2022-08-04T16:12:12.519762Z",
          "iopub.status.busy": "2022-08-04T16:12:12.518705Z",
          "iopub.status.idle": "2022-08-04T16:12:12.520403Z",
          "shell.execute_reply": "2022-08-04T16:12:12.520793Z"
        },
        "papermill": {
          "duration": 0.044296,
          "end_time": "2022-08-04T16:12:12.520937",
          "exception": false,
          "start_time": "2022-08-04T16:12:12.476641",
          "status": "completed"
        },
        "tags": []
      },
      "outputs": [],
      "source": [
        "d = merge_dicts({\"a\": 3}, {\"b\": 4})\n",
        "assert d[\"a\"] == 3\n",
        "assert d[\"b\"] == 4\n",
        "assert tuple(sorted(d)) == (\"a\", \"b\")\n",
        "\n",
        "d = merge_dicts({\"a\": 3}, {\"a\": 4})\n",
        "assert d[\"a\"] == 4\n",
        "assert tuple(d) == (\"a\",)\n",
        "\n",
        "d = merge_dicts({\"a\": 3}, {\"a\": {\"b\": 5}})\n",
        "assert d[\"a\"][\"b\"] == 5\n",
        "assert tuple(d) == (\"a\",)\n",
        "\n",
        "d = merge_dicts({\"a\": {\"b\": 5}}, {\"a\": 3})\n",
        "assert d[\"a\"] == 3\n",
        "assert tuple(d) == (\"a\",)"
      ]
    },
    {
      "cell_type": "markdown",
      "id": "f98c1914f118bdfd",
      "metadata": {},
      "source": [
        ":::{eval-rst}\n",
        ".. autofunction:: sax.utils.mode_combinations\n",
        ":::\n"
      ]
    },
    {
      "cell_type": "code",
      "execution_count": 26,
      "id": "4e02ffeda43f93a0",
      "metadata": {
        "execution": {
          "iopub.execute_input": "2022-08-04T16:12:12.598378Z",
          "iopub.status.busy": "2022-08-04T16:12:12.597748Z",
          "iopub.status.idle": "2022-08-04T16:12:12.599073Z",
          "shell.execute_reply": "2022-08-04T16:12:12.599477Z"
        },
        "papermill": {
          "duration": 0.043149,
          "end_time": "2022-08-04T16:12:12.599617",
          "exception": false,
          "start_time": "2022-08-04T16:12:12.556468",
          "status": "completed"
        },
        "tags": [
          "hide-input"
        ]
      },
      "outputs": [],
      "source": [
        "\n",
        "def mode_combinations(\n",
        "    modes: Iterable[str], cross: bool = False\n",
        ") -> Tuple[Tuple[str, str], ...]:\n",
        "    \"\"\"create mode combinations for a collection of given modes\"\"\"\n",
        "    if cross:\n",
        "        mode_combinations = natsorted((m1, m2) for m1 in modes for m2 in modes)\n",
        "    else:\n",
        "        mode_combinations = natsorted((m, m) for m in modes)\n",
        "    return tuple(mode_combinations)"
      ]
    },
    {
      "cell_type": "code",
      "execution_count": 27,
      "id": "5010a982",
      "metadata": {
        "execution": {
          "iopub.execute_input": "2022-08-04T16:12:12.677279Z",
          "iopub.status.busy": "2022-08-04T16:12:12.676297Z",
          "iopub.status.idle": "2022-08-04T16:12:12.677855Z",
          "shell.execute_reply": "2022-08-04T16:12:12.678245Z"
        },
        "papermill": {
          "duration": 0.043068,
          "end_time": "2022-08-04T16:12:12.678392",
          "exception": false,
          "start_time": "2022-08-04T16:12:12.635324",
          "status": "completed"
        },
        "tags": []
      },
      "outputs": [],
      "source": [
        "assert mode_combinations(modes=[\"te\", \"tm\"]) == (('te', 'te'), ('tm', 'tm'))\n",
        "assert mode_combinations(modes=[\"te\", \"tm\"], cross=True) == (('te', 'te'), ('te', 'tm'), ('tm', 'te'), ('tm', 'tm'))"
      ]
    },
    {
      "cell_type": "markdown",
      "id": "1a811ee1ff52816d",
      "metadata": {},
      "source": [
        ":::{eval-rst}\n",
        ".. autofunction:: sax.utils.reciprocal\n",
        ":::\n"
      ]
    },
    {
      "cell_type": "code",
      "execution_count": 28,
      "id": "1a648db9061be07f",
      "metadata": {
        "execution": {
          "iopub.execute_input": "2022-08-04T16:12:12.756205Z",
          "iopub.status.busy": "2022-08-04T16:12:12.755584Z",
          "iopub.status.idle": "2022-08-04T16:12:12.756843Z",
          "shell.execute_reply": "2022-08-04T16:12:12.757231Z"
        },
        "papermill": {
          "duration": 0.04289,
          "end_time": "2022-08-04T16:12:12.757370",
          "exception": false,
          "start_time": "2022-08-04T16:12:12.714480",
          "status": "completed"
        },
        "tags": [
          "hide-input"
        ]
      },
      "outputs": [],
      "source": [
        "def reciprocal(sdict: SDict) -> SDict:\n",
        "    \"\"\"Make an SDict reciprocal\"\"\"\n",
        "    if is_sdict(sdict):\n",
        "        return {\n",
        "            **{(p1, p2): v for (p1, p2), v in sdict.items()},\n",
        "            **{(p2, p1): v for (p1, p2), v in sdict.items()},\n",
        "        }\n",
        "    else:\n",
        "        raise ValueError(\"sax.reciprocal is only valid for SDict types\")"
      ]
    },
    {
      "cell_type": "code",
      "execution_count": 29,
      "id": "30a304a7",
      "metadata": {
        "execution": {
          "iopub.execute_input": "2022-08-04T16:12:12.871864Z",
          "iopub.status.busy": "2022-08-04T16:12:12.871330Z",
          "iopub.status.idle": "2022-08-04T16:12:12.872712Z",
          "shell.execute_reply": "2022-08-04T16:12:12.873087Z"
        },
        "papermill": {
          "duration": 0.042666,
          "end_time": "2022-08-04T16:12:12.873222",
          "exception": false,
          "start_time": "2022-08-04T16:12:12.830556",
          "status": "completed"
        },
        "tags": []
      },
      "outputs": [],
      "source": [
        "sdict_ = {(\"in0\", \"out0\"): 1.0}\n",
        "assert reciprocal(sdict_) == {(\"in0\", \"out0\"): 1.0, (\"out0\", \"in0\"): 1.0}"
      ]
    },
    {
      "cell_type": "code",
      "execution_count": 30,
      "id": "231bc8d1797cf4e6",
      "metadata": {
        "execution": {
          "iopub.execute_input": "2022-08-04T16:12:12.951058Z",
          "iopub.status.busy": "2022-08-04T16:12:12.950501Z",
          "iopub.status.idle": "2022-08-04T16:12:12.951752Z",
          "shell.execute_reply": "2022-08-04T16:12:12.952224Z"
        },
        "papermill": {
          "duration": 0.04301,
          "end_time": "2022-08-04T16:12:12.952364",
          "exception": false,
          "start_time": "2022-08-04T16:12:12.909354",
          "status": "completed"
        },
        "tags": [
          "remove-cell"
        ]
      },
      "outputs": [],
      "source": [
        "\n",
        "@overload\n",
        "def rename_params(model: ModelFactory, renamings: Dict[str, str]) -> ModelFactory:\n",
        "    ...\n",
        "\n",
        "\n",
        "@overload\n",
        "def rename_params(model: Model, renamings: Dict[str, str]) -> Model:\n",
        "    ..."
      ]
    },
    {
      "cell_type": "markdown",
      "id": "1a8d913d24e4202b",
      "metadata": {},
      "source": [
        ":::{eval-rst}\n",
        ".. autofunction:: sax.utils.rename_params\n",
        ":::\n"
      ]
    },
    {
      "cell_type": "code",
      "execution_count": 31,
      "id": "5e20f93d5dba4ca1",
      "metadata": {
        "execution": {
          "iopub.execute_input": "2022-08-04T16:12:13.040367Z",
          "iopub.status.busy": "2022-08-04T16:12:13.039799Z",
          "iopub.status.idle": "2022-08-04T16:12:13.044918Z",
          "shell.execute_reply": "2022-08-04T16:12:13.044468Z"
        },
        "papermill": {
          "duration": 0.055687,
          "end_time": "2022-08-04T16:12:13.045037",
          "exception": false,
          "start_time": "2022-08-04T16:12:12.989350",
          "status": "completed"
        },
        "tags": [
          "hide-input"
        ]
      },
      "outputs": [],
      "source": [
        "def rename_params(\n",
        "    model: Union[Model, ModelFactory], renamings: Dict[str, str]\n",
        ") -> Union[Model, ModelFactory]:\n",
        "    \"\"\"rename the parameters of a `Model` or `ModelFactory` given a renamings mapping old parameter names to new.\"\"\"\n",
        "    \n",
        "    reversed_renamings = {v: k for k, v in renamings.items()}\n",
        "    if len(reversed_renamings) < len(renamings):\n",
        "        raise ValueError(\"Multiple old names point to the same new name!\")\n",
        "\n",
        "    if is_model_factory(model):\n",
        "        old_model_factory = cast(ModelFactory, model)\n",
        "        old_settings = get_settings(model)\n",
        "\n",
        "        @wraps(old_model_factory)\n",
        "        def new_model_factory(**settings):\n",
        "            old_settings = {\n",
        "                reversed_renamings.get(k, k): v for k, v in settings.items()\n",
        "            }\n",
        "            model = old_model_factory(**old_settings)\n",
        "            return rename_params(model, renamings)\n",
        "\n",
        "        new_settings = {renamings.get(k, k): v for k, v in old_settings.items()}\n",
        "        _replace_kwargs(new_model_factory, **new_settings)\n",
        "\n",
        "        return new_model_factory\n",
        "\n",
        "    elif is_model(model):\n",
        "        old_model = cast(Model, model)\n",
        "        old_settings = get_settings(model)\n",
        "\n",
        "        @wraps(old_model)\n",
        "        def new_model(**settings):\n",
        "            old_settings = {\n",
        "                reversed_renamings.get(k, k): v for k, v in settings.items()\n",
        "            }\n",
        "            return old_model(**old_settings)\n",
        "\n",
        "        new_settings = {renamings.get(k, k): v for k, v in old_settings.items()}\n",
        "        _replace_kwargs(new_model, **new_settings)\n",
        "\n",
        "        return new_model\n",
        "\n",
        "    else:\n",
        "        raise ValueError(\n",
        "            \"rename_params should be used to decorate a Model or ModelFactory.\"\n",
        "        )\n",
        "        \n",
        "def _replace_kwargs(func: Callable, **kwargs: ComplexFloat):\n",
        "    \"\"\"Change the kwargs signature of a function\"\"\"\n",
        "    sig = inspect.signature(func)\n",
        "    settings = [\n",
        "        inspect.Parameter(k, inspect.Parameter.KEYWORD_ONLY, default=v)\n",
        "        for k, v in kwargs.items()\n",
        "    ]\n",
        "    func.__signature__ = sig.replace(parameters=settings)"
      ]
    },
    {
      "cell_type": "code",
      "execution_count": 32,
      "id": "7b041b23",
      "metadata": {
        "execution": {
          "iopub.execute_input": "2022-08-04T16:12:13.126546Z",
          "iopub.status.busy": "2022-08-04T16:12:13.126021Z",
          "iopub.status.idle": "2022-08-04T16:12:13.164316Z",
          "shell.execute_reply": "2022-08-04T16:12:13.163782Z"
        },
        "papermill": {
          "duration": 0.082346,
          "end_time": "2022-08-04T16:12:13.164464",
          "exception": false,
          "start_time": "2022-08-04T16:12:13.082118",
          "status": "completed"
        },
        "tags": []
      },
      "outputs": [],
      "source": [
        "def model(x=jnp.array(3.0), y=jnp.array(4.0), z=jnp.array([3.0, 4.0])) -> SDict:\n",
        "    return {(\"in0\", \"out0\"): jnp.array(3.0)}\n",
        "\n",
        "renamings = {\"x\": \"a\", \"y\": \"z\", \"z\": \"y\"}\n",
        "new_model = rename_params(model, renamings)\n",
        "settings = get_settings(new_model)\n",
        "assert settings[\"a\"] == 3.0\n",
        "assert settings[\"z\"] == 4.0\n",
        "assert jnp.all(settings[\"y\"] == jnp.array([3.0, 4.0]))"
      ]
    },
    {
      "cell_type": "code",
      "execution_count": 33,
      "id": "b3ff1c46a9413424",
      "metadata": {
        "execution": {
          "iopub.execute_input": "2022-08-04T16:12:13.249972Z",
          "iopub.status.busy": "2022-08-04T16:12:13.249437Z",
          "iopub.status.idle": "2022-08-04T16:12:13.250574Z",
          "shell.execute_reply": "2022-08-04T16:12:13.251113Z"
        },
        "papermill": {
          "duration": 0.049087,
          "end_time": "2022-08-04T16:12:13.251256",
          "exception": false,
          "start_time": "2022-08-04T16:12:13.202169",
          "status": "completed"
        },
        "tags": [
          "remove-cell"
        ]
      },
      "outputs": [],
      "source": [
        "\n",
        "@overload\n",
        "def rename_ports(S: SDict, renamings: Dict[str, str]) -> SDict:\n",
        "    ...\n",
        "\n",
        "\n",
        "@overload\n",
        "def rename_ports(S: SCoo, renamings: Dict[str, str]) -> SCoo:\n",
        "    ...\n",
        "\n",
        "\n",
        "@overload\n",
        "def rename_ports(S: SDense, renamings: Dict[str, str]) -> SDense:\n",
        "    ...\n",
        "\n",
        "\n",
        "@overload\n",
        "def rename_ports(S: Model, renamings: Dict[str, str]) -> Model:\n",
        "    ...\n",
        "\n",
        "\n",
        "@overload\n",
        "def rename_ports(S: ModelFactory, renamings: Dict[str, str]) -> ModelFactory:\n",
        "    ..."
      ]
    },
    {
      "cell_type": "markdown",
      "id": "c431e4122fb1dcd6",
      "metadata": {},
      "source": [
        ":::{eval-rst}\n",
        ".. autofunction:: sax.utils.rename_ports\n",
        ":::\n"
      ]
    },
    {
      "cell_type": "code",
      "execution_count": 34,
      "id": "4df2fd05cf7544ab",
      "metadata": {
        "execution": {
          "iopub.execute_input": "2022-08-04T16:12:13.336459Z",
          "iopub.status.busy": "2022-08-04T16:12:13.335583Z",
          "iopub.status.idle": "2022-08-04T16:12:13.336899Z",
          "shell.execute_reply": "2022-08-04T16:12:13.336004Z"
        },
        "papermill": {
          "duration": 0.049252,
          "end_time": "2022-08-04T16:12:13.337007",
          "exception": false,
          "start_time": "2022-08-04T16:12:13.287755",
          "status": "completed"
        },
        "tags": [
          "hide-input"
        ]
      },
      "outputs": [],
      "source": [
        "\n",
        "def rename_ports(\n",
        "    S: Union[SType, Model, ModelFactory], renamings: Dict[str, str]\n",
        ") -> Union[SType, Model, ModelFactory]:\n",
        "    \"\"\"rename the ports of an `SDict`, `Model` or `ModelFactory` given a renamings mapping old port names to new.\"\"\"\n",
        "    if is_scoo(S):\n",
        "        Si, Sj, Sx, ports_map = cast(SCoo, S)\n",
        "        ports_map = {renamings[p]: i for p, i in ports_map.items()}\n",
        "        return Si, Sj, Sx, ports_map\n",
        "    elif is_sdense(S):\n",
        "        Sx, ports_map = cast(SDense, S)\n",
        "        ports_map = {renamings[p]: i for p, i in ports_map.items()}\n",
        "        return Sx, ports_map\n",
        "    elif is_sdict(S):\n",
        "        sdict = cast(SDict, S)\n",
        "        original_ports = get_ports(sdict)\n",
        "        assert len(renamings) == len(original_ports)\n",
        "        return {(renamings[p1], renamings[p2]): v for (p1, p2), v in sdict.items()}\n",
        "    elif is_model(S):\n",
        "        old_model = cast(Model, S)\n",
        "\n",
        "        @wraps(old_model)\n",
        "        def new_model(**settings) -> SType:\n",
        "            return rename_ports(old_model(**settings), renamings)\n",
        "\n",
        "        return new_model\n",
        "    elif is_model_factory(S):\n",
        "        old_model_factory = cast(ModelFactory, S)\n",
        "\n",
        "        @wraps(old_model_factory)\n",
        "        def new_model_factory(**settings) -> Callable[..., SType]:\n",
        "            return rename_ports(old_model_factory(**settings), renamings)\n",
        "\n",
        "        return new_model_factory\n",
        "    else:\n",
        "        raise ValueError(\"Cannot rename ports for type {type(S)}\")"
      ]
    },
    {
      "cell_type": "code",
      "execution_count": 35,
      "id": "dd9c42ac",
      "metadata": {
        "execution": {
          "iopub.execute_input": "2022-08-04T16:12:13.419709Z",
          "iopub.status.busy": "2022-08-04T16:12:13.419159Z",
          "iopub.status.idle": "2022-08-04T16:12:13.528790Z",
          "shell.execute_reply": "2022-08-04T16:12:13.528251Z"
        },
        "papermill": {
          "duration": 0.15484,
          "end_time": "2022-08-04T16:12:13.528937",
          "exception": false,
          "start_time": "2022-08-04T16:12:13.374097",
          "status": "completed"
        },
        "tags": []
      },
      "outputs": [],
      "source": [
        "d = reciprocal({(\"p0\", \"p1\"): 0.1, (\"p1\", \"p2\"): 0.2})\n",
        "origports = get_ports(d)\n",
        "renamings = {\"p0\": \"in0\", \"p1\": \"out0\", \"p2\": \"in1\"}\n",
        "d_ = rename_ports(d, renamings)\n",
        "assert tuple(sorted(get_ports(d_))) == tuple(sorted(renamings[p] for p in origports))\n",
        "d_ = rename_ports(scoo(d), renamings)\n",
        "assert tuple(sorted(get_ports(d_))) == tuple(sorted(renamings[p] for p in origports))\n",
        "d_ = rename_ports(sdense(d), renamings)\n",
        "assert tuple(sorted(get_ports(d_))) == tuple(sorted(renamings[p] for p in origports))"
      ]
    },
    {
      "cell_type": "markdown",
      "id": "54b20341c787efe8",
      "metadata": {},
      "source": [
        ":::{eval-rst}\n",
        ".. autofunction:: sax.utils.update_settings\n",
        ":::\n"
      ]
    },
    {
      "cell_type": "code",
      "execution_count": 36,
      "id": "f2ae7e69d52435da",
      "metadata": {
        "execution": {
          "iopub.execute_input": "2022-08-04T16:12:13.614216Z",
          "iopub.status.busy": "2022-08-04T16:12:13.613680Z",
          "iopub.status.idle": "2022-08-04T16:12:13.616925Z",
          "shell.execute_reply": "2022-08-04T16:12:13.616511Z"
        },
        "papermill": {
          "duration": 0.046614,
          "end_time": "2022-08-04T16:12:13.617032",
          "exception": false,
          "start_time": "2022-08-04T16:12:13.570418",
          "status": "completed"
        },
        "tags": [
          "hide-input"
        ]
      },
      "outputs": [],
      "source": [
        "\n",
        "def update_settings(\n",
        "    settings: Settings, *compnames: str, **kwargs: ComplexFloat\n",
        ") -> Settings:\n",
        "    \"\"\"update a nested settings dictionary\"\"\"\n",
        "    _settings = {}\n",
        "    if not compnames:\n",
        "        for k, v in settings.items():\n",
        "            if isinstance(v, dict):\n",
        "                _settings[k] = update_settings(v, **kwargs)\n",
        "            else:\n",
        "                if k in kwargs:\n",
        "                    _settings[k] = try_float(kwargs[k])\n",
        "                else:\n",
        "                    _settings[k] = try_float(v)\n",
        "    else:\n",
        "        for k, v in settings.items():\n",
        "            if isinstance(v, dict):\n",
        "                if k == compnames[0]:\n",
        "                    _settings[k] = update_settings(v, *compnames[1:], **kwargs)\n",
        "                else:\n",
        "                    _settings[k] = v\n",
        "            else:\n",
        "                _settings[k] = try_float(v)\n",
        "    return _settings"
      ]
    },
    {
      "cell_type": "markdown",
      "id": "78e2388a",
      "metadata": {
        "papermill": {
          "duration": 0.037377,
          "end_time": "2022-08-04T16:12:13.691183",
          "exception": false,
          "start_time": "2022-08-04T16:12:13.653806",
          "status": "completed"
        },
        "tags": []
      },
      "source": [
        "> Note: (1) Even though it's possible to update parameter dictionaries in place, this function is convenient to apply certain parameters (e.g. wavelength 'wl' or temperature 'T') globally. (2) This operation never updates the given settings dictionary inplace. (3) Any non-float keyword arguments will be silently ignored."
      ]
    },
    {
      "cell_type": "markdown",
      "id": "a7642618",
      "metadata": {
        "papermill": {
          "duration": 0.036978,
          "end_time": "2022-08-04T16:12:13.764916",
          "exception": false,
          "start_time": "2022-08-04T16:12:13.727938",
          "status": "completed"
        },
        "tags": []
      },
      "source": [
        "Assuming you have a settings dictionary for a `circuit` containing a directional coupler `\"dc\"` and a waveguide `\"wg\"`:"
      ]
    },
    {
      "cell_type": "code",
      "execution_count": 37,
      "id": "85293a23",
      "metadata": {
        "execution": {
          "iopub.execute_input": "2022-08-04T16:12:13.844134Z",
          "iopub.status.busy": "2022-08-04T16:12:13.843230Z",
          "iopub.status.idle": "2022-08-04T16:12:13.844696Z",
          "shell.execute_reply": "2022-08-04T16:12:13.845093Z"
        },
        "papermill": {
          "duration": 0.04295,
          "end_time": "2022-08-04T16:12:13.845223",
          "exception": false,
          "start_time": "2022-08-04T16:12:13.802273",
          "status": "completed"
        },
        "tags": []
      },
      "outputs": [],
      "source": [
        "settings = {\"wl\": 1.55, \"dc\": {\"coupling\": 0.5}, \"wg\": {\"wl\": 1.56, \"neff\": 2.33}}"
      ]
    },
    {
      "cell_type": "markdown",
      "id": "68c1cd3b",
      "metadata": {
        "papermill": {
          "duration": 0.0364,
          "end_time": "2022-08-04T16:12:13.918626",
          "exception": false,
          "start_time": "2022-08-04T16:12:13.882226",
          "status": "completed"
        },
        "tags": []
      },
      "source": [
        "You can update this settings dictionary with some global settings as follows. When updating settings globally like this, each subdictionary of the settings dictionary will be updated with these values (if the key exists in the subdictionary):"
      ]
    },
    {
      "cell_type": "code",
      "execution_count": 38,
      "id": "4a1aaf3c",
      "metadata": {
        "execution": {
          "iopub.execute_input": "2022-08-04T16:12:14.000291Z",
          "iopub.status.busy": "2022-08-04T16:12:13.999246Z",
          "iopub.status.idle": "2022-08-04T16:12:14.000881Z",
          "shell.execute_reply": "2022-08-04T16:12:14.001277Z"
        },
        "papermill": {
          "duration": 0.045477,
          "end_time": "2022-08-04T16:12:14.001421",
          "exception": false,
          "start_time": "2022-08-04T16:12:13.955944",
          "status": "completed"
        },
        "tags": []
      },
      "outputs": [],
      "source": [
        "settings = update_settings(settings, wl=1.3, coupling=0.3, neff=3.0)\n",
        "assert settings == {\"wl\": 1.3, \"dc\": {\"coupling\": 0.3}, \"wg\": {\"wl\": 1.3, \"neff\": 3.0}}"
      ]
    },
    {
      "cell_type": "markdown",
      "id": "73737b1f",
      "metadata": {
        "papermill": {
          "duration": 0.038087,
          "end_time": "2022-08-04T16:12:14.081496",
          "exception": false,
          "start_time": "2022-08-04T16:12:14.043409",
          "status": "completed"
        },
        "tags": []
      },
      "source": [
        "Alternatively, you can set certain settings for a specific component (e.g. 'wg' in this case) as follows:"
      ]
    },
    {
      "cell_type": "code",
      "execution_count": 39,
      "id": "87c32103",
      "metadata": {
        "execution": {
          "iopub.execute_input": "2022-08-04T16:12:14.162412Z",
          "iopub.status.busy": "2022-08-04T16:12:14.161739Z",
          "iopub.status.idle": "2022-08-04T16:12:14.163024Z",
          "shell.execute_reply": "2022-08-04T16:12:14.163427Z"
        },
        "papermill": {
          "duration": 0.044694,
          "end_time": "2022-08-04T16:12:14.163570",
          "exception": false,
          "start_time": "2022-08-04T16:12:14.118876",
          "status": "completed"
        },
        "tags": []
      },
      "outputs": [],
      "source": [
        "settings = update_settings(settings, \"wg\", wl=2.0)\n",
        "assert settings == {\"wl\": 1.3, \"dc\": {\"coupling\": 0.3}, \"wg\": {\"wl\": 2.0, \"neff\": 3.0}}"
      ]
    },
    {
      "cell_type": "markdown",
      "id": "47d3b775",
      "metadata": {
        "papermill": {
          "duration": 0.037556,
          "end_time": "2022-08-04T16:12:14.238188",
          "exception": false,
          "start_time": "2022-08-04T16:12:14.200632",
          "status": "completed"
        },
        "tags": []
      },
      "source": [
        "note that only the `\"wl\"` belonging to `\"wg\"` has changed."
      ]
    },
    {
      "cell_type": "markdown",
      "id": "0f93f06da5872a8f",
      "metadata": {},
      "source": [
        ":::{eval-rst}\n",
        ".. autofunction:: sax.utils.validate_not_mixedmode\n",
        ":::\n"
      ]
    },
    {
      "cell_type": "code",
      "execution_count": 40,
      "id": "d10e3ca7268fe341",
      "metadata": {
        "execution": {
          "iopub.execute_input": "2022-08-04T16:12:14.319237Z",
          "iopub.status.busy": "2022-08-04T16:12:14.318243Z",
          "iopub.status.idle": "2022-08-04T16:12:14.319812Z",
          "shell.execute_reply": "2022-08-04T16:12:14.320206Z"
        },
        "papermill": {
          "duration": 0.044351,
          "end_time": "2022-08-04T16:12:14.320345",
          "exception": false,
          "start_time": "2022-08-04T16:12:14.275994",
          "status": "completed"
        },
        "tags": [
          "hide-input"
        ]
      },
      "outputs": [],
      "source": [
        "def validate_not_mixedmode(S: SType):\n",
        "    \"\"\"validate that an stype is not 'mixed mode' (i.e. invalid)\n",
        "\n",
        "    Args:\n",
        "        S: the stype to validate\n",
        "    \"\"\"\n",
        "\n",
        "    if is_mixedmode(S):  # mixed mode\n",
        "        raise ValueError(\n",
        "            \"Given SType is neither multimode or singlemode. Please check the port \"\n",
        "            \"names: they should either ALL contain the '@' separator (multimode) \"\n",
        "            \"or NONE should contain the '@' separator (singlemode).\"\n",
        "        )"
      ]
    },
    {
      "cell_type": "code",
      "execution_count": 41,
      "id": "b47e00d4",
      "metadata": {
        "execution": {
          "iopub.execute_input": "2022-08-04T16:12:14.402045Z",
          "iopub.status.busy": "2022-08-04T16:12:14.401508Z",
          "iopub.status.idle": "2022-08-04T16:12:14.403423Z",
          "shell.execute_reply": "2022-08-04T16:12:14.402976Z"
        },
        "papermill": {
          "duration": 0.045515,
          "end_time": "2022-08-04T16:12:14.403535",
          "exception": false,
          "start_time": "2022-08-04T16:12:14.358020",
          "status": "completed"
        },
        "tags": []
      },
      "outputs": [],
      "source": [
        "sdict = {(\"in0\", \"out0\"): 1.0, (\"out0\", \"in0\"): 1.0}\n",
        "validate_not_mixedmode(sdict)\n",
        "\n",
        "sdict = {(\"in0@te\", \"out0@te\"): 1.0, (\"out0@tm\", \"in0@tm\"): 1.0}\n",
        "validate_not_mixedmode(sdict)\n",
        "\n",
        "sdict = {(\"in0@te\", \"out0@te\"): 1.0, (\"out0\", \"in0@tm\"): 1.0}\n",
        "with raises(ValueError):\n",
        "    validate_not_mixedmode(sdict)"
      ]
    },
    {
      "cell_type": "markdown",
      "id": "ff4c064f0e9a09c0",
      "metadata": {},
      "source": [
        ":::{eval-rst}\n",
        ".. autofunction:: sax.utils.validate_multimode\n",
        ":::\n"
      ]
    },
    {
      "cell_type": "code",
      "execution_count": 42,
      "id": "d1beb8b89d7208cd",
      "metadata": {
        "execution": {
          "iopub.execute_input": "2022-08-04T16:12:14.484339Z",
          "iopub.status.busy": "2022-08-04T16:12:14.483837Z",
          "iopub.status.idle": "2022-08-04T16:12:14.485208Z",
          "shell.execute_reply": "2022-08-04T16:12:14.485607Z"
        },
        "papermill": {
          "duration": 0.04435,
          "end_time": "2022-08-04T16:12:14.485751",
          "exception": false,
          "start_time": "2022-08-04T16:12:14.441401",
          "status": "completed"
        },
        "tags": [
          "hide-input"
        ]
      },
      "outputs": [],
      "source": [
        "def validate_multimode(S: SType, modes=(\"te\", \"tm\")) -> None:\n",
        "    \"\"\"validate that an stype is multimode and that the given modes are present.\"\"\"\n",
        "    try:\n",
        "        current_modes = set(p.split(\"@\")[1] for p in get_ports(S))\n",
        "    except IndexError:\n",
        "        raise ValueError(\"The given stype is not multimode.\")\n",
        "    for mode in modes:\n",
        "        if mode not in current_modes:\n",
        "            raise ValueError(\n",
        "                f\"Could not find mode '{mode}' in one of the multimode models.\"\n",
        "            )"
      ]
    },
    {
      "cell_type": "code",
      "execution_count": 43,
      "id": "41fb0142",
      "metadata": {
        "execution": {
          "iopub.execute_input": "2022-08-04T16:12:14.567384Z",
          "iopub.status.busy": "2022-08-04T16:12:14.566643Z",
          "iopub.status.idle": "2022-08-04T16:12:14.567965Z",
          "shell.execute_reply": "2022-08-04T16:12:14.568359Z"
        },
        "papermill": {
          "duration": 0.045562,
          "end_time": "2022-08-04T16:12:14.568500",
          "exception": false,
          "start_time": "2022-08-04T16:12:14.522938",
          "status": "completed"
        },
        "tags": []
      },
      "outputs": [],
      "source": [
        "sdict = {(\"in0\", \"out0\"): 1.0, (\"out0\", \"in0\"): 1.0}\n",
        "with raises(ValueError):\n",
        "    validate_multimode(sdict)\n",
        "\n",
        "sdict = {(\"in0@te\", \"out0@te\"): 1.0, (\"out0@tm\", \"in0@tm\"): 1.0}\n",
        "validate_multimode(sdict)\n",
        "\n",
        "sdict = {(\"in0@te\", \"out0@te\"): 1.0, (\"out0\", \"in0@tm\"): 1.0}\n",
        "with raises(ValueError):\n",
        "    validate_multimode(sdict)"
      ]
    },
    {
      "cell_type": "markdown",
      "id": "6f41e125c9f5cdda",
      "metadata": {},
      "source": [
        ":::{eval-rst}\n",
        ".. autofunction:: sax.utils.validate_sdict\n",
        ":::\n"
      ]
    },
    {
      "cell_type": "code",
      "execution_count": 44,
      "id": "9a018e58492de0dd",
      "metadata": {
        "execution": {
          "iopub.execute_input": "2022-08-04T16:12:14.649257Z",
          "iopub.status.busy": "2022-08-04T16:12:14.648719Z",
          "iopub.status.idle": "2022-08-04T16:12:14.650695Z",
          "shell.execute_reply": "2022-08-04T16:12:14.650165Z"
        },
        "papermill": {
          "duration": 0.044837,
          "end_time": "2022-08-04T16:12:14.650809",
          "exception": false,
          "start_time": "2022-08-04T16:12:14.605972",
          "status": "completed"
        },
        "tags": [
          "hide-input"
        ]
      },
      "outputs": [],
      "source": [
        "def validate_sdict(sdict: Any) -> None:\n",
        "    \"\"\"Validate an `SDict`\"\"\"\n",
        "    \n",
        "    if not isinstance(sdict, dict):\n",
        "        raise ValueError(\"An SDict should be a dictionary.\")\n",
        "    for ports in sdict:\n",
        "        if not isinstance(ports, tuple) and not len(ports) == 2:\n",
        "            raise ValueError(f\"SDict keys should be length-2 tuples. Got {ports}\")\n",
        "        p1, p2 = ports\n",
        "        if not isinstance(p1, str) or not isinstance(p2, str):\n",
        "            raise ValueError(\n",
        "                f\"SDict ports should be strings. Got {ports} \"\n",
        "                f\"({type(ports[0])}, {type(ports[1])})\"\n",
        "            )"
      ]
    },
    {
      "cell_type": "code",
      "execution_count": 45,
      "id": "fe25c362",
      "metadata": {
        "execution": {
          "iopub.execute_input": "2022-08-04T16:12:14.729348Z",
          "iopub.status.busy": "2022-08-04T16:12:14.728824Z",
          "iopub.status.idle": "2022-08-04T16:12:14.732422Z",
          "shell.execute_reply": "2022-08-04T16:12:14.732824Z"
        },
        "papermill": {
          "duration": 0.04467,
          "end_time": "2022-08-04T16:12:14.732965",
          "exception": false,
          "start_time": "2022-08-04T16:12:14.688295",
          "status": "completed"
        },
        "tags": []
      },
      "outputs": [],
      "source": [
        "good_sdict = reciprocal({(\"p0\", \"p1\"): 0.1, \n",
        "                         (\"p1\", \"p2\"): 0.2})\n",
        "assert validate_sdict(good_sdict) is None\n",
        "\n",
        "bad_sdict = {\n",
        "    \"p0,p1\": 0.1,\n",
        "    (\"p1\", \"p2\"): 0.2,\n",
        "}\n",
        "with raises(ValueError):\n",
        "    validate_sdict(bad_sdict)"
      ]
    },
    {
      "cell_type": "markdown",
      "id": "badb9c02bd8cd009",
      "metadata": {},
      "source": [
        ":::{eval-rst}\n",
        ".. autofunction:: sax.utils.get_inputs_outputs\n",
        ":::\n"
      ]
    },
    {
      "cell_type": "code",
      "execution_count": 46,
      "id": "6912ead88188becf",
      "metadata": {
        "execution": {
          "iopub.execute_input": "2022-08-04T16:12:14.815793Z",
          "iopub.status.busy": "2022-08-04T16:12:14.815249Z",
          "iopub.status.idle": "2022-08-04T16:12:14.816479Z",
          "shell.execute_reply": "2022-08-04T16:12:14.816944Z"
        },
        "papermill": {
          "duration": 0.046367,
          "end_time": "2022-08-04T16:12:14.817091",
          "exception": false,
          "start_time": "2022-08-04T16:12:14.770724",
          "status": "completed"
        },
        "tags": [
          "hide-input"
        ]
      },
      "outputs": [],
      "source": [
        "\n",
        "def get_inputs_outputs(ports: Tuple[str, ...]):\n",
        "    inputs = tuple(p for p in ports if p.lower().startswith(\"in\"))\n",
        "    outputs = tuple(p for p in ports if not p.lower().startswith(\"in\"))\n",
        "    if not inputs:\n",
        "        inputs = tuple(p for p in ports if not p.lower().startswith(\"out\"))\n",
        "        outputs = tuple(p for p in ports if p.lower().startswith(\"out\"))\n",
        "    return inputs, outputs"
      ]
    },
    {
      "cell_type": "code",
      "execution_count": 47,
      "id": "b9ba032d",
      "metadata": {
        "execution": {
          "iopub.execute_input": "2022-08-04T16:12:14.899013Z",
          "iopub.status.busy": "2022-08-04T16:12:14.898435Z",
          "iopub.status.idle": "2022-08-04T16:12:14.899714Z",
          "shell.execute_reply": "2022-08-04T16:12:14.900173Z"
        },
        "papermill": {
          "duration": 0.045294,
          "end_time": "2022-08-04T16:12:14.900315",
          "exception": false,
          "start_time": "2022-08-04T16:12:14.855021",
          "status": "completed"
        },
        "tags": []
      },
      "outputs": [],
      "source": [
        "assert get_inputs_outputs([\"in0\", \"out0\"]) == (('in0',), ('out0',))\n",
        "assert get_inputs_outputs([\"in0\", \"in1\"]) == (('in0', 'in1'), ())\n",
        "assert get_inputs_outputs([\"out0\", \"out1\"]) == ((), ('out0', 'out1'))\n",
        "assert get_inputs_outputs([\"out0\", \"dc0\"]) == (('dc0',), ('out0',))\n",
        "assert get_inputs_outputs([\"dc0\", \"in0\"]) == (('in0',), ('dc0',))"
      ]
    }
  ],
  "metadata": {
    "kernelspec": {
      "display_name": "sax",
      "language": "python",
      "name": "sax"
    },
    "language_info": {
      "codemirror_mode": {
        "name": "ipython",
        "version": 3
      },
      "file_extension": ".py",
      "mimetype": "text/x-python",
      "name": "python",
      "nbconvert_exporter": "python",
      "pygments_lexer": "ipython3",
      "version": "3.9.0"
    },
    "papermill": {
      "default_parameters": {},
      "duration": 11.010616,
      "end_time": "2022-08-04T16:12:15.449365",
      "environment_variables": {},
      "exception": null,
      "input_path": "./nbs/02_utils.ipynb",
      "output_path": "./nbs/02_utils.ipynb",
      "parameters": {},
      "start_time": "2022-08-04T16:12:04.438749",
      "version": "2.3.4"
    }
  },
  "nbformat": 4,
  "nbformat_minor": 5
}