{
  "cells": [
    {
      "cell_type": "code",
      "execution_count": 1,
      "id": "6551bcf0df5a5ee4",
      "metadata": {
        "execution": {
          "iopub.execute_input": "2022-08-04T16:13:25.814153Z",
          "iopub.status.busy": "2022-08-04T16:13:25.813423Z",
          "iopub.status.idle": "2022-08-04T16:13:25.816282Z",
          "shell.execute_reply": "2022-08-04T16:13:25.816826Z"
        },
        "papermill": {
          "duration": 0.016781,
          "end_time": "2022-08-04T16:13:25.817094",
          "exception": false,
          "start_time": "2022-08-04T16:13:25.800313",
          "status": "completed"
        },
        "tags": [
          "remove-cell"
        ]
      },
      "outputs": [],
      "source": []
    },
    {
      "cell_type": "markdown",
      "id": "3ac7a21d",
      "metadata": {
        "papermill": {
          "duration": 0.006759,
          "end_time": "2022-08-04T16:13:25.830927",
          "exception": false,
          "start_time": "2022-08-04T16:13:25.824168",
          "status": "completed"
        },
        "tags": []
      },
      "source": [
        "# NN - Utils\n",
        "\n",
        "> loss functions and utilitites for SAX neural networks"
      ]
    },
    {
      "cell_type": "code",
      "execution_count": 2,
      "id": "40e691ce96e9f0f0",
      "metadata": {
        "execution": {
          "iopub.execute_input": "2022-08-04T16:13:25.852279Z",
          "iopub.status.busy": "2022-08-04T16:13:25.851747Z",
          "iopub.status.idle": "2022-08-04T16:13:26.659718Z",
          "shell.execute_reply": "2022-08-04T16:13:26.659183Z"
        },
        "papermill": {
          "duration": 0.822553,
          "end_time": "2022-08-04T16:13:26.659868",
          "exception": false,
          "start_time": "2022-08-04T16:13:25.837315",
          "status": "completed"
        },
        "tags": [
          "remove-cell"
        ]
      },
      "outputs": [],
      "source": [
        "import matplotlib.pyplot as plt\n",
        "from fastcore.test import test_eq\n",
        "from pytest import approx, raises\n",
        "\n",
        "import os, sys; sys.stderr = open(os.devnull, \"w\")"
      ]
    },
    {
      "cell_type": "code",
      "execution_count": 3,
      "id": "dc18c5fec38ed7e3",
      "metadata": {
        "execution": {
          "iopub.execute_input": "2022-08-04T16:13:26.678339Z",
          "iopub.status.busy": "2022-08-04T16:13:26.677803Z",
          "iopub.status.idle": "2022-08-04T16:13:27.892733Z",
          "shell.execute_reply": "2022-08-04T16:13:27.891826Z"
        },
        "papermill": {
          "duration": 1.226289,
          "end_time": "2022-08-04T16:13:27.892885",
          "exception": false,
          "start_time": "2022-08-04T16:13:26.666596",
          "status": "completed"
        },
        "tags": [
          "hide-input"
        ]
      },
      "outputs": [],
      "source": [
        "from __future__ import annotations\n",
        "\n",
        "from collections import namedtuple\n",
        "from typing import Tuple\n",
        "\n",
        "import jax.numpy as jnp\n",
        "import pandas as pd\n",
        "from sax.typing_ import ComplexFloat"
      ]
    },
    {
      "cell_type": "markdown",
      "id": "944f83628da6cfef",
      "metadata": {},
      "source": [
        ":::{eval-rst}\n",
        ".. autofunction:: sax.nn.utils.cartesian_product\n",
        ":::\n"
      ]
    },
    {
      "cell_type": "code",
      "execution_count": 4,
      "id": "f1bf53ba84449713",
      "metadata": {
        "execution": {
          "iopub.execute_input": "2022-08-04T16:13:27.912308Z",
          "iopub.status.busy": "2022-08-04T16:13:27.911788Z",
          "iopub.status.idle": "2022-08-04T16:13:27.912938Z",
          "shell.execute_reply": "2022-08-04T16:13:27.913344Z"
        },
        "papermill": {
          "duration": 0.0138,
          "end_time": "2022-08-04T16:13:27.913482",
          "exception": false,
          "start_time": "2022-08-04T16:13:27.899682",
          "status": "completed"
        },
        "tags": [
          "hide-input"
        ]
      },
      "outputs": [],
      "source": [
        "def cartesian_product(*arrays: ComplexFloat) -> ComplexFloat:\n",
        "    \"\"\"calculate the n-dimensional cartesian product of an arbitrary number of arrays\"\"\"\n",
        "    ixarrays = jnp.ix_(*arrays)\n",
        "    barrays = jnp.broadcast_arrays(*ixarrays)\n",
        "    sarrays = jnp.stack(barrays, -1)\n",
        "    assert isinstance(sarrays, jnp.ndarray)\n",
        "    product = sarrays.reshape(-1, sarrays.shape[-1])\n",
        "    assert isinstance(product, jnp.ndarray)\n",
        "    return product"
      ]
    },
    {
      "cell_type": "markdown",
      "id": "e2409ea6583a1cfa",
      "metadata": {},
      "source": [
        ":::{eval-rst}\n",
        ".. autofunction:: sax.nn.utils.denormalize\n",
        ":::\n"
      ]
    },
    {
      "cell_type": "code",
      "execution_count": 5,
      "id": "2826691d398008c3",
      "metadata": {
        "execution": {
          "iopub.execute_input": "2022-08-04T16:13:27.931047Z",
          "iopub.status.busy": "2022-08-04T16:13:27.930487Z",
          "iopub.status.idle": "2022-08-04T16:13:27.931564Z",
          "shell.execute_reply": "2022-08-04T16:13:27.931985Z"
        },
        "papermill": {
          "duration": 0.012014,
          "end_time": "2022-08-04T16:13:27.932115",
          "exception": false,
          "start_time": "2022-08-04T16:13:27.920101",
          "status": "completed"
        },
        "tags": [
          "hide-input"
        ]
      },
      "outputs": [],
      "source": [
        "def denormalize(x: ComplexFloat, mean: ComplexFloat = 0.0, std: ComplexFloat = 1.0) -> ComplexFloat:\n",
        "    \"\"\"denormalize an array with a given mean and standard deviation\"\"\"\n",
        "    return x * std + mean"
      ]
    },
    {
      "cell_type": "code",
      "execution_count": 6,
      "id": "a777cb1a9cde1a82",
      "metadata": {
        "execution": {
          "iopub.execute_input": "2022-08-04T16:13:27.949568Z",
          "iopub.status.busy": "2022-08-04T16:13:27.948577Z",
          "iopub.status.idle": "2022-08-04T16:13:27.950138Z",
          "shell.execute_reply": "2022-08-04T16:13:27.950525Z"
        },
        "papermill": {
          "duration": 0.012284,
          "end_time": "2022-08-04T16:13:27.950657",
          "exception": false,
          "start_time": "2022-08-04T16:13:27.938373",
          "status": "completed"
        },
        "tags": [
          "remove-cell"
        ]
      },
      "outputs": [],
      "source": [
        "norm = namedtuple(\"norm\", (\"mean\", \"std\"))"
      ]
    },
    {
      "cell_type": "markdown",
      "id": "f552626bf99eb8e0",
      "metadata": {},
      "source": [
        ":::{eval-rst}\n",
        ".. autofunction:: sax.nn.utils.get_normalization\n",
        ":::\n"
      ]
    },
    {
      "cell_type": "code",
      "execution_count": 7,
      "id": "71f340bacf60941d",
      "metadata": {
        "execution": {
          "iopub.execute_input": "2022-08-04T16:13:27.969027Z",
          "iopub.status.busy": "2022-08-04T16:13:27.967948Z",
          "iopub.status.idle": "2022-08-04T16:13:27.969768Z",
          "shell.execute_reply": "2022-08-04T16:13:27.970230Z"
        },
        "papermill": {
          "duration": 0.013321,
          "end_time": "2022-08-04T16:13:27.970386",
          "exception": false,
          "start_time": "2022-08-04T16:13:27.957065",
          "status": "completed"
        },
        "tags": [
          "hide-input"
        ]
      },
      "outputs": [],
      "source": [
        "def get_normalization(x: ComplexFloat):\n",
        "    \"\"\"Get mean and standard deviation for a given array\"\"\"\n",
        "    if isinstance(x, (complex, float)):\n",
        "        return x, 0.0\n",
        "    return norm(x.mean(0), x.std(0))"
      ]
    },
    {
      "cell_type": "markdown",
      "id": "bca531564818d6a6",
      "metadata": {},
      "source": [
        ":::{eval-rst}\n",
        ".. autofunction:: sax.nn.utils.get_df_columns\n",
        ":::\n"
      ]
    },
    {
      "cell_type": "code",
      "execution_count": 8,
      "id": "66fdb01e7735a5b8",
      "metadata": {
        "execution": {
          "iopub.execute_input": "2022-08-04T16:13:27.990874Z",
          "iopub.status.busy": "2022-08-04T16:13:27.989736Z",
          "iopub.status.idle": "2022-08-04T16:13:27.991534Z",
          "shell.execute_reply": "2022-08-04T16:13:27.991987Z"
        },
        "papermill": {
          "duration": 0.014358,
          "end_time": "2022-08-04T16:13:27.992143",
          "exception": false,
          "start_time": "2022-08-04T16:13:27.977785",
          "status": "completed"
        },
        "tags": [
          "hide-input"
        ]
      },
      "outputs": [],
      "source": [
        "def get_df_columns(df: pd.DataFrame, *names: str) -> Tuple[ComplexFloat, ...]:\n",
        "    \"\"\"Get certain columns from a pandas DataFrame as jax.numpy arrays\"\"\"\n",
        "    tup = namedtuple(\"params\", names)\n",
        "    params_list = []\n",
        "    for name in names:\n",
        "        column_np = df[name].values\n",
        "        column_jnp = jnp.array(column_np)\n",
        "        assert isinstance(column_jnp, jnp.ndarray)\n",
        "        params_list.append(column_jnp.ravel())\n",
        "    return tup(*params_list)"
      ]
    },
    {
      "cell_type": "markdown",
      "id": "d2b947b7767ae664",
      "metadata": {},
      "source": [
        ":::{eval-rst}\n",
        ".. autofunction:: sax.nn.utils.normalize\n",
        ":::\n"
      ]
    },
    {
      "cell_type": "code",
      "execution_count": 9,
      "id": "c5825ed88ef9b711",
      "metadata": {
        "execution": {
          "iopub.execute_input": "2022-08-04T16:13:28.010760Z",
          "iopub.status.busy": "2022-08-04T16:13:28.010260Z",
          "iopub.status.idle": "2022-08-04T16:13:28.011580Z",
          "shell.execute_reply": "2022-08-04T16:13:28.011954Z"
        },
        "papermill": {
          "duration": 0.012666,
          "end_time": "2022-08-04T16:13:28.012076",
          "exception": false,
          "start_time": "2022-08-04T16:13:27.999410",
          "status": "completed"
        },
        "tags": [
          "hide-input"
        ]
      },
      "outputs": [],
      "source": [
        "def normalize(\n",
        "    x: ComplexFloat, mean: ComplexFloat = 0.0, std: ComplexFloat = 1.0\n",
        ") -> ComplexFloat:\n",
        "    \"\"\"normalize an array with a given mean and standard deviation\"\"\"\n",
        "    return (x - mean) / std"
      ]
    }
  ],
  "metadata": {
    "kernelspec": {
      "display_name": "sax",
      "language": "python",
      "name": "sax"
    },
    "language_info": {
      "codemirror_mode": {
        "name": "ipython",
        "version": 3
      },
      "file_extension": ".py",
      "mimetype": "text/x-python",
      "name": "python",
      "nbconvert_exporter": "python",
      "pygments_lexer": "ipython3",
      "version": "3.9.0"
    },
    "papermill": {
      "default_parameters": {},
      "duration": 4.185176,
      "end_time": "2022-08-04T16:13:28.527580",
      "environment_variables": {},
      "exception": null,
      "input_path": "./nbs/09b_nn_utils.ipynb",
      "output_path": "./nbs/09b_nn_utils.ipynb",
      "parameters": {},
      "start_time": "2022-08-04T16:13:24.342404",
      "version": "2.3.4"
    }
  },
  "nbformat": 4,
  "nbformat_minor": 5
}