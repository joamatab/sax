{
  "cells": [
    {
      "cell_type": "code",
      "execution_count": 1,
      "id": "831ad4af0e69f63e",
      "metadata": {
        "execution": {
          "iopub.execute_input": "2022-08-04T16:12:42.974381Z",
          "iopub.status.busy": "2022-08-04T16:12:42.973795Z",
          "iopub.status.idle": "2022-08-04T16:12:42.976617Z",
          "shell.execute_reply": "2022-08-04T16:12:42.976059Z"
        },
        "papermill": {
          "duration": 0.017576,
          "end_time": "2022-08-04T16:12:42.976756",
          "exception": false,
          "start_time": "2022-08-04T16:12:42.959180",
          "status": "completed"
        },
        "tags": [
          "remove-cell"
        ]
      },
      "outputs": [],
      "source": []
    },
    {
      "cell_type": "markdown",
      "id": "36903b9f",
      "metadata": {
        "papermill": {
          "duration": 0.007205,
          "end_time": "2022-08-04T16:12:42.991837",
          "exception": false,
          "start_time": "2022-08-04T16:12:42.984632",
          "status": "completed"
        },
        "tags": []
      },
      "source": [
        "# NN - Neural Networks\n",
        "\n",
        "> Utilitites for creating advanced neural network SAX Models"
      ]
    },
    {
      "cell_type": "code",
      "execution_count": 2,
      "id": "dacbe42f8d3cbb8f",
      "metadata": {
        "execution": {
          "iopub.execute_input": "2022-08-04T16:12:43.014918Z",
          "iopub.status.busy": "2022-08-04T16:12:43.014369Z",
          "iopub.status.idle": "2022-08-04T16:12:43.016567Z",
          "shell.execute_reply": "2022-08-04T16:12:43.016133Z"
        },
        "papermill": {
          "duration": 0.017938,
          "end_time": "2022-08-04T16:12:43.016681",
          "exception": false,
          "start_time": "2022-08-04T16:12:42.998743",
          "status": "completed"
        },
        "tags": [
          "remove-cell"
        ]
      },
      "outputs": [],
      "source": [
        "import os, sys; sys.stderr = open(os.devnull, \"w\")"
      ]
    },
    {
      "cell_type": "markdown",
      "id": "24790eed-f741-4d07-91c9-a731ebcfc3f0",
      "metadata": {
        "papermill": {
          "duration": 0.007052,
          "end_time": "2022-08-04T16:12:43.030861",
          "exception": false,
          "start_time": "2022-08-04T16:12:43.023809",
          "status": "completed"
        },
        "tags": []
      },
      "source": [
        "## Check"
      ]
    },
    {
      "cell_type": "code",
      "execution_count": 3,
      "id": "71ee14ba-949f-4025-8813-5a6bf01b8464",
      "metadata": {
        "execution": {
          "iopub.execute_input": "2022-08-04T16:12:43.049398Z",
          "iopub.status.busy": "2022-08-04T16:12:43.048902Z",
          "iopub.status.idle": "2022-08-04T16:12:43.677584Z",
          "shell.execute_reply": "2022-08-04T16:12:43.677138Z"
        },
        "papermill": {
          "duration": 0.639822,
          "end_time": "2022-08-04T16:12:43.677709",
          "exception": false,
          "start_time": "2022-08-04T16:12:43.037887",
          "status": "completed"
        },
        "tags": []
      },
      "outputs": [],
      "source": [
        "try:\n",
        "    import jax\n",
        "except ImportError:\n",
        "    raise ImportError(\"[NO JAX] Cannot import sax.nn. Please install JAX first!\")"
      ]
    },
    {
      "cell_type": "markdown",
      "id": "75fbba73",
      "metadata": {
        "papermill": {
          "duration": 0.007967,
          "end_time": "2022-08-04T16:12:43.693514",
          "exception": false,
          "start_time": "2022-08-04T16:12:43.685547",
          "status": "completed"
        },
        "tags": []
      },
      "source": [
        "## Loss"
      ]
    },
    {
      "cell_type": "code",
      "execution_count": 4,
      "id": "ae1530a7039918bb",
      "metadata": {
        "execution": {
          "iopub.execute_input": "2022-08-04T16:12:43.713163Z",
          "iopub.status.busy": "2022-08-04T16:12:43.711393Z",
          "iopub.status.idle": "2022-08-04T16:12:44.262032Z",
          "shell.execute_reply": "2022-08-04T16:12:44.261079Z"
        },
        "papermill": {
          "duration": 0.561171,
          "end_time": "2022-08-04T16:12:44.262173",
          "exception": false,
          "start_time": "2022-08-04T16:12:43.701002",
          "status": "completed"
        },
        "tags": []
      },
      "outputs": [],
      "source": [
        "from __future__ import annotations\n",
        "\n",
        "from sax.nn.loss import huber_loss as huber_loss\n",
        "from sax.nn.loss import l2_reg as l2_reg\n",
        "from sax.nn.loss import mse as mse"
      ]
    },
    {
      "cell_type": "markdown",
      "id": "1a18faa2",
      "metadata": {
        "papermill": {
          "duration": 0.007933,
          "end_time": "2022-08-04T16:12:44.277804",
          "exception": false,
          "start_time": "2022-08-04T16:12:44.269871",
          "status": "completed"
        },
        "tags": []
      },
      "source": [
        "## Utils"
      ]
    },
    {
      "cell_type": "code",
      "execution_count": 5,
      "id": "fa0d8fa4c7f088e1",
      "metadata": {
        "execution": {
          "iopub.execute_input": "2022-08-04T16:12:44.297226Z",
          "iopub.status.busy": "2022-08-04T16:12:44.295169Z",
          "iopub.status.idle": "2022-08-04T16:12:44.299004Z",
          "shell.execute_reply": "2022-08-04T16:12:44.298540Z"
        },
        "papermill": {
          "duration": 0.013869,
          "end_time": "2022-08-04T16:12:44.299122",
          "exception": false,
          "start_time": "2022-08-04T16:12:44.285253",
          "status": "completed"
        },
        "tags": []
      },
      "outputs": [],
      "source": [
        "\n",
        "from sax.nn.utils import (\n",
        "    cartesian_product as cartesian_product,\n",
        "    denormalize as denormalize,\n",
        "    get_normalization as get_normalization,\n",
        "    get_df_columns as get_df_columns,\n",
        "    normalize as normalize,\n",
        ")"
      ]
    },
    {
      "cell_type": "markdown",
      "id": "ef010b3c",
      "metadata": {
        "papermill": {
          "duration": 0.007334,
          "end_time": "2022-08-04T16:12:44.313707",
          "exception": false,
          "start_time": "2022-08-04T16:12:44.306373",
          "status": "completed"
        },
        "tags": []
      },
      "source": [
        "## Core"
      ]
    },
    {
      "cell_type": "code",
      "execution_count": 6,
      "id": "c16045087f2e23ad",
      "metadata": {
        "execution": {
          "iopub.execute_input": "2022-08-04T16:12:44.333180Z",
          "iopub.status.busy": "2022-08-04T16:12:44.332676Z",
          "iopub.status.idle": "2022-08-04T16:12:44.334178Z",
          "shell.execute_reply": "2022-08-04T16:12:44.334573Z"
        },
        "papermill": {
          "duration": 0.01351,
          "end_time": "2022-08-04T16:12:44.334708",
          "exception": false,
          "start_time": "2022-08-04T16:12:44.321198",
          "status": "completed"
        },
        "tags": []
      },
      "outputs": [],
      "source": [
        "\n",
        "from sax.nn.core import (\n",
        "    preprocess as preprocess,\n",
        "    dense as dense,\n",
        "    generate_dense_weights as generate_dense_weights,\n",
        ")"
      ]
    },
    {
      "cell_type": "markdown",
      "id": "5e96c647",
      "metadata": {
        "papermill": {
          "duration": 0.00745,
          "end_time": "2022-08-04T16:12:44.349615",
          "exception": false,
          "start_time": "2022-08-04T16:12:44.342165",
          "status": "completed"
        },
        "tags": []
      },
      "source": [
        "## IO"
      ]
    },
    {
      "cell_type": "code",
      "execution_count": 7,
      "id": "46784dc980028ad6",
      "metadata": {
        "execution": {
          "iopub.execute_input": "2022-08-04T16:12:44.369713Z",
          "iopub.status.busy": "2022-08-04T16:12:44.369190Z",
          "iopub.status.idle": "2022-08-04T16:12:44.370303Z",
          "shell.execute_reply": "2022-08-04T16:12:44.370769Z"
        },
        "papermill": {
          "duration": 0.013864,
          "end_time": "2022-08-04T16:12:44.370941",
          "exception": false,
          "start_time": "2022-08-04T16:12:44.357077",
          "status": "completed"
        },
        "tags": []
      },
      "outputs": [],
      "source": [
        "\n",
        "from sax.nn.io import (\n",
        "    load_nn_weights_json as load_nn_weights_json,\n",
        "    save_nn_weights_json as save_nn_weights_json,\n",
        "    get_available_sizes as get_available_sizes,\n",
        "    get_dense_weights_path as get_dense_weights_path,\n",
        "    get_norm_path as get_norm_path,\n",
        "    load_nn_dense as load_nn_dense,\n",
        ")"
      ]
    }
  ],
  "metadata": {
    "kernelspec": {
      "display_name": "sax-np",
      "language": "python",
      "name": "sax-np"
    },
    "language_info": {
      "codemirror_mode": {
        "name": "ipython",
        "version": 3
      },
      "file_extension": ".py",
      "mimetype": "text/x-python",
      "name": "python",
      "nbconvert_exporter": "python",
      "pygments_lexer": "ipython3",
      "version": "3.9.0"
    },
    "papermill": {
      "default_parameters": {},
      "duration": 3.259031,
      "end_time": "2022-08-04T16:12:44.787188",
      "environment_variables": {},
      "exception": null,
      "input_path": "./nbs/09_nn.ipynb",
      "output_path": "./nbs/09_nn.ipynb",
      "parameters": {},
      "start_time": "2022-08-04T16:12:41.528157",
      "version": "2.3.4"
    }
  },
  "nbformat": 4,
  "nbformat_minor": 5
}