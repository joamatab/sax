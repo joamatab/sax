{
  "cells": [
    {
      "cell_type": "code",
      "execution_count": 1,
      "id": "0cb47c676d297465",
      "metadata": {
        "execution": {
          "iopub.execute_input": "2022-08-04T16:12:46.882654Z",
          "iopub.status.busy": "2022-08-04T16:12:46.882142Z",
          "iopub.status.idle": "2022-08-04T16:12:46.885216Z",
          "shell.execute_reply": "2022-08-04T16:12:46.884709Z"
        },
        "papermill": {
          "duration": 0.068977,
          "end_time": "2022-08-04T16:12:46.885348",
          "exception": false,
          "start_time": "2022-08-04T16:12:46.816371",
          "status": "completed"
        },
        "tags": [
          "remove-cell"
        ]
      },
      "outputs": [],
      "source": []
    },
    {
      "cell_type": "markdown",
      "id": "13a3464b",
      "metadata": {
        "papermill": {
          "duration": 0.057676,
          "end_time": "2022-08-04T16:12:46.999481",
          "exception": false,
          "start_time": "2022-08-04T16:12:46.941805",
          "status": "completed"
        },
        "tags": []
      },
      "source": [
        "# Typing\n",
        "\n",
        "> SAX types"
      ]
    },
    {
      "cell_type": "code",
      "execution_count": 2,
      "id": "4f033659252e4f7d",
      "metadata": {
        "execution": {
          "iopub.execute_input": "2022-08-04T16:12:47.125646Z",
          "iopub.status.busy": "2022-08-04T16:12:47.125094Z",
          "iopub.status.idle": "2022-08-04T16:12:47.931240Z",
          "shell.execute_reply": "2022-08-04T16:12:47.930650Z"
        },
        "papermill": {
          "duration": 0.873707,
          "end_time": "2022-08-04T16:12:47.931399",
          "exception": false,
          "start_time": "2022-08-04T16:12:47.057692",
          "status": "completed"
        },
        "tags": [
          "remove-cell"
        ]
      },
      "outputs": [],
      "source": [
        "import matplotlib.pyplot as plt\n",
        "from fastcore.test import test_eq\n",
        "from pytest import approx, raises\n",
        "\n",
        "import os, sys; sys.stderr = open(os.devnull, \"w\")"
      ]
    },
    {
      "cell_type": "code",
      "execution_count": 3,
      "id": "a371b4cad32ed036",
      "metadata": {
        "execution": {
          "iopub.execute_input": "2022-08-04T16:12:48.054894Z",
          "iopub.status.busy": "2022-08-04T16:12:48.053797Z",
          "iopub.status.idle": "2022-08-04T16:12:48.723912Z",
          "shell.execute_reply": "2022-08-04T16:12:48.723447Z"
        },
        "papermill": {
          "duration": 0.734599,
          "end_time": "2022-08-04T16:12:48.724045",
          "exception": false,
          "start_time": "2022-08-04T16:12:47.989446",
          "status": "completed"
        },
        "tags": [
          "hide-input"
        ]
      },
      "outputs": [],
      "source": [
        "from __future__ import annotations\n",
        "\n",
        "import functools\n",
        "import inspect\n",
        "from collections.abc import Callable as CallableABC\n",
        "from typing import Any, Callable, Dict, Tuple, Union, cast, overload\n",
        "try:\n",
        "    from typing import TypedDict\n",
        "except ImportError: # python<3.8\n",
        "    from typing_extensions import TypedDict\n",
        "\n",
        "import numpy as np\n",
        "from natsort import natsorted\n",
        "\n",
        "try:\n",
        "    import jax.numpy as jnp\n",
        "    JAX_AVAILABLE = True\n",
        "except ImportError:\n",
        "    import numpy as jnp\n",
        "    JAX_AVAILABLE = False"
      ]
    },
    {
      "cell_type": "markdown",
      "id": "41e26ab2",
      "metadata": {
        "papermill": {
          "duration": 0.059572,
          "end_time": "2022-08-04T16:12:48.845018",
          "exception": false,
          "start_time": "2022-08-04T16:12:48.785446",
          "status": "completed"
        },
        "tags": []
      },
      "source": [
        "## Core Types"
      ]
    },
    {
      "cell_type": "markdown",
      "id": "ca29df5c",
      "metadata": {
        "papermill": {
          "duration": 0.058107,
          "end_time": "2022-08-04T16:12:48.996104",
          "exception": false,
          "start_time": "2022-08-04T16:12:48.937997",
          "status": "completed"
        },
        "tags": []
      },
      "source": [
        "### Array"
      ]
    },
    {
      "cell_type": "markdown",
      "id": "82c3c344",
      "metadata": {
        "papermill": {
          "duration": 0.057883,
          "end_time": "2022-08-04T16:12:49.112367",
          "exception": false,
          "start_time": "2022-08-04T16:12:49.054484",
          "status": "completed"
        },
        "tags": []
      },
      "source": [
        "an `Array` is either a jax array or a numpy array:"
      ]
    },
    {
      "cell_type": "code",
      "execution_count": 4,
      "id": "b61129d956ce0e80",
      "metadata": {
        "execution": {
          "iopub.execute_input": "2022-08-04T16:12:49.234676Z",
          "iopub.status.busy": "2022-08-04T16:12:49.234147Z",
          "iopub.status.idle": "2022-08-04T16:12:49.237558Z",
          "shell.execute_reply": "2022-08-04T16:12:49.237117Z"
        },
        "papermill": {
          "duration": 0.066426,
          "end_time": "2022-08-04T16:12:49.237681",
          "exception": false,
          "start_time": "2022-08-04T16:12:49.171255",
          "status": "completed"
        },
        "tags": []
      },
      "outputs": [],
      "source": [
        "Array = Union[jnp.ndarray, np.ndarray]"
      ]
    },
    {
      "cell_type": "markdown",
      "id": "6b86fa37",
      "metadata": {
        "papermill": {
          "duration": 0.059221,
          "end_time": "2022-08-04T16:12:49.355088",
          "exception": false,
          "start_time": "2022-08-04T16:12:49.295867",
          "status": "completed"
        },
        "tags": []
      },
      "source": [
        "### Int"
      ]
    },
    {
      "cell_type": "markdown",
      "id": "9fa467c9",
      "metadata": {
        "papermill": {
          "duration": 0.05879,
          "end_time": "2022-08-04T16:12:49.472182",
          "exception": false,
          "start_time": "2022-08-04T16:12:49.413392",
          "status": "completed"
        },
        "tags": []
      },
      "source": [
        "An `Int` is either a built-in `int` or an `Array` [of dtype `int`]"
      ]
    },
    {
      "cell_type": "code",
      "execution_count": 5,
      "id": "1ecd1a7d678e082e",
      "metadata": {
        "execution": {
          "iopub.execute_input": "2022-08-04T16:12:49.592279Z",
          "iopub.status.busy": "2022-08-04T16:12:49.591514Z",
          "iopub.status.idle": "2022-08-04T16:12:49.593920Z",
          "shell.execute_reply": "2022-08-04T16:12:49.594313Z"
        },
        "papermill": {
          "duration": 0.064284,
          "end_time": "2022-08-04T16:12:49.594460",
          "exception": false,
          "start_time": "2022-08-04T16:12:49.530176",
          "status": "completed"
        },
        "tags": []
      },
      "outputs": [],
      "source": [
        "Int = Union[int, Array]"
      ]
    },
    {
      "cell_type": "markdown",
      "id": "c486cd2c",
      "metadata": {
        "papermill": {
          "duration": 0.0589,
          "end_time": "2022-08-04T16:12:49.711508",
          "exception": false,
          "start_time": "2022-08-04T16:12:49.652608",
          "status": "completed"
        },
        "tags": []
      },
      "source": [
        "### Float"
      ]
    },
    {
      "cell_type": "markdown",
      "id": "3b59bba6",
      "metadata": {
        "papermill": {
          "duration": 0.058273,
          "end_time": "2022-08-04T16:12:49.828109",
          "exception": false,
          "start_time": "2022-08-04T16:12:49.769836",
          "status": "completed"
        },
        "tags": []
      },
      "source": [
        "A `Float` is eiter a built-in `float` or an `Array` [of dtype `float`]"
      ]
    },
    {
      "cell_type": "code",
      "execution_count": 6,
      "id": "4992ad13c6a84a84",
      "metadata": {
        "execution": {
          "iopub.execute_input": "2022-08-04T16:12:49.948735Z",
          "iopub.status.busy": "2022-08-04T16:12:49.948212Z",
          "iopub.status.idle": "2022-08-04T16:12:49.949190Z",
          "shell.execute_reply": "2022-08-04T16:12:49.949615Z"
        },
        "papermill": {
          "duration": 0.063172,
          "end_time": "2022-08-04T16:12:49.949751",
          "exception": false,
          "start_time": "2022-08-04T16:12:49.886579",
          "status": "completed"
        },
        "tags": []
      },
      "outputs": [],
      "source": [
        "Float = Union[float, Array]"
      ]
    },
    {
      "cell_type": "markdown",
      "id": "bdfd6200",
      "metadata": {
        "papermill": {
          "duration": 0.058904,
          "end_time": "2022-08-04T16:12:50.066455",
          "exception": false,
          "start_time": "2022-08-04T16:12:50.007551",
          "status": "completed"
        },
        "tags": []
      },
      "source": [
        "### ComplexFloat"
      ]
    },
    {
      "cell_type": "markdown",
      "id": "b1a7d255",
      "metadata": {
        "papermill": {
          "duration": 0.058447,
          "end_time": "2022-08-04T16:12:50.183985",
          "exception": false,
          "start_time": "2022-08-04T16:12:50.125538",
          "status": "completed"
        },
        "tags": []
      },
      "source": [
        "A `ComplexFloat` is either a build-in `complex` or an Array [of dtype `complex`]:"
      ]
    },
    {
      "cell_type": "code",
      "execution_count": 7,
      "id": "09180d889d37e33c",
      "metadata": {
        "execution": {
          "iopub.execute_input": "2022-08-04T16:12:50.304104Z",
          "iopub.status.busy": "2022-08-04T16:12:50.303572Z",
          "iopub.status.idle": "2022-08-04T16:12:50.304960Z",
          "shell.execute_reply": "2022-08-04T16:12:50.305357Z"
        },
        "papermill": {
          "duration": 0.063001,
          "end_time": "2022-08-04T16:12:50.305510",
          "exception": false,
          "start_time": "2022-08-04T16:12:50.242509",
          "status": "completed"
        },
        "tags": []
      },
      "outputs": [],
      "source": [
        "ComplexFloat = Union[complex, Float]"
      ]
    },
    {
      "cell_type": "markdown",
      "id": "1f1aa099",
      "metadata": {
        "papermill": {
          "duration": 0.057749,
          "end_time": "2022-08-04T16:12:50.420868",
          "exception": false,
          "start_time": "2022-08-04T16:12:50.363119",
          "status": "completed"
        },
        "tags": []
      },
      "source": [
        "### Settings"
      ]
    },
    {
      "cell_type": "markdown",
      "id": "69839acd",
      "metadata": {
        "papermill": {
          "duration": 0.059017,
          "end_time": "2022-08-04T16:12:50.538992",
          "exception": false,
          "start_time": "2022-08-04T16:12:50.479975",
          "status": "completed"
        },
        "tags": []
      },
      "source": [
        "A `Settings` dictionary is a nested mapping between setting names [`str`] to either `ComplexFloat` values OR to another lower level `Settings` dictionary."
      ]
    },
    {
      "cell_type": "code",
      "execution_count": 8,
      "id": "0ec33c31be38f287",
      "metadata": {
        "execution": {
          "iopub.execute_input": "2022-08-04T16:12:50.660109Z",
          "iopub.status.busy": "2022-08-04T16:12:50.659611Z",
          "iopub.status.idle": "2022-08-04T16:12:50.660982Z",
          "shell.execute_reply": "2022-08-04T16:12:50.661374Z"
        },
        "papermill": {
          "duration": 0.064076,
          "end_time": "2022-08-04T16:12:50.661521",
          "exception": false,
          "start_time": "2022-08-04T16:12:50.597445",
          "status": "completed"
        },
        "tags": []
      },
      "outputs": [],
      "source": [
        "Settings = Union[Dict[str, ComplexFloat], Dict[str, \"Settings\"]]"
      ]
    },
    {
      "cell_type": "markdown",
      "id": "cf202d06",
      "metadata": {
        "papermill": {
          "duration": 0.058213,
          "end_time": "2022-08-04T16:12:50.778450",
          "exception": false,
          "start_time": "2022-08-04T16:12:50.720237",
          "status": "completed"
        },
        "tags": []
      },
      "source": [
        "Settings dictionaries are used to parametrize a SAX `Model` or a `circuit`. The settings dictionary should have the same hierarchy levels as the circuit:\n",
        " \n",
        " > Example:"
      ]
    },
    {
      "cell_type": "code",
      "execution_count": 9,
      "id": "2b26c4ab",
      "metadata": {
        "execution": {
          "iopub.execute_input": "2022-08-04T16:12:50.902193Z",
          "iopub.status.busy": "2022-08-04T16:12:50.901671Z",
          "iopub.status.idle": "2022-08-04T16:12:50.903898Z",
          "shell.execute_reply": "2022-08-04T16:12:50.903462Z"
        },
        "papermill": {
          "duration": 0.066442,
          "end_time": "2022-08-04T16:12:50.904019",
          "exception": false,
          "start_time": "2022-08-04T16:12:50.837577",
          "status": "completed"
        },
        "tags": []
      },
      "outputs": [],
      "source": [
        "mzi_settings = {\n",
        "    \"wl\": 1.5,  # global settings\n",
        "    \"lft\": {\"coupling\": 0.5},  # settings for the left coupler\n",
        "    \"top\": {\"neff\": 3.4},  # settings for the top waveguide\n",
        "    \"rgt\": {\"coupling\": 0.3},  # settings for the right coupler\n",
        "}"
      ]
    },
    {
      "cell_type": "markdown",
      "id": "45043912",
      "metadata": {
        "papermill": {
          "duration": 0.058226,
          "end_time": "2022-08-04T16:12:51.021411",
          "exception": false,
          "start_time": "2022-08-04T16:12:50.963185",
          "status": "completed"
        },
        "tags": []
      },
      "source": [
        "### SDict"
      ]
    },
    {
      "cell_type": "markdown",
      "id": "c5a7facf",
      "metadata": {
        "papermill": {
          "duration": 0.059577,
          "end_time": "2022-08-04T16:12:51.140713",
          "exception": false,
          "start_time": "2022-08-04T16:12:51.081136",
          "status": "completed"
        },
        "tags": []
      },
      "source": [
        "An `SDict` is a sparse dictionary based representation of an S-matrix, mapping port name tuples such as `('in0', 'out0')` to `ComplexFloat`."
      ]
    },
    {
      "cell_type": "code",
      "execution_count": 10,
      "id": "d351bec03ebc8c14",
      "metadata": {
        "execution": {
          "iopub.execute_input": "2022-08-04T16:12:51.262856Z",
          "iopub.status.busy": "2022-08-04T16:12:51.262320Z",
          "iopub.status.idle": "2022-08-04T16:12:51.263455Z",
          "shell.execute_reply": "2022-08-04T16:12:51.263914Z"
        },
        "papermill": {
          "duration": 0.064291,
          "end_time": "2022-08-04T16:12:51.264048",
          "exception": false,
          "start_time": "2022-08-04T16:12:51.199757",
          "status": "completed"
        },
        "tags": []
      },
      "outputs": [],
      "source": [
        "SDict = Dict[Tuple[str, str], ComplexFloat]"
      ]
    },
    {
      "cell_type": "markdown",
      "id": "07dc470a",
      "metadata": {
        "papermill": {
          "duration": 0.058893,
          "end_time": "2022-08-04T16:12:51.381187",
          "exception": false,
          "start_time": "2022-08-04T16:12:51.322294",
          "status": "completed"
        },
        "tags": []
      },
      "source": [
        "> Example:"
      ]
    },
    {
      "cell_type": "code",
      "execution_count": 11,
      "id": "ad65a70c",
      "metadata": {
        "execution": {
          "iopub.execute_input": "2022-08-04T16:12:51.505522Z",
          "iopub.status.busy": "2022-08-04T16:12:51.505004Z",
          "iopub.status.idle": "2022-08-04T16:12:51.506921Z",
          "shell.execute_reply": "2022-08-04T16:12:51.506486Z"
        },
        "papermill": {
          "duration": 0.066125,
          "end_time": "2022-08-04T16:12:51.507045",
          "exception": false,
          "start_time": "2022-08-04T16:12:51.440920",
          "status": "completed"
        },
        "tags": []
      },
      "outputs": [],
      "source": [
        "_sdict: SDict = {\n",
        "    (\"in0\", \"out0\"): 3.0,\n",
        "}"
      ]
    },
    {
      "cell_type": "markdown",
      "id": "0e2c7430",
      "metadata": {
        "papermill": {
          "duration": 0.057927,
          "end_time": "2022-08-04T16:12:51.623755",
          "exception": false,
          "start_time": "2022-08-04T16:12:51.565828",
          "status": "completed"
        },
        "tags": []
      },
      "source": [
        "### SCoo"
      ]
    },
    {
      "cell_type": "markdown",
      "id": "ef614e1d",
      "metadata": {
        "papermill": {
          "duration": 0.058704,
          "end_time": "2022-08-04T16:12:51.740573",
          "exception": false,
          "start_time": "2022-08-04T16:12:51.681869",
          "status": "completed"
        },
        "tags": []
      },
      "source": [
        "An `SCoo` is a sparse matrix based representation of an S-matrix consisting of three arrays and a port map. The three arrays represent the input port indices [`int`], output port indices [`int`] and the S-matrix values [`ComplexFloat`] of the sparse matrix. The port map maps a port name [`str`] to a port index [`int`]. Only these four arrays **together** and in this specific **order** are considered a valid `SCoo` representation!"
      ]
    },
    {
      "cell_type": "code",
      "execution_count": 12,
      "id": "2940cf9d9e155d9e",
      "metadata": {
        "execution": {
          "iopub.execute_input": "2022-08-04T16:12:51.863412Z",
          "iopub.status.busy": "2022-08-04T16:12:51.862926Z",
          "iopub.status.idle": "2022-08-04T16:12:51.863894Z",
          "shell.execute_reply": "2022-08-04T16:12:51.864325Z"
        },
        "papermill": {
          "duration": 0.064843,
          "end_time": "2022-08-04T16:12:51.864462",
          "exception": false,
          "start_time": "2022-08-04T16:12:51.799619",
          "status": "completed"
        },
        "tags": []
      },
      "outputs": [],
      "source": [
        "SCoo = Tuple[Array, Array, ComplexFloat, Dict[str, int]]"
      ]
    },
    {
      "cell_type": "markdown",
      "id": "ff9719c8",
      "metadata": {
        "papermill": {
          "duration": 0.058225,
          "end_time": "2022-08-04T16:12:51.981106",
          "exception": false,
          "start_time": "2022-08-04T16:12:51.922881",
          "status": "completed"
        },
        "tags": []
      },
      "source": [
        "> Example:"
      ]
    },
    {
      "cell_type": "code",
      "execution_count": 13,
      "id": "972f8060",
      "metadata": {
        "execution": {
          "iopub.execute_input": "2022-08-04T16:12:52.105974Z",
          "iopub.status.busy": "2022-08-04T16:12:52.105450Z",
          "iopub.status.idle": "2022-08-04T16:12:52.137062Z",
          "shell.execute_reply": "2022-08-04T16:12:52.136542Z"
        },
        "papermill": {
          "duration": 0.097037,
          "end_time": "2022-08-04T16:12:52.137212",
          "exception": false,
          "start_time": "2022-08-04T16:12:52.040175",
          "status": "completed"
        },
        "tags": []
      },
      "outputs": [],
      "source": [
        "Si = jnp.arange(3, dtype=int)\n",
        "Sj = jnp.array([0, 1, 0], dtype=int)\n",
        "Sx = jnp.array([3.0, 4.0, 1.0])\n",
        "port_map = {\"in0\": 0, \"in1\": 2, \"out0\": 1}\n",
        "_scoo: SCoo = (Si, Sj, Sx, port_map)"
      ]
    },
    {
      "cell_type": "markdown",
      "id": "2cba9246",
      "metadata": {
        "papermill": {
          "duration": 0.059824,
          "end_time": "2022-08-04T16:12:52.258636",
          "exception": false,
          "start_time": "2022-08-04T16:12:52.198812",
          "status": "completed"
        },
        "tags": []
      },
      "source": [
        "### SDense"
      ]
    },
    {
      "cell_type": "markdown",
      "id": "fd28795b",
      "metadata": {
        "papermill": {
          "duration": 0.057475,
          "end_time": "2022-08-04T16:12:52.374671",
          "exception": false,
          "start_time": "2022-08-04T16:12:52.317196",
          "status": "completed"
        },
        "tags": []
      },
      "source": [
        "an `SDense` is a dense matrix representation of an S-matrix. It's represented by an NxN `ComplexFloat` array and a port map (mapping port names onto port indices)."
      ]
    },
    {
      "cell_type": "code",
      "execution_count": 14,
      "id": "e5846a2c34be9da7",
      "metadata": {
        "execution": {
          "iopub.execute_input": "2022-08-04T16:12:52.497953Z",
          "iopub.status.busy": "2022-08-04T16:12:52.497432Z",
          "iopub.status.idle": "2022-08-04T16:12:52.498776Z",
          "shell.execute_reply": "2022-08-04T16:12:52.499202Z"
        },
        "papermill": {
          "duration": 0.065085,
          "end_time": "2022-08-04T16:12:52.499356",
          "exception": false,
          "start_time": "2022-08-04T16:12:52.434271",
          "status": "completed"
        },
        "tags": []
      },
      "outputs": [],
      "source": [
        "SDense = Tuple[Array, Dict[str, int]]"
      ]
    },
    {
      "cell_type": "markdown",
      "id": "2c4789f7",
      "metadata": {
        "papermill": {
          "duration": 0.058864,
          "end_time": "2022-08-04T16:12:52.616897",
          "exception": false,
          "start_time": "2022-08-04T16:12:52.558033",
          "status": "completed"
        },
        "tags": []
      },
      "source": [
        "> Example:"
      ]
    },
    {
      "cell_type": "code",
      "execution_count": 15,
      "id": "02def7ed",
      "metadata": {
        "execution": {
          "iopub.execute_input": "2022-08-04T16:12:52.744398Z",
          "iopub.status.busy": "2022-08-04T16:12:52.743867Z",
          "iopub.status.idle": "2022-08-04T16:12:52.770337Z",
          "shell.execute_reply": "2022-08-04T16:12:52.770789Z"
        },
        "papermill": {
          "duration": 0.095471,
          "end_time": "2022-08-04T16:12:52.771000",
          "exception": false,
          "start_time": "2022-08-04T16:12:52.675529",
          "status": "completed"
        },
        "tags": []
      },
      "outputs": [],
      "source": [
        "Sd = jnp.arange(9, dtype=float).reshape(3, 3)\n",
        "port_map = {\"in0\": 0, \"in1\": 2, \"out0\": 1}\n",
        "_sdense = Sd, port_map"
      ]
    },
    {
      "cell_type": "markdown",
      "id": "b0d2e36f",
      "metadata": {
        "papermill": {
          "duration": 0.058318,
          "end_time": "2022-08-04T16:12:52.889576",
          "exception": false,
          "start_time": "2022-08-04T16:12:52.831258",
          "status": "completed"
        },
        "tags": []
      },
      "source": [
        "### SType"
      ]
    },
    {
      "cell_type": "markdown",
      "id": "b441f21d",
      "metadata": {
        "papermill": {
          "duration": 0.0581,
          "end_time": "2022-08-04T16:12:53.006413",
          "exception": false,
          "start_time": "2022-08-04T16:12:52.948313",
          "status": "completed"
        },
        "tags": []
      },
      "source": [
        "an `SType` is either an `SDict` **OR** an `SCoo` **OR** an `SDense`:"
      ]
    },
    {
      "cell_type": "code",
      "execution_count": 16,
      "id": "9b6925ec0bc8711a",
      "metadata": {
        "execution": {
          "iopub.execute_input": "2022-08-04T16:12:53.129603Z",
          "iopub.status.busy": "2022-08-04T16:12:53.129103Z",
          "iopub.status.idle": "2022-08-04T16:12:53.130438Z",
          "shell.execute_reply": "2022-08-04T16:12:53.130865Z"
        },
        "papermill": {
          "duration": 0.065273,
          "end_time": "2022-08-04T16:12:53.131012",
          "exception": false,
          "start_time": "2022-08-04T16:12:53.065739",
          "status": "completed"
        },
        "tags": []
      },
      "outputs": [],
      "source": [
        "SType = Union[SDict, SCoo, SDense]"
      ]
    },
    {
      "cell_type": "markdown",
      "id": "e0561b07",
      "metadata": {
        "papermill": {
          "duration": 0.058989,
          "end_time": "2022-08-04T16:12:53.248178",
          "exception": false,
          "start_time": "2022-08-04T16:12:53.189189",
          "status": "completed"
        },
        "tags": []
      },
      "source": [
        "> Example:"
      ]
    },
    {
      "cell_type": "code",
      "execution_count": 17,
      "id": "5b52a5f2",
      "metadata": {
        "execution": {
          "iopub.execute_input": "2022-08-04T16:12:53.371613Z",
          "iopub.status.busy": "2022-08-04T16:12:53.371069Z",
          "iopub.status.idle": "2022-08-04T16:12:53.372473Z",
          "shell.execute_reply": "2022-08-04T16:12:53.372869Z"
        },
        "papermill": {
          "duration": 0.065116,
          "end_time": "2022-08-04T16:12:53.373024",
          "exception": false,
          "start_time": "2022-08-04T16:12:53.307908",
          "status": "completed"
        },
        "tags": []
      },
      "outputs": [],
      "source": [
        "obj: SType = _sdict\n",
        "obj: SType = _scoo\n",
        "obj: SType = _sdense"
      ]
    },
    {
      "cell_type": "markdown",
      "id": "afabe91b",
      "metadata": {
        "papermill": {
          "duration": 0.05876,
          "end_time": "2022-08-04T16:12:53.489619",
          "exception": false,
          "start_time": "2022-08-04T16:12:53.430859",
          "status": "completed"
        },
        "tags": []
      },
      "source": [
        "### Model"
      ]
    },
    {
      "cell_type": "markdown",
      "id": "13808fb1",
      "metadata": {
        "papermill": {
          "duration": 0.05809,
          "end_time": "2022-08-04T16:12:53.607788",
          "exception": false,
          "start_time": "2022-08-04T16:12:53.549698",
          "status": "completed"
        },
        "tags": []
      },
      "source": [
        "A `Model` is any keyword-only function that returns an `SType`:"
      ]
    },
    {
      "cell_type": "code",
      "execution_count": 18,
      "id": "657feac7e5fe54a2",
      "metadata": {
        "execution": {
          "iopub.execute_input": "2022-08-04T16:12:53.729756Z",
          "iopub.status.busy": "2022-08-04T16:12:53.728745Z",
          "iopub.status.idle": "2022-08-04T16:12:53.730322Z",
          "shell.execute_reply": "2022-08-04T16:12:53.730698Z"
        },
        "papermill": {
          "duration": 0.065295,
          "end_time": "2022-08-04T16:12:53.730863",
          "exception": false,
          "start_time": "2022-08-04T16:12:53.665568",
          "status": "completed"
        },
        "tags": []
      },
      "outputs": [],
      "source": [
        "Model = Callable[..., SType]"
      ]
    },
    {
      "cell_type": "markdown",
      "id": "fad534fb",
      "metadata": {
        "papermill": {
          "duration": 0.058789,
          "end_time": "2022-08-04T16:12:53.849780",
          "exception": false,
          "start_time": "2022-08-04T16:12:53.790991",
          "status": "completed"
        },
        "tags": []
      },
      "source": [
        "### ModelFactory"
      ]
    },
    {
      "cell_type": "markdown",
      "id": "85781647",
      "metadata": {
        "papermill": {
          "duration": 0.058208,
          "end_time": "2022-08-04T16:12:53.967620",
          "exception": false,
          "start_time": "2022-08-04T16:12:53.909412",
          "status": "completed"
        },
        "tags": []
      },
      "source": [
        "A `ModelFactory` is any keyword-only function that returns a `Model`:"
      ]
    },
    {
      "cell_type": "code",
      "execution_count": 19,
      "id": "d68dc806a336e348",
      "metadata": {
        "execution": {
          "iopub.execute_input": "2022-08-04T16:12:54.088062Z",
          "iopub.status.busy": "2022-08-04T16:12:54.087539Z",
          "iopub.status.idle": "2022-08-04T16:12:54.090843Z",
          "shell.execute_reply": "2022-08-04T16:12:54.090319Z"
        },
        "papermill": {
          "duration": 0.065487,
          "end_time": "2022-08-04T16:12:54.090968",
          "exception": false,
          "start_time": "2022-08-04T16:12:54.025481",
          "status": "completed"
        },
        "tags": []
      },
      "outputs": [],
      "source": [
        "ModelFactory = Callable[..., Model]"
      ]
    },
    {
      "cell_type": "markdown",
      "id": "353d8506",
      "metadata": {
        "papermill": {
          "duration": 0.058604,
          "end_time": "2022-08-04T16:12:54.207866",
          "exception": false,
          "start_time": "2022-08-04T16:12:54.149262",
          "status": "completed"
        },
        "tags": []
      },
      "source": [
        "> Note: SAX sometimes needs to figure out the difference between a `ModelFactory` and a normal `Model` *before* running the function. To do this, SAX will check the return annotation of the function. Any function with a `-> Model` or `-> Callable` annotation will be considered a `ModelFactory`. Any function without this annotation will be considered a normal Model: **don't forget the return annotation of your Model Factory!** To ensure a correct annotation and to ensure forward compatibility, it's recommended to decorate your `ModelFactory` with the `modelfactory` decorator."
      ]
    },
    {
      "cell_type": "markdown",
      "id": "e42d3f17",
      "metadata": {
        "papermill": {
          "duration": 0.059929,
          "end_time": "2022-08-04T16:12:54.327335",
          "exception": false,
          "start_time": "2022-08-04T16:12:54.267406",
          "status": "completed"
        },
        "tags": []
      },
      "source": [
        "### GeneralModel"
      ]
    },
    {
      "cell_type": "markdown",
      "id": "0c4356fc",
      "metadata": {
        "papermill": {
          "duration": 0.06,
          "end_time": "2022-08-04T16:12:54.446891",
          "exception": false,
          "start_time": "2022-08-04T16:12:54.386891",
          "status": "completed"
        },
        "tags": []
      },
      "source": [
        "a `GeneralModel` is either a `Model` or a `LogicalNetlist` (will be defined below):"
      ]
    },
    {
      "cell_type": "code",
      "execution_count": 20,
      "id": "6b52d087c7266a92",
      "metadata": {
        "execution": {
          "iopub.execute_input": "2022-08-04T16:12:54.570640Z",
          "iopub.status.busy": "2022-08-04T16:12:54.570123Z",
          "iopub.status.idle": "2022-08-04T16:12:54.571284Z",
          "shell.execute_reply": "2022-08-04T16:12:54.571749Z"
        },
        "papermill": {
          "duration": 0.064872,
          "end_time": "2022-08-04T16:12:54.571891",
          "exception": false,
          "start_time": "2022-08-04T16:12:54.507019",
          "status": "completed"
        },
        "tags": []
      },
      "outputs": [],
      "source": [
        "GeneralModel = Union[Model, \"LogicalNetlist\"]"
      ]
    },
    {
      "cell_type": "markdown",
      "id": "b32b5a31",
      "metadata": {
        "papermill": {
          "duration": 0.059996,
          "end_time": "2022-08-04T16:12:54.691986",
          "exception": false,
          "start_time": "2022-08-04T16:12:54.631990",
          "status": "completed"
        },
        "tags": []
      },
      "source": [
        "### Models"
      ]
    },
    {
      "cell_type": "markdown",
      "id": "a796dcb2",
      "metadata": {
        "papermill": {
          "duration": 0.060167,
          "end_time": "2022-08-04T16:12:54.813181",
          "exception": false,
          "start_time": "2022-08-04T16:12:54.753014",
          "status": "completed"
        },
        "tags": []
      },
      "source": [
        "`Models` is a mapping between model names [`str`] and `GeneralModel`:"
      ]
    },
    {
      "cell_type": "code",
      "execution_count": 21,
      "id": "1e6cdfc1dbb744a4",
      "metadata": {
        "execution": {
          "iopub.execute_input": "2022-08-04T16:12:54.936453Z",
          "iopub.status.busy": "2022-08-04T16:12:54.935355Z",
          "iopub.status.idle": "2022-08-04T16:12:54.937034Z",
          "shell.execute_reply": "2022-08-04T16:12:54.937389Z"
        },
        "papermill": {
          "duration": 0.065542,
          "end_time": "2022-08-04T16:12:54.937526",
          "exception": false,
          "start_time": "2022-08-04T16:12:54.871984",
          "status": "completed"
        },
        "tags": []
      },
      "outputs": [],
      "source": [
        "Models = Dict[str, GeneralModel]"
      ]
    },
    {
      "cell_type": "markdown",
      "id": "ed1af61c",
      "metadata": {
        "papermill": {
          "duration": 0.05982,
          "end_time": "2022-08-04T16:12:55.057015",
          "exception": false,
          "start_time": "2022-08-04T16:12:54.997195",
          "status": "completed"
        },
        "tags": []
      },
      "source": [
        "> Note: sometimes 'component' is used to refer to a a `Model` or `GeneralModel`. This is because other tools (such as for example GDSFactory) prefer that terminology."
      ]
    },
    {
      "cell_type": "markdown",
      "id": "5d276f63",
      "metadata": {
        "papermill": {
          "duration": 0.059766,
          "end_time": "2022-08-04T16:12:55.176994",
          "exception": false,
          "start_time": "2022-08-04T16:12:55.117228",
          "status": "completed"
        },
        "tags": []
      },
      "source": [
        "## Netlist Types"
      ]
    },
    {
      "cell_type": "markdown",
      "id": "2c946dc2",
      "metadata": {
        "papermill": {
          "duration": 0.060029,
          "end_time": "2022-08-04T16:12:55.297584",
          "exception": false,
          "start_time": "2022-08-04T16:12:55.237555",
          "status": "completed"
        },
        "tags": []
      },
      "source": [
        "### Instance"
      ]
    },
    {
      "cell_type": "markdown",
      "id": "24694709",
      "metadata": {
        "papermill": {
          "duration": 0.058821,
          "end_time": "2022-08-04T16:12:55.416331",
          "exception": false,
          "start_time": "2022-08-04T16:12:55.357510",
          "status": "completed"
        },
        "tags": []
      },
      "source": [
        "A netlist `Instance` is a mapping with two keys: `\"component\"`, which should map to a key in a `Models` dictionary and `\"settings\"`, which are all the necessary settings to instanciate a component:"
      ]
    },
    {
      "cell_type": "code",
      "execution_count": 22,
      "id": "d171b65c372261de",
      "metadata": {
        "execution": {
          "iopub.execute_input": "2022-08-04T16:12:55.537298Z",
          "iopub.status.busy": "2022-08-04T16:12:55.536823Z",
          "iopub.status.idle": "2022-08-04T16:12:55.539021Z",
          "shell.execute_reply": "2022-08-04T16:12:55.538618Z"
        },
        "papermill": {
          "duration": 0.064516,
          "end_time": "2022-08-04T16:12:55.539139",
          "exception": false,
          "start_time": "2022-08-04T16:12:55.474623",
          "status": "completed"
        },
        "tags": []
      },
      "outputs": [],
      "source": [
        "Instance = TypedDict(\n",
        "    \"Instance\",\n",
        "    {\n",
        "        \"component\": str,\n",
        "        \"settings\": Settings,\n",
        "    },\n",
        ")"
      ]
    },
    {
      "cell_type": "markdown",
      "id": "ff82e535",
      "metadata": {
        "papermill": {
          "duration": 0.058348,
          "end_time": "2022-08-04T16:12:55.657100",
          "exception": false,
          "start_time": "2022-08-04T16:12:55.598752",
          "status": "completed"
        },
        "tags": []
      },
      "source": [
        "> Note: in SAX, a better name for `\"component\"` in the instance definition would probably be `\"model\"` or `\"model_name\"`. However we chose `\"component\"` here to have a 1-to-1 map between SAX netlists and GDSFactory netlists."
      ]
    },
    {
      "cell_type": "markdown",
      "id": "365559c3",
      "metadata": {
        "papermill": {
          "duration": 0.058931,
          "end_time": "2022-08-04T16:12:55.774673",
          "exception": false,
          "start_time": "2022-08-04T16:12:55.715742",
          "status": "completed"
        },
        "tags": []
      },
      "source": [
        "### GeneralInstance"
      ]
    },
    {
      "cell_type": "markdown",
      "id": "5249fc0f",
      "metadata": {
        "papermill": {
          "duration": 0.057841,
          "end_time": "2022-08-04T16:12:55.891005",
          "exception": false,
          "start_time": "2022-08-04T16:12:55.833164",
          "status": "completed"
        },
        "tags": []
      },
      "source": [
        "A general instance can be any of the following (`LogicalNetlist` and `Netlist` will be defined below):"
      ]
    },
    {
      "cell_type": "code",
      "execution_count": 23,
      "id": "f496a93071f75ab9",
      "metadata": {
        "execution": {
          "iopub.execute_input": "2022-08-04T16:12:56.013311Z",
          "iopub.status.busy": "2022-08-04T16:12:56.012792Z",
          "iopub.status.idle": "2022-08-04T16:12:56.016159Z",
          "shell.execute_reply": "2022-08-04T16:12:56.015697Z"
        },
        "papermill": {
          "duration": 0.066581,
          "end_time": "2022-08-04T16:12:56.016286",
          "exception": false,
          "start_time": "2022-08-04T16:12:55.949705",
          "status": "completed"
        },
        "tags": []
      },
      "outputs": [],
      "source": [
        "GeneralInstance = Union[str, Instance, \"LogicalNetlist\", \"Netlist\"]"
      ]
    },
    {
      "cell_type": "markdown",
      "id": "04a5992a",
      "metadata": {
        "papermill": {
          "duration": 0.059129,
          "end_time": "2022-08-04T16:12:56.134425",
          "exception": false,
          "start_time": "2022-08-04T16:12:56.075296",
          "status": "completed"
        },
        "tags": []
      },
      "source": [
        "> For example, this is allowed:"
      ]
    },
    {
      "cell_type": "code",
      "execution_count": 24,
      "id": "6ef6d5ee",
      "metadata": {
        "execution": {
          "iopub.execute_input": "2022-08-04T16:12:56.258614Z",
          "iopub.status.busy": "2022-08-04T16:12:56.257640Z",
          "iopub.status.idle": "2022-08-04T16:12:56.259204Z",
          "shell.execute_reply": "2022-08-04T16:12:56.259592Z"
        },
        "papermill": {
          "duration": 0.065533,
          "end_time": "2022-08-04T16:12:56.259734",
          "exception": false,
          "start_time": "2022-08-04T16:12:56.194201",
          "status": "completed"
        },
        "tags": []
      },
      "outputs": [],
      "source": [
        "inst: GeneralInstance = \"my_component_model\"\n",
        "inst: GeneralInstance = {\n",
        "    \"component\": \"my_component_model\",\n",
        "    \"settings\": {},\n",
        "}"
      ]
    },
    {
      "cell_type": "markdown",
      "id": "8af40281",
      "metadata": {
        "papermill": {
          "duration": 0.060177,
          "end_time": "2022-08-04T16:12:56.378381",
          "exception": false,
          "start_time": "2022-08-04T16:12:56.318204",
          "status": "completed"
        },
        "tags": []
      },
      "source": [
        "> ... and this is not (will be flagged by a static type checker like pyright or mypy):"
      ]
    },
    {
      "cell_type": "code",
      "execution_count": 25,
      "id": "c13fc4d7",
      "metadata": {
        "execution": {
          "iopub.execute_input": "2022-08-04T16:12:56.503498Z",
          "iopub.status.busy": "2022-08-04T16:12:56.502974Z",
          "iopub.status.idle": "2022-08-04T16:12:56.503962Z",
          "shell.execute_reply": "2022-08-04T16:12:56.504426Z"
        },
        "papermill": {
          "duration": 0.065767,
          "end_time": "2022-08-04T16:12:56.504569",
          "exception": false,
          "start_time": "2022-08-04T16:12:56.438802",
          "status": "completed"
        },
        "tags": []
      },
      "outputs": [],
      "source": [
        "inst: GeneralInstance = {\n",
        "    \"component\": \"my_component_model\",\n",
        "    \"settings\": {},\n",
        "    \"extra_arg\": \"invalid\",\n",
        "}"
      ]
    },
    {
      "cell_type": "markdown",
      "id": "cf9fd876",
      "metadata": {
        "papermill": {
          "duration": 0.058988,
          "end_time": "2022-08-04T16:12:56.623575",
          "exception": false,
          "start_time": "2022-08-04T16:12:56.564587",
          "status": "completed"
        },
        "tags": []
      },
      "source": [
        "### Instances"
      ]
    },
    {
      "cell_type": "markdown",
      "id": "a9aad796",
      "metadata": {
        "papermill": {
          "duration": 0.059318,
          "end_time": "2022-08-04T16:12:56.742551",
          "exception": false,
          "start_time": "2022-08-04T16:12:56.683233",
          "status": "completed"
        },
        "tags": []
      },
      "source": [
        "`Instances` is a mapping from instance names [`str`] to a `GeneralInstance`:"
      ]
    },
    {
      "cell_type": "code",
      "execution_count": 26,
      "id": "c449a72f0f36ec67",
      "metadata": {
        "execution": {
          "iopub.execute_input": "2022-08-04T16:12:56.867663Z",
          "iopub.status.busy": "2022-08-04T16:12:56.867119Z",
          "iopub.status.idle": "2022-08-04T16:12:56.868142Z",
          "shell.execute_reply": "2022-08-04T16:12:56.868586Z"
        },
        "papermill": {
          "duration": 0.066006,
          "end_time": "2022-08-04T16:12:56.868730",
          "exception": false,
          "start_time": "2022-08-04T16:12:56.802724",
          "status": "completed"
        },
        "tags": []
      },
      "outputs": [],
      "source": [
        "Instances = Union[Dict[str, str], Dict[str, GeneralInstance]]"
      ]
    },
    {
      "cell_type": "markdown",
      "id": "0f292b1f",
      "metadata": {
        "papermill": {
          "duration": 0.059154,
          "end_time": "2022-08-04T16:12:56.987467",
          "exception": false,
          "start_time": "2022-08-04T16:12:56.928313",
          "status": "completed"
        },
        "tags": []
      },
      "source": [
        "### Netlist"
      ]
    },
    {
      "cell_type": "markdown",
      "id": "7b85ab37",
      "metadata": {
        "papermill": {
          "duration": 0.059905,
          "end_time": "2022-08-04T16:12:57.107319",
          "exception": false,
          "start_time": "2022-08-04T16:12:57.047414",
          "status": "completed"
        },
        "tags": []
      },
      "source": [
        "a `Netlist` is a collection of `\"instances\"`, `\"connections\"` and `\"ports\"`:"
      ]
    },
    {
      "cell_type": "code",
      "execution_count": 27,
      "id": "bcde5e5784e21c26",
      "metadata": {
        "execution": {
          "iopub.execute_input": "2022-08-04T16:12:57.228971Z",
          "iopub.status.busy": "2022-08-04T16:12:57.228375Z",
          "iopub.status.idle": "2022-08-04T16:12:57.232211Z",
          "shell.execute_reply": "2022-08-04T16:12:57.232607Z"
        },
        "papermill": {
          "duration": 0.067376,
          "end_time": "2022-08-04T16:12:57.232755",
          "exception": false,
          "start_time": "2022-08-04T16:12:57.165379",
          "status": "completed"
        },
        "tags": []
      },
      "outputs": [],
      "source": [
        "\n",
        "Netlist = TypedDict(\n",
        "    \"Netlist\",\n",
        "    {\n",
        "        \"instances\": Instances,\n",
        "        \"connections\": Dict[str, str],\n",
        "        \"ports\": Dict[str, str],\n",
        "    },\n",
        ")"
      ]
    },
    {
      "cell_type": "markdown",
      "id": "d12f61a8",
      "metadata": {
        "papermill": {
          "duration": 0.060224,
          "end_time": "2022-08-04T16:12:57.352828",
          "exception": false,
          "start_time": "2022-08-04T16:12:57.292604",
          "status": "completed"
        },
        "tags": []
      },
      "source": [
        "> Example:"
      ]
    },
    {
      "cell_type": "code",
      "execution_count": 28,
      "id": "877d1151",
      "metadata": {
        "execution": {
          "iopub.execute_input": "2022-08-04T16:12:57.480242Z",
          "iopub.status.busy": "2022-08-04T16:12:57.479716Z",
          "iopub.status.idle": "2022-08-04T16:12:57.480887Z",
          "shell.execute_reply": "2022-08-04T16:12:57.481353Z"
        },
        "papermill": {
          "duration": 0.068358,
          "end_time": "2022-08-04T16:12:57.481500",
          "exception": false,
          "start_time": "2022-08-04T16:12:57.413142",
          "status": "completed"
        },
        "tags": []
      },
      "outputs": [],
      "source": [
        "mzi_netlist: Netlist = {\n",
        "    \"instances\": {\n",
        "    \"lft\": \"mmi1x2\",  # shorthand if no settings need to be given\n",
        "        \"top\": {  # full instance definition\n",
        "            \"component\": \"waveguide\",\n",
        "            \"settings\": {\n",
        "                \"length\": 100.0,\n",
        "            },\n",
        "        },\n",
        "        \"rgt\": \"mmi2x2\",  # shorthand if no settings need to be given\n",
        "    },\n",
        "    \"connections\": {\n",
        "        \"lft,out0\": \"top,in0\",\n",
        "        \"top,out0\": \"rgt,in0\",\n",
        "        \"top,out1\": \"rgt,in1\",\n",
        "    },\n",
        "    \"ports\": {\n",
        "        \"in0\": \"lft,in0\",\n",
        "        \"out0\": \"rgt,out0\",\n",
        "        \"out1\": \"rgt,out1\",\n",
        "    },\n",
        "}"
      ]
    },
    {
      "cell_type": "markdown",
      "id": "613b0f22",
      "metadata": {
        "papermill": {
          "duration": 0.060924,
          "end_time": "2022-08-04T16:12:57.602373",
          "exception": false,
          "start_time": "2022-08-04T16:12:57.541449",
          "status": "completed"
        },
        "tags": []
      },
      "source": [
        "### LogicalNetlist"
      ]
    },
    {
      "cell_type": "markdown",
      "id": "f8cb7e75",
      "metadata": {
        "papermill": {
          "duration": 0.05974,
          "end_time": "2022-08-04T16:12:57.721252",
          "exception": false,
          "start_time": "2022-08-04T16:12:57.661512",
          "status": "completed"
        },
        "tags": []
      },
      "source": [
        "a `LogicalNetlist` is a subset of the more general `Netlist`.  It only contains the logical connections and instance names. Not the actual instances. This data structure is mostly used for internal use only."
      ]
    },
    {
      "cell_type": "code",
      "execution_count": 29,
      "id": "e0cf36bbf098012b",
      "metadata": {
        "execution": {
          "iopub.execute_input": "2022-08-04T16:12:57.847715Z",
          "iopub.status.busy": "2022-08-04T16:12:57.847232Z",
          "iopub.status.idle": "2022-08-04T16:12:57.849035Z",
          "shell.execute_reply": "2022-08-04T16:12:57.848534Z"
        },
        "papermill": {
          "duration": 0.066498,
          "end_time": "2022-08-04T16:12:57.849150",
          "exception": false,
          "start_time": "2022-08-04T16:12:57.782652",
          "status": "completed"
        },
        "tags": []
      },
      "outputs": [],
      "source": [
        "\n",
        "LogicalNetlist = TypedDict(\n",
        "    \"LogicalNetlist\",\n",
        "    {\n",
        "        \"instances\": Dict[str, str],\n",
        "        \"connections\": Dict[str, str],\n",
        "        \"ports\": Dict[str, str],\n",
        "    },\n",
        ")"
      ]
    },
    {
      "cell_type": "markdown",
      "id": "3468d6a1",
      "metadata": {
        "papermill": {
          "duration": 0.060726,
          "end_time": "2022-08-04T16:12:57.971236",
          "exception": false,
          "start_time": "2022-08-04T16:12:57.910510",
          "status": "completed"
        },
        "tags": []
      },
      "source": [
        "> Example:"
      ]
    },
    {
      "cell_type": "code",
      "execution_count": 30,
      "id": "ab67ad41",
      "metadata": {
        "execution": {
          "iopub.execute_input": "2022-08-04T16:12:58.098082Z",
          "iopub.status.busy": "2022-08-04T16:12:58.097547Z",
          "iopub.status.idle": "2022-08-04T16:12:58.098954Z",
          "shell.execute_reply": "2022-08-04T16:12:58.099330Z"
        },
        "papermill": {
          "duration": 0.068112,
          "end_time": "2022-08-04T16:12:58.099474",
          "exception": false,
          "start_time": "2022-08-04T16:12:58.031362",
          "status": "completed"
        },
        "tags": []
      },
      "outputs": [],
      "source": [
        "mzi_logical_netlist: Netlist = {\n",
        "    \"instances\": {\n",
        "        \"lft\": \"mmi1x2\",\n",
        "        \"top\": \"waveguide\",\n",
        "        \"rgt\": \"mmi2x2\",\n",
        "    },\n",
        "    \"connections\": {\n",
        "        \"lft,out0\": \"top,in0\",\n",
        "        \"top,out0\": \"rgt,in0\",\n",
        "        \"top,out1\": \"rgt,in1\",\n",
        "    },\n",
        "    \"ports\": {\n",
        "        \"in0\": \"lft,in0\",\n",
        "        \"out0\": \"rgt,out0\",\n",
        "        \"out1\": \"rgt,out1\",\n",
        "    },\n",
        "}"
      ]
    },
    {
      "cell_type": "markdown",
      "id": "dbcb4447",
      "metadata": {
        "papermill": {
          "duration": 0.05965,
          "end_time": "2022-08-04T16:12:58.219484",
          "exception": false,
          "start_time": "2022-08-04T16:12:58.159834",
          "status": "completed"
        },
        "tags": []
      },
      "source": [
        "## Validation and runtime type-checking:"
      ]
    },
    {
      "cell_type": "markdown",
      "id": "6e4c44aa",
      "metadata": {
        "papermill": {
          "duration": 0.060226,
          "end_time": "2022-08-04T16:12:58.340001",
          "exception": false,
          "start_time": "2022-08-04T16:12:58.279775",
          "status": "completed"
        },
        "tags": []
      },
      "source": [
        "> Note: the type-checking functions below are **NOT** very tight and hence should be used within the right context!"
      ]
    },
    {
      "cell_type": "markdown",
      "id": "7058873f245dbd3d",
      "metadata": {},
      "source": [
        ":::{eval-rst}\n",
        ".. autofunction:: sax.typing_.is_float\n",
        ":::\n"
      ]
    },
    {
      "cell_type": "code",
      "execution_count": 31,
      "id": "1fbd4ccf5b747dd3",
      "metadata": {
        "execution": {
          "iopub.execute_input": "2022-08-04T16:12:58.467817Z",
          "iopub.status.busy": "2022-08-04T16:12:58.467332Z",
          "iopub.status.idle": "2022-08-04T16:12:58.468793Z",
          "shell.execute_reply": "2022-08-04T16:12:58.469264Z"
        },
        "papermill": {
          "duration": 0.069013,
          "end_time": "2022-08-04T16:12:58.469408",
          "exception": false,
          "start_time": "2022-08-04T16:12:58.400395",
          "status": "completed"
        },
        "tags": [
          "hide-input"
        ]
      },
      "outputs": [],
      "source": [
        "def is_float(x: Any) -> bool:\n",
        "    \"\"\"Check if an object is a `Float`\"\"\"\n",
        "    if isinstance(x, float):\n",
        "        return True\n",
        "    if isinstance(x, np.ndarray):\n",
        "        return x.dtype in (np.float16, np.float32, np.float64, np.float128)\n",
        "    if isinstance(x, jnp.ndarray):\n",
        "        return x.dtype in (jnp.float16, jnp.float32, jnp.float64)\n",
        "    return False"
      ]
    },
    {
      "cell_type": "code",
      "execution_count": 32,
      "id": "28374448",
      "metadata": {
        "execution": {
          "iopub.execute_input": "2022-08-04T16:12:58.597046Z",
          "iopub.status.busy": "2022-08-04T16:12:58.596502Z",
          "iopub.status.idle": "2022-08-04T16:12:58.601708Z",
          "shell.execute_reply": "2022-08-04T16:12:58.601198Z"
        },
        "papermill": {
          "duration": 0.070894,
          "end_time": "2022-08-04T16:12:58.601833",
          "exception": false,
          "start_time": "2022-08-04T16:12:58.530939",
          "status": "completed"
        },
        "tags": []
      },
      "outputs": [],
      "source": [
        "assert is_float(3.0)\n",
        "assert not is_float(3)\n",
        "assert not is_float(3.0 + 2j)\n",
        "assert not is_float(jnp.array(3.0, dtype=complex))\n",
        "assert not is_float(jnp.array(3, dtype=int))"
      ]
    },
    {
      "cell_type": "markdown",
      "id": "6bad770c46239fe5",
      "metadata": {},
      "source": [
        ":::{eval-rst}\n",
        ".. autofunction:: sax.typing_.is_complex\n",
        ":::\n"
      ]
    },
    {
      "cell_type": "code",
      "execution_count": 33,
      "id": "bcfbca8bf12a3f15",
      "metadata": {
        "execution": {
          "iopub.execute_input": "2022-08-04T16:12:58.731561Z",
          "iopub.status.busy": "2022-08-04T16:12:58.731029Z",
          "iopub.status.idle": "2022-08-04T16:12:58.732416Z",
          "shell.execute_reply": "2022-08-04T16:12:58.732808Z"
        },
        "papermill": {
          "duration": 0.069063,
          "end_time": "2022-08-04T16:12:58.732952",
          "exception": false,
          "start_time": "2022-08-04T16:12:58.663889",
          "status": "completed"
        },
        "tags": [
          "hide-input"
        ]
      },
      "outputs": [],
      "source": [
        "def is_complex(x: Any) -> bool:\n",
        "    \"\"\"check if an object is a `ComplexFloat`\"\"\"\n",
        "    if isinstance(x, complex):\n",
        "        return True\n",
        "    if isinstance(x, np.ndarray):\n",
        "        return x.dtype in (np.complex64, np.complex128)\n",
        "    if isinstance(x, jnp.ndarray):\n",
        "        return x.dtype in (jnp.complex64, jnp.complex128)\n",
        "    return False"
      ]
    },
    {
      "cell_type": "code",
      "execution_count": 34,
      "id": "d81a703d",
      "metadata": {
        "execution": {
          "iopub.execute_input": "2022-08-04T16:12:58.862924Z",
          "iopub.status.busy": "2022-08-04T16:12:58.862364Z",
          "iopub.status.idle": "2022-08-04T16:12:58.864593Z",
          "shell.execute_reply": "2022-08-04T16:12:58.864164Z"
        },
        "papermill": {
          "duration": 0.069442,
          "end_time": "2022-08-04T16:12:58.864709",
          "exception": false,
          "start_time": "2022-08-04T16:12:58.795267",
          "status": "completed"
        },
        "tags": []
      },
      "outputs": [],
      "source": [
        "assert not is_complex(3.0)\n",
        "assert not is_complex(3)\n",
        "assert is_complex(3.0 + 2j)\n",
        "assert is_complex(jnp.array(3.0, dtype=complex))\n",
        "assert not is_complex(jnp.array(3, dtype=int))"
      ]
    },
    {
      "cell_type": "markdown",
      "id": "771dbd6f7a028254",
      "metadata": {},
      "source": [
        ":::{eval-rst}\n",
        ".. autofunction:: sax.typing_.is_complex_float\n",
        ":::\n"
      ]
    },
    {
      "cell_type": "code",
      "execution_count": 35,
      "id": "0ff40ccefb1ebd4d",
      "metadata": {
        "execution": {
          "iopub.execute_input": "2022-08-04T16:12:58.991036Z",
          "iopub.status.busy": "2022-08-04T16:12:58.990484Z",
          "iopub.status.idle": "2022-08-04T16:12:58.991641Z",
          "shell.execute_reply": "2022-08-04T16:12:58.992102Z"
        },
        "papermill": {
          "duration": 0.066402,
          "end_time": "2022-08-04T16:12:58.992243",
          "exception": false,
          "start_time": "2022-08-04T16:12:58.925841",
          "status": "completed"
        },
        "tags": [
          "hide-input"
        ]
      },
      "outputs": [],
      "source": [
        "def is_complex_float(x: Any) -> bool:\n",
        "    \"\"\"check if an object is either a `ComplexFloat` or a `Float`\"\"\"\n",
        "    return is_float(x) or is_complex(x)"
      ]
    },
    {
      "cell_type": "code",
      "execution_count": 36,
      "id": "c533ff0d",
      "metadata": {
        "execution": {
          "iopub.execute_input": "2022-08-04T16:12:59.120642Z",
          "iopub.status.busy": "2022-08-04T16:12:59.120132Z",
          "iopub.status.idle": "2022-08-04T16:12:59.122367Z",
          "shell.execute_reply": "2022-08-04T16:12:59.121961Z"
        },
        "papermill": {
          "duration": 0.06985,
          "end_time": "2022-08-04T16:12:59.122490",
          "exception": false,
          "start_time": "2022-08-04T16:12:59.052640",
          "status": "completed"
        },
        "tags": []
      },
      "outputs": [],
      "source": [
        "assert is_complex_float(3.0)\n",
        "assert not is_complex_float(3)\n",
        "assert is_complex_float(3.0 + 2j)\n",
        "assert is_complex_float(jnp.array(3.0, dtype=complex))\n",
        "assert not is_complex_float(jnp.array(3, dtype=int))"
      ]
    },
    {
      "cell_type": "markdown",
      "id": "e5a4b2a74fec0302",
      "metadata": {},
      "source": [
        ":::{eval-rst}\n",
        ".. autofunction:: sax.typing_.is_sdict\n",
        ":::\n"
      ]
    },
    {
      "cell_type": "code",
      "execution_count": 37,
      "id": "a7134c364eb481a0",
      "metadata": {
        "execution": {
          "iopub.execute_input": "2022-08-04T16:12:59.248417Z",
          "iopub.status.busy": "2022-08-04T16:12:59.247899Z",
          "iopub.status.idle": "2022-08-04T16:12:59.250122Z",
          "shell.execute_reply": "2022-08-04T16:12:59.249688Z"
        },
        "papermill": {
          "duration": 0.067824,
          "end_time": "2022-08-04T16:12:59.250243",
          "exception": false,
          "start_time": "2022-08-04T16:12:59.182419",
          "status": "completed"
        },
        "tags": [
          "hide-input"
        ]
      },
      "outputs": [],
      "source": [
        "def is_sdict(x: Any) -> bool:\n",
        "    \"\"\"check if an object is an `SDict` (a SAX S-dictionary)\"\"\"\n",
        "    return isinstance(x, dict)"
      ]
    },
    {
      "cell_type": "code",
      "execution_count": 38,
      "id": "cb0365dc",
      "metadata": {
        "execution": {
          "iopub.execute_input": "2022-08-04T16:12:59.378281Z",
          "iopub.status.busy": "2022-08-04T16:12:59.377803Z",
          "iopub.status.idle": "2022-08-04T16:12:59.378889Z",
          "shell.execute_reply": "2022-08-04T16:12:59.379329Z"
        },
        "papermill": {
          "duration": 0.06747,
          "end_time": "2022-08-04T16:12:59.379462",
          "exception": false,
          "start_time": "2022-08-04T16:12:59.311992",
          "status": "completed"
        },
        "tags": []
      },
      "outputs": [],
      "source": [
        "assert not is_sdict(object())\n",
        "assert is_sdict(_sdict)\n",
        "assert not is_sdict(_scoo)\n",
        "assert not is_sdict(_sdense)"
      ]
    },
    {
      "cell_type": "markdown",
      "id": "42ac2116446ac828",
      "metadata": {},
      "source": [
        ":::{eval-rst}\n",
        ".. autofunction:: sax.typing_.is_scoo\n",
        ":::\n"
      ]
    },
    {
      "cell_type": "code",
      "execution_count": 39,
      "id": "49e4758390ed02d3",
      "metadata": {
        "execution": {
          "iopub.execute_input": "2022-08-04T16:12:59.507345Z",
          "iopub.status.busy": "2022-08-04T16:12:59.506801Z",
          "iopub.status.idle": "2022-08-04T16:12:59.509033Z",
          "shell.execute_reply": "2022-08-04T16:12:59.508649Z"
        },
        "papermill": {
          "duration": 0.067412,
          "end_time": "2022-08-04T16:12:59.509148",
          "exception": false,
          "start_time": "2022-08-04T16:12:59.441736",
          "status": "completed"
        },
        "tags": [
          "hide-input"
        ]
      },
      "outputs": [],
      "source": [
        "def is_scoo(x: Any) -> bool:\n",
        "    \"\"\"check if an object is an `SCoo` (a SAX sparse S-matrix representation in COO-format)\"\"\"\n",
        "    return isinstance(x, (tuple, list)) and len(x) == 4"
      ]
    },
    {
      "cell_type": "code",
      "execution_count": 40,
      "id": "9ea0239a",
      "metadata": {
        "execution": {
          "iopub.execute_input": "2022-08-04T16:12:59.636801Z",
          "iopub.status.busy": "2022-08-04T16:12:59.636326Z",
          "iopub.status.idle": "2022-08-04T16:12:59.638216Z",
          "shell.execute_reply": "2022-08-04T16:12:59.637811Z"
        },
        "papermill": {
          "duration": 0.067752,
          "end_time": "2022-08-04T16:12:59.638365",
          "exception": false,
          "start_time": "2022-08-04T16:12:59.570613",
          "status": "completed"
        },
        "tags": []
      },
      "outputs": [],
      "source": [
        "assert not is_scoo(object)\n",
        "assert not is_scoo(_sdict)\n",
        "assert is_scoo(_scoo)\n",
        "assert not is_scoo(_sdense)"
      ]
    },
    {
      "cell_type": "markdown",
      "id": "f9183cc8b786ab01",
      "metadata": {},
      "source": [
        ":::{eval-rst}\n",
        ".. autofunction:: sax.typing_.is_sdense\n",
        ":::\n"
      ]
    },
    {
      "cell_type": "code",
      "execution_count": 41,
      "id": "86b5ce96ef1fd14a",
      "metadata": {
        "execution": {
          "iopub.execute_input": "2022-08-04T16:12:59.764705Z",
          "iopub.status.busy": "2022-08-04T16:12:59.764201Z",
          "iopub.status.idle": "2022-08-04T16:12:59.765765Z",
          "shell.execute_reply": "2022-08-04T16:12:59.766160Z"
        },
        "papermill": {
          "duration": 0.067127,
          "end_time": "2022-08-04T16:12:59.766294",
          "exception": false,
          "start_time": "2022-08-04T16:12:59.699167",
          "status": "completed"
        },
        "tags": [
          "hide-input"
        ]
      },
      "outputs": [],
      "source": [
        "def is_sdense(x: Any) -> bool:\n",
        "    \"\"\"check if an object is an `SDense` (a SAX dense S-matrix representation)\"\"\"\n",
        "    return isinstance(x, (tuple, list)) and len(x) == 2"
      ]
    },
    {
      "cell_type": "code",
      "execution_count": 42,
      "id": "2eddd63a",
      "metadata": {
        "execution": {
          "iopub.execute_input": "2022-08-04T16:12:59.892648Z",
          "iopub.status.busy": "2022-08-04T16:12:59.891560Z",
          "iopub.status.idle": "2022-08-04T16:12:59.894453Z",
          "shell.execute_reply": "2022-08-04T16:12:59.894021Z"
        },
        "papermill": {
          "duration": 0.067462,
          "end_time": "2022-08-04T16:12:59.894569",
          "exception": false,
          "start_time": "2022-08-04T16:12:59.827107",
          "status": "completed"
        },
        "tags": []
      },
      "outputs": [],
      "source": [
        "assert not is_sdense(object)\n",
        "assert not is_sdense(_sdict)\n",
        "assert not is_sdense(_scoo)\n",
        "assert is_sdense(_sdense)"
      ]
    },
    {
      "cell_type": "markdown",
      "id": "ea8341be924d25b5",
      "metadata": {},
      "source": [
        ":::{eval-rst}\n",
        ".. autofunction:: sax.typing_.is_model\n",
        ":::\n"
      ]
    },
    {
      "cell_type": "code",
      "execution_count": 43,
      "id": "f300c02f6a59c2ca",
      "metadata": {
        "execution": {
          "iopub.execute_input": "2022-08-04T16:13:00.027333Z",
          "iopub.status.busy": "2022-08-04T16:13:00.026725Z",
          "iopub.status.idle": "2022-08-04T16:13:00.027812Z",
          "shell.execute_reply": "2022-08-04T16:13:00.028289Z"
        },
        "papermill": {
          "duration": 0.070559,
          "end_time": "2022-08-04T16:13:00.028444",
          "exception": false,
          "start_time": "2022-08-04T16:12:59.957885",
          "status": "completed"
        },
        "tags": [
          "hide-input"
        ]
      },
      "outputs": [],
      "source": [
        "def is_model(model: Any) -> bool:\n",
        "    \"\"\"check if a callable is a `Model` (a callable returning an `SType`)\"\"\"\n",
        "    if not callable(model):\n",
        "        return False\n",
        "    try:\n",
        "        sig = inspect.signature(model)\n",
        "    except ValueError:\n",
        "        return False\n",
        "    for param in sig.parameters.values():\n",
        "        if param.default is inspect.Parameter.empty:\n",
        "            return False  # a proper SAX model does not have any positional arguments.\n",
        "    if _is_callable_annotation(sig.return_annotation):  # model factory\n",
        "        return False\n",
        "    return True\n",
        "\n",
        "def _is_callable_annotation(annotation: Any) -> bool:\n",
        "    \"\"\"check if an annotation is `Callable`-like\"\"\"\n",
        "    if isinstance(annotation, str):\n",
        "        # happens when\n",
        "        # from __future__ import annotations\n",
        "        # was imported at the top of the file...\n",
        "        return annotation.startswith(\"Callable\") or annotation.endswith(\"Model\")\n",
        "        # TODO: this is not a very robust check...\n",
        "    try:\n",
        "        return annotation.__origin__ == CallableABC\n",
        "    except AttributeError:\n",
        "        return False"
      ]
    },
    {
      "cell_type": "code",
      "execution_count": 44,
      "id": "7aebaf6645857e31",
      "metadata": {
        "execution": {
          "iopub.execute_input": "2022-08-04T16:13:00.156087Z",
          "iopub.status.busy": "2022-08-04T16:13:00.155574Z",
          "iopub.status.idle": "2022-08-04T16:13:00.157460Z",
          "shell.execute_reply": "2022-08-04T16:13:00.157027Z"
        },
        "papermill": {
          "duration": 0.067896,
          "end_time": "2022-08-04T16:13:00.157579",
          "exception": false,
          "start_time": "2022-08-04T16:13:00.089683",
          "status": "completed"
        },
        "tags": [
          "remove-cell"
        ]
      },
      "outputs": [],
      "source": [
        "assert _is_callable_annotation(Callable)\n",
        "assert not _is_callable_annotation(SDict)"
      ]
    },
    {
      "cell_type": "code",
      "execution_count": 45,
      "id": "89bdb647",
      "metadata": {
        "execution": {
          "iopub.execute_input": "2022-08-04T16:13:00.289197Z",
          "iopub.status.busy": "2022-08-04T16:13:00.288707Z",
          "iopub.status.idle": "2022-08-04T16:13:00.301539Z",
          "shell.execute_reply": "2022-08-04T16:13:00.301126Z"
        },
        "papermill": {
          "duration": 0.084076,
          "end_time": "2022-08-04T16:13:00.301652",
          "exception": false,
          "start_time": "2022-08-04T16:13:00.217576",
          "status": "completed"
        },
        "tags": []
      },
      "outputs": [],
      "source": [
        "def good_model(x=jnp.array(3.0), y=jnp.array(4.0)) -> SDict:\n",
        "    return {(\"in0\", \"out0\"): jnp.array(3.0)}\n",
        "assert is_model(good_model)\n",
        "\n",
        "def bad_model(positional_argument, x=jnp.array(3.0), y=jnp.array(4.0)) -> SDict:\n",
        "    return {(\"in0\", \"out0\"): jnp.array(3.0)}\n",
        "assert not is_model(bad_model)"
      ]
    },
    {
      "cell_type": "markdown",
      "id": "bfec42feea97c8b8",
      "metadata": {},
      "source": [
        ":::{eval-rst}\n",
        ".. autofunction:: sax.typing_.is_model_factory\n",
        ":::\n"
      ]
    },
    {
      "cell_type": "code",
      "execution_count": 46,
      "id": "d2f97755a0bb7ecf",
      "metadata": {
        "execution": {
          "iopub.execute_input": "2022-08-04T16:13:00.429525Z",
          "iopub.status.busy": "2022-08-04T16:13:00.428981Z",
          "iopub.status.idle": "2022-08-04T16:13:00.431584Z",
          "shell.execute_reply": "2022-08-04T16:13:00.431965Z"
        },
        "papermill": {
          "duration": 0.069433,
          "end_time": "2022-08-04T16:13:00.432117",
          "exception": false,
          "start_time": "2022-08-04T16:13:00.362684",
          "status": "completed"
        },
        "tags": [
          "hide-input"
        ]
      },
      "outputs": [],
      "source": [
        "def is_model_factory(model: Any) -> bool:\n",
        "    \"\"\"check if a callable is a model function.\"\"\"\n",
        "    if not callable(model):\n",
        "        return False\n",
        "    sig = inspect.signature(model)\n",
        "    if _is_callable_annotation(sig.return_annotation):  # model factory\n",
        "        return True\n",
        "    return False"
      ]
    },
    {
      "cell_type": "markdown",
      "id": "1f9715ed",
      "metadata": {
        "papermill": {
          "duration": 0.062486,
          "end_time": "2022-08-04T16:13:00.556926",
          "exception": false,
          "start_time": "2022-08-04T16:13:00.494440",
          "status": "completed"
        },
        "tags": []
      },
      "source": [
        "> Note: For a `Callable` to be considered a `ModelFactory` in SAX, it **MUST** have a `Callable` or `Model` return annotation. Otherwise SAX will view it as a `Model` and things might break!"
      ]
    },
    {
      "cell_type": "code",
      "execution_count": 47,
      "id": "fe9cdff0",
      "metadata": {
        "execution": {
          "iopub.execute_input": "2022-08-04T16:13:00.686631Z",
          "iopub.status.busy": "2022-08-04T16:13:00.686160Z",
          "iopub.status.idle": "2022-08-04T16:13:00.688226Z",
          "shell.execute_reply": "2022-08-04T16:13:00.687848Z"
        },
        "papermill": {
          "duration": 0.06888,
          "end_time": "2022-08-04T16:13:00.688338",
          "exception": false,
          "start_time": "2022-08-04T16:13:00.619458",
          "status": "completed"
        },
        "tags": []
      },
      "outputs": [],
      "source": [
        "def func() -> Model:\n",
        "    ...\n",
        "    \n",
        "assert is_model_factory(func) # yes, we only check the annotation for now...\n",
        "\n",
        "def func():\n",
        "    ...\n",
        "    \n",
        "assert not is_model_factory(func) # yes, we only check the annotation for now..."
      ]
    },
    {
      "cell_type": "markdown",
      "id": "13def49e1800bc71",
      "metadata": {},
      "source": [
        ":::{eval-rst}\n",
        ".. autofunction:: sax.typing_.validate_model\n",
        ":::\n"
      ]
    },
    {
      "cell_type": "code",
      "execution_count": 48,
      "id": "d9d471c415100415",
      "metadata": {
        "execution": {
          "iopub.execute_input": "2022-08-04T16:13:00.819175Z",
          "iopub.status.busy": "2022-08-04T16:13:00.818630Z",
          "iopub.status.idle": "2022-08-04T16:13:00.819754Z",
          "shell.execute_reply": "2022-08-04T16:13:00.820220Z"
        },
        "papermill": {
          "duration": 0.06918,
          "end_time": "2022-08-04T16:13:00.820363",
          "exception": false,
          "start_time": "2022-08-04T16:13:00.751183",
          "status": "completed"
        },
        "tags": [
          "hide-input"
        ]
      },
      "outputs": [],
      "source": [
        "def validate_model(model: Callable):\n",
        "    \"\"\"Validate the parameters of a model\"\"\"\n",
        "    positional_arguments = []\n",
        "    for param in inspect.signature(model).parameters.values():\n",
        "        if param.default is inspect.Parameter.empty:\n",
        "            positional_arguments.append(param.name)\n",
        "    if positional_arguments:\n",
        "        raise ValueError(\n",
        "            f\"model '{model}' takes positional arguments {', '.join(positional_arguments)} \"\n",
        "            \"and hence is not a valid SAX Model! A SAX model should ONLY take keyword arguments (or no arguments at all).\"\n",
        "        )"
      ]
    },
    {
      "cell_type": "code",
      "execution_count": 49,
      "id": "754399d5",
      "metadata": {
        "execution": {
          "iopub.execute_input": "2022-08-04T16:13:00.950951Z",
          "iopub.status.busy": "2022-08-04T16:13:00.950411Z",
          "iopub.status.idle": "2022-08-04T16:13:00.952465Z",
          "shell.execute_reply": "2022-08-04T16:13:00.952060Z"
        },
        "papermill": {
          "duration": 0.0698,
          "end_time": "2022-08-04T16:13:00.952586",
          "exception": false,
          "start_time": "2022-08-04T16:13:00.882786",
          "status": "completed"
        },
        "tags": []
      },
      "outputs": [],
      "source": [
        "def good_model(x=jnp.array(3.0), y=jnp.array(4.0)) -> SDict:\n",
        "    return {(\"in0\", \"out0\"): jnp.array(3.0)}\n",
        "\n",
        "\n",
        "assert validate_model(good_model) is None"
      ]
    },
    {
      "cell_type": "code",
      "execution_count": 50,
      "id": "181c72fa",
      "metadata": {
        "execution": {
          "iopub.execute_input": "2022-08-04T16:13:01.084044Z",
          "iopub.status.busy": "2022-08-04T16:13:01.083537Z",
          "iopub.status.idle": "2022-08-04T16:13:01.085992Z",
          "shell.execute_reply": "2022-08-04T16:13:01.085587Z"
        },
        "papermill": {
          "duration": 0.070355,
          "end_time": "2022-08-04T16:13:01.086114",
          "exception": false,
          "start_time": "2022-08-04T16:13:01.015759",
          "status": "completed"
        },
        "tags": []
      },
      "outputs": [],
      "source": [
        "def bad_model(positional_argument, x=jnp.array(3.0), y=jnp.array(4.0)) -> SDict:\n",
        "    return {(\"in0\", \"out0\"): jnp.array(3.0)}\n",
        "\n",
        "\n",
        "with raises(ValueError):\n",
        "    validate_model(bad_model)"
      ]
    },
    {
      "cell_type": "markdown",
      "id": "adaed8e541618372",
      "metadata": {},
      "source": [
        ":::{eval-rst}\n",
        ".. autofunction:: sax.typing_.is_instance\n",
        ":::\n"
      ]
    },
    {
      "cell_type": "code",
      "execution_count": 51,
      "id": "ef6e0f49164d276d",
      "metadata": {
        "execution": {
          "iopub.execute_input": "2022-08-04T16:13:01.214081Z",
          "iopub.status.busy": "2022-08-04T16:13:01.213566Z",
          "iopub.status.idle": "2022-08-04T16:13:01.215491Z",
          "shell.execute_reply": "2022-08-04T16:13:01.215073Z"
        },
        "papermill": {
          "duration": 0.067836,
          "end_time": "2022-08-04T16:13:01.215614",
          "exception": false,
          "start_time": "2022-08-04T16:13:01.147778",
          "status": "completed"
        },
        "tags": [
          "hide-input"
        ]
      },
      "outputs": [],
      "source": [
        "def is_instance(instance: Any) -> bool:\n",
        "    \"\"\"check if a dictionary is an instance\"\"\"\n",
        "    if not isinstance(instance, dict):\n",
        "        return False\n",
        "    return \"component\" in instance"
      ]
    },
    {
      "cell_type": "markdown",
      "id": "f231c703821c7d52",
      "metadata": {},
      "source": [
        ":::{eval-rst}\n",
        ".. autofunction:: sax.typing_.is_netlist\n",
        ":::\n"
      ]
    },
    {
      "cell_type": "code",
      "execution_count": 52,
      "id": "b569eba76f2d65f0",
      "metadata": {
        "execution": {
          "iopub.execute_input": "2022-08-04T16:13:01.346294Z",
          "iopub.status.busy": "2022-08-04T16:13:01.345775Z",
          "iopub.status.idle": "2022-08-04T16:13:01.346902Z",
          "shell.execute_reply": "2022-08-04T16:13:01.347346Z"
        },
        "papermill": {
          "duration": 0.069278,
          "end_time": "2022-08-04T16:13:01.347480",
          "exception": false,
          "start_time": "2022-08-04T16:13:01.278202",
          "status": "completed"
        },
        "tags": [
          "hide-input"
        ]
      },
      "outputs": [],
      "source": [
        "def is_netlist(netlist: Any) -> bool:\n",
        "    \"\"\"check if a dictionary is a netlist\"\"\"\n",
        "    if not isinstance(netlist, dict):\n",
        "        return False\n",
        "    if not \"instances\" in netlist:\n",
        "        return False\n",
        "    if not \"connections\" in netlist:\n",
        "        return False\n",
        "    if not \"ports\" in netlist:\n",
        "        return False\n",
        "    return True"
      ]
    },
    {
      "cell_type": "markdown",
      "id": "9879dffa9c693229",
      "metadata": {},
      "source": [
        ":::{eval-rst}\n",
        ".. autofunction:: sax.typing_.is_stype\n",
        ":::\n"
      ]
    },
    {
      "cell_type": "code",
      "execution_count": 53,
      "id": "3328385087f3fc52",
      "metadata": {
        "execution": {
          "iopub.execute_input": "2022-08-04T16:13:01.476286Z",
          "iopub.status.busy": "2022-08-04T16:13:01.475757Z",
          "iopub.status.idle": "2022-08-04T16:13:01.477374Z",
          "shell.execute_reply": "2022-08-04T16:13:01.477798Z"
        },
        "papermill": {
          "duration": 0.068915,
          "end_time": "2022-08-04T16:13:01.477940",
          "exception": false,
          "start_time": "2022-08-04T16:13:01.409025",
          "status": "completed"
        },
        "tags": [
          "hide-input"
        ]
      },
      "outputs": [],
      "source": [
        "def is_stype(stype: Any) -> bool:\n",
        "    \"\"\"check if an object is an SDict, SCoo or SDense\"\"\"\n",
        "    return is_sdict(stype) or is_scoo(stype) or is_sdense(stype)"
      ]
    },
    {
      "cell_type": "markdown",
      "id": "b7fecf1581597ba2",
      "metadata": {},
      "source": [
        ":::{eval-rst}\n",
        ".. autofunction:: sax.typing_.is_singlemode\n",
        ":::\n"
      ]
    },
    {
      "cell_type": "code",
      "execution_count": 54,
      "id": "0318aea4afe3574d",
      "metadata": {
        "execution": {
          "iopub.execute_input": "2022-08-04T16:13:01.607418Z",
          "iopub.status.busy": "2022-08-04T16:13:01.606891Z",
          "iopub.status.idle": "2022-08-04T16:13:01.608099Z",
          "shell.execute_reply": "2022-08-04T16:13:01.608526Z"
        },
        "papermill": {
          "duration": 0.069823,
          "end_time": "2022-08-04T16:13:01.608660",
          "exception": false,
          "start_time": "2022-08-04T16:13:01.538837",
          "status": "completed"
        },
        "tags": [
          "hide-input"
        ]
      },
      "outputs": [],
      "source": [
        "def is_singlemode(S: Any) -> bool:\n",
        "    \"\"\"check if an stype is single mode\"\"\"\n",
        "    if not is_stype(S):\n",
        "        return False\n",
        "    ports = _get_ports(S)\n",
        "    return not any((\"@\" in p) for p in ports)\n",
        "\n",
        "def _get_ports(S: SType):\n",
        "    if is_sdict(S):\n",
        "        S = cast(SDict, S)\n",
        "        ports_set = {p1 for p1, _ in S} | {p2 for _, p2 in S}\n",
        "        return tuple(natsorted(ports_set))\n",
        "    else:\n",
        "        *_, ports_map = S\n",
        "        assert isinstance(ports_map, dict)\n",
        "        return tuple(natsorted(ports_map.keys()))"
      ]
    },
    {
      "cell_type": "markdown",
      "id": "d86e6d667908fe45",
      "metadata": {},
      "source": [
        ":::{eval-rst}\n",
        ".. autofunction:: sax.typing_.is_multimode\n",
        ":::\n"
      ]
    },
    {
      "cell_type": "code",
      "execution_count": 55,
      "id": "56a870c97c6eae0b",
      "metadata": {
        "execution": {
          "iopub.execute_input": "2022-08-04T16:13:01.735972Z",
          "iopub.status.busy": "2022-08-04T16:13:01.735492Z",
          "iopub.status.idle": "2022-08-04T16:13:01.737334Z",
          "shell.execute_reply": "2022-08-04T16:13:01.736914Z"
        },
        "papermill": {
          "duration": 0.067724,
          "end_time": "2022-08-04T16:13:01.737444",
          "exception": false,
          "start_time": "2022-08-04T16:13:01.669720",
          "status": "completed"
        },
        "tags": [
          "hide-input"
        ]
      },
      "outputs": [],
      "source": [
        "def is_multimode(S: Any) -> bool:\n",
        "    \"\"\"check if an stype is single mode\"\"\"\n",
        "    if not is_stype(S):\n",
        "        return False\n",
        "    \n",
        "    ports = _get_ports(S)\n",
        "    return all((\"@\" in p) for p in ports)"
      ]
    },
    {
      "cell_type": "markdown",
      "id": "2f37a9c0d7474c6d",
      "metadata": {},
      "source": [
        ":::{eval-rst}\n",
        ".. autofunction:: sax.typing_.is_mixedmode\n",
        ":::\n"
      ]
    },
    {
      "cell_type": "code",
      "execution_count": 56,
      "id": "d4c77c74d4d4b8da",
      "metadata": {
        "execution": {
          "iopub.execute_input": "2022-08-04T16:13:01.865028Z",
          "iopub.status.busy": "2022-08-04T16:13:01.864563Z",
          "iopub.status.idle": "2022-08-04T16:13:01.866609Z",
          "shell.execute_reply": "2022-08-04T16:13:01.866232Z"
        },
        "papermill": {
          "duration": 0.06783,
          "end_time": "2022-08-04T16:13:01.866723",
          "exception": false,
          "start_time": "2022-08-04T16:13:01.798893",
          "status": "completed"
        },
        "tags": [
          "hide-input"
        ]
      },
      "outputs": [],
      "source": [
        "def is_mixedmode(S: Any) -> bool:\n",
        "    \"\"\"check if an stype is neither single mode nor multimode (hence invalid)\"\"\"\n",
        "    return not is_singlemode(S) and not is_multimode(S)"
      ]
    },
    {
      "cell_type": "markdown",
      "id": "3afe685c",
      "metadata": {
        "papermill": {
          "duration": 0.063375,
          "end_time": "2022-08-04T16:13:01.992646",
          "exception": false,
          "start_time": "2022-08-04T16:13:01.929271",
          "status": "completed"
        },
        "tags": []
      },
      "source": [
        "## SAX return type helpers\n",
        "\n",
        "> a.k.a SDict, SDense, SCoo helpers"
      ]
    },
    {
      "cell_type": "markdown",
      "id": "a875f149",
      "metadata": {
        "papermill": {
          "duration": 0.062252,
          "end_time": "2022-08-04T16:13:02.117168",
          "exception": false,
          "start_time": "2022-08-04T16:13:02.054916",
          "status": "completed"
        },
        "tags": []
      },
      "source": [
        "Convert an `SDict`, `SCoo` or `SDense` into an `SDict` (or convert a model generating any of these types into a model generating an `SDict`):"
      ]
    },
    {
      "cell_type": "code",
      "execution_count": 57,
      "id": "9808f45a3c46661a",
      "metadata": {
        "execution": {
          "iopub.execute_input": "2022-08-04T16:13:02.250849Z",
          "iopub.status.busy": "2022-08-04T16:13:02.250177Z",
          "iopub.status.idle": "2022-08-04T16:13:02.252510Z",
          "shell.execute_reply": "2022-08-04T16:13:02.252073Z"
        },
        "papermill": {
          "duration": 0.07247,
          "end_time": "2022-08-04T16:13:02.252630",
          "exception": false,
          "start_time": "2022-08-04T16:13:02.180160",
          "status": "completed"
        },
        "tags": [
          "remove-cell"
        ]
      },
      "outputs": [],
      "source": [
        "\n",
        "@overload\n",
        "def sdict(S: Model) -> Model:\n",
        "    ...\n",
        "\n",
        "\n",
        "@overload\n",
        "def sdict(S: SType) -> SDict:\n",
        "    ..."
      ]
    },
    {
      "cell_type": "markdown",
      "id": "4ba95dbd8c7c13b7",
      "metadata": {},
      "source": [
        ":::{eval-rst}\n",
        ".. autofunction:: sax.typing_.sdict\n",
        ":::\n"
      ]
    },
    {
      "cell_type": "code",
      "execution_count": 58,
      "id": "0a3c8526b368c0ff",
      "metadata": {
        "execution": {
          "iopub.execute_input": "2022-08-04T16:13:02.387049Z",
          "iopub.status.busy": "2022-08-04T16:13:02.386473Z",
          "iopub.status.idle": "2022-08-04T16:13:02.387576Z",
          "shell.execute_reply": "2022-08-04T16:13:02.388058Z"
        },
        "papermill": {
          "duration": 0.073139,
          "end_time": "2022-08-04T16:13:02.388204",
          "exception": false,
          "start_time": "2022-08-04T16:13:02.315065",
          "status": "completed"
        },
        "tags": [
          "hide-input"
        ]
      },
      "outputs": [],
      "source": [
        "def sdict(S: Union[Model, SType]) -> Union[Model, SType]:\n",
        "    \"\"\"Convert an `SCoo` or `SDense` to `SDict`\"\"\"\n",
        "\n",
        "    if is_model(S):\n",
        "        model = cast(Model, S)\n",
        "\n",
        "        @functools.wraps(model)\n",
        "        def wrapper(**kwargs):\n",
        "            return sdict(model(**kwargs))\n",
        "\n",
        "        return wrapper\n",
        "\n",
        "    elif is_scoo(S):\n",
        "        x_dict = _scoo_to_sdict(*cast(SCoo, S))\n",
        "    elif is_sdense(S):\n",
        "        x_dict = _sdense_to_sdict(*cast(SDense, S))\n",
        "    elif is_sdict(S):\n",
        "        x_dict = cast(SDict, S)\n",
        "    else:\n",
        "        raise ValueError(\"Could not convert arguments to sdict.\")\n",
        "\n",
        "    return x_dict\n",
        "\n",
        "\n",
        "def _scoo_to_sdict(Si: Array, Sj: Array, Sx: Array, ports_map: Dict[str, int]) -> SDict:\n",
        "    sdict = {}\n",
        "    inverse_ports_map = {int(i): p for p, i in ports_map.items()}\n",
        "    for i, (si, sj) in enumerate(zip(Si, Sj)):\n",
        "        sdict[\n",
        "            inverse_ports_map.get(int(si), \"\"), inverse_ports_map.get(int(sj), \"\")\n",
        "        ] = Sx[..., i]\n",
        "    sdict = {(p1, p2): v for (p1, p2), v in sdict.items() if p1 and p2}\n",
        "    return sdict\n",
        "\n",
        "\n",
        "def _sdense_to_sdict(S: Array, ports_map: Dict[str, int]) -> SDict:\n",
        "    sdict = {}\n",
        "    for p1, i in ports_map.items():\n",
        "        for p2, j in ports_map.items():\n",
        "            sdict[p1, p2] = S[..., i, j]\n",
        "    return sdict"
      ]
    },
    {
      "cell_type": "code",
      "execution_count": 59,
      "id": "9a372fbf",
      "metadata": {
        "execution": {
          "iopub.execute_input": "2022-08-04T16:13:02.524921Z",
          "iopub.status.busy": "2022-08-04T16:13:02.521031Z",
          "iopub.status.idle": "2022-08-04T16:13:02.661451Z",
          "shell.execute_reply": "2022-08-04T16:13:02.660931Z"
        },
        "papermill": {
          "duration": 0.211331,
          "end_time": "2022-08-04T16:13:02.661600",
          "exception": false,
          "start_time": "2022-08-04T16:13:02.450269",
          "status": "completed"
        },
        "tags": []
      },
      "outputs": [],
      "source": [
        "assert sdict(_sdict) is _sdict\n",
        "assert sdict(_scoo) == {\n",
        "    (\"in0\", \"in0\"): 3.0,\n",
        "    (\"in1\", \"in0\"): 1.0,\n",
        "    (\"out0\", \"out0\"): 4.0,\n",
        "}\n",
        "assert sdict(_sdense) == {\n",
        "    (\"in0\", \"in0\"): 0.0,\n",
        "    (\"in0\", \"out0\"): 1.0,\n",
        "    (\"in0\", \"in1\"): 2.0,\n",
        "    (\"out0\", \"in0\"): 3.0,\n",
        "    (\"out0\", \"out0\"): 4.0,\n",
        "    (\"out0\", \"in1\"): 5.0,\n",
        "    (\"in1\", \"in0\"): 6.0,\n",
        "    (\"in1\", \"out0\"): 7.0,\n",
        "    (\"in1\", \"in1\"): 8.0,\n",
        "}"
      ]
    },
    {
      "cell_type": "markdown",
      "id": "492c5cdd",
      "metadata": {
        "papermill": {
          "duration": 0.063767,
          "end_time": "2022-08-04T16:13:02.789914",
          "exception": false,
          "start_time": "2022-08-04T16:13:02.726147",
          "status": "completed"
        },
        "tags": []
      },
      "source": [
        "Convert an `SDict`, `SCoo` or `SDense` into an `SCoo` (or convert a model generating any of these types into a model generating an `SCoo`):"
      ]
    },
    {
      "cell_type": "code",
      "execution_count": 60,
      "id": "d83f4af42c474e84",
      "metadata": {
        "execution": {
          "iopub.execute_input": "2022-08-04T16:13:02.923842Z",
          "iopub.status.busy": "2022-08-04T16:13:02.923320Z",
          "iopub.status.idle": "2022-08-04T16:13:02.924304Z",
          "shell.execute_reply": "2022-08-04T16:13:02.924764Z"
        },
        "papermill": {
          "duration": 0.07113,
          "end_time": "2022-08-04T16:13:02.924903",
          "exception": false,
          "start_time": "2022-08-04T16:13:02.853773",
          "status": "completed"
        },
        "tags": [
          "remove-cell"
        ]
      },
      "outputs": [],
      "source": [
        "\n",
        "@overload\n",
        "def scoo(S: Callable) -> Callable:\n",
        "    ...\n",
        "\n",
        "\n",
        "@overload\n",
        "def scoo(S: SType) -> SCoo:\n",
        "    ..."
      ]
    },
    {
      "cell_type": "markdown",
      "id": "ada8bed548795b33",
      "metadata": {},
      "source": [
        ":::{eval-rst}\n",
        ".. autofunction:: sax.typing_.scoo\n",
        ":::\n"
      ]
    },
    {
      "cell_type": "code",
      "execution_count": 61,
      "id": "0f31a6980d65fa4b",
      "metadata": {
        "execution": {
          "iopub.execute_input": "2022-08-04T16:13:03.066232Z",
          "iopub.status.busy": "2022-08-04T16:13:03.065210Z",
          "iopub.status.idle": "2022-08-04T16:13:03.066805Z",
          "shell.execute_reply": "2022-08-04T16:13:03.067279Z"
        },
        "papermill": {
          "duration": 0.077676,
          "end_time": "2022-08-04T16:13:03.067430",
          "exception": false,
          "start_time": "2022-08-04T16:13:02.989754",
          "status": "completed"
        },
        "tags": [
          "hide-input"
        ]
      },
      "outputs": [],
      "source": [
        "\n",
        "def scoo(S: Union[Callable, SType]) -> Union[Callable, SCoo]:\n",
        "    \"\"\"Convert an `SDict` or `SDense` to `SCoo`\"\"\"\n",
        "\n",
        "    if is_model(S):\n",
        "        model = cast(Model, S)\n",
        "\n",
        "        @functools.wraps(model)\n",
        "        def wrapper(**kwargs):\n",
        "            return scoo(model(**kwargs))\n",
        "\n",
        "        return wrapper\n",
        "\n",
        "    elif is_scoo(S):\n",
        "        S = cast(SCoo, S)\n",
        "    elif is_sdense(S):\n",
        "        S = _sdense_to_scoo(*cast(SDense, S))\n",
        "    elif is_sdict(S):\n",
        "        S = _sdict_to_scoo(cast(SDict, S))\n",
        "    else:\n",
        "        raise ValueError(\"Could not convert arguments to scoo.\")\n",
        "\n",
        "    return S\n",
        "\n",
        "\n",
        "def _sdense_to_scoo(S: Array, ports_map: Dict[str, int]) -> SCoo:\n",
        "    Sj, Si = jnp.meshgrid(jnp.arange(S.shape[-1]), jnp.arange(S.shape[-2]))\n",
        "    return Si.ravel(), Sj.ravel(), S.reshape(*S.shape[:-2], -1), ports_map\n",
        "\n",
        "\n",
        "def _sdict_to_scoo(sdict: SDict) -> SCoo:\n",
        "    all_ports = {}\n",
        "    for p1, p2 in sdict:\n",
        "        all_ports[p1] = None\n",
        "        all_ports[p2] = None\n",
        "    ports_map = {p: i for i, p in enumerate(all_ports)}\n",
        "    Sx = jnp.stack(jnp.broadcast_arrays(*sdict.values()), -1)\n",
        "    Si = jnp.array([ports_map[p] for p, _ in sdict])\n",
        "    Sj = jnp.array([ports_map[p] for _, p in sdict])\n",
        "    return Si, Sj, Sx, ports_map"
      ]
    },
    {
      "cell_type": "code",
      "execution_count": 62,
      "id": "1e97b31c",
      "metadata": {
        "execution": {
          "iopub.execute_input": "2022-08-04T16:13:03.208547Z",
          "iopub.status.busy": "2022-08-04T16:13:03.207987Z",
          "iopub.status.idle": "2022-08-04T16:13:03.308435Z",
          "shell.execute_reply": "2022-08-04T16:13:03.308884Z"
        },
        "papermill": {
          "duration": 0.176899,
          "end_time": "2022-08-04T16:13:03.309056",
          "exception": false,
          "start_time": "2022-08-04T16:13:03.132157",
          "status": "completed"
        },
        "tags": []
      },
      "outputs": [],
      "source": [
        "assert scoo(_scoo) is _scoo\n",
        "assert scoo(_sdict) == (0, 1, 3.0, {\"in0\": 0, \"out0\": 1})\n",
        "Si, Sj, Sx, port_map = scoo(_sdense)  # type: ignore\n",
        "np.testing.assert_array_equal(Si, jnp.array([0, 0, 0, 1, 1, 1, 2, 2, 2]))\n",
        "np.testing.assert_array_equal(Sj, jnp.array([0, 1, 2, 0, 1, 2, 0, 1, 2]))\n",
        "np.testing.assert_array_almost_equal(Sx, jnp.array([0.0, 1.0, 2.0, 3.0, 4.0, 5.0, 6.0, 7.0, 8.0]))\n",
        "assert port_map == {\"in0\": 0, \"in1\": 2, \"out0\": 1}"
      ]
    },
    {
      "cell_type": "markdown",
      "id": "5e58325b",
      "metadata": {
        "papermill": {
          "duration": 0.063343,
          "end_time": "2022-08-04T16:13:03.435211",
          "exception": false,
          "start_time": "2022-08-04T16:13:03.371868",
          "status": "completed"
        },
        "tags": []
      },
      "source": [
        "Convert an `SDict`, `SCoo` or `SDense` into an `SDense` (or convert a model generating any of these types into a model generating an `SDense`):"
      ]
    },
    {
      "cell_type": "code",
      "execution_count": 63,
      "id": "3c51aef9402bcd72",
      "metadata": {
        "execution": {
          "iopub.execute_input": "2022-08-04T16:13:03.563887Z",
          "iopub.status.busy": "2022-08-04T16:13:03.563404Z",
          "iopub.status.idle": "2022-08-04T16:13:03.565221Z",
          "shell.execute_reply": "2022-08-04T16:13:03.565618Z"
        },
        "papermill": {
          "duration": 0.068777,
          "end_time": "2022-08-04T16:13:03.565763",
          "exception": false,
          "start_time": "2022-08-04T16:13:03.496986",
          "status": "completed"
        },
        "tags": [
          "remove-cell"
        ]
      },
      "outputs": [],
      "source": [
        "\n",
        "@overload\n",
        "def sdense(S: Callable) -> Callable:\n",
        "    ...\n",
        "\n",
        "\n",
        "@overload\n",
        "def sdense(S: SType) -> SDense:\n",
        "    ..."
      ]
    },
    {
      "cell_type": "markdown",
      "id": "e31c71c0a7396b24",
      "metadata": {},
      "source": [
        ":::{eval-rst}\n",
        ".. autofunction:: sax.typing_.sdense\n",
        ":::\n"
      ]
    },
    {
      "cell_type": "code",
      "execution_count": 64,
      "id": "6fb1bcb0a45e685e",
      "metadata": {
        "execution": {
          "iopub.execute_input": "2022-08-04T16:13:03.700708Z",
          "iopub.status.busy": "2022-08-04T16:13:03.700170Z",
          "iopub.status.idle": "2022-08-04T16:13:03.702787Z",
          "shell.execute_reply": "2022-08-04T16:13:03.702323Z"
        },
        "papermill": {
          "duration": 0.074117,
          "end_time": "2022-08-04T16:13:03.702942",
          "exception": false,
          "start_time": "2022-08-04T16:13:03.628825",
          "status": "completed"
        },
        "tags": [
          "hide-input"
        ]
      },
      "outputs": [],
      "source": [
        "\n",
        "def sdense(S: Union[Callable, SType]) -> Union[Callable, SDense]:\n",
        "    \"\"\"Convert an `SDict` or `SCoo` to `SDense`\"\"\"\n",
        "\n",
        "    if is_model(S):\n",
        "        model = cast(Model, S)\n",
        "\n",
        "        @functools.wraps(model)\n",
        "        def wrapper(**kwargs):\n",
        "            return sdense(model(**kwargs))\n",
        "\n",
        "        return wrapper\n",
        "\n",
        "    if is_sdict(S):\n",
        "        S = _sdict_to_sdense(cast(SDict, S))\n",
        "    elif is_scoo(S):\n",
        "        S = _scoo_to_sdense(*cast(SCoo, S))\n",
        "    elif is_sdense(S):\n",
        "        S = cast(SDense, S)\n",
        "    else:\n",
        "        raise ValueError(\"Could not convert arguments to sdense.\")\n",
        "\n",
        "    return S\n",
        "\n",
        "\n",
        "def _scoo_to_sdense(\n",
        "    Si: Array, Sj: Array, Sx: Array, ports_map: Dict[str, int]\n",
        ") -> SDense:\n",
        "    n_col = len(ports_map)\n",
        "    S = jnp.zeros((*Sx.shape[:-1], n_col, n_col), dtype=complex)\n",
        "    if JAX_AVAILABLE:\n",
        "        S = S.at[..., Si, Sj].add(Sx)\n",
        "    else:\n",
        "        S[..., Si, Sj] = Sx\n",
        "    return S, ports_map\n",
        "\n",
        "def _sdict_to_sdense(sdict: SDict) -> SDense:\n",
        "    Si, Sj, Sx, ports_map = _sdict_to_scoo(sdict)\n",
        "    return _scoo_to_sdense(Si, Sj, Sx, ports_map)"
      ]
    },
    {
      "cell_type": "code",
      "execution_count": 65,
      "id": "084b7ddb",
      "metadata": {
        "execution": {
          "iopub.execute_input": "2022-08-04T16:13:03.840896Z",
          "iopub.status.busy": "2022-08-04T16:13:03.840380Z",
          "iopub.status.idle": "2022-08-04T16:13:03.992786Z",
          "shell.execute_reply": "2022-08-04T16:13:03.993271Z"
        },
        "papermill": {
          "duration": 0.226076,
          "end_time": "2022-08-04T16:13:03.993459",
          "exception": false,
          "start_time": "2022-08-04T16:13:03.767383",
          "status": "completed"
        },
        "tags": []
      },
      "outputs": [],
      "source": [
        "assert sdense(_sdense) is _sdense\n",
        "Sd, port_map = sdense(_scoo)  # type: ignore\n",
        "Sd_ = jnp.array([[3.0 + 0.0j, 0.0 + 0.0j, 0.0 + 0.0j],\n",
        "                 [0.0 + 0.0j, 4.0 + 0.0j, 0.0 + 0.0j],\n",
        "                 [1.0 + 0.0j, 0.0 + 0.0j, 0.0 + 0.0j]])\n",
        "\n",
        "np.testing.assert_array_almost_equal(Sd, Sd_)\n",
        "assert port_map == {\"in0\": 0, \"in1\": 2, \"out0\": 1}"
      ]
    },
    {
      "cell_type": "markdown",
      "id": "02890c8d5771ddd3",
      "metadata": {},
      "source": [
        ":::{eval-rst}\n",
        ".. autofunction:: sax.typing_.modelfactory\n",
        ":::\n"
      ]
    },
    {
      "cell_type": "code",
      "execution_count": 66,
      "id": "55ab9f3267503747",
      "metadata": {
        "execution": {
          "iopub.execute_input": "2022-08-04T16:13:04.126913Z",
          "iopub.status.busy": "2022-08-04T16:13:04.126397Z",
          "iopub.status.idle": "2022-08-04T16:13:04.127727Z",
          "shell.execute_reply": "2022-08-04T16:13:04.128121Z"
        },
        "papermill": {
          "duration": 0.070511,
          "end_time": "2022-08-04T16:13:04.128268",
          "exception": false,
          "start_time": "2022-08-04T16:13:04.057757",
          "status": "completed"
        },
        "tags": [
          "hide-input"
        ]
      },
      "outputs": [],
      "source": [
        "\n",
        "def modelfactory(func):\n",
        "    \"\"\"Decorator that marks a function as `ModelFactory`\"\"\"\n",
        "    sig = inspect.signature(func)\n",
        "    if _is_callable_annotation(sig.return_annotation):  # already model factory\n",
        "        return func\n",
        "    func.__signature__ = sig.replace(return_annotation=Model)\n",
        "    return func"
      ]
    }
  ],
  "metadata": {
    "kernelspec": {
      "display_name": "sax",
      "language": "python",
      "name": "sax"
    },
    "language_info": {
      "codemirror_mode": {
        "name": "ipython",
        "version": 3
      },
      "file_extension": ".py",
      "mimetype": "text/x-python",
      "name": "python",
      "nbconvert_exporter": "python",
      "pygments_lexer": "ipython3",
      "version": "3.9.0"
    },
    "papermill": {
      "default_parameters": {},
      "duration": 19.285383,
      "end_time": "2022-08-04T16:13:04.601565",
      "environment_variables": {},
      "exception": null,
      "input_path": "./nbs/00_typing.ipynb",
      "output_path": "./nbs/00_typing.ipynb",
      "parameters": {},
      "start_time": "2022-08-04T16:12:45.316182",
      "version": "2.3.4"
    }
  },
  "nbformat": 4,
  "nbformat_minor": 5
}