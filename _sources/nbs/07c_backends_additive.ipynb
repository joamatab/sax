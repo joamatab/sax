{
  "cells": [
    {
      "cell_type": "code",
      "execution_count": 1,
      "id": "f7fe0554561841f7",
      "metadata": {
        "execution": {
          "iopub.execute_input": "2022-08-04T16:12:17.343587Z",
          "iopub.status.busy": "2022-08-04T16:12:17.343051Z",
          "iopub.status.idle": "2022-08-04T16:12:17.346383Z",
          "shell.execute_reply": "2022-08-04T16:12:17.345887Z"
        },
        "papermill": {
          "duration": 0.027782,
          "end_time": "2022-08-04T16:12:17.346521",
          "exception": false,
          "start_time": "2022-08-04T16:12:17.318739",
          "status": "completed"
        },
        "tags": [
          "remove-cell"
        ]
      },
      "outputs": [],
      "source": []
    },
    {
      "cell_type": "markdown",
      "id": "ca1899a9",
      "metadata": {
        "papermill": {
          "duration": 0.013092,
          "end_time": "2022-08-04T16:12:17.373313",
          "exception": false,
          "start_time": "2022-08-04T16:12:17.360221",
          "status": "completed"
        },
        "tags": []
      },
      "source": [
        "# Backend - additive\n",
        "\n",
        "> Additive SAX Backend\n",
        "\n",
        "Sometimes we would like to calculate circuit path lengths or time delays within a circuit. We could obviously simulate these things with a time domain simulator, but in many cases a simple additive backend (as opposed to the default multiplicative backend) can suffice."
      ]
    },
    {
      "cell_type": "code",
      "execution_count": 2,
      "id": "a19ceb8daf21543c",
      "metadata": {
        "execution": {
          "iopub.execute_input": "2022-08-04T16:12:17.409010Z",
          "iopub.status.busy": "2022-08-04T16:12:17.408528Z",
          "iopub.status.idle": "2022-08-04T16:12:17.411042Z",
          "shell.execute_reply": "2022-08-04T16:12:17.410594Z"
        },
        "papermill": {
          "duration": 0.024826,
          "end_time": "2022-08-04T16:12:17.411167",
          "exception": false,
          "start_time": "2022-08-04T16:12:17.386341",
          "status": "completed"
        },
        "tags": [
          "remove-cell"
        ]
      },
      "outputs": [],
      "source": [
        "import os, sys; sys.stderr = open(os.devnull, \"w\")"
      ]
    },
    {
      "cell_type": "code",
      "execution_count": 3,
      "id": "beb3126719c17bd5",
      "metadata": {
        "execution": {
          "iopub.execute_input": "2022-08-04T16:12:17.447047Z",
          "iopub.status.busy": "2022-08-04T16:12:17.446525Z",
          "iopub.status.idle": "2022-08-04T16:12:18.303574Z",
          "shell.execute_reply": "2022-08-04T16:12:18.303134Z"
        },
        "papermill": {
          "duration": 0.879217,
          "end_time": "2022-08-04T16:12:18.303700",
          "exception": false,
          "start_time": "2022-08-04T16:12:17.424483",
          "status": "completed"
        },
        "tags": [
          "hide-input"
        ]
      },
      "outputs": [],
      "source": [
        "from __future__ import annotations\n",
        "\n",
        "from typing import Dict, Tuple\n",
        "\n",
        "import networkx as nx\n",
        "from sax.typing_ import SDict, SType, sdict\n",
        "\n",
        "try:\n",
        "    import jax.numpy as jnp\n",
        "    JAX_AVAILABLE = True\n",
        "except ImportError:\n",
        "    import numpy as jnp\n",
        "    JAX_AVAILABLE = False"
      ]
    },
    {
      "cell_type": "markdown",
      "id": "9e18670c68cb6393",
      "metadata": {},
      "source": [
        ":::{eval-rst}\n",
        ".. autofunction:: sax.backends.additive.split_port\n",
        ":::\n"
      ]
    },
    {
      "cell_type": "code",
      "execution_count": 4,
      "id": "ba29d06bd0f9479e",
      "metadata": {
        "execution": {
          "iopub.execute_input": "2022-08-04T16:12:18.336744Z",
          "iopub.status.busy": "2022-08-04T16:12:18.336201Z",
          "iopub.status.idle": "2022-08-04T16:12:18.338585Z",
          "shell.execute_reply": "2022-08-04T16:12:18.338981Z"
        },
        "papermill": {
          "duration": 0.021685,
          "end_time": "2022-08-04T16:12:18.339129",
          "exception": false,
          "start_time": "2022-08-04T16:12:18.317444",
          "status": "completed"
        },
        "tags": [
          "hide-input"
        ]
      },
      "outputs": [],
      "source": [
        "def split_port(port: str) -> Tuple[str, str]:\n",
        "    try:\n",
        "        instance, port = port.split(\",\")\n",
        "    except ValueError:\n",
        "        (port,) = port.split(\",\")\n",
        "        instance = \"\"\n",
        "    return instance, port"
      ]
    },
    {
      "cell_type": "code",
      "execution_count": 5,
      "id": "345aaa5b-cefe-49ec-9213-70c73b8c741b",
      "metadata": {
        "execution": {
          "iopub.execute_input": "2022-08-04T16:12:18.371457Z",
          "iopub.status.busy": "2022-08-04T16:12:18.370984Z",
          "iopub.status.idle": "2022-08-04T16:12:18.372470Z",
          "shell.execute_reply": "2022-08-04T16:12:18.372830Z"
        },
        "papermill": {
          "duration": 0.020106,
          "end_time": "2022-08-04T16:12:18.372962",
          "exception": false,
          "start_time": "2022-08-04T16:12:18.352856",
          "status": "completed"
        },
        "tags": []
      },
      "outputs": [],
      "source": [
        "assert split_port(\"wg,in0\") == ('wg', 'in0') # internal circuit port\n",
        "assert split_port(\"out0\") == ('', 'out0') # external circuit port"
      ]
    },
    {
      "cell_type": "markdown",
      "id": "db6d3179d92d6b7c",
      "metadata": {},
      "source": [
        ":::{eval-rst}\n",
        ".. autofunction:: sax.backends.additive.graph_edges\n",
        ":::\n"
      ]
    },
    {
      "cell_type": "code",
      "execution_count": 6,
      "id": "02bcbcd6b6472b4c",
      "metadata": {
        "execution": {
          "iopub.execute_input": "2022-08-04T16:12:18.409320Z",
          "iopub.status.busy": "2022-08-04T16:12:18.402620Z",
          "iopub.status.idle": "2022-08-04T16:12:18.411814Z",
          "shell.execute_reply": "2022-08-04T16:12:18.411365Z"
        },
        "papermill": {
          "duration": 0.025278,
          "end_time": "2022-08-04T16:12:18.411941",
          "exception": false,
          "start_time": "2022-08-04T16:12:18.386663",
          "status": "completed"
        },
        "tags": [
          "hide-input"
        ]
      },
      "outputs": [],
      "source": [
        "def graph_edges(\n",
        "    instances: Dict[str, SType], connections: Dict[str, str], ports: Dict[str, str]\n",
        "):\n",
        "    zero = jnp.array([0.0], dtype=float)\n",
        "    edges = {}\n",
        "    edges.update({split_port(k): split_port(v) for k, v in connections.items()})\n",
        "    edges.update({split_port(v): split_port(k) for k, v in connections.items()})\n",
        "    edges.update({split_port(k): split_port(v) for k, v in ports.items()})\n",
        "    edges.update({split_port(v): split_port(k) for k, v in ports.items()})\n",
        "    edges = [(n1, n2, {\"type\": \"C\", \"length\": zero}) for n1, n2 in edges.items()]\n",
        "\n",
        "    _instances = {\n",
        "        **{i1: None for (i1, _), (_, _), _ in edges},\n",
        "        **{i2: None for (_, _), (i2, _), _ in edges},\n",
        "    }\n",
        "    del _instances[\"\"] # external ports don't belong to an instance\n",
        "\n",
        "    for instance in _instances:\n",
        "        s = instances[instance]\n",
        "        edges += [\n",
        "            ((instance, p1), (instance, p2), {\"type\": \"S\", \"length\": jnp.asarray(length, dtype=float).ravel()})\n",
        "            for (p1, p2), length in sdict(s).items()\n",
        "        ]\n",
        "\n",
        "    return edges"
      ]
    },
    {
      "cell_type": "markdown",
      "id": "bc6e5237-5517-4776-b23f-9bac3200cdfa",
      "metadata": {
        "papermill": {
          "duration": 0.013934,
          "end_time": "2022-08-04T16:12:18.441696",
          "exception": false,
          "start_time": "2022-08-04T16:12:18.427762",
          "status": "completed"
        },
        "tags": []
      },
      "source": [
        "> Example\n",
        "\n",
        "> Note: in stead of S-parameters the stypes need to contain *additive* parameters, such as length or time delay."
      ]
    },
    {
      "cell_type": "code",
      "execution_count": 7,
      "id": "d9a7bed0-c4b2-42b9-aac6-f8371cad3e6b",
      "metadata": {
        "execution": {
          "iopub.execute_input": "2022-08-04T16:12:18.477463Z",
          "iopub.status.busy": "2022-08-04T16:12:18.476908Z",
          "iopub.status.idle": "2022-08-04T16:12:18.484548Z",
          "shell.execute_reply": "2022-08-04T16:12:18.485286Z"
        },
        "papermill": {
          "duration": 0.029759,
          "end_time": "2022-08-04T16:12:18.485429",
          "exception": false,
          "start_time": "2022-08-04T16:12:18.455670",
          "status": "completed"
        },
        "tags": []
      },
      "outputs": [],
      "source": [
        "wg_sdict = {\n",
        "    (\"in0\", \"out0\"): jnp.array([100.0, 200.0, 300.0]), # assume for now there are three possible paths between these two ports.\n",
        "    (\"out0\", \"in0\"): jnp.array([100.0, 200.0, 300.0]), # assume for now there are three possible paths between these two ports.\n",
        "}\n",
        "\n",
        "dc_sdict = {\n",
        "    (\"in0\", \"out0\"): jnp.array([10.0, 20.0]), # assume for now there are two possible paths between these two ports.\n",
        "    (\"in0\", \"out1\"): 15.0,\n",
        "    (\"in1\", \"out0\"): 15.0,\n",
        "    (\"in1\", \"out1\"): jnp.array([10.0, 20.0]), # assume for now there are two possible paths between these two ports.\n",
        "}\n",
        "\n",
        "instances= {\n",
        "    \"dc1\": dc_sdict,\n",
        "    \"wg\": wg_sdict,\n",
        "    \"dc2\": dc_sdict,\n",
        "}\n",
        "connections= {\n",
        "    \"dc1,out0\": \"wg,in0\",\n",
        "    \"wg,out0\": \"dc2,in0\",\n",
        "    \"dc1,out1\": \"dc2,in1\",\n",
        "}\n",
        "ports= {\n",
        "    \"in0\": \"dc1,in0\",\n",
        "    \"in1\": \"dc1,in1\",\n",
        "    \"out0\": \"dc2,out0\",\n",
        "    \"out1\": \"dc2,out1\",\n",
        "}"
      ]
    },
    {
      "cell_type": "markdown",
      "id": "7aaff527-a216-472b-891d-9c56901af914",
      "metadata": {
        "papermill": {
          "duration": 0.013642,
          "end_time": "2022-08-04T16:12:18.512781",
          "exception": false,
          "start_time": "2022-08-04T16:12:18.499139",
          "status": "completed"
        },
        "tags": []
      },
      "source": [
        "> Note: it is recommended to **not** use an `SDense` representation for the additive backend. Very often an `SDense` representation will introduce **zeros** which will be interpreted as an **existing connection with zero length**. Conversely, in a sparse representation like `SDict` or `SCoo`, non-existing elements will be just that: they will not be present in the internal graph."
      ]
    },
    {
      "cell_type": "code",
      "execution_count": 8,
      "id": "3a8ed72a-bb73-46aa-8a78-5dea087d7fc7",
      "metadata": {
        "execution": {
          "iopub.execute_input": "2022-08-04T16:12:18.551370Z",
          "iopub.status.busy": "2022-08-04T16:12:18.543217Z",
          "iopub.status.idle": "2022-08-04T16:12:18.583566Z",
          "shell.execute_reply": "2022-08-04T16:12:18.583940Z"
        },
        "papermill": {
          "duration": 0.058253,
          "end_time": "2022-08-04T16:12:18.584107",
          "exception": false,
          "start_time": "2022-08-04T16:12:18.525854",
          "status": "completed"
        },
        "tags": []
      },
      "outputs": [
        {
          "data": {
            "text/plain": [
              "[(('dc1', 'out0'), ('wg', 'in0'), {'type': 'C', 'length': array([0.])}),\n",
              " (('wg', 'out0'), ('dc2', 'in0'), {'type': 'C', 'length': array([0.])}),\n",
              " (('dc1', 'out1'), ('dc2', 'in1'), {'type': 'C', 'length': array([0.])}),\n",
              " (('wg', 'in0'), ('dc1', 'out0'), {'type': 'C', 'length': array([0.])}),\n",
              " (('dc2', 'in0'), ('wg', 'out0'), {'type': 'C', 'length': array([0.])}),\n",
              " (('dc2', 'in1'), ('dc1', 'out1'), {'type': 'C', 'length': array([0.])}),\n",
              " (('', 'in0'), ('dc1', 'in0'), {'type': 'C', 'length': array([0.])}),\n",
              " (('', 'in1'), ('dc1', 'in1'), {'type': 'C', 'length': array([0.])}),\n",
              " (('', 'out0'), ('dc2', 'out0'), {'type': 'C', 'length': array([0.])}),\n",
              " (('', 'out1'), ('dc2', 'out1'), {'type': 'C', 'length': array([0.])}),\n",
              " (('dc1', 'in0'), ('', 'in0'), {'type': 'C', 'length': array([0.])}),\n",
              " (('dc1', 'in1'), ('', 'in1'), {'type': 'C', 'length': array([0.])}),\n",
              " (('dc2', 'out0'), ('', 'out0'), {'type': 'C', 'length': array([0.])}),\n",
              " (('dc2', 'out1'), ('', 'out1'), {'type': 'C', 'length': array([0.])}),\n",
              " (('dc1', 'in0'), ('dc1', 'out0'), {'type': 'S', 'length': array([10., 20.])}),\n",
              " (('dc1', 'in0'), ('dc1', 'out1'), {'type': 'S', 'length': array([15.])}),\n",
              " (('dc1', 'in1'), ('dc1', 'out0'), {'type': 'S', 'length': array([15.])}),\n",
              " (('dc1', 'in1'), ('dc1', 'out1'), {'type': 'S', 'length': array([10., 20.])}),\n",
              " (('wg', 'in0'),\n",
              "  ('wg', 'out0'),\n",
              "  {'type': 'S', 'length': array([100., 200., 300.])}),\n",
              " (('wg', 'out0'),\n",
              "  ('wg', 'in0'),\n",
              "  {'type': 'S', 'length': array([100., 200., 300.])}),\n",
              " (('dc2', 'in0'), ('dc2', 'out0'), {'type': 'S', 'length': array([10., 20.])}),\n",
              " (('dc2', 'in0'), ('dc2', 'out1'), {'type': 'S', 'length': array([15.])}),\n",
              " (('dc2', 'in1'), ('dc2', 'out0'), {'type': 'S', 'length': array([15.])}),\n",
              " (('dc2', 'in1'), ('dc2', 'out1'), {'type': 'S', 'length': array([10., 20.])})]"
            ]
          },
          "execution_count": 8,
          "metadata": {},
          "output_type": "execute_result"
        }
      ],
      "source": [
        "edges = graph_edges(instances, connections, ports)\n",
        "edges"
      ]
    },
    {
      "cell_type": "markdown",
      "id": "d87a25be-b4bb-458c-9bd2-0f5630524c82",
      "metadata": {
        "papermill": {
          "duration": 0.014475,
          "end_time": "2022-08-04T16:12:18.613008",
          "exception": false,
          "start_time": "2022-08-04T16:12:18.598533",
          "status": "completed"
        },
        "tags": []
      },
      "source": [
        "We made a difference here between edges of 'S'-type (connections through the S-matrix) and edges of 'C'-type (connections through the connection matrix). Connections of 'C'-type obviously always have length zero as they signify per definition the equality of two ports."
      ]
    },
    {
      "cell_type": "markdown",
      "id": "12c3c744-7fdc-400c-9612-c50fb8214819",
      "metadata": {
        "papermill": {
          "duration": 0.018115,
          "end_time": "2022-08-04T16:12:18.644916",
          "exception": false,
          "start_time": "2022-08-04T16:12:18.626801",
          "status": "completed"
        },
        "tags": []
      },
      "source": [
        "We can create a NetworkX graph from these edges:"
      ]
    },
    {
      "cell_type": "code",
      "execution_count": 9,
      "id": "bef4c710-10c4-480c-b28e-897e2672136f",
      "metadata": {
        "execution": {
          "iopub.execute_input": "2022-08-04T16:12:18.679791Z",
          "iopub.status.busy": "2022-08-04T16:12:18.679269Z",
          "iopub.status.idle": "2022-08-04T16:12:19.497140Z",
          "shell.execute_reply": "2022-08-04T16:12:19.497814Z"
        },
        "papermill": {
          "duration": 0.838734,
          "end_time": "2022-08-04T16:12:19.497973",
          "exception": false,
          "start_time": "2022-08-04T16:12:18.659239",
          "status": "completed"
        },
        "tags": []
      },
      "outputs": [
        {
          "data": {
            "image/png": "[encoded data removed]",
            "text/plain": [
              "<Figure size 432x288 with 1 Axes>"
            ]
          },
          "metadata": {},
          "output_type": "display_data"
        }
      ],
      "source": [
        "graph = nx.Graph()\n",
        "graph.add_edges_from(edges)\n",
        "nx.draw_kamada_kawai(graph, with_labels=True)"
      ]
    },
    {
      "cell_type": "markdown",
      "id": "e19367b652e9f663",
      "metadata": {},
      "source": [
        ":::{eval-rst}\n",
        ".. autofunction:: sax.backends.additive.prune_internal_output_nodes\n",
        ":::\n"
      ]
    },
    {
      "cell_type": "code",
      "execution_count": 10,
      "id": "a99b578ed4d4c108",
      "metadata": {
        "execution": {
          "iopub.execute_input": "2022-08-04T16:12:19.536563Z",
          "iopub.status.busy": "2022-08-04T16:12:19.535933Z",
          "iopub.status.idle": "2022-08-04T16:12:19.537464Z",
          "shell.execute_reply": "2022-08-04T16:12:19.537026Z"
        },
        "papermill": {
          "duration": 0.023535,
          "end_time": "2022-08-04T16:12:19.537578",
          "exception": false,
          "start_time": "2022-08-04T16:12:19.514043",
          "status": "completed"
        },
        "tags": [
          "hide-input"
        ]
      },
      "outputs": [],
      "source": [
        "def prune_internal_output_nodes(graph):\n",
        "    broken = True\n",
        "    while broken:\n",
        "        broken = False\n",
        "        for (i, p), dic in list(graph.adjacency()):\n",
        "            if (\n",
        "                i != \"\"\n",
        "                and len(dic) == 2\n",
        "                and all(prop.get(\"type\", \"C\") == \"C\" for prop in dic.values())\n",
        "            ):\n",
        "                graph.remove_node((i, p))\n",
        "                graph.add_edge(*dic.keys(), type=\"C\", length=0.0)\n",
        "                broken = True\n",
        "                break\n",
        "    return graph"
      ]
    },
    {
      "cell_type": "code",
      "execution_count": 11,
      "id": "34163540-3f11-467b-8f39-dba25e469da9",
      "metadata": {
        "execution": {
          "iopub.execute_input": "2022-08-04T16:12:19.595154Z",
          "iopub.status.busy": "2022-08-04T16:12:19.583559Z",
          "iopub.status.idle": "2022-08-04T16:12:19.685608Z",
          "shell.execute_reply": "2022-08-04T16:12:19.686010Z"
        },
        "papermill": {
          "duration": 0.133259,
          "end_time": "2022-08-04T16:12:19.686165",
          "exception": false,
          "start_time": "2022-08-04T16:12:19.552906",
          "status": "completed"
        },
        "tags": []
      },
      "outputs": [
        {
          "data": {
            "image/png": "[encoded data removed]",
            "text/plain": [
              "<Figure size 432x288 with 1 Axes>"
            ]
          },
          "metadata": {},
          "output_type": "display_data"
        }
      ],
      "source": [
        "graph = prune_internal_output_nodes(graph)\n",
        "nx.draw_kamada_kawai(graph, with_labels=True)"
      ]
    },
    {
      "cell_type": "markdown",
      "id": "ae4c42c4-2500-4b47-b2ed-701ab271950e",
      "metadata": {
        "papermill": {
          "duration": 0.017384,
          "end_time": "2022-08-04T16:12:19.721117",
          "exception": false,
          "start_time": "2022-08-04T16:12:19.703733",
          "status": "completed"
        },
        "tags": []
      },
      "source": [
        "We can now get a list of all possible paths in the network. Note that these paths **must** alternate between an S-edge and a C-edge:"
      ]
    },
    {
      "cell_type": "markdown",
      "id": "86d1698cad7930a6",
      "metadata": {},
      "source": [
        ":::{eval-rst}\n",
        ".. autofunction:: sax.backends.additive.get_possible_paths\n",
        ":::\n"
      ]
    },
    {
      "cell_type": "code",
      "execution_count": 12,
      "id": "7ede15b11a0a9d1b",
      "metadata": {
        "execution": {
          "iopub.execute_input": "2022-08-04T16:12:19.761760Z",
          "iopub.status.busy": "2022-08-04T16:12:19.758683Z",
          "iopub.status.idle": "2022-08-04T16:12:19.763303Z",
          "shell.execute_reply": "2022-08-04T16:12:19.763675Z"
        },
        "papermill": {
          "duration": 0.02501,
          "end_time": "2022-08-04T16:12:19.763813",
          "exception": false,
          "start_time": "2022-08-04T16:12:19.738803",
          "status": "completed"
        },
        "tags": [
          "hide-input"
        ]
      },
      "outputs": [],
      "source": [
        "def get_possible_paths(graph, source, target):\n",
        "    paths = []\n",
        "    default_props = {\"type\": \"C\", \"length\": 0.0}\n",
        "    for path in nx.all_simple_edge_paths(graph, source, target):\n",
        "        prevtype = \"C\"\n",
        "        for n1, n2 in path:\n",
        "            curtype = graph.get_edge_data(n1, n2, default_props)[\"type\"]\n",
        "            if curtype == prevtype == \"S\":\n",
        "                break\n",
        "            else:\n",
        "                prevtype = curtype\n",
        "        else:\n",
        "            paths.append(path)\n",
        "    return paths"
      ]
    },
    {
      "cell_type": "code",
      "execution_count": 13,
      "id": "7e769550-89a9-4f6b-88c1-916ec40c7a9f",
      "metadata": {
        "execution": {
          "iopub.execute_input": "2022-08-04T16:12:19.804385Z",
          "iopub.status.busy": "2022-08-04T16:12:19.803898Z",
          "iopub.status.idle": "2022-08-04T16:12:19.805618Z",
          "shell.execute_reply": "2022-08-04T16:12:19.806003Z"
        },
        "papermill": {
          "duration": 0.025659,
          "end_time": "2022-08-04T16:12:19.806131",
          "exception": false,
          "start_time": "2022-08-04T16:12:19.780472",
          "status": "completed"
        },
        "tags": []
      },
      "outputs": [
        {
          "data": {
            "text/plain": [
              "[[(('', 'in0'), ('dc1', 'in0')),\n",
              "  (('dc1', 'in0'), ('dc1', 'out0')),\n",
              "  (('dc1', 'out0'), ('wg', 'in0')),\n",
              "  (('wg', 'in0'), ('wg', 'out0')),\n",
              "  (('wg', 'out0'), ('dc2', 'in0')),\n",
              "  (('dc2', 'in0'), ('dc2', 'out0')),\n",
              "  (('dc2', 'out0'), ('', 'out0'))],\n",
              " [(('', 'in0'), ('dc1', 'in0')),\n",
              "  (('dc1', 'in0'), ('dc1', 'out1')),\n",
              "  (('dc1', 'out1'), ('dc2', 'in1')),\n",
              "  (('dc2', 'in1'), ('dc2', 'out0')),\n",
              "  (('dc2', 'out0'), ('', 'out0'))]]"
            ]
          },
          "execution_count": 13,
          "metadata": {},
          "output_type": "execute_result"
        }
      ],
      "source": [
        "paths = get_possible_paths(graph, (\"\", \"in0\"), (\"\", \"out0\"))\n",
        "paths"
      ]
    },
    {
      "cell_type": "markdown",
      "id": "01f7a5f4-8ea4-4578-b561-b12506b79dd3",
      "metadata": {
        "papermill": {
          "duration": 0.017468,
          "end_time": "2022-08-04T16:12:19.840661",
          "exception": false,
          "start_time": "2022-08-04T16:12:19.823193",
          "status": "completed"
        },
        "tags": []
      },
      "source": [
        "And the path lengths of those paths can be calculated as follows:"
      ]
    },
    {
      "cell_type": "markdown",
      "id": "0c37d1a6eaabb574",
      "metadata": {},
      "source": [
        ":::{eval-rst}\n",
        ".. autofunction:: sax.backends.additive.path_lengths\n",
        ":::\n"
      ]
    },
    {
      "cell_type": "code",
      "execution_count": 14,
      "id": "539705adcaad8eec",
      "metadata": {
        "execution": {
          "iopub.execute_input": "2022-08-04T16:12:19.881560Z",
          "iopub.status.busy": "2022-08-04T16:12:19.881023Z",
          "iopub.status.idle": "2022-08-04T16:12:19.882349Z",
          "shell.execute_reply": "2022-08-04T16:12:19.882852Z"
        },
        "papermill": {
          "duration": 0.02528,
          "end_time": "2022-08-04T16:12:19.883005",
          "exception": false,
          "start_time": "2022-08-04T16:12:19.857725",
          "status": "completed"
        },
        "tags": [
          "hide-input"
        ]
      },
      "outputs": [],
      "source": [
        "def path_lengths(graph, paths):\n",
        "    lengths = []\n",
        "    for path in paths:\n",
        "        length = zero = jnp.array([0.0], dtype=float)\n",
        "        default_edge_data = {\"type\": \"C\", \"length\": zero}\n",
        "        for edge in path:\n",
        "            edge_data = graph.get_edge_data(*edge, default_edge_data)\n",
        "            length = (length[None,:] + edge_data.get(\"length\", zero)[:, None]).ravel()\n",
        "        lengths.append(length)\n",
        "    return lengths"
      ]
    },
    {
      "cell_type": "code",
      "execution_count": 15,
      "id": "a445e1c2-af3f-4953-824d-6fbc89df1499",
      "metadata": {
        "execution": {
          "iopub.execute_input": "2022-08-04T16:12:19.926514Z",
          "iopub.status.busy": "2022-08-04T16:12:19.925890Z",
          "iopub.status.idle": "2022-08-04T16:12:20.220289Z",
          "shell.execute_reply": "2022-08-04T16:12:20.220773Z"
        },
        "papermill": {
          "duration": 0.320679,
          "end_time": "2022-08-04T16:12:20.220926",
          "exception": false,
          "start_time": "2022-08-04T16:12:19.900247",
          "status": "completed"
        },
        "tags": []
      },
      "outputs": [
        {
          "data": {
            "text/plain": [
              "[array([120., 130., 220., 230., 320., 330., 130., 140., 230., 240.,\n",
              "        330., 340.]),\n",
              " array([30.])]"
            ]
          },
          "execution_count": 15,
          "metadata": {},
          "output_type": "execute_result"
        }
      ],
      "source": [
        "path_lengths(graph, paths)"
      ]
    },
    {
      "cell_type": "markdown",
      "id": "1c963377-0e97-4396-acc6-469517e1afcf",
      "metadata": {
        "papermill": {
          "duration": 0.017862,
          "end_time": "2022-08-04T16:12:20.256427",
          "exception": false,
          "start_time": "2022-08-04T16:12:20.238565",
          "status": "completed"
        },
        "tags": []
      },
      "source": [
        "This is all brought together in the additive KLU backend:"
      ]
    },
    {
      "cell_type": "markdown",
      "id": "8dcb4d181bf1265b",
      "metadata": {},
      "source": [
        ":::{eval-rst}\n",
        ".. autofunction:: sax.backends.additive.evaluate_circuit_additive\n",
        ":::\n"
      ]
    },
    {
      "cell_type": "code",
      "execution_count": 16,
      "id": "9b3ce563ec50efe6",
      "metadata": {
        "execution": {
          "iopub.execute_input": "2022-08-04T16:12:20.299295Z",
          "iopub.status.busy": "2022-08-04T16:12:20.298758Z",
          "iopub.status.idle": "2022-08-04T16:12:20.300151Z",
          "shell.execute_reply": "2022-08-04T16:12:20.300550Z"
        },
        "papermill": {
          "duration": 0.02684,
          "end_time": "2022-08-04T16:12:20.300693",
          "exception": false,
          "start_time": "2022-08-04T16:12:20.273853",
          "status": "completed"
        },
        "tags": [
          "hide-input"
        ]
      },
      "outputs": [],
      "source": [
        "def evaluate_circuit_additive(\n",
        "    instances: Dict[str, SDict],\n",
        "    connections: Dict[str, str],\n",
        "    ports: Dict[str, str],\n",
        "):\n",
        "    \"\"\"evaluate a circuit for the given sdicts.\"\"\"\n",
        "    edges = graph_edges(instances, connections, ports)\n",
        "\n",
        "    graph = nx.Graph()\n",
        "    graph.add_edges_from(edges)\n",
        "    prune_internal_output_nodes(graph)\n",
        "\n",
        "    sdict = {}\n",
        "    for source in ports:\n",
        "        for target in ports:\n",
        "            paths = get_possible_paths(graph, source=(\"\", source), target=(\"\", target))\n",
        "            if not paths:\n",
        "                continue\n",
        "            sdict[source, target] = path_lengths(graph, paths)\n",
        "\n",
        "    return sdict"
      ]
    },
    {
      "cell_type": "code",
      "execution_count": 17,
      "id": "6ec2aaf0-1545-49a8-9203-1b86d36b3e84",
      "metadata": {
        "execution": {
          "iopub.execute_input": "2022-08-04T16:12:20.343122Z",
          "iopub.status.busy": "2022-08-04T16:12:20.342415Z",
          "iopub.status.idle": "2022-08-04T16:12:20.585103Z",
          "shell.execute_reply": "2022-08-04T16:12:20.585595Z"
        },
        "papermill": {
          "duration": 0.267684,
          "end_time": "2022-08-04T16:12:20.585750",
          "exception": false,
          "start_time": "2022-08-04T16:12:20.318066",
          "status": "completed"
        },
        "tags": []
      },
      "outputs": [
        {
          "data": {
            "text/plain": [
              "{('in0',\n",
              "  'out0'): [array([120., 130., 220., 230., 320., 330., 130., 140., 230., 240.,\n",
              "         330., 340.]), array([30.])],\n",
              " ('in0', 'out1'): [array([125., 135., 225., 235., 325., 335.]),\n",
              "  array([25., 35.])],\n",
              " ('in1', 'out0'): [array([125., 225., 325., 135., 235., 335.]),\n",
              "  array([25., 35.])],\n",
              " ('in1', 'out1'): [array([130., 230., 330.]), array([20., 30., 30., 40.])],\n",
              " ('out0',\n",
              "  'in0'): [array([120., 130., 220., 230., 320., 330., 130., 140., 230., 240.,\n",
              "         330., 340.]), array([30.])],\n",
              " ('out0', 'in1'): [array([125., 135., 225., 235., 325., 335.]),\n",
              "  array([25., 35.])],\n",
              " ('out1', 'in0'): [array([125., 225., 325., 135., 235., 335.]),\n",
              "  array([25., 35.])],\n",
              " ('out1', 'in1'): [array([130., 230., 330.]), array([20., 30., 30., 40.])]}"
            ]
          },
          "execution_count": 17,
          "metadata": {},
          "output_type": "execute_result"
        }
      ],
      "source": [
        "evaluate_circuit_additive(instances, connections, ports)"
      ]
    }
  ],
  "metadata": {
    "kernelspec": {
      "display_name": "sax-np",
      "language": "python",
      "name": "sax-np"
    },
    "language_info": {
      "codemirror_mode": {
        "name": "ipython",
        "version": 3
      },
      "file_extension": ".py",
      "mimetype": "text/x-python",
      "name": "python",
      "nbconvert_exporter": "python",
      "pygments_lexer": "ipython3",
      "version": "3.9.0"
    },
    "papermill": {
      "default_parameters": {},
      "duration": 5.014043,
      "end_time": "2022-08-04T16:12:21.013532",
      "environment_variables": {},
      "exception": null,
      "input_path": "./nbs/07c_backends_additive.ipynb",
      "output_path": "./nbs/07c_backends_additive.ipynb",
      "parameters": {},
      "start_time": "2022-08-04T16:12:15.999489",
      "version": "2.3.4"
    }
  },
  "nbformat": 4,
  "nbformat_minor": 5
}