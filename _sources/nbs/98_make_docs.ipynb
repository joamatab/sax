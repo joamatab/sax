{
  "cells": [
    {
      "cell_type": "code",
      "execution_count": 1,
      "id": "5ee1f8df35b3d951",
      "metadata": {
        "execution": {
          "iopub.execute_input": "2022-08-04T16:12:03.013349Z",
          "iopub.status.busy": "2022-08-04T16:12:03.012831Z",
          "iopub.status.idle": "2022-08-04T16:12:03.015653Z",
          "shell.execute_reply": "2022-08-04T16:12:03.016058Z"
        },
        "papermill": {
          "duration": 0.022044,
          "end_time": "2022-08-04T16:12:03.016278",
          "exception": false,
          "start_time": "2022-08-04T16:12:02.994234",
          "status": "completed"
        },
        "tags": [
          "remove-cell"
        ]
      },
      "outputs": [],
      "source": []
    },
    {
      "cell_type": "markdown",
      "id": "7f878cbc-3e90-4ceb-8633-79250de6d6b8",
      "metadata": {
        "papermill": {
          "duration": 0.01245,
          "end_time": "2022-08-04T16:12:03.041612",
          "exception": false,
          "start_time": "2022-08-04T16:12:03.029162",
          "status": "completed"
        },
        "tags": []
      },
      "source": [
        "# SAX make docs\n",
        "> CLI: build jupyter-books based docs"
      ]
    },
    {
      "cell_type": "code",
      "execution_count": 2,
      "id": "336646881c3913d1",
      "metadata": {
        "execution": {
          "iopub.execute_input": "2022-08-04T16:12:03.075819Z",
          "iopub.status.busy": "2022-08-04T16:12:03.075274Z",
          "iopub.status.idle": "2022-08-04T16:12:03.078874Z",
          "shell.execute_reply": "2022-08-04T16:12:03.078436Z"
        },
        "papermill": {
          "duration": 0.02505,
          "end_time": "2022-08-04T16:12:03.078998",
          "exception": false,
          "start_time": "2022-08-04T16:12:03.053948",
          "status": "completed"
        },
        "tags": [
          "remove-cell"
        ]
      },
      "outputs": [],
      "source": [
        "import glob\n",
        "import json\n",
        "import os\n",
        "import re\n",
        "import secrets\n",
        "import shutil\n",
        "import subprocess\n",
        "import sys\n",
        "from typing import Dict, Union\n",
        "\n",
        "from fastcore.imports import IN_IPYTHON"
      ]
    },
    {
      "cell_type": "code",
      "execution_count": 3,
      "id": "ce8bca0b3f26b24d",
      "metadata": {
        "execution": {
          "iopub.execute_input": "2022-08-04T16:12:03.109190Z",
          "iopub.status.busy": "2022-08-04T16:12:03.108670Z",
          "iopub.status.idle": "2022-08-04T16:12:03.110736Z",
          "shell.execute_reply": "2022-08-04T16:12:03.110277Z"
        },
        "papermill": {
          "duration": 0.019384,
          "end_time": "2022-08-04T16:12:03.110873",
          "exception": false,
          "start_time": "2022-08-04T16:12:03.091489",
          "status": "completed"
        },
        "tags": [
          "hide-input"
        ]
      },
      "outputs": [],
      "source": [
        "MAGIC_COMMENTS = {\n",
        "    \"default_exp\": \"remove-cell\",\n",
        "    \"exporti\": \"remove-cell\",\n",
        "    \"export\": \"hide-input\",\n",
        "    \"exports\": None,\n",
        "    \"hide\": \"remove-cell\",\n",
        "    \"hide_input\": \"remove-input\",\n",
        "    \"hide_output\": \"remove-output\",\n",
        "    \"collapse_input\": \"hide-input\",\n",
        "    \"collapse_output\": \"hide-output\",\n",
        "}"
      ]
    },
    {
      "cell_type": "code",
      "execution_count": 4,
      "id": "a8bca287dbe23bfe",
      "metadata": {
        "execution": {
          "iopub.execute_input": "2022-08-04T16:12:03.140660Z",
          "iopub.status.busy": "2022-08-04T16:12:03.140159Z",
          "iopub.status.idle": "2022-08-04T16:12:03.142107Z",
          "shell.execute_reply": "2022-08-04T16:12:03.141672Z"
        },
        "papermill": {
          "duration": 0.019042,
          "end_time": "2022-08-04T16:12:03.142222",
          "exception": false,
          "start_time": "2022-08-04T16:12:03.123180",
          "status": "completed"
        },
        "tags": [
          "hide-input"
        ]
      },
      "outputs": [],
      "source": [
        "if IN_IPYTHON:\n",
        "    ROOT = os.path.abspath('..')\n",
        "else:\n",
        "    ROOT = os.path.abspath('.')"
      ]
    },
    {
      "cell_type": "markdown",
      "id": "82cb6a6997ed201c",
      "metadata": {},
      "source": [
        ":::{eval-rst}\n",
        ".. autofunction:: sax.make_docs.load_nb\n",
        ":::\n"
      ]
    },
    {
      "cell_type": "code",
      "execution_count": 5,
      "id": "5f744074f05269f1",
      "metadata": {
        "execution": {
          "iopub.execute_input": "2022-08-04T16:12:03.172836Z",
          "iopub.status.busy": "2022-08-04T16:12:03.172324Z",
          "iopub.status.idle": "2022-08-04T16:12:03.174625Z",
          "shell.execute_reply": "2022-08-04T16:12:03.174215Z"
        },
        "papermill": {
          "duration": 0.019703,
          "end_time": "2022-08-04T16:12:03.174742",
          "exception": false,
          "start_time": "2022-08-04T16:12:03.155039",
          "status": "completed"
        },
        "tags": [
          "hide-input"
        ]
      },
      "outputs": [],
      "source": [
        "def load_nb(path: str) -> Dict:\n",
        "    \"\"\" load a jupyter notebook as dictionary\n",
        "\n",
        "    Args:\n",
        "        path: the path of the notebook to load\n",
        "\n",
        "    Returns:\n",
        "        the notebook represented as a dictionary\n",
        "    \"\"\"\n",
        "    with open(path, \"r\") as file:\n",
        "        nb = json.load(file)\n",
        "    return nb"
      ]
    },
    {
      "cell_type": "markdown",
      "id": "3f9f514a50d77f0f",
      "metadata": {},
      "source": [
        ":::{eval-rst}\n",
        ".. autofunction:: sax.make_docs.repository_path\n",
        ":::\n"
      ]
    },
    {
      "cell_type": "code",
      "execution_count": 6,
      "id": "c23e5fca1542257f",
      "metadata": {
        "execution": {
          "iopub.execute_input": "2022-08-04T16:12:03.207379Z",
          "iopub.status.busy": "2022-08-04T16:12:03.206815Z",
          "iopub.status.idle": "2022-08-04T16:12:03.208778Z",
          "shell.execute_reply": "2022-08-04T16:12:03.208277Z"
        },
        "papermill": {
          "duration": 0.021325,
          "end_time": "2022-08-04T16:12:03.208892",
          "exception": false,
          "start_time": "2022-08-04T16:12:03.187567",
          "status": "completed"
        },
        "tags": [
          "hide-input"
        ]
      },
      "outputs": [],
      "source": [
        "def repository_path(*path_parts: str, not_exist_ok: bool=False) -> str:\n",
        "    \"\"\" Get and validate a path in the modelbuild repository\n",
        "\n",
        "    Args:\n",
        "        *path_parts: the path parts that will be joined together\n",
        "            relative to the root of the repository.\n",
        "        not_exist_ok: skip validation if True\n",
        "\n",
        "    Returns:\n",
        "        the absolute path of the referenced file.\n",
        "    \"\"\"\n",
        "    if not (os.path.exists(path:=os.path.join(ROOT, \"docs\"))):\n",
        "        raise FileNotFoundError(f\"docs path {path!r} not found!\")\n",
        "    if not (os.path.exists(path:=os.path.join(ROOT, \"nbs\"))):\n",
        "        raise FileNotFoundError(f\"nbs path {path!r} not found!\")\n",
        "    if not (os.path.exists(path:=os.path.join(ROOT, \"sax\"))):\n",
        "        raise FileNotFoundError(f\"sax path {path!r} not found!\")\n",
        "\n",
        "    path = os.path.join(ROOT, *path_parts)\n",
        "    if not not_exist_ok and not os.path.exists(path):\n",
        "        raise FileNotFoundError(f\"Path {path!r} does not exist.\")\n",
        "\n",
        "    return path"
      ]
    },
    {
      "cell_type": "markdown",
      "id": "8a3402b3407aa87e",
      "metadata": {},
      "source": [
        ":::{eval-rst}\n",
        ".. autofunction:: sax.make_docs.docs_path\n",
        ":::\n"
      ]
    },
    {
      "cell_type": "code",
      "execution_count": 7,
      "id": "f7bbc25fc5ea1cec",
      "metadata": {
        "execution": {
          "iopub.execute_input": "2022-08-04T16:12:03.239445Z",
          "iopub.status.busy": "2022-08-04T16:12:03.238939Z",
          "iopub.status.idle": "2022-08-04T16:12:03.240877Z",
          "shell.execute_reply": "2022-08-04T16:12:03.240445Z"
        },
        "papermill": {
          "duration": 0.019316,
          "end_time": "2022-08-04T16:12:03.240992",
          "exception": false,
          "start_time": "2022-08-04T16:12:03.221676",
          "status": "completed"
        },
        "tags": [
          "hide-input"
        ]
      },
      "outputs": [],
      "source": [
        "def docs_path(*path_parts: str, not_exist_ok: bool=False) -> str:\n",
        "    return repository_path('docs', *path_parts, not_exist_ok=not_exist_ok)"
      ]
    },
    {
      "cell_type": "markdown",
      "id": "dc3903ccc2a501a6",
      "metadata": {},
      "source": [
        ":::{eval-rst}\n",
        ".. autofunction:: sax.make_docs.save_nb\n",
        ":::\n"
      ]
    },
    {
      "cell_type": "code",
      "execution_count": 8,
      "id": "75b519091db1ef17",
      "metadata": {
        "execution": {
          "iopub.execute_input": "2022-08-04T16:12:03.272461Z",
          "iopub.status.busy": "2022-08-04T16:12:03.271957Z",
          "iopub.status.idle": "2022-08-04T16:12:03.273918Z",
          "shell.execute_reply": "2022-08-04T16:12:03.273493Z"
        },
        "papermill": {
          "duration": 0.020294,
          "end_time": "2022-08-04T16:12:03.274031",
          "exception": false,
          "start_time": "2022-08-04T16:12:03.253737",
          "status": "completed"
        },
        "tags": [
          "hide-input"
        ]
      },
      "outputs": [],
      "source": [
        "def save_nb(nb: Dict, path: str) -> str:\n",
        "    \"\"\" save a dictionary as a jupyter notebook\n",
        "\n",
        "    Args:\n",
        "        nb: the dictionary to convert into an ipynb file\n",
        "        path: the path to save the notebook under\n",
        "\n",
        "    Returns:\n",
        "        the path where the notebook was saved.\n",
        "    \"\"\"\n",
        "    path = os.path.abspath(path)\n",
        "    os.makedirs(os.path.dirname(path), exist_ok=True)\n",
        "    with open(path, \"w\") as file:\n",
        "        json.dump(nb, file, indent=2)\n",
        "    return path"
      ]
    },
    {
      "cell_type": "markdown",
      "id": "19bdf11f6e5867ce",
      "metadata": {},
      "source": [
        ":::{eval-rst}\n",
        ".. autofunction:: sax.make_docs.strip_metadata\n",
        ":::\n"
      ]
    },
    {
      "cell_type": "code",
      "execution_count": 9,
      "id": "75c248be2164d547",
      "metadata": {
        "execution": {
          "iopub.execute_input": "2022-08-04T16:12:03.305606Z",
          "iopub.status.busy": "2022-08-04T16:12:03.305094Z",
          "iopub.status.idle": "2022-08-04T16:12:03.306802Z",
          "shell.execute_reply": "2022-08-04T16:12:03.307255Z"
        },
        "papermill": {
          "duration": 0.020448,
          "end_time": "2022-08-04T16:12:03.307397",
          "exception": false,
          "start_time": "2022-08-04T16:12:03.286949",
          "status": "completed"
        },
        "tags": [
          "hide-input"
        ]
      },
      "outputs": [],
      "source": [
        "def strip_metadata(nb: Union[Dict, str]) -> Union[Dict,str]:\n",
        "    path = ''\n",
        "    if isinstance(nb, str):\n",
        "        path = nb\n",
        "        nb = load_nb(nb)\n",
        "    for cell in nb['cells']:\n",
        "        if not 'metadata' in cell:\n",
        "            continue\n",
        "        cell['metadata'] = {}\n",
        "    if path:\n",
        "        return save_nb(nb, path)\n",
        "    return path"
      ]
    },
    {
      "cell_type": "code",
      "execution_count": 10,
      "id": "c7fc96612fa68c14",
      "metadata": {
        "execution": {
          "iopub.execute_input": "2022-08-04T16:12:03.338697Z",
          "iopub.status.busy": "2022-08-04T16:12:03.338172Z",
          "iopub.status.idle": "2022-08-04T16:12:03.340154Z",
          "shell.execute_reply": "2022-08-04T16:12:03.339712Z"
        },
        "papermill": {
          "duration": 0.01992,
          "end_time": "2022-08-04T16:12:03.340272",
          "exception": false,
          "start_time": "2022-08-04T16:12:03.320352",
          "status": "completed"
        },
        "tags": [
          "remove-cell"
        ]
      },
      "outputs": [],
      "source": [
        "def iter_code_cells(nb):\n",
        "    for cell in nb.get('cells', []):\n",
        "        if not cell.get(\"cell_type\", \"\") == \"code\":\n",
        "            continue\n",
        "        yield cell"
      ]
    },
    {
      "cell_type": "code",
      "execution_count": 11,
      "id": "1e5ba23e27215844",
      "metadata": {
        "execution": {
          "iopub.execute_input": "2022-08-04T16:12:03.371022Z",
          "iopub.status.busy": "2022-08-04T16:12:03.370479Z",
          "iopub.status.idle": "2022-08-04T16:12:03.372653Z",
          "shell.execute_reply": "2022-08-04T16:12:03.372252Z"
        },
        "papermill": {
          "duration": 0.019425,
          "end_time": "2022-08-04T16:12:03.372762",
          "exception": false,
          "start_time": "2022-08-04T16:12:03.353337",
          "status": "completed"
        },
        "tags": [
          "remove-cell"
        ]
      },
      "outputs": [],
      "source": [
        "def first_code_cell(nb):\n",
        "    try:\n",
        "        return next(iter_code_cells(nb))\n",
        "    except StopIteration:\n",
        "        return None"
      ]
    },
    {
      "cell_type": "code",
      "execution_count": 12,
      "id": "14b9174400bd047b",
      "metadata": {
        "execution": {
          "iopub.execute_input": "2022-08-04T16:12:03.404292Z",
          "iopub.status.busy": "2022-08-04T16:12:03.403819Z",
          "iopub.status.idle": "2022-08-04T16:12:03.407328Z",
          "shell.execute_reply": "2022-08-04T16:12:03.406781Z"
        },
        "papermill": {
          "duration": 0.021402,
          "end_time": "2022-08-04T16:12:03.407445",
          "exception": false,
          "start_time": "2022-08-04T16:12:03.386043",
          "status": "completed"
        },
        "tags": [
          "remove-cell"
        ]
      },
      "outputs": [],
      "source": [
        "def get_default_exp(nb):\n",
        "    first_cell = first_code_cell(nb) or {}\n",
        "    first_source = first_cell.get('source', [])\n",
        "    first_line = \"\" if not first_source else first_source[0]\n",
        "    default_exp = first_line.split(\"default_exp\")[-1].strip()\n",
        "    return default_exp"
      ]
    },
    {
      "cell_type": "code",
      "execution_count": 13,
      "id": "f8ab6baf94bd6d03",
      "metadata": {
        "execution": {
          "iopub.execute_input": "2022-08-04T16:12:03.439165Z",
          "iopub.status.busy": "2022-08-04T16:12:03.438614Z",
          "iopub.status.idle": "2022-08-04T16:12:03.440646Z",
          "shell.execute_reply": "2022-08-04T16:12:03.441044Z"
        },
        "papermill": {
          "duration": 0.020212,
          "end_time": "2022-08-04T16:12:03.441196",
          "exception": false,
          "start_time": "2022-08-04T16:12:03.420984",
          "status": "completed"
        },
        "tags": [
          "remove-cell"
        ]
      },
      "outputs": [],
      "source": [
        "def iter_function_names(source):\n",
        "    for line in source:\n",
        "        if not line.startswith(\"def \"):\n",
        "            continue\n",
        "        if line.startswith(\"def _\"):\n",
        "            continue\n",
        "        yield line.split(\"def \")[1].split(\"(\")[0]"
      ]
    },
    {
      "cell_type": "markdown",
      "id": "2f912c1f07198018",
      "metadata": {},
      "source": [
        ":::{eval-rst}\n",
        ".. autofunction:: sax.make_docs.docs_copy_nb\n",
        ":::\n"
      ]
    },
    {
      "cell_type": "code",
      "execution_count": 14,
      "id": "a9b8fb985981a8dd",
      "metadata": {
        "execution": {
          "iopub.execute_input": "2022-08-04T16:12:03.471494Z",
          "iopub.status.busy": "2022-08-04T16:12:03.470963Z",
          "iopub.status.idle": "2022-08-04T16:12:03.480641Z",
          "shell.execute_reply": "2022-08-04T16:12:03.480222Z"
        },
        "papermill": {
          "duration": 0.025976,
          "end_time": "2022-08-04T16:12:03.480766",
          "exception": false,
          "start_time": "2022-08-04T16:12:03.454790",
          "status": "completed"
        },
        "tags": [
          "hide-input"
        ]
      },
      "outputs": [],
      "source": [
        "def docs_copy_nb(relpath, docsrelpath=None):\n",
        "    \"\"\"copy a single notebook from src to dst with modified docs metadata.\"\"\"\n",
        "    src = repository_path(relpath)\n",
        "    dst = docs_path((docsrelpath or relpath), not_exist_ok=True)\n",
        "    nb = load_nb(src)\n",
        "    nb_new = {**nb}\n",
        "    nb_new[\"cells\"] = []\n",
        "    module = get_default_exp(nb)\n",
        "\n",
        "    for cell in nb.get('cells', []):\n",
        "        if not cell.get(\"cell_type\", \"\") == \"code\":\n",
        "            nb_new[\"cells\"].append(cell)\n",
        "            continue\n",
        "            \n",
        "        cell_tags = cell.get(\"metadata\", {}).get(\"tags\", [])\n",
        "        source = cell.get(\"source\") or [\"\"]\n",
        "        line = source[0].strip()\n",
        "        \n",
        "        if not line.startswith(\"#\"):\n",
        "            nb_new[\"cells\"].append(cell)\n",
        "            continue\n",
        "            \n",
        "        keys = [k.strip() for k in line.split(\" \")]\n",
        "        keys = [k for k in keys if k in MAGIC_COMMENTS]\n",
        "        if keys:\n",
        "            del source[0]\n",
        "        for key in keys:\n",
        "            tag = MAGIC_COMMENTS[key]\n",
        "            if tag:\n",
        "                cell_tags.append(tag)\n",
        "        if len(cell_tags) > 0:\n",
        "            cell[\"metadata\"][\"tags\"] = cell_tags\n",
        "\n",
        "        if not 'remove-cell' in cell_tags:\n",
        "            for function_name in iter_function_names(source):\n",
        "                extra_cell = {\n",
        "                    \"cell_type\": \"markdown\",\n",
        "                    \"id\": secrets.token_hex(8),\n",
        "                    \"metadata\": {},\n",
        "                    \"source\": [\n",
        "                        \":::{eval-rst}\\n\",\n",
        "                        f\".. autofunction:: sax.{module}.{function_name}\\n\",\n",
        "                        \":::\\n\"\n",
        "                    ],\n",
        "                }\n",
        "                nb_new[\"cells\"].append(extra_cell)\n",
        "\n",
        "        cell[\"id\"] = secrets.token_hex(8)\n",
        "        nb_new[\"cells\"].append(cell)\n",
        "\n",
        "    os.makedirs(os.path.dirname(dst), exist_ok=True)\n",
        "    save_nb(nb_new, dst)\n",
        "    return dst"
      ]
    },
    {
      "cell_type": "markdown",
      "id": "b6147fc419a6defd",
      "metadata": {},
      "source": [
        ":::{eval-rst}\n",
        ".. autofunction:: sax.make_docs.list_notebooks\n",
        ":::\n"
      ]
    },
    {
      "cell_type": "markdown",
      "id": "880e6614b70ac0fe",
      "metadata": {},
      "source": [
        ":::{eval-rst}\n",
        ".. autofunction:: sax.make_docs.list_zips\n",
        ":::\n"
      ]
    },
    {
      "cell_type": "code",
      "execution_count": 15,
      "id": "a51055fdfd531dff",
      "metadata": {
        "execution": {
          "iopub.execute_input": "2022-08-04T16:12:03.512242Z",
          "iopub.status.busy": "2022-08-04T16:12:03.511650Z",
          "iopub.status.idle": "2022-08-04T16:12:03.513803Z",
          "shell.execute_reply": "2022-08-04T16:12:03.514270Z"
        },
        "papermill": {
          "duration": 0.020463,
          "end_time": "2022-08-04T16:12:03.514462",
          "exception": false,
          "start_time": "2022-08-04T16:12:03.493999",
          "status": "completed"
        },
        "tags": [
          "hide-input"
        ]
      },
      "outputs": [],
      "source": [
        "def list_notebooks(dir):\n",
        "    return glob.glob(os.path.join(dir, \"**/*.ipynb\"), recursive=True)\n",
        "\n",
        "def list_zips(dir):\n",
        "    return glob.glob(os.path.join(dir, \"**/*.zip\"), recursive=True)"
      ]
    },
    {
      "cell_type": "markdown",
      "id": "e2efe330823f0916",
      "metadata": {},
      "source": [
        ":::{eval-rst}\n",
        ".. autofunction:: sax.make_docs.docs_copy_dir\n",
        ":::\n"
      ]
    },
    {
      "cell_type": "code",
      "execution_count": 16,
      "id": "cd58edddee05e563",
      "metadata": {
        "execution": {
          "iopub.execute_input": "2022-08-04T16:12:03.547946Z",
          "iopub.status.busy": "2022-08-04T16:12:03.547426Z",
          "iopub.status.idle": "2022-08-04T16:12:03.548971Z",
          "shell.execute_reply": "2022-08-04T16:12:03.549368Z"
        },
        "papermill": {
          "duration": 0.021309,
          "end_time": "2022-08-04T16:12:03.549520",
          "exception": false,
          "start_time": "2022-08-04T16:12:03.528211",
          "status": "completed"
        },
        "tags": [
          "hide-input"
        ]
      },
      "outputs": [],
      "source": [
        "def docs_copy_dir(relpath):\n",
        "    main_src = repository_path(relpath)\n",
        "    for src in list_notebooks(main_src):\n",
        "        rel = os.path.relpath(src, repository_path())\n",
        "        docs_copy_nb(rel)\n",
        "    for src in list_zips(main_src):\n",
        "        rel = os.path.relpath(src, repository_path())\n",
        "        dst = docs_path(\"_build\", \"html\", rel, not_exist_ok=True)\n",
        "        os.makedirs(os.path.dirname(dst), exist_ok=True)\n",
        "        shutil.copy2(src, dst)"
      ]
    },
    {
      "cell_type": "markdown",
      "id": "9dfbbfb990dd1b50",
      "metadata": {},
      "source": [
        ":::{eval-rst}\n",
        ".. autofunction:: sax.make_docs.docs_copy_simulations\n",
        ":::\n"
      ]
    },
    {
      "cell_type": "code",
      "execution_count": 17,
      "id": "5091031fbd109b8e",
      "metadata": {
        "execution": {
          "iopub.execute_input": "2022-08-04T16:12:03.585695Z",
          "iopub.status.busy": "2022-08-04T16:12:03.585149Z",
          "iopub.status.idle": "2022-08-04T16:12:03.586724Z",
          "shell.execute_reply": "2022-08-04T16:12:03.587189Z"
        },
        "papermill": {
          "duration": 0.023864,
          "end_time": "2022-08-04T16:12:03.587336",
          "exception": false,
          "start_time": "2022-08-04T16:12:03.563472",
          "status": "completed"
        },
        "tags": [
          "hide-input"
        ]
      },
      "outputs": [],
      "source": [
        "def docs_copy_simulations():\n",
        "    with_results, without_results = {}, {}\n",
        "    for fn in os.listdir(simulations_path()):\n",
        "        sim, ext = os.path.splitext(fn)\n",
        "        if ext != \".ipynb\":\n",
        "            continue\n",
        "        try:\n",
        "            with_results[sim] = get_nominal_result(sim)\n",
        "        except FileNotFoundError:\n",
        "            without_results[sim] = {'hash': None, 'params': get_default_params(simulations_path(f\"{sim}.ipynb\"))}\n",
        "        except ValueError:\n",
        "            without_results[sim] = {'hash': None, 'params': get_default_params(simulations_path(f\"{sim}.ipynb\"))}\n",
        "            #raise\n",
        "        \n",
        "    for k, r in with_results.items():\n",
        "        docs_copy_nb(f\"results/{k}/{r['hash']}/_simulated.ipynb\", f\"simulations/{k}.ipynb\")\n",
        "        \n",
        "    for k, r in without_results.items():\n",
        "        docs_copy_nb(f\"simulations/{k}.ipynb\", f\"simulations/{k}.ipynb\")\n",
        "        \n",
        "    shutil.copytree(simulations_path(\"img\"), docs_path(\"_build\", \"html\", \"simulations\", \"img\", not_exist_ok=True), dirs_exist_ok=True)\n",
        "    return with_results, without_results"
      ]
    },
    {
      "cell_type": "markdown",
      "id": "2bce246b8a8181ed",
      "metadata": {},
      "source": [
        ":::{eval-rst}\n",
        ".. autofunction:: sax.make_docs.get_toc_part\n",
        ":::\n"
      ]
    },
    {
      "cell_type": "code",
      "execution_count": 18,
      "id": "c37260a8a6bdddef",
      "metadata": {
        "execution": {
          "iopub.execute_input": "2022-08-04T16:12:03.619736Z",
          "iopub.status.busy": "2022-08-04T16:12:03.619226Z",
          "iopub.status.idle": "2022-08-04T16:12:03.625242Z",
          "shell.execute_reply": "2022-08-04T16:12:03.624816Z"
        },
        "papermill": {
          "duration": 0.024336,
          "end_time": "2022-08-04T16:12:03.625364",
          "exception": false,
          "start_time": "2022-08-04T16:12:03.601028",
          "status": "completed"
        },
        "tags": [
          "hide-input"
        ]
      },
      "outputs": [],
      "source": [
        "def get_toc_part(toc, caption):\n",
        "    parts = [p for p in toc[\"parts\"] if caption == p[\"caption\"]]\n",
        "    try:\n",
        "        return parts[0]\n",
        "    except IndexError:\n",
        "        raise ValueError(f\"No TOC part with caption {caption!r} found.\")"
      ]
    },
    {
      "cell_type": "markdown",
      "id": "340c2ad1abf3d25c",
      "metadata": {},
      "source": [
        ":::{eval-rst}\n",
        ".. autofunction:: sax.make_docs.make_docs\n",
        ":::\n"
      ]
    },
    {
      "cell_type": "code",
      "execution_count": 19,
      "id": "c380963a8b396e8a",
      "metadata": {
        "execution": {
          "iopub.execute_input": "2022-08-04T16:12:03.658301Z",
          "iopub.status.busy": "2022-08-04T16:12:03.657783Z",
          "iopub.status.idle": "2022-08-04T16:12:03.659803Z",
          "shell.execute_reply": "2022-08-04T16:12:03.659399Z"
        },
        "papermill": {
          "duration": 0.020435,
          "end_time": "2022-08-04T16:12:03.659919",
          "exception": false,
          "start_time": "2022-08-04T16:12:03.639484",
          "status": "completed"
        },
        "tags": [
          "hide-input"
        ]
      },
      "outputs": [],
      "source": [
        "def make_docs():\n",
        "    docs_copy_nb(\"index.ipynb\")\n",
        "    docs_copy_dir(\"nbs\")\n",
        "    docs_copy_dir(\"examples\")\n",
        "    os.chdir(docs_path())\n",
        "    subprocess.check_call([sys.executable.replace(\"python\", \"jupyter-book\"), \"build\", \".\"])"
      ]
    },
    {
      "cell_type": "code",
      "execution_count": 20,
      "id": "1c4ba30da4400c87",
      "metadata": {
        "execution": {
          "iopub.execute_input": "2022-08-04T16:12:03.692419Z",
          "iopub.status.busy": "2022-08-04T16:12:03.691883Z",
          "iopub.status.idle": "2022-08-04T16:12:03.694356Z",
          "shell.execute_reply": "2022-08-04T16:12:03.693937Z"
        },
        "papermill": {
          "duration": 0.020603,
          "end_time": "2022-08-04T16:12:03.694479",
          "exception": false,
          "start_time": "2022-08-04T16:12:03.673876",
          "status": "completed"
        },
        "tags": [
          "hide-input"
        ]
      },
      "outputs": [],
      "source": [
        "if __name__ == '__main__' and not IN_IPYTHON:\n",
        "    make_docs()"
      ]
    }
  ],
  "metadata": {
    "kernelspec": {
      "display_name": "sax",
      "language": "python",
      "name": "sax"
    },
    "language_info": {
      "codemirror_mode": {
        "name": "ipython",
        "version": 3
      },
      "file_extension": ".py",
      "mimetype": "text/x-python",
      "name": "python",
      "nbconvert_exporter": "python",
      "pygments_lexer": "ipython3",
      "version": "3.9.0"
    },
    "papermill": {
      "default_parameters": {},
      "duration": 2.237631,
      "end_time": "2022-08-04T16:12:03.916096",
      "environment_variables": {},
      "exception": null,
      "input_path": "./nbs/98_make_docs.ipynb",
      "output_path": "./nbs/98_make_docs.ipynb",
      "parameters": {},
      "start_time": "2022-08-04T16:12:01.678465",
      "version": "2.3.4"
    }
  },
  "nbformat": 4,
  "nbformat_minor": 5
}